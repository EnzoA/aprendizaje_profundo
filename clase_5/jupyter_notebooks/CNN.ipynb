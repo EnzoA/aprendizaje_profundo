{
  "nbformat": 4,
  "nbformat_minor": 0,
  "metadata": {
    "colab": {
      "name": "CNN.ipynb",
      "provenance": []
    },
    "kernelspec": {
      "name": "python3",
      "display_name": "Python 3"
    },
    "language_info": {
      "name": "python"
    },
    "widgets": {
      "application/vnd.jupyter.widget-state+json": {
        "02c443e477734ab6acf6e8427c56ef46": {
          "model_module": "@jupyter-widgets/controls",
          "model_name": "HBoxModel",
          "model_module_version": "1.5.0",
          "state": {
            "_view_name": "HBoxView",
            "_dom_classes": [],
            "_model_name": "HBoxModel",
            "_view_module": "@jupyter-widgets/controls",
            "_model_module_version": "1.5.0",
            "_view_count": null,
            "_view_module_version": "1.5.0",
            "box_style": "",
            "layout": "IPY_MODEL_82fc18f864ed4c9a8d5abc0c7e72d092",
            "_model_module": "@jupyter-widgets/controls",
            "children": [
              "IPY_MODEL_5740725aa44143c4aa5a401da855940f",
              "IPY_MODEL_0e7ceb96fe2b42d7bee821e39baea2f8",
              "IPY_MODEL_a86ea38cc39e47c88d862739719231b9"
            ]
          }
        },
        "82fc18f864ed4c9a8d5abc0c7e72d092": {
          "model_module": "@jupyter-widgets/base",
          "model_name": "LayoutModel",
          "model_module_version": "1.2.0",
          "state": {
            "_view_name": "LayoutView",
            "grid_template_rows": null,
            "right": null,
            "justify_content": null,
            "_view_module": "@jupyter-widgets/base",
            "overflow": null,
            "_model_module_version": "1.2.0",
            "_view_count": null,
            "flex_flow": null,
            "width": null,
            "min_width": null,
            "border": null,
            "align_items": null,
            "bottom": null,
            "_model_module": "@jupyter-widgets/base",
            "top": null,
            "grid_column": null,
            "overflow_y": null,
            "overflow_x": null,
            "grid_auto_flow": null,
            "grid_area": null,
            "grid_template_columns": null,
            "flex": null,
            "_model_name": "LayoutModel",
            "justify_items": null,
            "grid_row": null,
            "max_height": null,
            "align_content": null,
            "visibility": null,
            "align_self": null,
            "height": null,
            "min_height": null,
            "padding": null,
            "grid_auto_rows": null,
            "grid_gap": null,
            "max_width": null,
            "order": null,
            "_view_module_version": "1.2.0",
            "grid_template_areas": null,
            "object_position": null,
            "object_fit": null,
            "grid_auto_columns": null,
            "margin": null,
            "display": null,
            "left": null
          }
        },
        "5740725aa44143c4aa5a401da855940f": {
          "model_module": "@jupyter-widgets/controls",
          "model_name": "HTMLModel",
          "model_module_version": "1.5.0",
          "state": {
            "_view_name": "HTMLView",
            "style": "IPY_MODEL_b929507ebc484adcb5a3a0055d4bc85f",
            "_dom_classes": [],
            "description": "",
            "_model_name": "HTMLModel",
            "placeholder": "​",
            "_view_module": "@jupyter-widgets/controls",
            "_model_module_version": "1.5.0",
            "value": "",
            "_view_count": null,
            "_view_module_version": "1.5.0",
            "description_tooltip": null,
            "_model_module": "@jupyter-widgets/controls",
            "layout": "IPY_MODEL_1eccd5560d1a460887af41d15fb3df51"
          }
        },
        "0e7ceb96fe2b42d7bee821e39baea2f8": {
          "model_module": "@jupyter-widgets/controls",
          "model_name": "FloatProgressModel",
          "model_module_version": "1.5.0",
          "state": {
            "_view_name": "ProgressView",
            "style": "IPY_MODEL_f569f7326f9b4d1aa392056eed8dbc99",
            "_dom_classes": [],
            "description": "",
            "_model_name": "FloatProgressModel",
            "bar_style": "success",
            "max": 9912422,
            "_view_module": "@jupyter-widgets/controls",
            "_model_module_version": "1.5.0",
            "value": 9912422,
            "_view_count": null,
            "_view_module_version": "1.5.0",
            "orientation": "horizontal",
            "min": 0,
            "description_tooltip": null,
            "_model_module": "@jupyter-widgets/controls",
            "layout": "IPY_MODEL_dda343024a20453d89cca7cd94cb6884"
          }
        },
        "a86ea38cc39e47c88d862739719231b9": {
          "model_module": "@jupyter-widgets/controls",
          "model_name": "HTMLModel",
          "model_module_version": "1.5.0",
          "state": {
            "_view_name": "HTMLView",
            "style": "IPY_MODEL_2eb8c93be63a4d87b1f4d63ec60534ca",
            "_dom_classes": [],
            "description": "",
            "_model_name": "HTMLModel",
            "placeholder": "​",
            "_view_module": "@jupyter-widgets/controls",
            "_model_module_version": "1.5.0",
            "value": " 9913344/? [00:00&lt;00:00, 21887982.69it/s]",
            "_view_count": null,
            "_view_module_version": "1.5.0",
            "description_tooltip": null,
            "_model_module": "@jupyter-widgets/controls",
            "layout": "IPY_MODEL_f1a05aa69c374d529bee4f690051d864"
          }
        },
        "b929507ebc484adcb5a3a0055d4bc85f": {
          "model_module": "@jupyter-widgets/controls",
          "model_name": "DescriptionStyleModel",
          "model_module_version": "1.5.0",
          "state": {
            "_view_name": "StyleView",
            "_model_name": "DescriptionStyleModel",
            "description_width": "",
            "_view_module": "@jupyter-widgets/base",
            "_model_module_version": "1.5.0",
            "_view_count": null,
            "_view_module_version": "1.2.0",
            "_model_module": "@jupyter-widgets/controls"
          }
        },
        "1eccd5560d1a460887af41d15fb3df51": {
          "model_module": "@jupyter-widgets/base",
          "model_name": "LayoutModel",
          "model_module_version": "1.2.0",
          "state": {
            "_view_name": "LayoutView",
            "grid_template_rows": null,
            "right": null,
            "justify_content": null,
            "_view_module": "@jupyter-widgets/base",
            "overflow": null,
            "_model_module_version": "1.2.0",
            "_view_count": null,
            "flex_flow": null,
            "width": null,
            "min_width": null,
            "border": null,
            "align_items": null,
            "bottom": null,
            "_model_module": "@jupyter-widgets/base",
            "top": null,
            "grid_column": null,
            "overflow_y": null,
            "overflow_x": null,
            "grid_auto_flow": null,
            "grid_area": null,
            "grid_template_columns": null,
            "flex": null,
            "_model_name": "LayoutModel",
            "justify_items": null,
            "grid_row": null,
            "max_height": null,
            "align_content": null,
            "visibility": null,
            "align_self": null,
            "height": null,
            "min_height": null,
            "padding": null,
            "grid_auto_rows": null,
            "grid_gap": null,
            "max_width": null,
            "order": null,
            "_view_module_version": "1.2.0",
            "grid_template_areas": null,
            "object_position": null,
            "object_fit": null,
            "grid_auto_columns": null,
            "margin": null,
            "display": null,
            "left": null
          }
        },
        "f569f7326f9b4d1aa392056eed8dbc99": {
          "model_module": "@jupyter-widgets/controls",
          "model_name": "ProgressStyleModel",
          "model_module_version": "1.5.0",
          "state": {
            "_view_name": "StyleView",
            "_model_name": "ProgressStyleModel",
            "description_width": "",
            "_view_module": "@jupyter-widgets/base",
            "_model_module_version": "1.5.0",
            "_view_count": null,
            "_view_module_version": "1.2.0",
            "bar_color": null,
            "_model_module": "@jupyter-widgets/controls"
          }
        },
        "dda343024a20453d89cca7cd94cb6884": {
          "model_module": "@jupyter-widgets/base",
          "model_name": "LayoutModel",
          "model_module_version": "1.2.0",
          "state": {
            "_view_name": "LayoutView",
            "grid_template_rows": null,
            "right": null,
            "justify_content": null,
            "_view_module": "@jupyter-widgets/base",
            "overflow": null,
            "_model_module_version": "1.2.0",
            "_view_count": null,
            "flex_flow": null,
            "width": null,
            "min_width": null,
            "border": null,
            "align_items": null,
            "bottom": null,
            "_model_module": "@jupyter-widgets/base",
            "top": null,
            "grid_column": null,
            "overflow_y": null,
            "overflow_x": null,
            "grid_auto_flow": null,
            "grid_area": null,
            "grid_template_columns": null,
            "flex": null,
            "_model_name": "LayoutModel",
            "justify_items": null,
            "grid_row": null,
            "max_height": null,
            "align_content": null,
            "visibility": null,
            "align_self": null,
            "height": null,
            "min_height": null,
            "padding": null,
            "grid_auto_rows": null,
            "grid_gap": null,
            "max_width": null,
            "order": null,
            "_view_module_version": "1.2.0",
            "grid_template_areas": null,
            "object_position": null,
            "object_fit": null,
            "grid_auto_columns": null,
            "margin": null,
            "display": null,
            "left": null
          }
        },
        "2eb8c93be63a4d87b1f4d63ec60534ca": {
          "model_module": "@jupyter-widgets/controls",
          "model_name": "DescriptionStyleModel",
          "model_module_version": "1.5.0",
          "state": {
            "_view_name": "StyleView",
            "_model_name": "DescriptionStyleModel",
            "description_width": "",
            "_view_module": "@jupyter-widgets/base",
            "_model_module_version": "1.5.0",
            "_view_count": null,
            "_view_module_version": "1.2.0",
            "_model_module": "@jupyter-widgets/controls"
          }
        },
        "f1a05aa69c374d529bee4f690051d864": {
          "model_module": "@jupyter-widgets/base",
          "model_name": "LayoutModel",
          "model_module_version": "1.2.0",
          "state": {
            "_view_name": "LayoutView",
            "grid_template_rows": null,
            "right": null,
            "justify_content": null,
            "_view_module": "@jupyter-widgets/base",
            "overflow": null,
            "_model_module_version": "1.2.0",
            "_view_count": null,
            "flex_flow": null,
            "width": null,
            "min_width": null,
            "border": null,
            "align_items": null,
            "bottom": null,
            "_model_module": "@jupyter-widgets/base",
            "top": null,
            "grid_column": null,
            "overflow_y": null,
            "overflow_x": null,
            "grid_auto_flow": null,
            "grid_area": null,
            "grid_template_columns": null,
            "flex": null,
            "_model_name": "LayoutModel",
            "justify_items": null,
            "grid_row": null,
            "max_height": null,
            "align_content": null,
            "visibility": null,
            "align_self": null,
            "height": null,
            "min_height": null,
            "padding": null,
            "grid_auto_rows": null,
            "grid_gap": null,
            "max_width": null,
            "order": null,
            "_view_module_version": "1.2.0",
            "grid_template_areas": null,
            "object_position": null,
            "object_fit": null,
            "grid_auto_columns": null,
            "margin": null,
            "display": null,
            "left": null
          }
        },
        "dc62166c0eb94dbeae92c56d267b597d": {
          "model_module": "@jupyter-widgets/controls",
          "model_name": "HBoxModel",
          "model_module_version": "1.5.0",
          "state": {
            "_view_name": "HBoxView",
            "_dom_classes": [],
            "_model_name": "HBoxModel",
            "_view_module": "@jupyter-widgets/controls",
            "_model_module_version": "1.5.0",
            "_view_count": null,
            "_view_module_version": "1.5.0",
            "box_style": "",
            "layout": "IPY_MODEL_6a2875a0819943d093cedf1c2f3af6d9",
            "_model_module": "@jupyter-widgets/controls",
            "children": [
              "IPY_MODEL_2cc87501570547b99980938ea2018467",
              "IPY_MODEL_f1f152b4414042b2b4e9e7450ea09ee1",
              "IPY_MODEL_aabfde1a957d4eaab5c2793aa6711151"
            ]
          }
        },
        "6a2875a0819943d093cedf1c2f3af6d9": {
          "model_module": "@jupyter-widgets/base",
          "model_name": "LayoutModel",
          "model_module_version": "1.2.0",
          "state": {
            "_view_name": "LayoutView",
            "grid_template_rows": null,
            "right": null,
            "justify_content": null,
            "_view_module": "@jupyter-widgets/base",
            "overflow": null,
            "_model_module_version": "1.2.0",
            "_view_count": null,
            "flex_flow": null,
            "width": null,
            "min_width": null,
            "border": null,
            "align_items": null,
            "bottom": null,
            "_model_module": "@jupyter-widgets/base",
            "top": null,
            "grid_column": null,
            "overflow_y": null,
            "overflow_x": null,
            "grid_auto_flow": null,
            "grid_area": null,
            "grid_template_columns": null,
            "flex": null,
            "_model_name": "LayoutModel",
            "justify_items": null,
            "grid_row": null,
            "max_height": null,
            "align_content": null,
            "visibility": null,
            "align_self": null,
            "height": null,
            "min_height": null,
            "padding": null,
            "grid_auto_rows": null,
            "grid_gap": null,
            "max_width": null,
            "order": null,
            "_view_module_version": "1.2.0",
            "grid_template_areas": null,
            "object_position": null,
            "object_fit": null,
            "grid_auto_columns": null,
            "margin": null,
            "display": null,
            "left": null
          }
        },
        "2cc87501570547b99980938ea2018467": {
          "model_module": "@jupyter-widgets/controls",
          "model_name": "HTMLModel",
          "model_module_version": "1.5.0",
          "state": {
            "_view_name": "HTMLView",
            "style": "IPY_MODEL_711a69589adc481d9dc3500b889a595d",
            "_dom_classes": [],
            "description": "",
            "_model_name": "HTMLModel",
            "placeholder": "​",
            "_view_module": "@jupyter-widgets/controls",
            "_model_module_version": "1.5.0",
            "value": "",
            "_view_count": null,
            "_view_module_version": "1.5.0",
            "description_tooltip": null,
            "_model_module": "@jupyter-widgets/controls",
            "layout": "IPY_MODEL_a8b1e54e2175427ebe0845c8ae1ff12c"
          }
        },
        "f1f152b4414042b2b4e9e7450ea09ee1": {
          "model_module": "@jupyter-widgets/controls",
          "model_name": "FloatProgressModel",
          "model_module_version": "1.5.0",
          "state": {
            "_view_name": "ProgressView",
            "style": "IPY_MODEL_c40ac1089f08465ab4ad881693809f91",
            "_dom_classes": [],
            "description": "",
            "_model_name": "FloatProgressModel",
            "bar_style": "success",
            "max": 28881,
            "_view_module": "@jupyter-widgets/controls",
            "_model_module_version": "1.5.0",
            "value": 28881,
            "_view_count": null,
            "_view_module_version": "1.5.0",
            "orientation": "horizontal",
            "min": 0,
            "description_tooltip": null,
            "_model_module": "@jupyter-widgets/controls",
            "layout": "IPY_MODEL_d3aee0e39c03492d910ccbe0cda71f6f"
          }
        },
        "aabfde1a957d4eaab5c2793aa6711151": {
          "model_module": "@jupyter-widgets/controls",
          "model_name": "HTMLModel",
          "model_module_version": "1.5.0",
          "state": {
            "_view_name": "HTMLView",
            "style": "IPY_MODEL_59fb3a17b3bc442e9df9502254588418",
            "_dom_classes": [],
            "description": "",
            "_model_name": "HTMLModel",
            "placeholder": "​",
            "_view_module": "@jupyter-widgets/controls",
            "_model_module_version": "1.5.0",
            "value": " 29696/? [00:00&lt;00:00, 717382.21it/s]",
            "_view_count": null,
            "_view_module_version": "1.5.0",
            "description_tooltip": null,
            "_model_module": "@jupyter-widgets/controls",
            "layout": "IPY_MODEL_02ca1cd417254ed7889b00de042238e1"
          }
        },
        "711a69589adc481d9dc3500b889a595d": {
          "model_module": "@jupyter-widgets/controls",
          "model_name": "DescriptionStyleModel",
          "model_module_version": "1.5.0",
          "state": {
            "_view_name": "StyleView",
            "_model_name": "DescriptionStyleModel",
            "description_width": "",
            "_view_module": "@jupyter-widgets/base",
            "_model_module_version": "1.5.0",
            "_view_count": null,
            "_view_module_version": "1.2.0",
            "_model_module": "@jupyter-widgets/controls"
          }
        },
        "a8b1e54e2175427ebe0845c8ae1ff12c": {
          "model_module": "@jupyter-widgets/base",
          "model_name": "LayoutModel",
          "model_module_version": "1.2.0",
          "state": {
            "_view_name": "LayoutView",
            "grid_template_rows": null,
            "right": null,
            "justify_content": null,
            "_view_module": "@jupyter-widgets/base",
            "overflow": null,
            "_model_module_version": "1.2.0",
            "_view_count": null,
            "flex_flow": null,
            "width": null,
            "min_width": null,
            "border": null,
            "align_items": null,
            "bottom": null,
            "_model_module": "@jupyter-widgets/base",
            "top": null,
            "grid_column": null,
            "overflow_y": null,
            "overflow_x": null,
            "grid_auto_flow": null,
            "grid_area": null,
            "grid_template_columns": null,
            "flex": null,
            "_model_name": "LayoutModel",
            "justify_items": null,
            "grid_row": null,
            "max_height": null,
            "align_content": null,
            "visibility": null,
            "align_self": null,
            "height": null,
            "min_height": null,
            "padding": null,
            "grid_auto_rows": null,
            "grid_gap": null,
            "max_width": null,
            "order": null,
            "_view_module_version": "1.2.0",
            "grid_template_areas": null,
            "object_position": null,
            "object_fit": null,
            "grid_auto_columns": null,
            "margin": null,
            "display": null,
            "left": null
          }
        },
        "c40ac1089f08465ab4ad881693809f91": {
          "model_module": "@jupyter-widgets/controls",
          "model_name": "ProgressStyleModel",
          "model_module_version": "1.5.0",
          "state": {
            "_view_name": "StyleView",
            "_model_name": "ProgressStyleModel",
            "description_width": "",
            "_view_module": "@jupyter-widgets/base",
            "_model_module_version": "1.5.0",
            "_view_count": null,
            "_view_module_version": "1.2.0",
            "bar_color": null,
            "_model_module": "@jupyter-widgets/controls"
          }
        },
        "d3aee0e39c03492d910ccbe0cda71f6f": {
          "model_module": "@jupyter-widgets/base",
          "model_name": "LayoutModel",
          "model_module_version": "1.2.0",
          "state": {
            "_view_name": "LayoutView",
            "grid_template_rows": null,
            "right": null,
            "justify_content": null,
            "_view_module": "@jupyter-widgets/base",
            "overflow": null,
            "_model_module_version": "1.2.0",
            "_view_count": null,
            "flex_flow": null,
            "width": null,
            "min_width": null,
            "border": null,
            "align_items": null,
            "bottom": null,
            "_model_module": "@jupyter-widgets/base",
            "top": null,
            "grid_column": null,
            "overflow_y": null,
            "overflow_x": null,
            "grid_auto_flow": null,
            "grid_area": null,
            "grid_template_columns": null,
            "flex": null,
            "_model_name": "LayoutModel",
            "justify_items": null,
            "grid_row": null,
            "max_height": null,
            "align_content": null,
            "visibility": null,
            "align_self": null,
            "height": null,
            "min_height": null,
            "padding": null,
            "grid_auto_rows": null,
            "grid_gap": null,
            "max_width": null,
            "order": null,
            "_view_module_version": "1.2.0",
            "grid_template_areas": null,
            "object_position": null,
            "object_fit": null,
            "grid_auto_columns": null,
            "margin": null,
            "display": null,
            "left": null
          }
        },
        "59fb3a17b3bc442e9df9502254588418": {
          "model_module": "@jupyter-widgets/controls",
          "model_name": "DescriptionStyleModel",
          "model_module_version": "1.5.0",
          "state": {
            "_view_name": "StyleView",
            "_model_name": "DescriptionStyleModel",
            "description_width": "",
            "_view_module": "@jupyter-widgets/base",
            "_model_module_version": "1.5.0",
            "_view_count": null,
            "_view_module_version": "1.2.0",
            "_model_module": "@jupyter-widgets/controls"
          }
        },
        "02ca1cd417254ed7889b00de042238e1": {
          "model_module": "@jupyter-widgets/base",
          "model_name": "LayoutModel",
          "model_module_version": "1.2.0",
          "state": {
            "_view_name": "LayoutView",
            "grid_template_rows": null,
            "right": null,
            "justify_content": null,
            "_view_module": "@jupyter-widgets/base",
            "overflow": null,
            "_model_module_version": "1.2.0",
            "_view_count": null,
            "flex_flow": null,
            "width": null,
            "min_width": null,
            "border": null,
            "align_items": null,
            "bottom": null,
            "_model_module": "@jupyter-widgets/base",
            "top": null,
            "grid_column": null,
            "overflow_y": null,
            "overflow_x": null,
            "grid_auto_flow": null,
            "grid_area": null,
            "grid_template_columns": null,
            "flex": null,
            "_model_name": "LayoutModel",
            "justify_items": null,
            "grid_row": null,
            "max_height": null,
            "align_content": null,
            "visibility": null,
            "align_self": null,
            "height": null,
            "min_height": null,
            "padding": null,
            "grid_auto_rows": null,
            "grid_gap": null,
            "max_width": null,
            "order": null,
            "_view_module_version": "1.2.0",
            "grid_template_areas": null,
            "object_position": null,
            "object_fit": null,
            "grid_auto_columns": null,
            "margin": null,
            "display": null,
            "left": null
          }
        },
        "24bb4c8218d2466884b904372030b043": {
          "model_module": "@jupyter-widgets/controls",
          "model_name": "HBoxModel",
          "model_module_version": "1.5.0",
          "state": {
            "_view_name": "HBoxView",
            "_dom_classes": [],
            "_model_name": "HBoxModel",
            "_view_module": "@jupyter-widgets/controls",
            "_model_module_version": "1.5.0",
            "_view_count": null,
            "_view_module_version": "1.5.0",
            "box_style": "",
            "layout": "IPY_MODEL_0432fecb7139467990164889cb36b9d4",
            "_model_module": "@jupyter-widgets/controls",
            "children": [
              "IPY_MODEL_5296764d5b1e485eb83ce4fc461e90df",
              "IPY_MODEL_f168cbef6b904d8fb4bdb736565cffd2",
              "IPY_MODEL_2d0da74546a24eaaaed1c2dfad839afc"
            ]
          }
        },
        "0432fecb7139467990164889cb36b9d4": {
          "model_module": "@jupyter-widgets/base",
          "model_name": "LayoutModel",
          "model_module_version": "1.2.0",
          "state": {
            "_view_name": "LayoutView",
            "grid_template_rows": null,
            "right": null,
            "justify_content": null,
            "_view_module": "@jupyter-widgets/base",
            "overflow": null,
            "_model_module_version": "1.2.0",
            "_view_count": null,
            "flex_flow": null,
            "width": null,
            "min_width": null,
            "border": null,
            "align_items": null,
            "bottom": null,
            "_model_module": "@jupyter-widgets/base",
            "top": null,
            "grid_column": null,
            "overflow_y": null,
            "overflow_x": null,
            "grid_auto_flow": null,
            "grid_area": null,
            "grid_template_columns": null,
            "flex": null,
            "_model_name": "LayoutModel",
            "justify_items": null,
            "grid_row": null,
            "max_height": null,
            "align_content": null,
            "visibility": null,
            "align_self": null,
            "height": null,
            "min_height": null,
            "padding": null,
            "grid_auto_rows": null,
            "grid_gap": null,
            "max_width": null,
            "order": null,
            "_view_module_version": "1.2.0",
            "grid_template_areas": null,
            "object_position": null,
            "object_fit": null,
            "grid_auto_columns": null,
            "margin": null,
            "display": null,
            "left": null
          }
        },
        "5296764d5b1e485eb83ce4fc461e90df": {
          "model_module": "@jupyter-widgets/controls",
          "model_name": "HTMLModel",
          "model_module_version": "1.5.0",
          "state": {
            "_view_name": "HTMLView",
            "style": "IPY_MODEL_0313965f212e42ec9f20eb7ba361916d",
            "_dom_classes": [],
            "description": "",
            "_model_name": "HTMLModel",
            "placeholder": "​",
            "_view_module": "@jupyter-widgets/controls",
            "_model_module_version": "1.5.0",
            "value": "",
            "_view_count": null,
            "_view_module_version": "1.5.0",
            "description_tooltip": null,
            "_model_module": "@jupyter-widgets/controls",
            "layout": "IPY_MODEL_1b59b5cf89b6422dae801e3cf49bc297"
          }
        },
        "f168cbef6b904d8fb4bdb736565cffd2": {
          "model_module": "@jupyter-widgets/controls",
          "model_name": "FloatProgressModel",
          "model_module_version": "1.5.0",
          "state": {
            "_view_name": "ProgressView",
            "style": "IPY_MODEL_b61aba105a7f42abae1cf1f767df64ff",
            "_dom_classes": [],
            "description": "",
            "_model_name": "FloatProgressModel",
            "bar_style": "success",
            "max": 1648877,
            "_view_module": "@jupyter-widgets/controls",
            "_model_module_version": "1.5.0",
            "value": 1648877,
            "_view_count": null,
            "_view_module_version": "1.5.0",
            "orientation": "horizontal",
            "min": 0,
            "description_tooltip": null,
            "_model_module": "@jupyter-widgets/controls",
            "layout": "IPY_MODEL_c1c0903a1b1841bdad578d35f9090b29"
          }
        },
        "2d0da74546a24eaaaed1c2dfad839afc": {
          "model_module": "@jupyter-widgets/controls",
          "model_name": "HTMLModel",
          "model_module_version": "1.5.0",
          "state": {
            "_view_name": "HTMLView",
            "style": "IPY_MODEL_e0a7f81410154da09c0ab274eab294b0",
            "_dom_classes": [],
            "description": "",
            "_model_name": "HTMLModel",
            "placeholder": "​",
            "_view_module": "@jupyter-widgets/controls",
            "_model_module_version": "1.5.0",
            "value": " 1649664/? [00:00&lt;00:00, 11711549.24it/s]",
            "_view_count": null,
            "_view_module_version": "1.5.0",
            "description_tooltip": null,
            "_model_module": "@jupyter-widgets/controls",
            "layout": "IPY_MODEL_3183c9a8b0cd43c7adde5af757931a7e"
          }
        },
        "0313965f212e42ec9f20eb7ba361916d": {
          "model_module": "@jupyter-widgets/controls",
          "model_name": "DescriptionStyleModel",
          "model_module_version": "1.5.0",
          "state": {
            "_view_name": "StyleView",
            "_model_name": "DescriptionStyleModel",
            "description_width": "",
            "_view_module": "@jupyter-widgets/base",
            "_model_module_version": "1.5.0",
            "_view_count": null,
            "_view_module_version": "1.2.0",
            "_model_module": "@jupyter-widgets/controls"
          }
        },
        "1b59b5cf89b6422dae801e3cf49bc297": {
          "model_module": "@jupyter-widgets/base",
          "model_name": "LayoutModel",
          "model_module_version": "1.2.0",
          "state": {
            "_view_name": "LayoutView",
            "grid_template_rows": null,
            "right": null,
            "justify_content": null,
            "_view_module": "@jupyter-widgets/base",
            "overflow": null,
            "_model_module_version": "1.2.0",
            "_view_count": null,
            "flex_flow": null,
            "width": null,
            "min_width": null,
            "border": null,
            "align_items": null,
            "bottom": null,
            "_model_module": "@jupyter-widgets/base",
            "top": null,
            "grid_column": null,
            "overflow_y": null,
            "overflow_x": null,
            "grid_auto_flow": null,
            "grid_area": null,
            "grid_template_columns": null,
            "flex": null,
            "_model_name": "LayoutModel",
            "justify_items": null,
            "grid_row": null,
            "max_height": null,
            "align_content": null,
            "visibility": null,
            "align_self": null,
            "height": null,
            "min_height": null,
            "padding": null,
            "grid_auto_rows": null,
            "grid_gap": null,
            "max_width": null,
            "order": null,
            "_view_module_version": "1.2.0",
            "grid_template_areas": null,
            "object_position": null,
            "object_fit": null,
            "grid_auto_columns": null,
            "margin": null,
            "display": null,
            "left": null
          }
        },
        "b61aba105a7f42abae1cf1f767df64ff": {
          "model_module": "@jupyter-widgets/controls",
          "model_name": "ProgressStyleModel",
          "model_module_version": "1.5.0",
          "state": {
            "_view_name": "StyleView",
            "_model_name": "ProgressStyleModel",
            "description_width": "",
            "_view_module": "@jupyter-widgets/base",
            "_model_module_version": "1.5.0",
            "_view_count": null,
            "_view_module_version": "1.2.0",
            "bar_color": null,
            "_model_module": "@jupyter-widgets/controls"
          }
        },
        "c1c0903a1b1841bdad578d35f9090b29": {
          "model_module": "@jupyter-widgets/base",
          "model_name": "LayoutModel",
          "model_module_version": "1.2.0",
          "state": {
            "_view_name": "LayoutView",
            "grid_template_rows": null,
            "right": null,
            "justify_content": null,
            "_view_module": "@jupyter-widgets/base",
            "overflow": null,
            "_model_module_version": "1.2.0",
            "_view_count": null,
            "flex_flow": null,
            "width": null,
            "min_width": null,
            "border": null,
            "align_items": null,
            "bottom": null,
            "_model_module": "@jupyter-widgets/base",
            "top": null,
            "grid_column": null,
            "overflow_y": null,
            "overflow_x": null,
            "grid_auto_flow": null,
            "grid_area": null,
            "grid_template_columns": null,
            "flex": null,
            "_model_name": "LayoutModel",
            "justify_items": null,
            "grid_row": null,
            "max_height": null,
            "align_content": null,
            "visibility": null,
            "align_self": null,
            "height": null,
            "min_height": null,
            "padding": null,
            "grid_auto_rows": null,
            "grid_gap": null,
            "max_width": null,
            "order": null,
            "_view_module_version": "1.2.0",
            "grid_template_areas": null,
            "object_position": null,
            "object_fit": null,
            "grid_auto_columns": null,
            "margin": null,
            "display": null,
            "left": null
          }
        },
        "e0a7f81410154da09c0ab274eab294b0": {
          "model_module": "@jupyter-widgets/controls",
          "model_name": "DescriptionStyleModel",
          "model_module_version": "1.5.0",
          "state": {
            "_view_name": "StyleView",
            "_model_name": "DescriptionStyleModel",
            "description_width": "",
            "_view_module": "@jupyter-widgets/base",
            "_model_module_version": "1.5.0",
            "_view_count": null,
            "_view_module_version": "1.2.0",
            "_model_module": "@jupyter-widgets/controls"
          }
        },
        "3183c9a8b0cd43c7adde5af757931a7e": {
          "model_module": "@jupyter-widgets/base",
          "model_name": "LayoutModel",
          "model_module_version": "1.2.0",
          "state": {
            "_view_name": "LayoutView",
            "grid_template_rows": null,
            "right": null,
            "justify_content": null,
            "_view_module": "@jupyter-widgets/base",
            "overflow": null,
            "_model_module_version": "1.2.0",
            "_view_count": null,
            "flex_flow": null,
            "width": null,
            "min_width": null,
            "border": null,
            "align_items": null,
            "bottom": null,
            "_model_module": "@jupyter-widgets/base",
            "top": null,
            "grid_column": null,
            "overflow_y": null,
            "overflow_x": null,
            "grid_auto_flow": null,
            "grid_area": null,
            "grid_template_columns": null,
            "flex": null,
            "_model_name": "LayoutModel",
            "justify_items": null,
            "grid_row": null,
            "max_height": null,
            "align_content": null,
            "visibility": null,
            "align_self": null,
            "height": null,
            "min_height": null,
            "padding": null,
            "grid_auto_rows": null,
            "grid_gap": null,
            "max_width": null,
            "order": null,
            "_view_module_version": "1.2.0",
            "grid_template_areas": null,
            "object_position": null,
            "object_fit": null,
            "grid_auto_columns": null,
            "margin": null,
            "display": null,
            "left": null
          }
        },
        "234bdff4067d4670ba8e86c21f2a114e": {
          "model_module": "@jupyter-widgets/controls",
          "model_name": "HBoxModel",
          "model_module_version": "1.5.0",
          "state": {
            "_view_name": "HBoxView",
            "_dom_classes": [],
            "_model_name": "HBoxModel",
            "_view_module": "@jupyter-widgets/controls",
            "_model_module_version": "1.5.0",
            "_view_count": null,
            "_view_module_version": "1.5.0",
            "box_style": "",
            "layout": "IPY_MODEL_8e1c86e30aa64786bc0d123062597fb0",
            "_model_module": "@jupyter-widgets/controls",
            "children": [
              "IPY_MODEL_d8833eb22b1b42c28982e99e012ad3c8",
              "IPY_MODEL_14069e09119540328277b15eac3307c2",
              "IPY_MODEL_92dec5c2793f40cf96de4b42266809e2"
            ]
          }
        },
        "8e1c86e30aa64786bc0d123062597fb0": {
          "model_module": "@jupyter-widgets/base",
          "model_name": "LayoutModel",
          "model_module_version": "1.2.0",
          "state": {
            "_view_name": "LayoutView",
            "grid_template_rows": null,
            "right": null,
            "justify_content": null,
            "_view_module": "@jupyter-widgets/base",
            "overflow": null,
            "_model_module_version": "1.2.0",
            "_view_count": null,
            "flex_flow": null,
            "width": null,
            "min_width": null,
            "border": null,
            "align_items": null,
            "bottom": null,
            "_model_module": "@jupyter-widgets/base",
            "top": null,
            "grid_column": null,
            "overflow_y": null,
            "overflow_x": null,
            "grid_auto_flow": null,
            "grid_area": null,
            "grid_template_columns": null,
            "flex": null,
            "_model_name": "LayoutModel",
            "justify_items": null,
            "grid_row": null,
            "max_height": null,
            "align_content": null,
            "visibility": null,
            "align_self": null,
            "height": null,
            "min_height": null,
            "padding": null,
            "grid_auto_rows": null,
            "grid_gap": null,
            "max_width": null,
            "order": null,
            "_view_module_version": "1.2.0",
            "grid_template_areas": null,
            "object_position": null,
            "object_fit": null,
            "grid_auto_columns": null,
            "margin": null,
            "display": null,
            "left": null
          }
        },
        "d8833eb22b1b42c28982e99e012ad3c8": {
          "model_module": "@jupyter-widgets/controls",
          "model_name": "HTMLModel",
          "model_module_version": "1.5.0",
          "state": {
            "_view_name": "HTMLView",
            "style": "IPY_MODEL_af3c7320109748528aefa08a0e17c631",
            "_dom_classes": [],
            "description": "",
            "_model_name": "HTMLModel",
            "placeholder": "​",
            "_view_module": "@jupyter-widgets/controls",
            "_model_module_version": "1.5.0",
            "value": "",
            "_view_count": null,
            "_view_module_version": "1.5.0",
            "description_tooltip": null,
            "_model_module": "@jupyter-widgets/controls",
            "layout": "IPY_MODEL_c97d1f95e88b465a8435494a9e944703"
          }
        },
        "14069e09119540328277b15eac3307c2": {
          "model_module": "@jupyter-widgets/controls",
          "model_name": "FloatProgressModel",
          "model_module_version": "1.5.0",
          "state": {
            "_view_name": "ProgressView",
            "style": "IPY_MODEL_af490e4e9cdb400196cbd0ee83c3f4e4",
            "_dom_classes": [],
            "description": "",
            "_model_name": "FloatProgressModel",
            "bar_style": "success",
            "max": 4542,
            "_view_module": "@jupyter-widgets/controls",
            "_model_module_version": "1.5.0",
            "value": 4542,
            "_view_count": null,
            "_view_module_version": "1.5.0",
            "orientation": "horizontal",
            "min": 0,
            "description_tooltip": null,
            "_model_module": "@jupyter-widgets/controls",
            "layout": "IPY_MODEL_cc100bb5986a421095cc31642df0df3e"
          }
        },
        "92dec5c2793f40cf96de4b42266809e2": {
          "model_module": "@jupyter-widgets/controls",
          "model_name": "HTMLModel",
          "model_module_version": "1.5.0",
          "state": {
            "_view_name": "HTMLView",
            "style": "IPY_MODEL_d82773142a8c4398a8cfb193645c3e95",
            "_dom_classes": [],
            "description": "",
            "_model_name": "HTMLModel",
            "placeholder": "​",
            "_view_module": "@jupyter-widgets/controls",
            "_model_module_version": "1.5.0",
            "value": " 5120/? [00:00&lt;00:00, 132801.73it/s]",
            "_view_count": null,
            "_view_module_version": "1.5.0",
            "description_tooltip": null,
            "_model_module": "@jupyter-widgets/controls",
            "layout": "IPY_MODEL_e70486e9506b47ba96dbdb84af9ae868"
          }
        },
        "af3c7320109748528aefa08a0e17c631": {
          "model_module": "@jupyter-widgets/controls",
          "model_name": "DescriptionStyleModel",
          "model_module_version": "1.5.0",
          "state": {
            "_view_name": "StyleView",
            "_model_name": "DescriptionStyleModel",
            "description_width": "",
            "_view_module": "@jupyter-widgets/base",
            "_model_module_version": "1.5.0",
            "_view_count": null,
            "_view_module_version": "1.2.0",
            "_model_module": "@jupyter-widgets/controls"
          }
        },
        "c97d1f95e88b465a8435494a9e944703": {
          "model_module": "@jupyter-widgets/base",
          "model_name": "LayoutModel",
          "model_module_version": "1.2.0",
          "state": {
            "_view_name": "LayoutView",
            "grid_template_rows": null,
            "right": null,
            "justify_content": null,
            "_view_module": "@jupyter-widgets/base",
            "overflow": null,
            "_model_module_version": "1.2.0",
            "_view_count": null,
            "flex_flow": null,
            "width": null,
            "min_width": null,
            "border": null,
            "align_items": null,
            "bottom": null,
            "_model_module": "@jupyter-widgets/base",
            "top": null,
            "grid_column": null,
            "overflow_y": null,
            "overflow_x": null,
            "grid_auto_flow": null,
            "grid_area": null,
            "grid_template_columns": null,
            "flex": null,
            "_model_name": "LayoutModel",
            "justify_items": null,
            "grid_row": null,
            "max_height": null,
            "align_content": null,
            "visibility": null,
            "align_self": null,
            "height": null,
            "min_height": null,
            "padding": null,
            "grid_auto_rows": null,
            "grid_gap": null,
            "max_width": null,
            "order": null,
            "_view_module_version": "1.2.0",
            "grid_template_areas": null,
            "object_position": null,
            "object_fit": null,
            "grid_auto_columns": null,
            "margin": null,
            "display": null,
            "left": null
          }
        },
        "af490e4e9cdb400196cbd0ee83c3f4e4": {
          "model_module": "@jupyter-widgets/controls",
          "model_name": "ProgressStyleModel",
          "model_module_version": "1.5.0",
          "state": {
            "_view_name": "StyleView",
            "_model_name": "ProgressStyleModel",
            "description_width": "",
            "_view_module": "@jupyter-widgets/base",
            "_model_module_version": "1.5.0",
            "_view_count": null,
            "_view_module_version": "1.2.0",
            "bar_color": null,
            "_model_module": "@jupyter-widgets/controls"
          }
        },
        "cc100bb5986a421095cc31642df0df3e": {
          "model_module": "@jupyter-widgets/base",
          "model_name": "LayoutModel",
          "model_module_version": "1.2.0",
          "state": {
            "_view_name": "LayoutView",
            "grid_template_rows": null,
            "right": null,
            "justify_content": null,
            "_view_module": "@jupyter-widgets/base",
            "overflow": null,
            "_model_module_version": "1.2.0",
            "_view_count": null,
            "flex_flow": null,
            "width": null,
            "min_width": null,
            "border": null,
            "align_items": null,
            "bottom": null,
            "_model_module": "@jupyter-widgets/base",
            "top": null,
            "grid_column": null,
            "overflow_y": null,
            "overflow_x": null,
            "grid_auto_flow": null,
            "grid_area": null,
            "grid_template_columns": null,
            "flex": null,
            "_model_name": "LayoutModel",
            "justify_items": null,
            "grid_row": null,
            "max_height": null,
            "align_content": null,
            "visibility": null,
            "align_self": null,
            "height": null,
            "min_height": null,
            "padding": null,
            "grid_auto_rows": null,
            "grid_gap": null,
            "max_width": null,
            "order": null,
            "_view_module_version": "1.2.0",
            "grid_template_areas": null,
            "object_position": null,
            "object_fit": null,
            "grid_auto_columns": null,
            "margin": null,
            "display": null,
            "left": null
          }
        },
        "d82773142a8c4398a8cfb193645c3e95": {
          "model_module": "@jupyter-widgets/controls",
          "model_name": "DescriptionStyleModel",
          "model_module_version": "1.5.0",
          "state": {
            "_view_name": "StyleView",
            "_model_name": "DescriptionStyleModel",
            "description_width": "",
            "_view_module": "@jupyter-widgets/base",
            "_model_module_version": "1.5.0",
            "_view_count": null,
            "_view_module_version": "1.2.0",
            "_model_module": "@jupyter-widgets/controls"
          }
        },
        "e70486e9506b47ba96dbdb84af9ae868": {
          "model_module": "@jupyter-widgets/base",
          "model_name": "LayoutModel",
          "model_module_version": "1.2.0",
          "state": {
            "_view_name": "LayoutView",
            "grid_template_rows": null,
            "right": null,
            "justify_content": null,
            "_view_module": "@jupyter-widgets/base",
            "overflow": null,
            "_model_module_version": "1.2.0",
            "_view_count": null,
            "flex_flow": null,
            "width": null,
            "min_width": null,
            "border": null,
            "align_items": null,
            "bottom": null,
            "_model_module": "@jupyter-widgets/base",
            "top": null,
            "grid_column": null,
            "overflow_y": null,
            "overflow_x": null,
            "grid_auto_flow": null,
            "grid_area": null,
            "grid_template_columns": null,
            "flex": null,
            "_model_name": "LayoutModel",
            "justify_items": null,
            "grid_row": null,
            "max_height": null,
            "align_content": null,
            "visibility": null,
            "align_self": null,
            "height": null,
            "min_height": null,
            "padding": null,
            "grid_auto_rows": null,
            "grid_gap": null,
            "max_width": null,
            "order": null,
            "_view_module_version": "1.2.0",
            "grid_template_areas": null,
            "object_position": null,
            "object_fit": null,
            "grid_auto_columns": null,
            "margin": null,
            "display": null,
            "left": null
          }
        }
      }
    },
    "accelerator": "GPU"
  },
  "cells": [
    {
      "cell_type": "markdown",
      "metadata": {
        "id": "_wIQ8hjDpdVi"
      },
      "source": [
        "#### Importar lo necesario"
      ]
    },
    {
      "cell_type": "code",
      "metadata": {
        "id": "uHQUjDs12DLW"
      },
      "source": [
        "import torch\n",
        "import torchvision\n",
        "import numpy as np\n",
        "import random\n",
        "import matplotlib.pyplot as plt\n"
      ],
      "execution_count": 1,
      "outputs": []
    },
    {
      "cell_type": "markdown",
      "metadata": {
        "id": "QeJy8fjPn4wi"
      },
      "source": [
        "#### configuramos el `device` acorde al device disponible\n",
        "\n",
        "\n"
      ]
    },
    {
      "cell_type": "code",
      "metadata": {
        "id": "lOV9xybtn4I3"
      },
      "source": [
        "device = \"cuda\" if torch.cuda.is_available() else \"cpu\""
      ],
      "execution_count": 2,
      "outputs": []
    },
    {
      "cell_type": "markdown",
      "metadata": {
        "id": "lxF5uQGBpiYG"
      },
      "source": [
        "## Cargamos una imagen de ejemplo para ver la operación de convolución"
      ]
    },
    {
      "cell_type": "code",
      "metadata": {
        "colab": {
          "resources": {
            "http://localhost:8080/nbextensions/google.colab/files.js": {
              "data": "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",
              "ok": true,
              "headers": [
                [
                  "content-type",
                  "application/javascript"
                ]
              ],
              "status": 200,
              "status_text": "OK"
            }
          },
          "base_uri": "https://localhost:8080/",
          "height": 113
        },
        "id": "p9ij_zlGtA0_",
        "outputId": "782b8449-ddea-4c7e-8f84-e00fe8f1f96b"
      },
      "source": [
        "# desde el escritorio\n",
        "# perro.jpg\n",
        "from google.colab import files\n",
        "files.upload()\n"
      ],
      "execution_count": null,
      "outputs": [
        {
          "output_type": "display_data",
          "data": {
            "text/html": [
              "\n",
              "     <input type=\"file\" id=\"files-9f22a580-3494-450d-b117-6c6e2e1a82ff\" name=\"files[]\" multiple disabled\n",
              "        style=\"border:none\" />\n",
              "     <output id=\"result-9f22a580-3494-450d-b117-6c6e2e1a82ff\">\n",
              "      Upload widget is only available when the cell has been executed in the\n",
              "      current browser session. Please rerun this cell to enable.\n",
              "      </output>\n",
              "      <script src=\"/nbextensions/google.colab/files.js\"></script> "
            ],
            "text/plain": [
              "<IPython.core.display.HTML object>"
            ]
          },
          "metadata": {}
        },
        {
          "output_type": "stream",
          "name": "stdout",
          "text": [
            "Saving perro.jpg to perro (3).jpg\n"
          ]
        },
        {
          "output_type": "execute_result",
          "data": {
            "text/plain": [
              "{'perro.jpg': b'\\xff\\xd8\\xff\\xe0\\x00\\x10JFIF\\x00\\x01\\x01\\x00\\x00\\x01\\x00\\x01\\x00\\x00\\xff\\xdb\\x00C\\x00\\x03\\x02\\x02\\x03\\x02\\x02\\x03\\x03\\x03\\x03\\x04\\x03\\x03\\x04\\x05\\x08\\x05\\x05\\x04\\x04\\x05\\n\\x07\\x07\\x06\\x08\\x0c\\n\\x0c\\x0c\\x0b\\n\\x0b\\x0b\\r\\x0e\\x12\\x10\\r\\x0e\\x11\\x0e\\x0b\\x0b\\x10\\x16\\x10\\x11\\x13\\x14\\x15\\x15\\x15\\x0c\\x0f\\x17\\x18\\x16\\x14\\x18\\x12\\x14\\x15\\x14\\xff\\xdb\\x00C\\x01\\x03\\x04\\x04\\x05\\x04\\x05\\t\\x05\\x05\\t\\x14\\r\\x0b\\r\\x14\\x14\\x14\\x14\\x14\\x14\\x14\\x14\\x14\\x14\\x14\\x14\\x14\\x14\\x14\\x14\\x14\\x14\\x14\\x14\\x14\\x14\\x14\\x14\\x14\\x14\\x14\\x14\\x14\\x14\\x14\\x14\\x14\\x14\\x14\\x14\\x14\\x14\\x14\\x14\\x14\\x14\\x14\\x14\\x14\\x14\\x14\\x14\\x14\\x14\\xff\\xc2\\x00\\x11\\x08\\x01,\\x01\\xf4\\x03\\x01\"\\x00\\x02\\x11\\x01\\x03\\x11\\x01\\xff\\xc4\\x00\\x1c\\x00\\x00\\x03\\x00\\x02\\x03\\x01\\x00\\x00\\x00\\x00\\x00\\x00\\x00\\x00\\x00\\x00\\x00\\x01\\x02\\x03\\x05\\x04\\x06\\x07\\x08\\xff\\xc4\\x00\\x19\\x01\\x01\\x00\\x03\\x01\\x01\\x00\\x00\\x00\\x00\\x00\\x00\\x00\\x00\\x00\\x00\\x00\\x00\\x01\\x02\\x03\\x04\\x05\\xff\\xda\\x00\\x0c\\x03\\x01\\x00\\x02\\x10\\x03\\x10\\x00\\x00\\x01\\xf7,\\x93v\\xce\\xa8\\xa0\\xa2\\x82\\x86\\x144\\x94\\xa8\\x18\\xc1\\xb2\\x03\\x18\\xa8\\x01\\x80\\x0c\\x13\\x18\\x86\\tR\\x05H@\\x02a#\\x04\\x98H\\xd0\\x95L\\x94\\xd2%T\\x936\\x88W(\\x99\\xb4\\x98W(\\x99\\xb4D\\xda1NI1\\x14\\x19\\xb2M\\x8e\\x95\\x0e\\x8a\\nT\\x92\\x93\\x1b\\x1c\\x061\\x8c\\x060\\x00\\x18\\xc4\\xc0\\x00\\x00\\x00\\x00\\x00I\\xa0\\x00C\\x04\\x98$\\xc2U\"U\"U)L\\xdc\\x92\\xaaE4\\x89\\x9aD\\xaaH\\x89\\xb4c\\x9b\\x92\\x04\\x1c\\x9aV\\x16\\xa9.\\x95\\x05*\\nN\\r\\x8c\\x18\\xc1\\x80\\xc1\\x83\\x00\\x06&\\x00\\x00\\x96>D[\\x1dx\\xfe\\xbb\\x83\\xd0\\xf4\\x9dW\\x8c\\xf4\\xbc:~\\xa8\\xed? >\\x9eo\\xb0W\\xcd\\x9d\\xeb~oZ\"\\xf7\\xe7\\x13\\x10\\x80%R$h\\x95R)\\xa4JhSJR\\xaaD\\x9a!R\".Q\\x02\\x0e]*Isc\\xa9\\xa1\\xd2cc\\x80\\xc66\\x981\\x83\\x00\\x18\\x00\\x00k\\xa2\\xdc\\xee\\xb1\\xd2<\\xc7\\xc9\\xf5\\xfd\\x1f\\xd2\\xbc\\x13\\xd7\\xb2\\xdf\\xbc\\xf8\\xa7\\xd0\\x1dK\\xd1\\xf3<\\x03\\xce}\\x17M\\xe5\\xfa\\xddwe\\xc5\\xe1\\xeb\\x9f?\\xa8lz\\xdfO?\\xd6~\\xad\\xe7>\\x8d\\xd7\\xe7\\x80m\\x80\\x9a\\x12hI\\xa1 %4JhI\\xa1 \\x14\\xb9\\x91.I\\x9a\\x93\\x18\\xc3\\x99J\\x86\\xc6:Lt\\x9c\\x1bT0aS@\\xd3\\x1bL\\x00\\x01\\xc2q\\xf8\\xe7\\x0b\\xac\\xf8\\xde\\xdf\\x13\\xb4\\xe9v<=\\xfd\\x87a\\xd1\\xba\\xe7g\\x17\\xd8Z\\x8d\\x0fa\\xf5\\xbco\\x85\\xb4\\xdb\\x9e\\xb56\\xcb\\xd8\\xf7\\xbdK\\x87\\xbb\\x89\\xc8\\xe3\\xfaU\\xeb\\xf4\\xafcO\\xbb\\xcd\\x00\\x98\\x13BM\\t4$\\xd1)\\xa2SBM\\t4)r$\\xe4\\x99\\xa8\\x94\\x00s\\xa9P\\xeal)8:Lm1\\xb0\\x1bLm0`\\r1\\xf4\\x8e\\xef\\xe5\\x1c}\\xdedn5>_\\xb1\\xc8\\xe8\\x9d\\xfb\\x89|\\xbc\\xa3\\xb8\\xfb7]\\xf4\\xbc\\xce\\xff\\x00\\xea=k\\xb4o\\xcf\\xe1\\xfei\\xf5\\x1f\\x83\\xe1\\xbfB\\xea\\x9e\\xb7\\xdby\\xba\\xbeT\\xfb\\x1f\\xa3\\xfb\\x8f\\xa1\\xe7\\xe7\\x07\\xa6\\x08\\x00@$\\xd0\\x93B\\x96\\x85-\\t4$\\xd0\\x93\\x91MH\\xa6\\xa0\\x99\\xa8\\x94\\x8865\\x16:N\\x0e\\xa6\\x86\\xd3\\x1bL\\xa6\\x981\\x83L`\\x03\\x00\\xd0o\\xca\\xdf\\xe7-O\\xb3x\\xd7\\x97\\xec\\xe5\\xef\\xde]\\xf5GO\\x1f\\x93\\xefW\\xa0so\\xb2\\xe3k>h\\xf5|\\xaf\\xa03\\xfcK\\xee\\t\\xf4\\xae~,Y_\\xbb7;b\\xd3B\\x04\\t\\xa1&\\x84\\x9c\\x894$!\\x00$\\xe4\\x10\\x85.E\\x17\\x04M\\xc1\\x8c\\tl\\xea(\\xb6\\x9c)\\xcd\\r\\xa66\\x99M1\\xb9ci\\x8c\\x01\\x80\\x00\\x07Y\\xec\\xe4[\\xe5\\xcf\\xa94\\xbb\\x9a_\\x85\\x977\\x91\\xa7\\xb7\\xfci\\xf7o\\xcc\\xb7\\xa7\\xce\\xde\\x91\\xa0\\xee\\x07\\xb9\\xe0\\xe0\\xed9\\xf7\\xef\\x1d\\xab\\xe7_\\xa2\\xfa0I\\xa9\\xa2M\\x02h\\x94\\xd0KBB\\thI\\xa1&\\x855$\\xa7\"\\x97$\\xc5D\\xa0A\\xb5\\xa4\\xcasP\\xa6\\x98\\xdaci\\x94\\xd3\\x18\\xa8\\x18\\r\\xa6\\x00\\x03\\x18\\x00\\x00\\x07\\x8ez\\x8f\\xc9|\\x9e\\x8f\\xd3\\xbd#\\xbf=9\\xfc_c\\xdf\\xfa\\xf4_E\\xbb\\xc5\\xe6\\x15\\xdbC\\xf5\\xef\\xcb\\xde\\xe1z\\xf7\\xe5\\x17\\xbf\\x02M!!\\x02\\x10KBB\\x04!\\x02\\tr\\x13R)h\\x98\\xa9&\\x1cJ\\x006\\xd54SN\\x14\\xd0S\\x9a\\x1bL\\xa7,m1\\xb4\\xc6\\xd00\\x01\\xa60\\x00\\x12x>\\x0f\\xf4w\\x13\\x97\\xbf\\xe5\\xefa\\xef\\xdd\\x0ez\\xab\\xa1\\x1a8\\xd3F\\xbd#\\xb2\\xb0\\xea{\\xed\\x86\\xa6\\xfc=\\xbb\\xb5y\\xf7\\xa0\\xe9\\x8c\\xa6\\xafD\\x84$\\xe4\\x10\\x84\\x9c\\x82\\x10\\x84\\x86\\x84\\x12\\xe4\"\\xa4\\x99rD^9!\\x06\\xde\\xa5\\x95R\\xe1U\\x14S\\x96S\\x96SLm0\\xa9\\xa0i\\x8cLnX\\xc0\\x04\\xe5<\\xc6L[\\x8f\\xac\\xe7k\\xebn/7\\x99\\xc1O\\x91z\\'V\\xect\\xd3.\\x8f\\xbah\\xd4\\xd2z\\'\\x9dw\\xdbS\\x90\\x9a\\xd34\\x84$H\\'!.B\\\\\\x8d\\x08\\x10\\x82D\\x10\\xe4QPN;\\xc7(\\x18n\\x9c\\xd0\\xea\\\\*\\xa5\\x94\\xe6\\x86\\xd3\\x1bLm1\\xb4\\xc6\\xd06\\x984\\x14 bQ9\\xcc\\n-\\\\N\\x0ez\\xdfa\\xd7\\xb2\\xa8\\xb6\\xa7\\x9b\\x93[[\\xee5}_i\\n\\xed]S;>\\xef\\x15\\x1d\\x18\\x12\\xe4I\\x00\\x92\\x80\\x89\\x93\\x91\\x02$h\\x91\\xcaA$\\x8a\\\\\\x06*\\x89\"\\x03|\\xe6\\x8ai\\xc2\\x9c\\xb2\\x9ae9e9e9ci\\x8d\\xcd\\x0cLb`\\xd0\\x19\\xf8\\xfc\\x98\\x9a\\xd3o:}.\\xb3\\xf5\\xbe\\xe5]8\\xbcnn\\xb9n>\\x97e\\xc3\\xa5\\xf5\\xba\\xca\\xf3j_\\xd6\\xb6\\x9b\\xbe&\\x9c\\xfd\\x87\\'\\x03\\x9d\\xbe\\nE0\\x910jP\\xd2\\x92\\x94\\xa4\\xb9Ja\\xa2G$\\x8e\\x1c\\nH\\x0co\\x1c\\x99\\x8c;\\x15E\\x14\\xd3\\x859\\xa1\\xb4\\xcar\\xca\\x13\\x1bLm1\\xb9e\\t\\x8cAB\\x84\\xdf\\'\\x89\\xca\\x89\\xe4t\\x8e\\xef\\xd6s\\xbf\\x8d\\xfbo\\x90\\xfa\\x8e{e\\xd5st3\\x1c\\x83\\x8f\\x15\\xbfU\\xd3\\xf3{E-\\xde\\xb8\\xdb\\x9d\\x7fG.\\xbfi\\xa8\\xda\\xde\\x84\\x930BIjd\\xa52\\x9bS(\\xa5)Z!I\\xa5\\x05J\\x82\\xb1\\x90,o\\x1c\\x82\\x03\\xb3\\xd4QU\\x15\\nsCi\\x8d\\xa6S\\x966\\x98\\xdacr\\xc6\\xd012\\xb1d\\x13\\xc1\\xe5\\xe1\\x8a[{\\xc3\\xe5\\xe3\\x87\\x81\\xf7\\xde\\x06\\x83\\x97\\xbf\\xba\\xe8u\\x1dl\\xef\\xbd{K\\x8a\\x97\\xe7\\xf7\\xbd\\x0f\\xa7\\xef\\xcd\\xb3\\xd0v>\\xb9\\xae\\x1a\\xbd\\xee\\x8fuhR\\xa2\\xd0\\xe1AS \\xd4\\xc9f4\\x8b\\x99H\\xa5\\x131j$\\xb8\\x99\\x1c\\xcc\\x15\\x89c\\x931\\x07o\\xa9e\\x89\\x95R\\xe1NYM1\\xb4\\x14\\xe6\\x86\\xe5\\x94&0\\x01\\xa66\\t\\xe3<\\xbc:\\xdbx\\x13WM\\xf2?f\\xe9\\x9c\\xbd\\xbd\\x0b[\\x8fS\\x87V\\xfba\\xa2\\xed\\xbac\\xe8]\\xbb\\xaeo\\xfb|\\xfd\\xbf\\x07\\x9e\\x1d;e\\x85Ld\\x85\\x16\\x12\\xa0\\xa9\\x99*a\\x173%\\x98\\xd1f92,rd\\x89\\x89V5\\x8cx\\xccj\\xb3\\x08w\\x8a\\x8a\\x98\\xaa\\x96S\\x9a\\x859e9e9e9e9\\xd5\\xd6\\xfc\\x8cZS\\x87\\xb3v\\xf5\\x0e[u\\xac\\xcb5\\xe6\\xae\\x1f\\x1d;\\x1c\\\\\\x1e\\xcfj\\xedpp3ta\\xa5\\xf1\\x7fv\\xf0~N\\xcf9\\xd2\\xfa=s\\xf4y7t\\xee\\x9c\\x9bWo\\xbf\\xd1\\xef\\xf5\\xc7\\xd1y\\x1aM\\xd7W6]\\'\"m_7\\xc7\\xb5\\xeb\\\\\\xfb\\xf3\\xd7\\x12\\xf3\\xbf*\\xb8\\xb7Y\\xec|\\xce\\xad\\xd8z\\xb9\\xf3\\xcc-\\xf1\\xb5\\x08\\xb5\\x12Z\\x89.bJ\\x85\\x8eO\\x13\\xc23\\x18w\\xf754\\xa7,\\xb7\\x15\\nr\\xcah)\\xcb)\\xce\\x1a_\\'\\x0b*\\xe3\\xeb\\xc7M\\xd6\\xc0L\\xc5\\x18\\x98\\xe5\\x89\\xe2\\xf5\\x1e\\xe9\\xe5\\x93;]W?\\xa8Wn\\x87\\xb7\\xee\\x9d\\xde\\xb5\\xf3\\xee\\xcb\\xdcx\\xfc\\xfbi\\xb2l\"\\xb6\\x8eo\\x1b\\x97zO\\x9cz\\x9e\\xb7|\\xba\\xe7\\x94\\xfb>\\xac\\xf1\\xff\\x00N\\xdb\\xf65u\\xdc\\x8e\\\\g~\\x15s1\\xd6xW\\x9e\\x11\\xcc|+\\xf48\\xb9+\\t\\xb69\\x16\"Y\\x16%+\\x98\\x82\\x94c+\\x11\\x8eA\\x88=\\x1d\\xcb\\x9a[\\x96[\\x96UEB\\x84\\xcar\\xce\\x173\\x83\\xca\\xe0\\xed\\xca\\xa6r\\xd3$\\xa6\\x15!\\xc3\\xc9\\x05/\\x93\\x0c\\x911\\x19\\xee\\'\\x8c\\xb9\\x08\\xc3\\x8b\\x93\\t\\xc6\\xa34N,9&\\xb6\\xc1\\x8b\\x94\\xab:\\xe8\\xe6\\xe1\\xa5\\xf8\\xd1\\x97\\x0ew\\xc1\\xc7\\xe5`\\xad\\xe1g\\xc6\\x8c\\x07+\"5\\xaf\\x9a\\xe1\\xc2\\xd2n\\xb4[\\xe1\\xdc\\x97\\x1c\\xf7||\\xe7\\x1d\\x19\\x8e:\\xb34aR\\xcb\\x8f\\x1c\\x191\\xe3\\xc6d8\\xe4\\xbf\\xff\\xc4\\x000\\x10\\x00\\x00\\x06\\x01\\x02\\x05\\x03\\x03\\x04\\x02\\x03\\x00\\x00\\x00\\x00\\x00\\x00\\x01\\x02\\x03\\x04\\x11\\x05\\x06\\x12\\x10\\x13\\x14!@\"1P\\x16 #\\x07\\x1502$A%3B\\xff\\xda\\x00\\x08\\x01\\x01\\x00\\x01\\x05\\x02 _-_\\xc0@\\xbex\\xbe|\\xb8\\x97\\xce\\x97\\x99\\xec\\x1e\\xd4\\xb8\\xe6\\\\wTl\\x11\\xf5V5\\xf2ii}\\x1ee\\x02\\xf2\\x9du\\x0c\\xa5\\xb4\\x93\\x88\\xd5\\x8a\\xc8G\\x99\\x1d$\\xd3y\\xacj&4\\xd4\\x89\\x8d\\xb2\\xcc\\xa2\\x9c\\xd3r\\x15\\x19\\xf8\\xd9\\xe9\\xf0\\x93\\x85\\xfdA\\x8d9hZV\\x9f(\\xbc\\x83ZR2Z\\x92\\x1e9NNFQZrG1\\x89\\x90Q)\\xb9\\xd1_\\x802kml\"Z\\x99}\\xe6K\\x1f.cH\\x90Q\\x1eQ\\xb1\\x8b{\\x95;E\\x1a\\x8eG\\xc8\\xe4%\\xf4qsy\\x16\\xe2\\xc1\\xc2\\xa3\\x9e\\xdb-m\\x1aIF\\xdf\\x0c\\xd42}\\xba\\xc5=/%\\x81\\x8c\\xc2\\xa0%\\x12Y\\'\\xfb\\x1c\\xbd\\x89.\\xcfhf\\xb6\\xe2\\xbeA\\xf7\\xdb\\x8c\\xd6K2\\xb9OjrT\\x8cN\\x05\\x84\\'\\x06\\x98\\xed\\xb2\\x9c3\\xad31&2\\x8a\\xd9\\x11\\xd9n\\x16\\xa4\\xc8d22\\xa7%r\\xa3.K\\x9b\\xa5,\\xe86\\x9a\\x1a{\\x1ex\\xbc7\\x9a^\\x12\\xd4M\\xa3PgW%\\xd8\\xa99)\\xcd\\xa7~/Gms\\x0b\\xaa\\xa6crh\\xc1\\xe4\\xe4\\xc7N\\x96\\xc9\\xab!\\x07(\\xc2\\xdf\\x87\\xa8cnr\\x1e2c\\xc7\\'\\x14\\x98\\x98\\x86O~5J$\\x96\\x83\\xc5\\x1eW3\\xf2\\x1a\\x82v\\xd2\\xc92j8\\xcem\\x1a\\x85\\xc53\\x8f\\xd3\\xf2d\\xbd\\x8fu\\xe9\\x98\\x064\\xf5\\'\\x1f\\xa0#\\xf2\\xf1J\\xfe\\xba\\xbbJ\\xb1\\x908\\r\\xdbS#\\xd1A\\x80\\xec\\xbc\\xa4\\xd6\\x95\\x1ch\\x8c*0\\xd8\\x1f,\\xbc\\\\\\xd3.6\\xf2\\x8d)\\x0e6I\\x97\\x94`\\xe7\\xb5\\xa5a\\xab\\t\\xa8\\xe5\\xe1bH\\x13\\xf0M5\\x1fOB8PLJh\\x94Z\\xb3\\x0e\\xec\\'\\xb1\\xf1\\x11\\x9aN\\x07\\x08\\x86u\\x0e\\xb5\\xd0\\xafO}\\x84r\\xd8\\xf9\\x0c\\xc4\\x0e\\xb5\\x89msH\\xad!\\x89\\x9f\\xe5kH\\x1d6A\\x87\\xba\\x94\\xa5\\xbe\\xa2ZKa;)\\x08\\'s(D\\xa9)jC1Yg\\x19\\x1b\\x1af\\x99\\x1eix\\xd9\\xfd8\\xa9\\xa7 \\xcd\\xb0\\x8fNVTtKg\\x17\\x85V*c\\x10\\x1bay\\t\\x8eAbf\\xa3\\xc8e\\x1f\\xc9\\xe7g\\xb5/\\xf4\\xff\\x00Q;%\\xa7\\xdd\\xda\\xbc{\\x9b\\xb2?)\\x9a\\xc0\\xc7\\xcc6\\xf69\\xdc~d\\xff\\x00\\xb4\\xb6\\xb9\\x8d\\xb1/\\xa8\\x8b\\x99\\x8a\\xf6OOIVW\\x1c\\x83%(i\\xb2q\\x92\\x8f!N\\xb7\\x97\\xe69\\x8d\\xd3\\x19\\x8f\\xdf1\\x1eay\\x12\\xf1\\x11\\xe6\\xcc\\x06VXG\\x9e\\xc1d\\x1dw\\xf0\\xeblk\\x0fK\\xfd\\xaf\\x90\\xe6+\\x16\\xa7^\\x8e\\xd2`\\x1aY)p\\xff\\x00L3T\\xbf(\\xfc\\xdc\\xdeM\\x0f\\xea\\x04(\\xd4\\xcc\\xac+;\\x1c\\xd2m\\x1a\\xf9\\t\\x88hl\\x94\\x97\\x96\\x9cn3C9\\xc8\\xc8C\\x92R\\x98\\xf2O\\xcc\\xc8\\xca\\xe8\\xe1\\xcf\\x90\\xe4-M\\x8bu\\x12\\xa0\\xc9j\\x81\\x99l&\\x96\\xe2\\xb9\\x05\\xd5k\\xac\\xf71\\xed=\\x8d\\xe9\\xdb\\x81#\\xa5&\\xdcK\\xcd\\xf8\\xc7\\xc0\\xfc\\xc9p\\xd3,\\xb5f\\x1d\\xd6\\x8fFg2\\x18\\\\\\\\\\rM\\x1aj$dYK9-_\\x05\\x11fkGe\\xbf\\x17\\x03\"D\\xa8pN2It\\xbcK\\xbb\\x1d\\xf9J\\n\\x8c\\x83Z\\x92FS\\xf4f:P\\x99\\xa1%,#\\xf4\\xca\\x95\\x0f\\x0b\\x07\\n\\x96\\xd8K\\xcd\\xa9\\x9b\\x0fz\\x13\\x11t\\x7f(\\\\\\x0f\\xdeR\\xb9h\\xc7\\x9a\\x9fL\\x86}9\\xf5+|$\\xa7\\xa56\\xac\\xde\\x8cD\\xb6\\xce\\x94\\x83\\xdc\\x8f\\x93 f\\x17\\xee\\xf1sJ;\\\\\\xa6\\xe78hfTR\\x921dl\\xb7\\xb0L \\x9e\\xea\\x8aw\\x1b\\xe4\\x88n\\xe0\\xbe\\xe14\\x85\\x1b\\xd6Y\\'T\\xa6\\xd2\\xd0h\\x92\\x93L\\x8d\\xc5\\'\\xd6\\x12\\x9fV=\\xdd\\xcd\\xfc\\x9d\\xf6\\xdc\\x1ex\\xad\\x1d\\x92\\xe9\\x9e\\xed\\xb6\\x95\\x10\\x92\\xee\\xc2rS\\xad\\xad2\\x12\\xb44\\xe2\\\\\\x11^4J0\\x7f\"\\xdf\\xb1\\xa4\\x88<\\xf9Y6\\x83u6ci\\x84\\xae\\xc19hZ\\xac\\x13e\\xbd\\xf9\\xfb\\xd3\\x06+\\x88l\\x90d\\x18_1\\x8f\\x91k\\xd8\\xc6Y(l\\xb19V\\xe5\\xe46n\\'W\\xb0\\xdf^\\xd0\\xcf\\xa9\\x0bhe\\xd7\\xca\\xc6\\xe9\\x99O)L4\\\\\\x87Q\\xb4@;\\x8d\\xf2-{\\rHW\\x13\\r\\x0c\\xa0j\\x94\\xac\\x83\\x86F\\xa7\\x96W\\x1c\\xf77\\xfe\\xb3\\xea.\\x97\\t\\x03d\\xd8\\xad\\xd32RIN5V\\xd1\\xfd\\xb7\\xfc\\xc7\\xc6\\xfc\\x93V\\xd1v\\x1a\\xe1\\x9bk\\x99\\x12Zv\\xe6\\x18=\\xcd\\xb8f@\\xcf\\xfc\\x86\\x9b&T\\xe3\\xe4Bk\\x9dK\\xd8\\xc6RrZM&_b\\xc7\\x9f\\xa8\\xfe\\xcb\\xe3b\\xfe\\xfb\\xe3|/\\x8d\\xf9\\x0e{\\x1d\\x91Dw\\x99\\xc2B7\\xb7\\x92p\\xd3\\x92\\x85/\\xd0\\xfb\\xfd\\x89\\xc3\\xde\\xf3\\xa4KzF\\xe3c\\xba\\xf1L\\xa9N$\\xa8d7\\x0cY\\xeeY\\xf0\\xbe\\x16,_\\xddb\\xc5\\xf0\\xb1\\x7fu\\xf9\\x06\\x080\\x9eT\\x82\\x0b\\xf6\\xd48\\xb4,3/hv\\x7f\\xa5\\xf9on9N8]\\xf7b\\xb1\\xddS\\x91\\xdbK\\x03\\xfdd\\x16\\xa1\\x8a#JO\\xef\\xb1b\\xc5\\x8b\\xfb/\\x85\\x8b\\x16,X\\xb1~J\\xfb\\x18O\\xb2\\xfd\\xb2\\xa8\\xdf\\x1aKn\\xb2\\xb3p\\xa9\\x12\\xb7L\\xe7+d6\\xb6\\x8c\\x19~D\\xff\\x00\\xd9gr\\x9b\\xb0\\xc7\\xe3\\x93|l_\\x0b\\x16,X\\xb1b\\xc5\\x8b\\x16,X\\xbe\\x16\\x0c\\xc5\\x8b\\xf2TVDt\\x11\\xfd\\x17\\xed\\x93\\xee\\xcc\\xa6\\x12h\\xc8\\xbc\\x96\\x8d\\xa9\\x88\\'\\x91\\x92c\\x99\\x18\\xb7+\\x04\\x9f\\xc3t\\xa4\\xa8\\x94G\\xdc\\xa50m\\xafp\\xbe6/\\x85\\x8b\\x17\\xc2\\xc5\\x8b\\x16,X\\xb1b\\xf8_\\x0b\\xf0W,\\x92}i\\x8e\\xb1@\\xa6(u\\x8a\\x1dj\\x87^\\xa1\\xd7\\xac\\x1eAt\\x89.<\\xef\\xb18}\\xb2h\\xa8\\xb3\\\\\\xc9\\xae4\\xf8Y\\x07R\\xf32\\xc2\\xa3I5brr 7\\x8b\\xd6\\nm\\x92\\xd5KX\\x80\\xf1\\xbf\\x08\\xdd$(Ma\\xc46\\xadF\\xeaU\\xf5*\\xc7\\xd4\\x8b\\x1fQ\\xac}@\\xb0Y\\xd5\\x18\\x8b12\\xd3\\xc6\\xc5\\xf0\\xbe\\x17\\xc6\\xc5\\x831~\\x0c\\xb9\\n@>i\\r\\xce\\x8f\\xc8dL\\xb8fL,\\x87%`\\xdbP6V9K\\xb8Q\\xb9\\x05*z\"\\xbc\\xeb\\x8al\\x96\\xf76$\\xf9)bA\\x9a\\xa4\\x0f\\xda\\x94\\xb3F\\x02\\xc2t\\xe9\\xdcL)4\\x0b\\x1cDX\\xc7\\xbdK\\xd8I\\x82\\xf1\\xc9e\\xc9L\\xb4\\xfc\\xe9Q\\xf2\\xa4^\\xa1\\xca\\xb1\\xd3\\x0e\\x9crCv\\xca\\xd0\\xe6\\xf4\\xd8\\xbe6,X\\xbe\\x16/\\x89\\xf8\\nWcH\\xda6\\r\\x83`\\xe5\\x8eX\\xe5\\x8eRD\\x851\\r\\x8f\\xa8[C*\\x93\\xd5\\xe5\\x9a\\xd5\\xac;\\x93^bV\\x9e\\xcfJ\\x80\\xac\\xb6V\\x16\\x9et\\x83xW\\x08\\xd3\\x8cp\\x93\\xfbz\\x83,\\xf2B\\x94\\x85\\x83\\x90I=W\\xafS\\x8dT\\xadP\\xd4Ho\\xe4cj\\xcc\\xbcmK\\xca\\x93\\x05\\xf6\\xe5\\x1bq\\xd2c\\x92\\x94\\x8eW~JG$\\x83\\x7f\\x88\\xc9V,X\\xb1b\\xc5\\x8b\\xe1|,\\x183\\xfeo`gb\\x85\\n\\x15\\xc0\\xef\\x85\\x18\\xae\\x0e\\x171\\xb9\\xfa\\x1a,\\x88x\\xad8\\xbc[Mh\\x05\"j\\xf4\\x1c\\'\\xe4\\xc5\\xc5\\xc3\\x88\\x9d\\xc4\\x925\\x83t\\xc6\\xeb\\t.\\xe9!\\xcbHv\\x13j9\\x18\\x88\\xd2\\x92\\xd6\\x02\\x0ce\\xb1\\x85\\x82\\xc8B[InH\\xdc\\x80fCq\\x10\\xde\\x81\\xb9#y\\x10\\'R\\xa3\\xb1b\\xc5\\x8b\\x16,n\\x16,\\x19\\x8b\\x1b\\xbf\\x96Y[}\\xf8\\x95\\xd5\\x18\"0v=F\\x0buz\\x86\\xe5\\r\\xca\\x16\\xed\\x99\\xb8? \\xfc\\x86T\\xb1\\xf9\\x01\\xef0jXQ\\xbac\\xd6\\x17\\xcc$\\x92\\\\1\\xb1Ci\\x984\\x18\\xd8@\\xd9\\xdc:c\\xda\\xa6\\xcc\\x87$\\xcc\\xf9 \\xe2\\xf7\\xe9\\xc8\\x89-Pf\\xcb3\\xb8X\\xdc,n\\x1b\\x86\\xe1cp\\xdc\\rCp\\xdd\\xfc\\xb3N\\x9a#\\x16\\x0b\\xdc\\x8cX3\\xa0\\x7f\\xd0\\x8f\\xd3}\\x94\\xad\\xa2\\xfb\\x03\\xe0b\\xc7\\xfa\\xb0~\\xd7\\xdc%V\\x0c_u\\x9fu\\x1fe\\x9e\\xd0\\xa5wJ\\xce\\xff\\x00\\xf0\\x93\\xee|\\x0c\\xc7\\xb2R\\xb3\\xa4\\x1f\\xfc\\xad\\x8b\\x16,X\\xb1b\\xc5\\xf0\\xbe?\\xff\\xc4\\x00*\\x11\\x00\\x02\\x02\\x01\\x03\\x03\\x03\\x02\\x07\\x00\\x00\\x00\\x00\\x00\\x00\\x00\\x01\\x02\\x00\\x11\\x03\\x04\\x121\\x10!@\\x13\"0 A\\x14BQ`a\\x81\\xc1\\xff\\xda\\x00\\x08\\x01\\x03\\x01\\x01?\\x01\\xfd\\x9bS\\x1e\\x88\\xb8\\xbd\\xd3\\xf0\\xd8\\xd0\\xd1\\xef\\x1fJ\\xbf\\x94\\xc7\\xc0\\xc9\\xe5(,hLz!\\xbb\\xdcf\\xad@\\xc5B`\\xccP\\xd4\\xdd\\xbb\\xb8\\x87\\x88\\xcd\\xc4\\xccm\\xcf\\x93\\xa6\\xd3\\xfa~\\xe7\\xe67\\xb7%\\xc7\\xca2\\x1d\\x92\\xb6\\xb5\\x18\\xd7t\"\\x02\\xa2\\x8c&\\xa1\\xf24\\xaa\\x1b\\'xL\\xc8w>\\xdf\\xe2\\x0c\\x0c\\x8dq\\xcd\\xb13\\x0b\\x85=\\xe6WQ\\xc4v\\xbf%\\x18\\xa9\\xb1\\x130\\xc8#\\xe4\\xda\\xc1\\xa6mB\\x95\\xa1\\xd0\\x18x\\xf2\\xc1\\xae#\\xbe\\xea\\x8a\\xbb\\x84\\xab\\x80\\x18Gh\\xcaP\\xd1\\xf34\\xb8\\x99\\xad\\x80\\xb9\\xc1\\xa8&,g+\\xed\\x13VC\\xe4%|\\xcd.\\xa9\\xf4\\xc6\\xd0\\xccO\\xa4t\\t\\x99H?\\xa8\\xff\\x00D\\xf4\\xb4k\\xdc\\xe4\\xbf\\xea>e\\x03n!B\\x13\\x0f\\x94:\\t\\xc9\\x87\\xa3\\x0f(t\\xa9U9\\x9bcyB,\\xe2\\x0e\\xa4\\xdc>H\\x8b\\xccq\\xf7\\x8a%C\\xd8t<\\xf9`oX\\xa96\\xd4\\xc8\\xdfn\\x8d\\xcf\\x97\\x84\\xd0\\x9cF1\\xb9\\xf9jW\\xc0\\xaaX\\xd0\\x9e\\x92\\xcfIg\\xa6\\xb3b\\xc6\\x08\\xa2m3\\x00\\xbb\\xb9\\xb6l\\x87\\x12\\xc2\\xb4jm\\xa3\\x15\\x01\\x1cOMg\\xa6\\xb1\\xd3o\\xce\\xaaZ*\\xed\\xfah\\xc6\\xefQ\\x16\\xae\\xfaY\\x87\\xbc \\x18\\xc9\\xba\\x05#\\xa9\\x17\\xd8\\xc7\\xc6S\\xe6\\xc4=\\x92\\xbe\\x8a\\xfa\\x87@%J\\x95*e\\x1e\\xc3\\xf0\\x7f\\xff\\xc4\\x00(\\x11\\x00\\x02\\x02\\x01\\x03\\x04\\x02\\x02\\x02\\x03\\x00\\x00\\x00\\x00\\x00\\x00\\x01\\x02\\x00\\x11\\x03\\x10\\x12!\\x04\\x131@ \"AQ02P`a\\xff\\xda\\x00\\x08\\x01\\x02\\x01\\x01?\\x01\\xff\\x00M\\xb8\\xfdXCU\\x07Q\\x91\\xc5\\x88\\x9dA>D\\\\\\xca\\xde\\xd1;E\\x99\\x93\\xacm\\xa7h\\x9d#\\x13\\x93\\x99\\x9b\\x10qsn\\xde\\x0c_0\\x0f3\\x10\\xa4\\x1e\\xcfQ\\x9b\\xb8)|D\\xe7\\x15\\x7f\\xd8\\x98\\x8a\\r\\xf0\\x1b\\x17\\x16\\xab\\x98\\xc41\\xb1*\\xe0\\xf1\\xecu,U8\\x80Lt\\x88Z\\xbf3\\xbe\\x8e\\xb4\"\\nY\\x99\\t^&%o\\xccA^\\xcb(aF6\\x13\\x8c\\xc4KVY\\x87\\xa7ek0\\x08D\\x1e\\xd9\\x00\\xc5]\\xb7\\x18\\xed\\x80\\xc2e\\xf3\\x01\\xbfs+_\\xd0@lj\\x86\\xbd\\xc7\\xc7\\xb8\\xdc!\\xee\\xc4\\xfb\\xfe\\xa6\\xdf\\xde\\x8b\\xef\\r\\x17\\xde\\xf1.)\\xff\\x00\\x00\\x04\\x1e\\xd1\\xf1\\x14\\xe9prt\\x1e=\\xbb\\xdaf\\xe9\\xba\"\\xdf:/\\x8ff\\xb4\\xc8.s\\x00\\x8b\\xfdt\\x1e\\xa30Qfw^\\x0c\\xaf;\\x8f;\\x8f\\xfb\\x8a\\xce\\xdf\\x9d3\\x12<A\\x90\\x89\\xdc\\x83)\\x8al\\\\\\xbe#3\\x03\\xe6\\x1c\\xad;\\xcd1d\\xde9\\xfevp\\xb1\\x9bw\\x9doM\\xc0@\\xe2;\\x83\\xe2y\\x95\\x16\\x07\\xdb\\x17 \\x1c\\xc2\\xe0\\xe9p\\x1a\\xe6c\\xca\\x1a_\\xf2\\xe5?\\x7f\\x8d\\xfc\\x07\\xc0\\x99r\\xf5\\xc0~\\xe3Q\\xf1\\xff\\xc4\\x00@\\x10\\x00\\x01\\x03\\x02\\x03\\x04\\x06\\x07\\x06\\x04\\x06\\x03\\x00\\x00\\x00\\x00\\x01\\x00\\x02\\x03\\x11!\\x04\\x121\"2AQ\\x10\\x13Paq\\x81\\x05#3B\\x91\\xa1\\xb1\\x144Rr\\xc1\\xd1@C\\x92\\xa20Sbc\\xe1\\xf1 \\x80\\x83\\xff\\xda\\x00\\x08\\x01\\x01\\x00\\x06?\\x02\\xff\\x00\\xd1\\x9b\\xd9\\x08\\xfe\\xd2\\xc7Hm@\\x7fU\\x9d\\x98q\\x89\\x8f\\xfd\\xa7\\x8a\\xad\\xa9\\xfe\\xce\\xfe1\\xce\\xd2\\xd2\\x10|n\\x124\\xfb\\xcc5\\x1d\\xb1\\x99\\xee\\x0co2\\xb3f\\xab{\\x90\\xea\\xa6\\x9b\\xec\\xc7\\x83\\x1d\\xa2.vi$7\\xdb\\xd4,\\xf0\\xcb\\xd4\\xca\\xdd\\x1c?U&\\x8d\\x9e\\x1d\\xa3\\x97\\xf9\\x8c\\xe7\\xe4\\xaa\\xe96\\x86\\x87\\x8a\\xa6y#?\\xed\\xbb*\\xebc\\xc6I\\'t\\xce\\xcc\\xd2\\xba\\xacS:\\x894\\xcc\\xcb\\xb5\\x074\\x874\\xe8G\\x1e\\xd3\\xbb\\x80\\xf1(\\xc5\\x9f\\xac\\xc4i\\xd5\\xb2\\xf4\\xf1Ot\\x92\\xbb3m\\xb7jx\\'\\xc7|\\xad\\xddw0\\xa8\\xe1~\\x14D\\xbe\\xe2\\xbb\\xdc\\x827\\xd3\\x8dTs5\\xb5tn\\xad;\\xb9-\\x82>\\xcf>\\xdc\\x7f\\xb2\\xff\\x00W\\x03\\xc5>\\x17:\\xe0[\\xbd:\\xa6\\x81c\\xc0\\xcc\\xd8c\\x0cn_t\\xbbR{I\\xcf\\xb6m\\xd6\\xd7\\x9a9\\xdc\\xe7H\\xfbf\\xaa\\x99\\xed\\xdafm\\x8a\\xa2\\xd1B\\x1bl\\xdd\\xe9\\xec4\\xa6\\xb5\\xafF]\\x01\\xbb\\x8av\\x19\\xd8\\x89\\x9e[\\xa0\\xa6Z\\xf9\"\\xf81 ?\\xfc\\xb9\\x88\\xbf\\x9a\\x93\\x01\\x889\\x1c\\xd3X\\x9e}\\xc7\\'1\\xc2\\x8en\\xcf\\x81U\\xd5\\x17\\xe9\\xfa)d#jI\\xb5\\xe7@;E\\xd2H\\xe0\\xc67R\\xb38\\xd8n0{\\xa8;5\\x08\\x06\\xeb\\t\\xd5\\xd2\\xf1\\x85\\xd7J\\x08\\x88\\rTr\\xb33#\\x97\\x9f\\xd7\\xa1\\xee\\x1b\\xc0Y}\\xa3/Zt\\x8d\\x8e\\xb0\\'@\\x16&91,\\xc4\\xe4q\\xa9e2\\x1arM\\xc5f\\xcc\\xda\\xd8\\xa17\\xb9\\x88hx=\\xfcW\\x8a\\x15\\xe6\\xb0\\x98w{@\\xdc\\xcf\\xfc\\xc6\\xe7\\xb4\\x1c\\xe7\\x1a5\\xa2\\xa4\\xa6\\x8d#\\xe0\\xdeI\\xcf4\\xe4\\x13\\x9aF\\xb5XS&\\xd3!i.\\x1c\\xef@\\x9d\\x82\\xc4z^\\x1c<\\xe3\\xf9lf\\xcbO\\xfa\\x9d\\xc1K\\x86\\xc6e!\\xbb\\xa5\\x97U{\\xf3\\xbd\\xa4\\xb4\\xf9)Y\\x19\\xa3\\xcbM\\x13\\xa3\\xd2Q\\xa8<\\xf8\\xd5\\x16\\xc5\\x1d\\xddm\\x91u\\x87\\xc3\\xe6k\\xa4\\xa9.\\xa7\\x02\\xa4\\x85\\xd5\\xebp\\xce\\xcc\\xda\\xf2\\xe4\\x81\\xd6\\xbcT.ssa\\xf0\\xfe\\xb5\\xff\\x00\\xa0\\xf8\\xf6\\x8f\\xd9\\x81\\xefw\\xec\\xb3|\\xf9(\\x19\\xc0\\\\\\xa7\\xde\\x99A\\x1f0\\xa5\\xc1@\\xd2s=\\xc5\\xc4{\\xa0]c=\\x18\\xde\\xa8G\\x8a\\x00\\xbaW\\x0b\\xb9\\xbd\\xc7\\x92\\x867\\xed9\\xf9\\xda3|\\xbe_Dd\\xa1\\xa4\\x929\\xdd\\x1fj\\x89\\xbdV#\\xf17\\x8f\\x8aso\\x14\\xcc;M\\xd2\\x89\\xa76\\xd05\\xef(\\xc7\\x13s9\\xee 3\\xf1w#\\x17\\xe16\\xf0P\\nz\\xe9\\xda&\\x94\\x9egA\\xe5\\xda/\\xeb8\\xba\\xad#\\xdeNk\\xd32\\xd8:\\xd6Xx\\x8dv\\xa4c\\t\\x02\\xf4/^\\x92\\xc0K\\xbc\\xc7\\x1c\\xa7\\x98\\xff\\x00\\xa4\\xee\\xad\\xcf\\x8d\\xba\\xba0*<\\xab\\xa7\\x92\\xca+L\\xd4\\xa9\\xb9Ma\\xd3\\x87E\\xd31\\xd86\\x17p\\x90\\x03\\xc1nP~:\\'N\\x05\\x98\\xca\\x83\\xfe\\xa4\\xecG\\xa3\\xa2\\x12g\\xa9ty\\xb2\\xd1\\xdcO\\x81Q\\xb4\\xd8\\x864|\\xbbD\\x16\\x8a\\xcd\\x11\\xcc\\xc1\\xcf\\xb9\\x163\\x7f\\xbf_\\xfbT\"\\xa6\\x96Q\\x87mRl<\\x9f\\t)\\xfa\\xac/\\xa5\\xa3n\\xef\\xaa\\x98\\x81\\xc3\\xdd)\\x98\\x80hM\\x88\\xefXVR\\xd9\\xb3UQ\\x1d\\xaa\\x10\\x8b\\x1d\\xb5\\x1eZ\\xe6e\\xd6V\\x10\\xea\\xf9\\xa9\\x0cl\\x0c\\'R\\x9b\\xde\\x0fj\\x1cN\\r\\xc2<O\\xbc\\xc3\\xbb\\'\\xecS\\x86WE$[\\xedv\\xf0)\\x94\\xb8-\\x1fP\\xa6\\x82Q\\x9a9*\\xd7\\x05\\xf6y$\\xeb\\xb0\\xef9\\xa3q\\xd7\\xc0\\xa7<\\x0b\\x95,\\xc4\\x03\\x1b/\\xde\\x88\\xc3\\x12r\\x9a\\xea\\x8bs\\x96\\xb9\\xbc\\x93\\xa0\\x9cfp\\xb9\\x7f\\xd1\\x07{\\xa6\\xd5#R\\x81s\\xb8S\\xcf\\xb5A~\\xc4\\xed\\x1b\\x13\\x0e\\x1d\\xc7\\x98QC8\\xca\\xf1#Z9\\x10^.\\x11\\xf1U\\x16{6\\x9aS\\xe4\\x8bn\\xd6n\\x97N\\x88\\xbf\\xab\\x95\\xd4\\xad>\\x8ah\\xd8%d\\x05\\xe49\\xe1\\xbcG3\\xc1T\\xba\\xfcI^\\xaaJJ\\xe1R\\tXxd\\xf6\\xbae\\xa6\\x9e<\\x96;\\xa9\\xa8\\x92\\x95m\\x0f\\x7f\\x02\\xa2\\xc4>\\xd3\\x8fW(\\x1f\\x8c~\\xfa\\xf9\\xf6\\xae\\x1b\\x13+I\\x92\\x0b\\xb6\\xf6\\xee\\xafN/\\t\\x88{\\xdf\\x11\\x93\\xd5\\xe6Y\\x86\\xd3\\x0e\\x94E\\xfb\\x928\\xd0\\xbd\\x96\\xaf\\x8a\\x19\\xde\\xdaj3\\xe8Tna`\\x90\\xbb\\x89\\xe3\\xdc\\x88\\xeb:\\xd9\\xb7]#l\\x1b\\xe0\\xb1Q\\xbe\\xc1\\xec,X\\x8c\\x16#\\xda\\xbc\\x82\\xd9\\x7f\\x1fw\\x8flE\\x1c9I\\x81\\xbbT5.\\xf2N\\x0c\\xd0\\xf0N\\xaez\\x9e$\\xe6Y\\xe4p\\'@rT\\xfdVHb\\x0c#\\xf9\\x9e\\xf1\\xfd\\x90\\x00\\x0f53\\xdd\\xa3c.?\\x04\\xe94\\x91\\x8c\\x19_\\xc8\\xd5\\x07\\xfb\\xdcGkI\\'\\x1d\\x1b\\xe2\\x9d\\x8d\\x11\\x99[\\x05#\\x90q--\\xbf\\xd5E$d:76\\xad-\\xe2:+\\x94\\xdb\\x9al\\x8f\\x19i_4\\x06\\x84|\\xd4\\x9e\\x8d\\x84\\x1d\\x9779\\xe6y \\xd7\\x0fXNg~\\xc9\\xb9ok\\x8ea\\x07\\xb4\\xd5\\xa7\\xb5Z\\x1f\\xba\\xdb\\xd3\\xbdK\\x8a\\xc3\\xc0f\\xa8\\xa4\\x8cf\\xf5\\xbd\\xe1\\xcdz\\xd8$\\x93\\xd1\\xa5\\xd4\\x8d\\xc4Y\\xa7\\x8d\\n\\x96B\\xec\\xa5\\x9e\\xe9\\xfa\\xa7;\\xac\\x06\\xf55<9\\xa9v\\xf3?V\\xb4,\\xb8h\\x8b\\x9d@\\x18\\x00\\xd4\\xf1Rcqw\\xc4\\xcaK\\xe8=\\xdf\\xf9WVF?q\\xd7\\x03\\xbf\\xb5\\xb3R\\xe8\\xb4\\x80Zu\\x1c\\x11|a\\xd87\\xf3\\x84\\xdb\\xe0\\x88g\\xa4\\xea\\x08\\xcb\\xb7\\x19\\xd3\\x92\\xf5\\xf8\\xc2\\xe1\\xca6S\\xea\\x9d\\xd5F\\x1bMdu\\xc9Y\\x80\\xb3\\xac\\xb9w+k\\xcd1\\xdc\\xbb`\\xd1?7;tE\\x0bl\\xd2\\xeb\\xf8&SJ#\\xdeUi\\xd0\\xd3\\xccv\\xc7zs\\x95ku\\xd5\\xbe\\xc5UV\\xb4VQ\\xf8v\\xbe\\xab\\x90E\\x8cAf\\xfc![Us\\xd1\\x93\\x8b{Z\\x95\\xe8\\xb7M\\x06\\xa8R\\xee\\xfc#\\x8a\\xab\\xb6]\\xc4\\x10\\xb6n\\x83\\xb8i\\xda\\xa47+\\x8f\\x11Tu\\xcd\\xc0pA\\x1a\\xaf%\\xe4\\x89&\\xe8\\xbd\\xc6\\x94\\x15\\xaa\\xf5{n6hE\\xf2;l\\xf41\\xdd\\xdd\\xa9\\xd6R\\xeah\\x18\\xf1X\\xe3k\\x8bx\\xab,\\xbb\\xdd\\xcb\\xf4Y\\x88V\\xe2\\xb1\\x84k\\x91\\xc8G)\\xaeC\\x96\\xbd\\xc8\"\\x87\\x89\\xedB\\x9d%}\\xb44?\\x15e\\x9b\\x8ai\\xefT\\xa5\\xeb\\xc5s\\xaat\\x7f\\xe6\\x15-\\xb5\\xbahE?\\xf3v\\xa3\\xbb\\xa8T\\x0e\\x16%\\xbc\\x10+\\xc1jG\\x9a}\\xc8\\x15\\xe2\\xbc\\x13@\\xd0\\x14\\x0f\\x1aS\\xa6V\\xf8\\x1e\\xd1\\xa8G\\xbb\\xa0\\x8ej.\\x05\\x82\\x8a\\x87J\"G\\x14\\\\t\\xa5h\\x89\\xaf2B7\\xd5U\\x07\\x8d\\x19\\xf3\\xe8\\xeeS;\\xcb\\xb4h\\x9cx8t\\xfd\\xa5\\xbb2\\nTs@id@7\\xd7\\xcdeg\\xbd_\\x82\\xbe\\xf1\\x17*\\x8a\\x84\\xe5\\x1a\\xa6\\xb1\\xa2\\x8d\\xe8,\\x02\\xa4\\xa9\\xabc\\x9f\\xb4j\\xab\\xd2\\xf0mUPj\\xdeE~\\xeaW\\xfb\\xb9r\\x8f\\xd5\\x16\\xb6\\xe5\\\\\\x97\\x14\\xff\\x00\\xca\\x9a\\xa9KsA\\xc3P\\xa5a\\xe3~\\xd2\\xa2\\x1d\\x14\\xa5\\x914R\\x9d\\x03\\x02\\r\\xcb\\x95\\xbc\\xca\\x0c\\xd1Th\\xa4w3EUQ\\xd0$\\x1c;&\\x80f^\\xcf\\xe6\\xbd\\x9f\\xcd{/\\x9a\\xf6\\x7f\\xdc\\xbd\\x97\\xf7/e\\xfd\\xcb\\xd8\\xff\\x00r\\xf6#\\xfa\\x93Z!\\x15\\'\\xf1t\\x93\\xef\\r\\n\\xc8\\x1f\\x87\\x07\\xf1\\x06\\xb9Q\\xcf\\x8f\\xbe\\x80\\xdd\\r\\xcbx\\xaa\\x9a\\x0f$Z\\xe6\\xf5\\xa3\\xbc\\x95\\xd5\\xfd\\x8a\\xbck\\xd6\\x7f\\xc2\\xfb\\x9d?\\xfa(_\\x97#\\x9c\\xda\\x96\\xf2YI\\xd5P\\xe8\\x9c\\xec<bG\\x8b\\xe4\\xad*\\xb2\\xbb\\t\\x95\\xdc\\x8b\\xd7\\xddG\\xf5\\xaf\\xba\\x8f\\xeb_v\\x1f\\xd6\\xbe\\xec?\\xad}\\xdb\\xfb\\x91\\xa6\\xcb\\x86\\xad=\\x81\\x91\\x82\\xbc\\xcdh\\xbd\\x98\\xfe\\xa5\\xb9\\xf3\\\\\\x96\\xf1\\xa2\\xdew\\x9a\\xd5j\\xb7\\xca\\xd4\\xaa\\x9d\\xf7s\\xe0\\xa0\\x8d\\xe7\\xda\\xbb#|Uu\\xeeA\\xf4\\x14ssQ=\\xa4\\x90k\\xa0*\\xc5\\xc7\\xc9_?\\xc0\\xadd*\\xd9\\xbc\\xc2\\xda\\x15ZQ8\\x13|\\xad\\xb2.y\\xca9\\xad\\xbd\\xf6\\xec\\xba\\x88F\\xe9[\\xb4\\xd3@]t\\xd90\\xc5\\xb8\\x9d\\x9a\\xb6V\\x1a\\xb5\\xd4\\xd5\\xbe+u\\xabq\\xabt-\\x16\\x8a\\xadU\\x1f\\xc7[\\xa3U\\xaa\\xd5j\\xb5Z\\xad\\xe5w\\x15&\"G\\x11\\x1cM/w\\x92\\xc4zG\\xaf\\x06\\x175\\x91\\xb3!\\xafX\\xfaf?\\xb7\\xc5a\\x1c\\xc3\\x9f\\x0c\\xe7f\\x8d\\xc3\\x8f%\\x8f\\xf4k\\xde\\xf6\\x9c\\xeedg\\x98\\xa7\\xd5Q\\xf8\\x97\\x96hok[N_\\xba\\x9d\\xe2b\\xdb\\xea\\x17\\xdf^~+\\xef\\x8e\\xf9\\xaa\\x1ca?\\x15\\xf7\\x97|\\xd5\\xb1\\x17B\\xae\\xa3\\x87\\x16\\x9a \\xe6\\x90\\x08Ra\\xa0c\\xcc\\xda\\x89\\x1c6TX\\x89fk:\\xe8\\x86l\\xa7y\\xc3\\x90R\\x16\\xfa\\xa90\\xf0\\x97\\xc2\\xf0\\xeb\\xb8\\x8ejHp\\xddS\\x04Q\\x0f_\\x19\\xa3] 6\\'\\xe9\\xe0\\x89\\xc9J\\xde\\xcd\\xb7N\\x83\\xe3\\xd3c\\xe5\\xfc~\\xbd:\\xadV\\xabyj\\xb5Na\\xd1\\xc2\\x857\\r\\x14\\x92\\xe1\\xa3k\\xcb\\xc6GV\\x84\\xf8\\xac<m\\xc6\\x12\\xc8Nf\\x83\\x10\\x1f\\xafzv(zE\\xfde\\xff\\x00\\x94-^WB|T\\xd8\\x8cD\\x83\\x8e`\\xd5H\\xe2\\xf8\\x9a\\xab\\n.+R\\xb8\\xf4h\\xb4U\\xa5\\x17\\xad\\x82\\x19\\x7f4`\\xa2\\xe8\\xb0p4\\xd2\\x95\\x0c\\x0bg\\x07\\x87g\\x83\\x02\\xb0h\\xf0Z\\xad\\xe6\\xfcV\\xf0\\xf8\\xad\\xe1\\xf1[\\xe3\\xe2\\xb7\\xbekyP8\\x13\\xc8\\x1f\\xe2\\x9b\\xf9\\xc2\\xd4\\xadJ\\xde+x\\xadzlV\\xf1[\\xc5j\\xb5+U\\xed\\n\\xdf+\\xda/h\\xe5\\xed\\n\\xf6\\x9f%\\xbe\\xbd\\xa7\\xc9{W/h\\xae\\xf0\\xb7\\xfeA^E\\xbe\\xb5\\x04\\xf8\\x05\\xf8|\\x00U\\xce\\xd1\\xdc\\xb5\\x1eAW9\\xa7%\\xaa\\xd5j\\xb5\\x05C\\xb5l\\x8e\\x1f\\xc57\\xf3\\x8f\\xfc\\xdd\\xd2O\\xf8\\xfc\\x95Szj\\x8d\\x82\\xd3DV\\x9d\\x04\\xa8?+\\xbe\\x9f\\xe3\\x7f\\xff\\xc4\\x00*\\x10\\x01\\x00\\x02\\x01\\x03\\x03\\x02\\x07\\x01\\x01\\x01\\x01\\x00\\x00\\x00\\x00\\x01\\x00\\x11!\\x101AQaq \\x810\\x91\\xa1\\xb1\\xc1\\xd1\\xf0@\\xe1P\\xf1\\xff\\xda\\x00\\x08\\x01\\x01\\x00\\x01?!\\x10B\\x04\\x08\\x10!\\x02\\x04\\x08h\\x12\\xb4\\xa9P\\x86\\x95+\\xe1\\xd4\\xaf\\x8fZT\\xa9Z\\xaaV\\x95\\x1cM\\xe2C\\x04\\x08\\x10!\\xa0hB\\x06\\x87\\xac\\xff\\x00UJ\\xd6\\xa3+J\\x95\\xadh\\x91\\xd0\\xc2\\x10\\xd0 CCCC\\xd3_\\xef\\xaf\\x81Z8\\xd1\\x95\\x0c!\\xa0\\xd0\\x844\\rMCS\\xff\\x00\\x1a\\xa5h\\xc4\\x8b\\x02\\x08@\\x86\\x84\\x08@\\x87\\xf8\\x19p\\xce\\xd9\\x88\\x8f\\xb9\\x88a|\\x8c\\x0b\\xe8\\xec\\x88m\\x1e~\\xe9(\\x94\\xedy\\x06\\xe3\\xde\\xe6\\xc9.\\xb1{\\x93m\\x0fS\\xf0\\xab\\xd2\\xea\\x9e\\x84\\x84\\x08\\x10\\x86\\xa6\\x86\\x86\\x95\\xea6\\xf4\\xa1<\\xe5\\xa8`\\x86,]\\xdc\\xaf\\x92\\xa5\\xe3f6\\xe3\\xab\\x1d\\xc5rW\\xda\\xcc\\x0c\\xdd\\xae\\xaf\\x93\\x99t\\xd1W\\xef1\\xe5Ck\\xdc\\xc4\\x87\\x9f$:\\xf8\\xbbC\\xdf\\x13\\x12&V\\x13\\xdf\\xf1\\x03\\xe6;\\xb7\\xfc\\x93#\\xb5]\\x9e\\x0f\\xf8\\x93\\xd2\\xc7G}\\x04!\\x08hCC\\xe3?O\\xbcQ*&\\xec\\\\\\xfe;x\\x80\\xc2\\xd9\\x1ax8\\x98\\xa1(\\xb6\\xdb_\\x89\\x97\\x81\\xbb\\x07\\xc4xT\\xab\\xa7k\\xdf\\xb4\\xda\\x0e\\xf1}\\x16}\\xa6\\xe2\\n9\\xe4\\xbc\\x92\\xc21\\xea\\x06r\\xfc\\\\\\xcd(\\xc3&\\ru\\xfc\\xc1\\xa4\\xb2\\xd7\\xf4G\\x1a3\\x96`,3sa\\xefTc\\xac?\\xd0\\xc6\\x05\\xc2\\x1a\\x06\\x86\\x87\\xa4\\xf8Ukj\\x0f\\'\\xb7\\xee)\\x87\\xa9\\xe4\\x1c\\xbeb\\x17\\xb2\\xaf\\x97\\x7f\\xfb\\xdao\\x99\\xe0\\xca\\xf0N\\x99\\x95U-\\x9c\\xae^&\\xd7\\xdbK\\xb0\\x1f\\xb8\\xad}T\\xac\\xed\\xbb\\xff\\x00\\xbd\\xa5C\\xde\\xe1\\xe1M\\x98\\xed\\xf9P\\xe8w8\\x89\\xb9\\xc2/!\\xc7\\xcc\\x86\\xb5\\xbd\\xf2m\\nQ\\x9bx\\x84\\n\\xb0\\xbd\\xa5\\xf7\\xbf\\x85~\\xba\\x8e\\x97\\xab\\x88\\xc6T!\\tP\\x86\\xa7\\xa0\\x86\\x86\\x87\\xa4\\x03\\x95\\xac\\x1de\\x1a\\xf8\\x1d^\\xads2\\x10Q\\x98\\xda\\xe1b\\xa3\\xedh\\x14\\xfas\\x17\\xbd\\xbb\\xb0\\x9dG\\xdbx\\xcd\\xe2\\x9e\\xee>\\xa2\\xfc\\xcbI\\xd5p]\\xf7\\x8b\\xf0W\\x91&\\xd3\\xd2\\xdc\\xf8\\x82\\xba\\x0e\\xf5\\x9c\\xe2c\\x18\\x96(\\xc5\\xb6\\xf2\\x1bM\\xa3z\\xd4\\xa7\\xd5\\x19\\'^_y\\x88V#\\xbe.\\x19u\\xfc\\xdd\\xe5\\xafo\\x8a\\xed\\xf0\\x19Q\\x8e\\xda0 j!\\x08B\\x10\\xd0\\xd4\\xf4\\xd4\\xcb\\x10\\x07\\x04\\xb5\\xb47\\xb6\\x0e\\xafv\\x06\\x14\\xd9\\xf7\\xcc\\xbb\\xaf\\xf8K\\xd9\\xcaV\\x14=\\xfaDiXS\\xc3\\n\\xf0\\xd9\\xce%U\\x19b\\x96a\\xafhH\\x88\\xa0\\xad\\xdf\\xaa\\x80hCz\\xc7\\xbe\\xdeo2\\xc3\\xa2_\\xbcm{O\\xc4D\\xb5\\xc4:\\x17\\xcc\\n\\x19\\x07\\xca\\xf4\\xfb\\'\\x80\\xc4\\x1a\\xc4e\\xdb\\x1b\\xdei\\xf2a\\xdf\\x7f\\xf2.\\x8e\\xda.\\x8c!\\x08CCCC\\xd0zM\\x0f\\x08\\xb3\\x1b\\xbfH7\\xba\\xadG/\\xcee\\xdb[~\\xa6\\xfe\\xec\\'\\xa7x^\\x0b\\xfa\\xcaq\\x92\\xd7zI\\x82\\xc0\\xb2\\xc3\\x9b\\x97\\xbd7\\xb3\\x0f0wJ\\xad\\xbd\\xaf#\\xc2m2\\xc5JsV|\\xa3\\xbc#\\x0e\\xbc\\x00\\x17\\x1d\\xfd \\x87B\\x07.\\x9f\\xef\\x12\\xd0\\xe3\\xfb\\xa5\\xe7\\x96y\\xc8R?/\\xbdK\\x99\\xc6Ms\\xc9\\x08\\xddHT_\\x80~}7\\xfe\\'x\\xc7E\\xd4CCB\\x1e\\xa3CR\\x1b\\xcbg\\xf3H\\xe3\\xf5\\x1f^\\x07=3\\xfd\\xf4\\x88(G\\xc8\\xeaD\\re0\\x08\\xc1\\xe0\\xb8\\xb9n\\x81\\xcd\\x87\\xdd\\x12\\xfdbHX\\xee\\x82\\xdf\\xea\\xf3\\x06\\xe419]\\xbd\\xc8\\xc3X0\\xaa\\xa8c\\x10\\\\\\xb5\\xa4\\xee\\xa7\\xb3\\x88\\xa4\\te\\xd8\\xf6\\xdeay;\\x81J{}\\xe2\\xe1\\xaa%=\\xd1xz\\x1c6\\x9b\\xc7\\rd\\x9d\\x10\\x1f\\x19\\xf8.\\xab.\\x10\\xd0\\xd0\\xd0\\x86\\xa6\\xa6\\x87\\xa7\\xf7\\xff\\x00\\x03\\xee>\\xb0\\xaeE\\xb2\\x8a\\x08\\xb7~\\xc8\\xec\\xbd\\xe4\\xdc\\x1e\"\\x8c\\xd6\\xe5\\xe0\\x056\\xd8\\x0b\\xcc\\x16\\xfd\\xa0\\x8b\\xe1\\xb7\\xa3\\t\\xe6q)x\\xda\\x81O\\xab\\x08AA\\x8a\\x96h\\xea \\xdf\\xc8\\xd8y!=\\x92\\xa1\\xa7\\xbc\\xf6\\x1c2oD\\xbel/^/\\xda_\\\\y\\xf8\\x0e\\xb7\\xf1]\\x18\\xc7}\\x04!\\x08B\\x10\\xd4\\x86\\x86\\x87\\xabz\\xf5\\xc5\\xf2\\xbfW\\x9ez\\xcc\\xab\\'\\x876\\x13\\xad\\\\tH\\x02\\xab\\x04\\xeb\\x82:\\x80\\xc5D\\xdb\\xb0&\\x10\\xebU\\xb4\\xb6\\x13\\xda\\xb0\\xaff\\x1d\\x1b\\xacL%\\xcb\\xa5\\x17\\xbbQ\\x00\\x8a\\xb2\\xbe\\xf19X\\xd8]\\xe5=\\xdb\\xafh}>\\xccX\\xeev\\x95!\\xd0w\\xddS\\xc6&\\xde\\xb7\\xd4\\xfa\\xef\\xd0\\xe8\\xc6\\x10\\x84!\\x08B\\x1a\\x90\\xf4\\x1e\\xb1C\\x1c[{O\\xa1\\xf2\\x97\\xb1@f\\x81N\\x89s\\xea_y\\x95Dv\\x89.p\\xc6\\xf3)a\\xdaof\\xc5\\xaa\\xfc\\xb3\\x04\\xcb\\xbfi2r\\x0en\\\\\\xe4\\xdc\\x8c\\xa4\\x0c\\xd1m\\xae\\xaf\\x15\\xed\\x14\\xfa\\xc6\\xca#\\x94r\\xed\\x12(\\x17\\xaaD(\\xf08\\xc7x\\xe3E\\xa3m\\xb8\\xf8\\x14>\\x02\\xef\\xe3\\xba1\\xda8\\x8b\\xa0\\x84!\\xa1\\x08jjhz\\xea-M\\xa4\\xaan\\xd0\\xe6\\x9c\\x92\\xa0\\xb8\\xec\\x957\\xc0\\xe7\\xd8s\\x8e\\xc8\\xf1\\xdeT\\x92\\xb5\\xaa]~`\\xa4z\\'\\xa6\\xc7e\\xf3\\x92%\\xf7\\x82\\xae\\x9b\\x14|\\x99\\x82\\xcc\\xb2\\x1d\\x059\\xf1\\x02< \\xf1\\x8f\\xd2\\xdc\\xb5\\x1d\\xab!1V9\\x9c[\\xe9\\xb2\\n\\xb7\\xd4v_\\xf5\\xa8\\xc3B\\x10\\x8445!\\xa1\\xa1\\x0f\\x84\\xa4<\\xad\\n\\xe9r\\xd8\\xfd\\xc6,\\xad\\x10\\xe3?h\\xab\\x0b\\xb0\\x99\\xef0\\xb1n\\xb01\\x92\\xe9-A\\xf9\\x00\\x83\\x8c5\\xdf\\x83\\xe7.\\xdc\\x0e\\xc5\\xef+\\x8c\\x17\\xfa\\x08I\\x06(e\\xff\\x00K!\\xaa\\x8d\\x85\\xc3\\xfeE\\xf41\\xd0\\xc3R\\x10\\xd0\\x86\\xa7\\xa0\\xd0\\xf8#o\\x89\\xee0~\\xfd\\xa021\\xccs.\\xe3h\\x07%\\xb3p0\\xff\\x00\\x0ec\\xaa\\xbfr6\\x98\\x18\"\\xbb\\xff\\x00\\xae]M\\xd9\\xf4\\x1ecR\\x8a\\x17J\\xc1\\xe1\\xa9^M\\xc4v\\x7fH\\xe8\\xd8\\x841A\\xb1\\xf5_\\xaa\\xfd7\\xaa\\xce51J\\xd0\\x84!\\r\\x0fA\\xa9\\xa1\\x0fA\\xe9\\xca\\xc6\\x0f\\xdc\\x8c:\\xe1u(\\x0e\\xca\\xb0\\xce\\x06n\\xe9\\x1d({\\x0b\\xbcy\\x80 \\xcb\\xc8\\x9d\\x9d!`\\xc5\\xdd\\x83v\\xa2\\xb0\\xaa\\xab\\xca\\xe0\\xab\\xf7\\x1fhI\\xcd\\xcc\\xb92\\xf6\\xa9Ai\\x9b\\r\\x82\\x95\\xf7x\\x8ct\\x94\\x06\\x07\\xb0\\x87o\\xf2\\xb1\\x8ct!\\xa1\\r\\rOI\\xa1\\xe9=\\x06]\\x17\\xae\\r\\xb3\\x070R\\x96\\x8e\\x95\\x03j\\xe7\\x07\\xe7\\xe3\\xe51\\xeb\\x16#\\xec1\\xb7\\xfb[\\x87\\xbae\\xe5\\x06\\xf6\\x8c\\xe5\\xfc@x\\x86D\\xce\\x1b\\xe0\\x8e\\xb2\\xd4\\xbbha\\x18\\xcd\\xd4\\x7f\\xcc\\xc6,\\xb8CCC\\xd0C\\xd4|\\x13r\\x08\\x91\\x8c\\'T\\xe6Q\\x9c\\x14\\xb6f\\xe3\\xa5\\xb1\\x96\\x01\\xe3\\xfc\\xdd\\x98\\x97\\x01G_\\xec\\xcd\\x83\\xc9]:\\xce4v\\x97GI\\xd9A\\x8f\\xc4\\xbfE\\xe9z1c\\x160\\x8445!\\xa1\\xa9\\xe95=;%\\x84\\xb1\\x8f1h\\x0c8\\xc6\\xd0L\\xa0[\\xd4\\xdep\\x15D:\\xd4\\xe0\\xedPH\\xd2Q]6\\xc4\\xc8\\xe1\\xb7\\xce\\x19l{\\xa5-K\\x7f\\xe4\\x86\\xe5\\xcb\\x8cc1\\r\\r\\r\\x08CR\\x10\\xd0\\xd4\\xf5\\xee\\x87\\x0eb\\xe33\\xb97+\\x0b\\xb7H6\\xf8.n)\\xe3\\xa3-\\xc6\\xc1\\xe6_G \\xf7\\xa8\\x1fzc/h\\xf9\\x96\\xdf\\x88\\x0b\\xdfWf1\\x97\\x1fJ\\xcb\\xf4^\\x97.1\\x8b\\x89\\xc4\\xb8\\xb8\\x8b\\x170\\xd0\\x84!\\xa9\\xea!\\xa9\\xeb2,\\xf2\\x12\\x81s \\n\\xbb\\x12\\x81\\xd6\\x0f%\\x9fHY\\xb6\\xdd\\xef\\xde\\x00)T\\x17\\xe2l\\x0b\\x95\\x10\\xc1\\xb9\\x8b\\xb3\\x00\\x8f\\x1d\\xdb2\\x92\\xf5\\xde\\xcd\\xa6[\\x96\\xb7\\x8ef\\x11K\\x97\\xa5\\xe9z\\xde\\x8e\\xb7\\x16^\\xb7.\\xa3\\x167\\xa1\\xa1\\xa9\\xa9\\xeb>\\x0eqp\\xecG\\xa6\\r\\xcc\\x8fh\\x8d\\x99\\x10\\x18`\\x1f\\x91\\x14R\\xbb\\xc6\"\\xdch,,\\xa4\\xb2\\xfe\\xe9z\\xc0\\xf1\\xbc\\r\\x07eq6\\x85\\x9e\\x84\\xf3\\x16#\\x918<B6\\xfd\\xc6Cw/1\\x97\\x16\\xbd\\x17.^\\x97.\\\\\\xb9z^\\x8b/E\\x8c\\xb8CSC\\xd2hi\\x7f\\x05tM\\x8d\\xc4H\\xd3\\xeb<\\xdc0\\x97Lr\\x95;\\xce\\xa0;&m+;6\\xfb\\xcc\\xac*\\xdc\\xe6^6G%\\xb9\\x9fI\\x01\\xea\\xd6\\xf1\\x9ba\\x9e\\xfd\\xd1T\\x9b\\x93\\xfe\\x04\\xf1\\xa0\\xfa\\xc7K\\x97\\x16\\\\\\xb9r\\xe5\\xfa\\x17K\\x97\\x161\\x8cb\\xc5\\x84!\\xa1\\rO\\x80C\\xd5\\xc4v\\xd2\\xe2U2*\\x1fXB\\xabO\\xe2\\x08\\x10\\x01\\x05\\r\\xfbDq7Qs2\\xc5j\\xbd\\x0f{\\x8dd\\xf6\\xab\\xa7,\\xa9w\\x03\\xeb\\x0e\\xf5\\x04\\x07\\xc9,\\xc3b\\xa6\\x03\\x95.\\x9f\\x86\\xab\\xd1t:,\\xb9r\\xea\\\\\\xb9qe\\xc5\\x8b\\x14X\\xc6.\\xf444=\\x045>\\x16%\\xed\\x02p\\xc7\\xbce\\xe8\\xb5\\x7f%\\x969t\\xbf)\\xc1*q\\x08z\\xc2\\xd2\\x83\\xb0\\x9b\\x1foiNZ\\x85Km\\xe6\\xa5Y\\xb1\\xb9:@\\xcf>\\xa24:iA\\x18\\xc7\\x10\\x03u\\xfb\\x9a\\xae^\\x85\\x97\\xa9r\\xe5\\xcb\\x97/E\\xc5\\x8c,aj-\\xc7A\\x08jhz\\x88z\\rHw\\xf4\\x81\\x1b\\x93\\x13y\\xdd\\xa1?\\x93\\n\\x84u\\x92/\\xbc`\\xf0\\x8c\\xcd5O\\xacE>Z\\x1d\\x83\\xf5\\xf6\\x9c4\\x1dC\\xa4?vW\\x18`\\xea`\\xf3Y\\x9f\\xc2Pf\\xf3[w\\x8c\\xb3\\x8cB\\x8b\\x18\\xbfP\\xb9r\\xean\\x8cl\\x97\\xa1\\x8b\\x8b\\x16.\\xf1kQ\\xa1\\xa1\\xe844=\\'\\xa0\\x82\\xc4g5\\x14N\\x12tb\\xc4\\xc9@\\x17\\xb68\\x8e\\xdf2!m\\xdc\\x9e\\xf0\\xb0\\x12\\x01\\xec\\x8a\\xacw7:>lr\\x1e\\xa0\\xba\\x96\\xb9\\x15b\\x8dt\\xbaF\\xaa\\xa7\\xf9\\x8d\\x11\\xdb\\x18\\x95\\x9f\\x90{E\\x16,Yqe\\xfa\\xa1r\\xe2\\xe8\\xbd\\x0c0\\xc3\\xf3NS\\x1d\\r\\x08hhjjz\\xc8j\\x97\\xc3y\\x98o\\x89A\\xc2\\xba\\xa1\\x8e\\xdc\\xce\\xe00M\\xde\\xae\\xbd\\x92\\xb9\\xd9\\xef\\xee\\x14\\xc9\\x18\\xdb\\xf3\\x1d\\xe7{\\xde\\xc4\\xcb\\x1b\\x1f\\x9c\\x7f:~HJxPo@Dab\\xea\\\\~\\x18\\x00cd\\xbdC\\x0eZ\\x1a\\x1a\\x1e\\xb3\\xd0C\\xe0E\\x95\\xcc|3zg\\xabn\\xbe\\x91\\xc0/\\xa4a\\x19\\xa6\\xa0\\x07\\x84nJ\\xa3sJ\\xfd\\xa1\\x86n\\xa2S\\xcf\\x08ht7,f\\x19T\\x1c\\xc2-\\xac\\x16\\xaf\\x10\\xb1\\xd7J\\xc5\\xd0\\xc5\\xc7Q~\\xa00\\xe8*\\xa2\\xc6\\x17A\\r\\x07R\\x1e\\xb2\\\\g\\x84\\xdd\\xb9\\xdbGJi6\\x7f|Jx\\xc7g\\x19j\\xb8\\xfe\\xf1\\x10\\xe0\\xff\\x00;O\\xea\\xbfh`\\x1c\\x0b~%\\xc2\\xea\\xe72\\xb5,\\x1f\\xfaG]!\\x0f\\xa5\\xd4\\xfah\\x91,\\x00\\x1d[\\xa5\\x9cn\\xca[\\xdf\\xce\\x02G\\x15\\xab\\xb5\\x84qU\\xe5\\xfa\\x8a*\\xdd\\xcb\\xca\\x1c\\x10\\xec\\x19WbZ\\x15\\xc7\\xa3\\xf6\\xb7\\xd6#(n\\xe1=\\xaaf~\\xf7\\xf52\\x7f\\x1f\\xa4\\xcd\\xbc\\xff\\x00zA\\xdf\\xe9\\xf4\\x9b\\x95?\\xbd\\xa2\\xd0w\\x03$\\xb8\\xb1u/E\\xc7)r\\xe3\\xa1\\x821p\\x86\\x86\\x87\\xa0\\x84!\\r+\\x06\\xdd\\xec]\\x8c2\\x87%b\\xae}\\xa1\\xfd\\x9f\\xa8q\\x95\\xd9\\x998yG\\x16\\xee\\x96\\x85\\x1b\\xeeS\\xc3;\\xa4\\xbb\\xba\\xc2\\xe6\\xdf\\x96>y\\x0c\\xf4:CDW\\xe6m\\x19c\\xf2 \\'CW\\x1a?2\\xe1\\xc9\\xb87\\xc4Z\\x8cx\\xb4\\x06X b\\xdb\\x1d\\x9a\\x85\\xc1N\\xe4C\\x95\\xd4\\xa9\\x81\\x11\\x02\\x94T\\xeeK\\xbf\\xc4t\\xc5\\xdf\\xa2_hn,Y\\xc9\\xd9\\xdf\\xde\\x1a\\xfa\\x81j\\x9c\\x86\\xe9\\x16\\xdda\\xc5\\xdc=\\x1b\\x9d\\xa3\\x1d\\x8d}\\xa1\\xd7|L\\xdb\\xa6S\\x83\\x02M&4\\xfe\\xa8\\x07\\x8b\\xb7M\\x0c,\\xbd\\x0e\\xa2\\xea0\\xc2\\xc5\\x8a\\\\!\\xa1\\x0f\\x85\\x98|\\xd1x\\xdf\\xcc(~\\xd0L\\xf9\\xa5\\x0eU\\xa1\\x973\\xdaW\\xab\\xe5:\\xdax\\x88\\x99\\x0b\\xfcF\\xd3y\\xdcz\\'\\x8c{z#fJ\\x8b\\xb0\\r=\\xed\\xf6\\x8d\\xd94\\xb4\\xdfR\\xf94\\xf8\\x82U\\xe9\\x86\\xd4\\x03.\\x8c\\xfb\\xbaCK\\xe2\\x06\\x03`\\xde\\x0f\\xb4\\xec~\\xf2\\xf5\\xf3\\x8f\\xdeS\\x97\\xfc\\xeb\\nr\\xdd\\xef\\xf6\\x9bT\\xcb\\x87\\xf0\\xc7:\\x98\\xebE\"7\\x86\\tV`y\\xec\\x1djez9gR\\xdd\\x9b\\xb9\\xb4\\x11\\xf0\\xa5\\xe5\\xc2\\x19*\\x19\\xd4C*\\x93{\\xf9\\xc2$%\\xba\\xdf\\xd3\\xb4\\x08\\xa0\\xf9C\\x89\\xa4\\x958\\x88\\x98\\xf9N\\xc0\\xe7\\xaa\\x19\\xb1\\xbf\\x80\\x01t,p\\x8bF\\xe1\\rM\\x08z\\t`\\xb7\\x13\\x8e\\xa1-\\xd5e\\xdeD\\xf2\\x96\\xea\\xcc\\x9c\\xbep.g\\xbc\\xbe\\x8e\\t\\x8b\\xcb\\xf3y\\xb4\\xdf\\xc1@%\\x88\\xef\\x07\\x85\\xfe\\x08\\xa7\\x1c;B%\\xb4f/\\x93\\x94#\\x12\\xc5\\xe7\\x95\\xcb\\xbbx\\xe2\\x08\\xc8\\x98\\xdb\\x01\\t\\xd7\\xefa}\\xe3P \\xe8T\\xdd\\x84oI\\x1ay{\\xc0q\\x13\\xcb3l\\xa8%\\xd9\\xf9\\xc6\\x94\\xbf\\x02}Ht\\xad\\xdb\\xf5Q\\xccuFi\\xdc\\x8e*\\xbdI\\x03\\x86\\xf8G\\xa7\\xaf$\\xa7\\x8b\\xc9\\x9f\\xf0\\x08\\xfe\\x94\\x97.ol\\xb7\\x8f\\xc9\\x07`w\\xc9\\x10\\x02e\\x02\\x9a\\xdeQ\\xf4[\\x0c\\xbaFU\\x08hjz\\xaa\\xdf\\xcd\\xc7\\xe5\\xfa\\xcc\\xb9~tma\\xd4\\x13\\xb8\\xb8Gu\\x95\\x9b\\xd7yn\\xa8F]\\x8f{\\x96/0F\\xad\\xef\\x98u\\xe7\\xc4\\x19W\\xcf\\x13\\xbf\\xb1\\x89\\xc7\\x9f\\xbc\\xeb\\x03\\xe2\\xe5\\xae[\\xd8\\x86Ebb\\xde_$\\xc5\\xd9\\xf9\\x9b$\\xfb\\x91\\xf0A\\x80\\xaf\\xad\\xff\\x00\\xc8\\x8e\\xfb\\xa5o\\x116\\xf5@\\xa0>\\xd7i[n;\\x0c\\xcc\\xdfz\\xc5\\x0e\\x96\\x83\\xb0\\xfcJj\\xf6\\xc1\\x8c\\xd7\\xcb\\xa5\\x8a\\xbcl\\x02s\\xddX\\xda\\x12\\x94\\x15\\xd0&\\'\\xed\\x82\\xdb\\x07\\x82[.\\xf6n?\\xe7\\xa1:T\\xd0\\xe9:\\x07\\x0f@\\x84!\\xa1\\rH\\xac?\\x96*\\xc6\\x84\\xeeDjY\\xe6\\xe3\\r\\xe3UW\\x88\\x84^\\xdc\\xc4\\x05\\xb9\\xf5\\x96C\\x07>`\\xa1m\\x9b\\x97|\\xc7\\xf7\\x97\\xcfh\\xecyn5v2M\\xccm\\x1e\\x98\\x1b\\xe2\\x1968\\xfbNHm6\\xed0g\\x19\\x98\\xa1\\xb9\\xe2S\\x80|\\xcd\\xab7\\xd61\\xb4\\xda\\xe5dr\\x19\\x9c@\\xaa\\x8a\\xfa\\xc4ZS*\\x9c\\xf2\\xaa\\x98\\xd2\\x9f\\xcc\\xa1\\x1a\\xc8\\xd47&\\xd8\\xbf\\xc1\\xba^^ZZ**ZZl\\x8b\\x15\\x16\\\\\\xff\\xda\\x00\\x0c\\x03\\x01\\x00\\x02\\x00\\x03\\x00\\x00\\x00\\x10\\x19m\\xb7\\xfa\\xff\\x00w\\x1ey\\xc7\\xac5\\xd3\\xbd\\xbe\\xcb\\xbeVG\\xect\\x86)\\xae\\xbe\\xbb\\xec\\xea\\xbb\\xff\\x00\\xd3M\\xfa\\xe3,0\\xc9~\\xff\\x00\\xfb.0\\xe1Lf\\xbe\\xaf0\\x8e\\xde\\xa0\\xeb\\xbf}\\xcbl0\\xcf\\xac+\\xac\\xb5\\x1f\\x1f\\xad\\xba\\xf7m\\xf7w.\\xb1\\xc3N\\xb3\\xc5\\x0f\\xb1\\xfb\\x1dw\\xf84y\\xf1a\\x81\\xff\\x00\\rv\\xcb\\xff\\x00\\xfe\\xcb$\\xfa\\xf3\\r\\x7fom:\\xeb\\x1f\\xfd\\x0b\\x12\\x85\\xd6\\x16\\x8d\\xff\\x00]\\xfe\\xc3\\xaf\\xff\\x00\\xeb\\x1c\\xf8\\xff\\x00\\xee\\x9d\\xe7\\xfc\\x7f\\xeb^\\xb5\\xb4\\xe80\\xbe\\x06\\x0e\\xff\\x00m0\\xd3o\\xff\\x00\\xe7\\\\8\\xc3,2\\xff\\x00\\xfc<\\xeb_\\xff\\x00t~\\xe3\\xfe\\xbc\\xf4\\xff\\x00\\xff\\x00\\xbb\\xff\\x00<\\xb1\\xc3|<\\xfd<3\\xff\\x00\\xfc3\\xeb_\\xff\\x00\\xf2\\x18 C\\x0f\\xb0\\xff\\x00\\x0f\\xb4\\xdf\\x7f>\\xc7\\xee?\\xf3\\x04\\xb0\\xff\\x00\\xfc6\\xe7/\\xfc\\xc3\\x0cbS\\xf7\\x19;<\\xb4\\xcf\\x0c1\\xf3\\xad\\xb2\\xcf\\x841\\xdf\\xcc\\xbf\\xeb\\x1f\\xff\\x00\\xc3\\x19\\xbb\\xa9\\x0ea\\xbf\\xbe\\xf3\\xf7.\\xfb\\xd3N\\xfdC\\x1es\\xcf<>\\xeb\\xdd\\xf3\\xc3\\x1eC\\r\\xae\\xba+\\x0cyS\\\\0\\xcfO=\\x7fn\\xff\\x00\\xfb\\xcf\\xbc\\xe3\\x1f\\xfb\\xcf\\x1d\\xdfPN\\xa7\\xdd_\\x9bE}x\\xc3\\x0e\\xb0Cw1\\xf7<\\xf0\\xf3\\xed6\\xefL\\xd2\\xbc4g\\xc1\\xad3e;\\xf9\\xc3\\x1e\\xfbs\\xafr\\xd7=\\xfe\\xd3|5\\xde+\\x92\\xd7K4\\xa2K\\x91d\\xd5\\xfb\\xe7\\xbd>s\\x0c\\xb4\\xf3\\xcc<\\xf3\\x1f~\\xcd\\xe0\\x94\\xab\\xc5*\\xb4\\xa1J\\x1c\\x96\\x1dG~\\xf6\\x7f\\xfdY\\xcf\\xcf~\\xcf=\\x7f\\xf7\\xb6\\xbc\\x7f4-_\\x83J\\x1c\\xd2\\t.@\\xee\\xff\\x00\\xae>\\xc7<\\xb0\\xcc8\\x81O}\\x11\\xd7\\x92\\x9f\\xccH\\x06\\x14\\xf2\\xcb,\\xbbe\\x82O2\\xd7\\xdf\\xfcQ\\xe5Sv\\xd0\\xed\\xf7\\x81\\xc5O?\\xd8W\\x10\\xec\\xac\\xc2l\\xb2]\\xf0CL\\xf5#\\xef\\xb7OtuX#\\x1cr\\xd2\\xd4^\\x979\\xa8\\xe2\\x8e\\x82\\xff\\xc4\\x00(\\x11\\x01\\x00\\x02\\x02\\x00\\x06\\x01\\x04\\x02\\x03\\x00\\x00\\x00\\x00\\x00\\x00\\x01\\x00\\x11!1\\x100@AQa\\x81 q\\x91\\xb1\\xa1\\xc1\\xd1\\xe1\\xf0\\xff\\xda\\x00\\x08\\x01\\x03\\x01\\x01?\\x10\\xe3P\\xe9u\\xc9\\x0emJ\\xe5\\xd4\\xa9\\\\k\\x9a:\\xbe\\xd0\\x1b\\x00\\xfa\\x97\\x04\\xfb@{<\\xcd6~\\xd2\\xab\\x99R\\xb9\\x82w2\\xbb\\xf1\\x7f\\xdd\\xa2\\xa0\\xd5L\\x93\\x89Sl\\xae]\\x98\\x8a\\x9e\\xd2\\xc1\\xd4\\x05\\xb5\\t\\x99\\x17\\xf1\\x19\\xf6\\x1f\\xdc@\\x92\\x92>\\x80\\xc1\\xe3e\\xa5\\xd9\\x7f0J\\xbd\\xa2U^\\xa3\\xd5\\x85\\x84`\\xb29\\x86\\xae\\x1d7\\x81\\x15\\x1dfih\\xb8y\\x9d\\xfa\\x90m\\x92x\\xfb\\x1b\\xc7\\xff\\x00\\x99\\xb5\\xaaMnX\\xcc\\xae\\xf5n\\xefiG\\xd22V\\xc8\\xd1\\x0c\\xe4\\xe0+\\x9d=a\\xa9\\xd6\\xf5\\xd8\\xee\\xfcb \\xb1\\x86X+F\\xdfD\\xd7\\xd1\\x8f\\xc4\\xa7\\xaa\\x0b\\x89j4\\x87\\xce\\xf7\\xe6\\x1f&V\\xeb\\xcfs\\xfa\\x80T\\xfa\\x08\\xfd\\x91e\\xf3ow\\xfdK!\\xae\\xb4\\x1d\\x10\\xe2n1\\x9e\\xb0*\\x85\\x97)\\x8c \\xc6z\\xb0\\xb6\\xa2*\\x99\\x94\\x10j\\x06/\\x84\\x14\\xfd\\x01q+\\xa3\\xa5\\x82\\xa3\\xa3\\x03\\x10\\x8c,\\xe2+%\\xe6n\\x94\\xc0\\xc4\\xae\\rtc\\xdb\\x80\\xd3p\\x02\\xa5\\x04(\\x864\\xdc7\\x05\\xaf\\xa6\\xae%tA\\x0e\\x16\\x84\\xc0\\xb9H\\xc5o\\x83\\xcb\\xb4\\xb7$@d\\xf4\\xcfO\\xee\\x1e9\\xacf\\x00\\nn\\x10\\x03Q/\\x98\\x14\\x97.\\xa1Md\\x18\\x11i\\x0f\\x14\\xf5\\xcb\\xf6i\\xe7\\xb9\\x88C\\x132\\x9f2\\xab\\xbc\\xcf\\x98 \\xa3.\\t\\xf3\\x11\\xf6;A\\xadC\\xcd\\x1a7\\x04\\xc3O\\x98\\x80\\x04\\xa9\\x8dX\\x10\\x16\\x00\\xecL\\xa1\\xaeu\\x83\\xee\\xf0U@\\xccB\\x07s\\x04!GiD\\x02\\xa6\\xd03\\x06\\xe0Hp)\\x0b\\x07#\\xff\\xc4\\x00&\\x11\\x01\\x00\\x02\\x01\\x04\\x02\\x02\\x02\\x02\\x03\\x00\\x00\\x00\\x00\\x00\\x00\\x01\\x00\\x111\\x10 !0AQ@a\\x81\\xa1\\xd1\\xf0q\\xc1\\xf1\\xff\\xda\\x00\\x08\\x01\\x02\\x01\\x01?\\x10\\xdd}\\xc4\\xb9}\\xf7\\xf0\\x8f\\x8dK\\xa8\\xe4\\xb5%\\x92\\x0f\\xaf\\xfb\\x06\\xaeB}L\\x1b\\xdeq/\\xe0\\x9ab\\'\\xed\\x17\\xf7\\xcc\\xb5,\\xfe\\xe2Js\\x1bie\\xff\\x00\\xc8\\x86\\x1fiP\\xea\\xbd\\xd7\\xd0\\xb4[\\x1d\\x1a\\x87\\xeer\\x97\\xf5P\\xf0)<N\\r\\xe4\\x96\\xdf8\\xd0p\\xd7\\xe2\\r\\x01\\x05\\x00\\xeb\\xbd\\x97\\xd3@\\xf2ya\\xaa8\\x85%\\xa8F\\xa0\\xe5\\x94\\x06\\x82\\xba\\xe9\\x9e\\'\\x95\\xe3\\xb6\\xfb\\x11\\xe2g\\xd4`\\xfb\\xcf\\xe29\\xe1\\x06Y(\\x94\\x13\\xbf\\x9e\\xc0)%\\xe8\\x14.\\x19S\\x02\\xb4\\x00Y\\xda\\x15\\xa3\\xda\\xca\\xces\\xfc\\x11\\x05\\x8e%\\xd72\\x85A\\xee{L\\x0e|\\xc2%\\xb3\\xd39zA-\\xa8\\x150\\xec>\\x03\\x98\\x94hI\\x9b\\xd8w2\\xf8\\x8b\\x15J\\xd0\\xdc\\x957\\r\\x86\\xf3G\\xb1\\x8bPo\\x98\\xbe\\x08\\xdb\\x19TVm\\xbd\\xc7s9\\xa9\\xe0\\x8f\\x11\\xa9N\\x82\\xb8\\xd2\\xbd\\xa6\\xd3\\xb5\\xc4\\xbe+E8\\xc6\\xf1\\xb3R\\xa5\\xa3\\x8e\\x80\\xd8k}n\\x8b\\xd6B\\xd3\\xdf\\rh\\xc3\\xa0\\x97\\xd8\\xa1nF#,\\x13\\xce\\x81\\x8fIc\\x89B\\xa8\\x075/*U\\xc1\\x88\\xc9\\xee*\\x08\\x0f\\x98\\xfb`Q\\x91\\xb4\\xea\\x07\\x9c\\xc6w\\x05A\\x08\\x0fR\\xcfP\\xa2$%\\xaf\\xe30\\x93\\xce+\\x94D\\x00\\xc6X\\xb2*\\xa1\\xb9\\x8d%\\x93\\x84WG\\x98-9\\xd0s\\xa8\\xd6\\xd7eL\\xfa?\\xdc\\xba\\x97,\\xa6\\x0b\\x17\\x89p]\\x12\\xc5b\\xb5\\x15\\xa9\\xc3\\x17\\x15\\xe2[-\\xa8\\x86\\xe8i\\xff\\xc4\\x00(\\x10\\x01\\x00\\x02\\x02\\x02\\x02\\x02\\x01\\x05\\x01\\x01\\x01\\x01\\x00\\x00\\x00\\x01\\x00\\x11!1AQ\\x10aq\\x81\\x91 \\xa1\\xb1\\xc1\\xd1\\xf0\\xe1\\xf10\\xff\\xda\\x00\\x08\\x01\\x01\\x00\\x01?\\x10j\\x880g\\xc1\\x81\\x9b&\\t\\xcaU~\\xe6\\x06l\\x83\\x10*\\xfc\\x80\\xb8x\\x05\\x0c\\xd1\\x81~@\\xaf\\x15\\x02\\xe2T\\xac_\\x80\\xb8\\xe3\\xf4\\x95\\x12\\xbc>*%D\\xdc\\xa9Q\\xe6%\\x11,c\\x0e\\xa53\\xdcb\\xf9\\x947r\\x91\\xa5\\xc6\\x13\\x0cc\\xee\\x88\\xc6F\\x05jd\\xc96\\xe2z&\\x06\\x030&\\xcc@\\x83\\x0c\\x1b\\x985\\x03w\\x04\\x0e\\xe0u\\x02\\x06\\xeeQ\\x03\\xa87\\xe4\\tD\\xa9\\xa9R\\xa5\\x10*%\\xbf\\xa1\\xaf\\x0c\\xacJ\\x89\\xe1\\x88\\x030\\xc7Q\\xdai\\x9c\\xc4\\xc3*a\\xc4\\x1b\\x96\\xe72\\xb7\\x11\\xd4\\xc2&\\xe2\\x13\\x94B\\x07\\xdc\\x14\\xb5\\x10\\xbc\\xcbM\\xc1\\xa9\\xca\\x1a\\x81r\\xa1.`\\x9c\\xa0M\\x18\\x154\\x81~\\x01p*\\x1e\\x08\\n\\xf0\\x16@\\xaf\\xff\\x00$\\xaf)_\\xa1\\xf0\\xed\\x89q6J\\xa8\\x958b\\\\M\\xc6\\x12\\'\\x11*&\\xe2T\\xac\\xdcy\\x8cT9Qq6\\xcc\\x8e\\xa2\\x19A\\xa9V\\x0c\\xcaf\\x0c0:\\x83\\x10n\\x08\\x1dM\\x90*\\x07Px\\x0b\\x985\\x03w8\\x81\\xa6\\x07~w)\\x81\\x7f\\xa6\\x9f\\x0f\\x832\\xc9\\x86T\\xeeT\\xa6&\\xe5D\\xc3*Tv\\xc6&\\x18\\xc4\\xc4M\\xc6&\\x18\\x91\"n(\\xf70V\\xe36H\\x14\\x84AHE\\x93#\\x06`\\xdc9\\xa8\\x154\\x9b \\x98\\x19\\xca\\x10*\\x07\\x80\\xa8>\\x02\\xe0W\\xe8\\x0f\\x01QW\\x82]\\x05t\\x12\\xd0)\\xdf\\xfbJ\\x80\\x8d\\xc2\\\\\\xa0\\xa6\\xb5v\\xf1pH\\xbb\\xbe\\xe3\\x85_Qc\\xc6Vo\\xc1\\xa7\\xa5 \\xf3+#\\xe0XJob|\\x9e4\\x8bP.\\'\\x84\\xdcU6D\\x8e\\xa2n%\\xc7LL\\\\u\\xe1\\x84\\xdcH\\x91\\xdb4\\x9c1\\x98\\x17\\x98\\xe6\\xee!\\x9a3I\\xab\\xe0\\xc0\\xceSH\\x15p\\xd4\\xd1\\x81SH\\x17\\x07\\x80\\xb0(\\xa8\\x17\\x0f\\x17\\xfaN\"\\xbfjN/\\xa3\\xb7\\xd1\\x98;\\xe4\\x08\\x07\\x9b\\x8a(\\xb7#p\\xd5\\xd3&\\xaeg)\\x9f\\xd5\\xbb<\\xbe\\xfd\\xc3\\x90\\xca\\x8dA\\\\\\xfa\\xf4\\x99\\xce\\xf8C\\t<`\\xca\\x00\\xb3Qk\\xb7\\xe2o1J\\x890yF\\xea\\xc34\\x8e\\xcb\\xf3Z\\xa3o2\\xadzr{\\xe5\\x82\\x9d\\xbc\\x07\\t\\xa9\\x8d\\xd1\\xf8\\x80!\\x05\\x85;M\\x1c\\xdeB\\x1bZ\\xa7\\x9b\\xb0\\xc2D\\xb8x\\xaf\\tQ7\\xe1\"o\\xc2nTIQ\\x8e\\x99a*&\\xe3\\x13sX3\\xea.\\xe6\\xe8)`*\\n\\xb2\\rM\\x18\\x0c\\xc0\\x82\\xee\\x08\\x1dAp T5*\\x05@\\x81^\\x03\\xb9G\\x90\\xb8GX\\x80\\x9f\\xcb\\x14E\\x1b\\x04\\xfal\\xc3\\xe5o\\xa8\\xce)\\x90\\xb7\\x80\\x9a\\x1e\\x8c\\xa7s\\xd6\\xd2\\x00Y=\\x8eG\\xb2?Y\\xdbV\\x1e\\xdd|\\xe2\\x1e\\x80Oe\\xafN\\x08\\x00\\xb3\\\\\\xd2\\xca\\x88 \\xe0\\xa8\\x99{\\x1f\\x99m\\xfcE\\x8cJ*\\xbdBm,\\x10\\xc6\\xb1\\x0e\\xa2\\xa05\\xf8L\\x16\\xc2\\x97\\t\\xd4\\xb5X\\xd8z\\x16\\x06K?\\xb1\\xcccT(\\x10\\x17v\\xf5g\\xf5\\x17 Q\\xab\\x0b\\xcd\\x9c\\x9f\\xf9\\x1e\\xca\\x01s\\xf0\\xd0\\xe9\\x12\\xcd\\xb5J\\xef\\xcb\\xa9\\xc4\\xb8\\xe9\\x8b\\xe1\\xe7\\xc7q\\xf0\\xed\\x8cu\\x16:\\x9c1\\x8e\\x98\\xe6&}A\\x94\\x8a\\x99R\\xee\\n`\\xcc300*i\\x02\\xa0\\x81P*\\x1e\\x1d\\xfdx\\x0b\\x81D\\x0b\\x81_\\xa0.\\x10E\\xcasj\\x80f\\xb3OP\\x17\\xcc\\xb4\\x06|g\\x80\\x1c\\xa7Q\\xb6W]\\xaa\\xa9\\xb3\\xd2\\xafh\\x15r\\xa8\\xdb2\\xc3\\xd9\\x84\\xc6\\xe0Fi\\x98MDL\\xa6\\xb9x\\xf5\\x0bA%\\\\\\xc0\\x0b&\\x87|\\x8c\\xd6\\r\\xc5\\x05\\x0e\\x17\\x8d_\\x83W\\x93\\x8c\\x82G\\xb1A\\xd3n\\x93\\x80\\x1b\\xfce\\xa1\\xa3\\xc8\\x13y\\x83\\x91E\\xbb\\x1b\\xbdL=D3:k\\xb7&\\x1d\\xe2-\\xba\\xaa\\xadk\\xc6\\xbdjd\\xd2\\x98-\\xb3\\xb3\\xfa\\x95\\xec:+\\x83\\xfc~U\\x81^]E\\xa3\\xc2n$\\xbcL\\x85\\x8bs\\xb8\\xf8v\\xc69\\\\T\\\\u\\x1a_\\xa86\\xb2\\xf7\\x17\\xce\\xe6\\x90\\xd6w\\x1b\\xbb\\x9e\\x90j\\r\\xc1q\\x03S\\x94\\x08\\x17\\xe0\\x17\\x02\\xe0br\\x98\\xb1I\\xcb\\xc0\\xab\\xfd\\x01-|\\r\\xd1\\xd1\\xda\\xe8\\x0c\\xb3\\x1c\\x99\\xd8\\xc2\\x9c\\xcb\\xcaO\\xc5L\\xe5\\xb9\\x85\\xaa\\x0382\\x9e\\x822@*\\xc6o\\xb6\\xcb\\x87\\xf3\\x19\\xd2\\x02\\x18M\\xd4+\\x1b\\n\\xd5\\xb14R\\xcf\\x86-\\xb6\\xc6\\x8f\\xb3`\\xc0\\xdfe^\\xeef\\xe8\\xa1QC\\x0b\\\\U\\x842\\x13*\\xb7\\xacF\\x9a\\x94r1P\\x9c\\x85\\xa0\\x00\\xa9b\\xb5\\x8c\\xa5@\\xed`\\x94\\x19Uo\\x08\\xdf5*\\xb0\\x04*U,:\\xc2\\xfec\\x1ch\\x14\\xbcR\\xfe\\xff\\x00\\x98h5\\x97Yp}\\xe0\\xafd\\x08\\x81\\xd1\\x8c\\x89W\\x15\\x81\\xc7\\xe8:\\xf1H\\xb7\\x17\\x0f\\x94\\xdc\\xa9\\xdc\\xdd\\xe1\\xdb\\x18\\xe9\\x95\\x13\\x1174\\x98ee>\\xa6\\xca\\x9c#\\xb8\\x9bs6M\\x10*e\\xf54g)\\xa4\\xe56\\x9a3\\x97\\x8eP<r\\x87\\xe9\\x08\\x065\\x00*\\xfe#a\"5\\xe0\\xee\\xd9m\\xe2\\xe8\\xa3a\\xb1\\x98yj\\'9S\\x1e\\xb7\\xa0\\x8c2@h\\xb2\\x9a\\xd0\\xfa\\xc30-g\\x92\\xd6r\\xdb\\x1aY\\x8b\\xcb,B\\xfbM\\xe1`.\\x01l\\xc2\\xfcxK\\\\\\x8dU;\\xac.l\\x80\\xc9\\x16Q@\\xb0v\\xd8\\xad*\\xddS\\x03\\x86\\xc2\\xa6\\ri\\x13\\xe4l\\xe27\\xcd\\xd2s\\x0c\\xec,hL\\xf3\\xb8\\xe9\\x17`HD\\rX\\xb2\\xfd\\xf7\\x05\\xf8\\xe8\\xb4\\x15\\xaa\\xa9Aw\\x9a\\xd4\\x05\\xc8\\xe1F \\xe0\\xf4\\xf6K\\xfa\\x81\\xa3.\\xb6i\\xc7\\xf2L/\\x11\\x83\\xaf&s\\xab\\xae1\\x96\\xcd\\xae\\xd6\\xbd\\xb7\\x06\\xef\\xcb\\xaf\\x0cL>\\x16.\\xe2\\xdcy\\x8eJ\\x85\\xf3\\x1d\\xb1\\x8e\\x9f\\x0b\\x10\\x8bst\\xd9Q\\x0b\\x8eUe\\x05\\xb9\\xcap\\x9c\\xa0\\x9a>8x\\x10*r\\x87\\x83SG\\xc1\\xe7F\\x11\\xe1\\xe8\\x95\\x8ey\\x8fm(\\xa5\\xe26\\xc2\\xf0\\x96\\x02\\xd6o+`\\xf9}\\xc0\\xb5\\x08t\\x94 \\xf9\\x183\\xd6!m\\x08(2\\xa4\\x1e\\xea\\x89\\x9a\\x8d(x\\x01\\xe2\\x9c\\xab\\x9a2\\xd0\\x10t\\x03} \\xa8\\x040\\x88\\x8a\\x99\\x18\\xb0\\xb6\\x00!\\x17;j\\x86P\\xa3s\\x04\\x97\\x96\\x00t\\x17\\x9d\\xef\\x9b\\x8e\\xc8\\xd9y\\x84\\xa4\\x97\\x1c\\xe6\\x82\\xb0h\\xb3UyuLr\\x0c*\\xa4\\t\\xb0hn\\xc1>\\x10\\xecKD\\x97\\x8c\\x8c\\x16d\\xfc\\xbcD\\xce\\x9c\\xe4\\xa9\\xb7\\xd5\\x0c+\\x8b8\\x96\\x97~\\xc6.E8j\\xb1\\xc6\\xb8\\x8bj\\xa43\\x1f\\xc9 \\x1d\\xaf\\x98d\\x80\\x1a\\xfd\\x07\\x9f\\x0b\\x861\\xd4\\xe1\\x8bQ\\xd3\\x16\\x8f\\x0e\\xd8\\xc7L\\xb8\\xea;e\\xdf\\xd4\\xc2\\x15\\xb0o1\\xc6\\xe5+Z\\x83\\x19\\xdc\\t\\xcap\\x81P\\\\ \\xbb\\x9bx\\n\\x81\\xe0\\xd4\\xd1\\xf01\\xe7F \\x17\\x92\\xf5\\xdc\\xa1\\xf5\\xbd\\x82\\x88\\xd8\\xd8\\xd7\\xfe\\xb8\\x83V\\xcd\\xb8Y\\xdf\\xc7\\x17\\xc5\\xa3tR\\xa2\\x95J\\xf4aCykP \\xe1\\x15\\x8e\\xa7\\xc4\\xfb!!\\x12\\xa3*P<5]8\\xd4%\\xba\\x07\\xcc\\xa76wkM\\xedr\\xf2B9\\x13L\\xad\\xe4\\x06\\xca\\xac\\xe1c\\xc1\\x00\\xa6\\x00\\x19\\xc2\\xe5\\xc2\\xfb\\xb8(\\xd6\\xa0Q;\\xc9-2\\x03\\n\\xce\\xafB\\x95(\\no\\x87\\xc3\\xc8\\xfdv\\xd1\\xb0\\xea\\xda\\x12\\x97D\\x149e\\xb7\\x81X\\x00\\xbe\\xd1\\xa9fyv\\xd5\\x81I\\x16\\xc2\\xf6\\x04\\x03d\"n\\xc4/\\x9aF\\x02\\x1f\\xa7\\x87\\xc7q\\x8e\\xa2\\xee2\\xf75\\xf0\\xed\\x8cX\\xc7~\\xa3\\xb6 jr\\x9d\\xc4)\\xcf\\x8d\\x16\\xe2r\\x9a@\\xa9\\xc3\\xc7(\\x13\\x94\\xdb\\xce\\x90.\\x18\\x9a>4\\xf0b\\r\\xc4\\x97\\xb8\\x91\\x10pK\\xdc\\r\\x94\\xbc\\x0fp\\x13j\\x08\\x0f\\x03\\xc0\\xc2\\xbf1\\xb0\\x90\\xb1vv\\x0c\\xe0\\xfc\\xab:\\xc0\\x1a\\x06W\\x8a\\xb3\\x8c\\x7fj\\x82\\xb2\\x8av\\x0cey\\xf1z\\tPQ^\\x05T~F\\xfb\\xb8`\\xd0\\xc6l\\xc5V@2\\xf3P9\\x18\\x02\\x1c\\x10\\x1d){\\xf8\\x8c\\xd9\\xd06\\xf0\\xab/%\\xb6t\\xc7\\xcf\\xb6\\xa6\\xc3(\\xb5\\x8c~~a\\x98\\xc5+\\xbb\\\\\\x00j\\xd7\\x15\\xb5\\xee(\\x0cHl\\xa4\\xed\\xc1\\x9f\\xe2fXm\\xf2%\\x9e\\x1f\\x0b^\\x1d\\xb3K\\x97\\x8b\\x8b\\x1c#\\xcf\\x8e\\xe3\\x02\\xb9\\xb8\\xbb\\xf1\\xdcc\\xa8\\xf38X\\xae\\xe5\\xec\\x83,\\xc8\\xean\\x9ags\\x84\\xe56\\x83\\x0c\\xe54\\x9c\\xa6\\xdet\\x9c\\xa6\\xe0\\xa3\\xc6\\x9e\\x03\\x1ekqY\\xba\\xd6\\xb1\\x07\\xa2\\xc1\\xad\\x03\\x80YYVE3&\\x12a\\xa4\\xb4S0\\xcbdn\\x94@\\xbc\\xbbj\\xe8\\xa5\\xddB\\xc2\\xee\\xb5i\\xbaxt\\x8f\\x08F\\xb9}\\xc5\\xb4&\\xc5h\\xbe\\x89@\\x82(\\xbb*\\x8f\\x82\\xb0jS\\xe4`R\\x02\\xa5h\\xa0\\xa0\\xee!\\x90\\x08\\x06ZA\\x8b>\\x83l\\xdf\\x97\\x8d\\xec\\tjV\\xd3\\x8c\\xc2\\x8dm\\xd5\\x9b\\x0b\\x9e\\x06\\xbf+\\x89Pw)T\\xe5h\\x95\\xdf\\xa9\\x94\\xc8\\x1a\\xa5\\xc0\\x08\\x85.(\\xbc\\xbfQ\\xac\\xec\\x7fx\\x1ak\\xd7\\x85\\xf0\\xf8v\\xf8.\\x1f\\x0e\\xa7\\x0f\\x8d\\xb1\\xe5\\xac\\xcb\\x8f2\\xe7\\xca)ln\\xde\\xa3T\\xc0\\xe6\\xa3\\x82\\xe2\\xbd3fr\\x9c\\')\\xb4\\xd1\\x9c\\xa6\\x93\\x94\\xdb\\xce\\x93\\x941\\x06\\xfci\\xe0\\xd7\\xe8\\xe6\\xe5\\x889\\xa6\\xd6\\xc1\\x7f/V\\xd8a\\'W\\x8e\\x1b\\xd5\\xb8\\x0b\\xce)\\xd3\\x05\\xff\\x00\\xc9\\x94j\\xe0\\x16\\x1e\\x97\\xab,~e\\xa38\\x95\\x03M\\x97f\\x8ds\\xa8\\nC\\x914\\xd5\\xb0\\xa2\\xa1x\\xfc\\\\\\r\\x88\\xd4t2\\xd4`#\\xd1T\\xa7\\xe6r\\xea\\x03\\xbf]{%\\xc6j\\x83\\xb9\\xa8\\xc8\\xd0\\xa5\\xa3\\xf0\\xc5\\xef}@*\\xa3\\xe1\\x1d\\xda\\x13\\x9b\\x82FjN\\xf6\\xc86\\\\\\x02\\xc4RS\\x914\\x14)8A\\xba\\xa1\\xa8\\x9b|%GO\\x85\\x8b\\xb7\\xc1\\xdcX\\xea.\\xfc<\\xf9v\\xc6:eD\\x8e\\xd9\\xa4\\xe1\\x8a\\x9f\\x17D\\xc8\\xc1EA\\x89\\xaaM\\xa1\\xcd\\xf8\\xd2r\\x9by\\xd2\\x05\\xc2h\\xf8\\xd3\\xc1\\xaf\\xd0\\x17\\xe1ec8\\xfa\\x0b\\xbc\\x0bB\\xda8\\x99`\\xd7\\xb8\\x0b\\xda\\x91[\\x132\\xfb5 \\x0eZ*\\xae\\n\\xc2\\xc4f\\rFC$\\x93\\x05\\xe1^\\xef_p\\xdf\\x1a\\xd9&\\xac\\xaa\\x85\\x96\\xa3j\\xb8)\\x10\\x9aU\\xb2R\\xdf\\xf6Jl\\xe5\\x18Z\\xb2-\\x9a\\xc9\\xb4\\xc9Y\\x84aG\\xa2\\xe6\\xe2\\xa8\\x8a\\xba\\xc6\\xb9\\xe6\\x92\\x95EN\\xa9\\xa7\\xea q=)\\nQ\\xa4U\\x9c\\xf4*l\\xf0\\xb7+\\x12\\xa3\\xa9\\xc3\\x16\\xa3\\xa7\\xc2\\xc7lc\\xa6\\\\\\xbf\\x0cR\\x99q\\xd4v\\xceX\\x95pj\\xe2\\xcc\\x13f\\x06\\xe0NSi\\xa3\\x15\\xcd!|~\\x86\\x93\\x97\\x8d\\x1f\\x1aAw\\xfa\\x02\\xc8\\x15\\xe6\\xa1\\x957\\xea4*\\x0c\\\\\\xd2r\\n\\xbd\\xe9q\\xd0\\x82s\\x89\\x14o*\\xaf\\xda,\\xf0\\x01I\\x16\\x051G?1O\\xc2\\\\\\xdcC\\xe2\\xa8\\xd6\\xeeXH\\x80fh4\\x19\\r+\\xa8\"\\xab\\x15\\x90\\xad\\xaf9\\xfe\\xe1\\xc5a\\xc0\\xb4T{T\\x0e\\xd4\\x98\\xa5\\x87\\x9c\\x81=\\xb6;%x \\xd3w\\x9e\\x93\\'\\xfeD\\xdcH\\xeb\\xc5\\xc5\\xdcc\\xa7\\xc3\\xa8\\xbb\\x8b\\x17q\\x97.,\\xa2\\xd61\\x02]\\xe68\\xb9\\xc4\\xa8E\\x9d\\xcc\"m\\x9c\\xa1\\x02\\xfc4g(3\\x94\\xdb\\xce\\x90j\\x19\\x81S\\x97\\x8e^B\\xe0Q\\xfaq-\\x8b9\\xe3=\\x90\\xab\\x86\\x95@\\xa9\\xda\\x02\\xef_\\x12\\xb5\\xe0U\\xcd\\x15\\xd9\\xfc3h\\x82\\x89L\\x83\\x97\\xfc\\x84\\x9a\\x14\\xa7\\xa2 \\xe7\\x14a\\xae\\xe50&\\xe1v\\x16\\xa3\\xf5\\xf6\\xf75\\x99\\x94\\xfd#k:u\\xadf\\n\\x9d\\x0e\\xb4\\x01{\\xc8\\x1e\\xdf\\x89\\xb3\\xf3\\xd1\\xac>@\\xc7\\xca\\xb2\\xe8\\x08\\x0e\\xfb\\x90xM\\x8c\\xae:\\x17\\xf0\\x9c\\'Q\\x8e\\x98\\xb5\\x1dxaw\\x16,v\\xc6#$Z\\xf0\\xed\\x8cFO\\x0e\\xa5\\x11mK\\xc4\\xd2*e\\xd1\\xbb\\xb8=N\\x11U\\xcd\\xa6\\x8c\\xe5\\t\\xca\\x18a\\x9f\\x0b\\x1e\\rM\\x1f\\x1aEW\\xfa4\\xfd\\x0bQ\\xf3P\\x8fN\\xa2\\xf8/\\xf3\\t,\\x95\\xbb\\x9af\\x05X\\x8a\\x96X<U\"@(\\xc57\\xd9Qm9&\\xd6R{\\xb4\\x1c\\x14z\\xc9)A\\x0cd\\x0e\\xe1\\xba\\xae\\xbdJ\\xb3\\xaew\\xc5\\xb3\\x06>\\xf3\\xa9w!\\x8e|\\x03/A\\x81\\xb6\\xe6\\xc9~%\\xedoM>\\x8d\\x19\\xccc\\\\\\xb49h\\xe1\\xf5\\xd3\\xd6\\xa3]\\x15E\\xe6\\xa8\\xf8\\xc4v\\xd6\\x17p\\x1due\\xf8\\x07\\x11\\x8b\\x88\\xed\\x8c\\xee\\r]\\xc7Qw\\x16<\\xb2\\xe2\\xcb*,\\xc6X\\xbe\\xe2\\xc5-\\x8b\\xbe\\x08\\xbaq\\x19^\\xe3\\xdd\\xceQ\\xbb\\xc39N\\x10.\\xfc4`\\xd7\\x80\\xd4&\\x8c\\x1b\\x87\\x83SG\\xc6\\x9e\\ry\\xd3\\xf4`\\x0fp-c\\x15\\x0f-\\xa9J\\xa2\\xb5\\x1d\\x0bI\\xa3\\xc9a7\\x86\\x02\\x0bP\\xae\\xcd\\xec\\x164\\xe1\\r\\x1c\\x82\\x88\\xe9.s\\xf7Ut\\xb0\\xf2L\\x13\\xbc\\xaa\\xae\\x02\\x8e\\xae\\xaa/_\\xc0\\xca\\x16\\xdc\\xd5\\x86\\x14E\\xe0\\x0e\\x86m\\xca\\xfc\\x88\\xfe\\xd1)\\x0c\\x0c Y\\xbaN,S\\xab\\xa8\\x92\\x8b\\x91\\x98^u\\xcdL\\xcb\\x85\\xd5de\\x15M2\\xaa1b\\xee-\\xc7\\x99r\\xe3\\xcc[\\x8b\\x86\\\\\\xb9qn:c\\xaa\\xf0\\xed\\x8b\\x1d3(\\xb2\\xdc\\x03\\x1d\\xc5\\x0c\\xe58x\\xe1\\xe3\\x94 \\xdc\\x19\\xa39C\\xc1\\xaf+\\x1e\\x07\\xc0\\xd43\\xfa?|O\\xb9\\x86\\n\\xe4\\x8b\\x0e\\x0c\\xbe\\xfdDG`+*/\\x16\\xfa\\xff\\x00f\\x18\\x18\\x0bINL\\x8c\\x9f\\x1b\\xfe%\\xed\\x84\\x9d4\\xb6\\x9fh\\xacc\\x81]f\\xd9/\\xf9_\\xa8\\xca\\x0b`\\xa2*\\x86\\x9e\\x90\\xbf\\x91\\x8a\\x08\\x1a\\xe5\\x19\\xdd/\\xb8\\x05\\xb4\\xd5\\xaax\\x94\\xcb`\\x9fd\\x1f\\xb4b\\xc5\\xdc[*^*1b\\xee-\\xc5\\xc3\\x17\\xc1w\\x16\\xe2\\xe1\\xf0X\\x8c\\x92\\xe3[\\xa9a\\x971\\xef\\xa8\\x8c\\xd9\\x9c\\xa6\\x91]\\xc3S\"\\x18\\x86I\\xcam\\x06\\xa7(x^O\\x1by\\xd3\\xf4rWdX<\\xc2\\\\\\xcc\\x0b\\xd3>\\x99\\x93\\x8b\\x1e\\x0f/\\xc9)\\x00\\x87\\xb1\\xeeZK;U\\xb6\\xae\\xfdG.Kq+t\\x97_;\\x80\\xd8\\x80\\xd2\\x86\\x1b`\\xff\\x00\\xeeX\\xb4W\\x85\\n\\xd0\\x82\\x9d\\r^\\x1f\\xf1\\x1a\\xcc+\\xbb\\xbb\\x96\\x12\\xd6\\x86})\\x15\\x8b\\x1dE\\xdc_r\\xf7\\x99~\\xe3\\xa8\\xb8e\\xb1p\\xc5\\xf0\\xbb\\x8b\\xee.\\x18\\xb1p\\xc6\\x96\\xbb\\x8e\\x0b\\xa8\\xe1\\xb9\\x95\\xb3\\x94]G,\\xd4\\xe5\\x06r\\x834|i9M\\xbc\\xe99M\\xbcr\\x86 \\xdc\\xdb\\xc9\\xfa\\r\\x99r\\xe88\\x9aX\\x1d\\xc0$\\xd8\\xc1\\x9ee5\\xcbf\\xdb\\xc8N\\xbe\"\\xda\\x1b\\x023\\xed\\x83\\xe8\\xa6\\xc5M\\xd1g\\xab\\xe2m c\\x91\\x8d\\x9d\\xe7d\\xa4\\nWc* \\xff\\x00_\\x9dF\\xf8V\\xf1\\xa4\\xe0\\xd6\\xdd\\xd4\\xb1\\x15\\xc9@\\xa7\\xdd\\x11\\xab\\xd81\\x96\\xe2\\xd9o\\xcc\\xe5K\\xbf\\xa7\\x13\\x94\\xc0\\xb8\\xe1\\x15\\x0cR:b\\xd4\\xd7\\xbf1\\xd3\\x16\\xa3\\xa9\\xd6-\\xc7\\x06P.,D8e\\x8a%\\xed\\x88\\xed\\\\BT\\xa1z\\x84\\xa9\\x84\\')\\xb4\\xd1\\x9c\\xa1\\xe4g\\xc1\\xe0\\xd4\\xd1\\x98M\\xc2\\xf8\\x98K<\\x8e\\xeeq.\\x04\\x0b\\xa3\\x18\\x94\\xb2`\\xea\\xe5\\xfe8=\\xab\\x06\\x12b\\xda\\x0f\\xfd\\x83$|\\xfb\\xff\\x00\\xbf\\x98 \\xa1\\x1d\\x988K\\xf5\\x97\\xfe \\xde\\x9a\\xee*\\xcc\\x96\\xbe\\xd7\\xff\\x00\\x92\\x8e\\x02\\t\\xa4m\\xbf\\xc3-\\x89h\\n\\xdf\\xc7\\xb1\\xfb\\xbcA3,\\x15\\x19\\xb0\\xd5.3\\xc0fTO\\x08\\x03\\x1d\\xe4\\xea\\xab\\xb2\"\\xaer$\\xfb\\x1d\\xcd7a\\xaa\\x16\\xd0`\\xb2^\\t\\x81\\xa66\"\\x1eb\\x96\\xc7\\x071o\\x98\\xe1\\x8c\\xc5\\xb1\\xb8\\xb1\\xe1y\\x97\\x15\\x1b\\x97/\\xdcv\\xccc\\xd9\\x1c\\x1c\\xcf\\x98\\xef\\x1a\\x88\\xa4\\xb8\\xd0\\xfb\\x8c\\x83\\x98-\\x8878A\\xaf\\x01\\xa85\\xe4jh\\xc1\\xb8x5\\x06\\xbci\\x06\\xa1\\xe0o\\xcd\\xe2\\xa2\\xc2e\\x0c\\xcb\\xabM\\xe2`\\xc7\\x89\\x1e\\xaff\\xe2\\xa5j\\x00\\x936\\xf1\\xd5D0\\x15\\xed}\\xfd\\xea9\\xa0p\\x1a\\xff\\x00x\\xe8?\\x92\\x8c\\x10\\x0bA\\xa2\\x9es\\x7fP\\x04\\xac\\xb6*\\x95S\\xf5)\\x91\\tU\\xa7\\x15\\x8c\\xd6;\\xdc6\\x8f\\xed\\re\\xa7S\\x10ye\\x93\\xba9\\xac5\\xc5n1\\xcc@\\xa5\\x9d\\r\\x1e\\xa3\\xdd\\xc0\\xca\\xed\\xee(\\xaa{n\\xc6\\x1f\\xe2:\\x18\\xaa\\x94 \\x8d\\xd4\\\\1o\\xc1\\xdb\\xc1m\\x8c!*5\\xb3\\x98\\xa4\\xa9[\\xa8\\xb9\\x8e\\x12\\xe3\\\\v\\x97w\\x0f1\\xa5\\xcb\\xfa\\x9c\\xa6\\x90n\\x1a\\x9a0n(7\\x06\\rx\\xd2\\r\\\\Po\\xc0`\\xdc1\\x06\\xe0\\xd4\\xbf f\\x15)\\xf7(B\\xc8*9E\\xa3\\x0b\\xb3_\\x1f\\x88\\xeaL\\xc6\\xd5\\xc0\\xe7E#\\xed\\xa8e\\x91e\\x0c\\x962\\x17J\\x193\\xaf\\xb8\\xe6\\xae\\xc2\\x0blh_z0\\x17\\xf6\\xd1\\xe6\\xebQ\\x07+n\\x02+\\x93\\x83\\x01z\\x1cPz8#]b\\x8a-R\\xdb\\xdb\\xfbG\\xb8\\xbf\\x10!g\\xbe\\xdeb\\x05\\xa0\\xa3_\\x7f\\xccKZ1u\\x85\\xcd\\xddq\\xbdp\\xfe\\x7fx\\xb0\\xc5\\x08\\x8c\\xc600\\xed(G|\\xe2 \\x96o\\xa9qJ\\x970E\\xc7\\xc4D;@.+\\x9b\\xaf\\x11\\x00\\xe6/\\xb9[Qm\\x9c\\xa2\\xc4\\xe5\\x05\\x9aNP\\x83_\\xa0>\\rA\\xaf\\x1aN^\\x06\\xa5\\xc2/\\x80\\x86\\x8c\\xe9c\\xbd\\xc3\\x06\\x86\\xd77\\xca\\x05\\xdb\\x8bUe_\\xb7\\xf7\\t\\x93\\x80)\\xf8\\x8d8\\x80\\x1b=?\\xcfqkX)~\\x94\\xba\\r\\xdf\\xa32\\x84\\n\\x06\\xf8Q\\x02\\xca\\xddW\\x14f:K\"\\x1e\\x02\\xff\\x00%fv\\x8c?6O\\xe7\\xf6\\x89cQY\\xa1\\xd7\\xd8\\xcc\\xf2\\x7fa\\x8b\\xaa\\xc8\\x9a\\xb7\\xeaf\\x16\\xae/y\\x1f\\xe4[\\xccu\\x1d\\xb3\\x16m#C\\x11Y\\xb9gr\\x89\\xa7\\xaf\\x06\\x8b\\x96K\\x8a\\x8e\\x0eg\\xe6\\x94 \\xddK.\\xdcL(L\\x1e\\xa3\\x13y\\x82^>\\'%\\xd4\\x1b\\x9c \\xd7\\x97(x54g(b\\r\\xcd\\xbc\\r\\xc3\\xc1\\x887\\xe0|\\x03[\\xb9&\\x19\\'\\xcc\\xaa\\xaes?\\x84R@\\xc0\\xde\\x0b\\xfd\\xa6Z\\x0cXp\\xaf\\xbc\">\\xa0hP\\\\5\\xff\\x00\\x97*v\\xd2\\xa9\\xe91\\xfd\\xc2^\\xe0h\\x08\\xd3o\\x05W\\xca<\\xc0\\xb1\\x0e\\x11\\xc5\\xad\\x9e(\\xf8\\xf7\\r\\x04%\\x1b%\\xb1\\xfc\\xc6mk\\xf7$\\x1d\\x8c\\x05[\\xa6\\xef\\xf1\\x0e\\xc7q\\xcb\\xb3G\\x17)S\\x08\\xa7\\xe1\\x15\\x0c\\xb6;G71\\xa0\\xe2Z\\xe2c\\x11\\x98\\xfbB\\xfc\\xc7v\\xe6q\\xcd\\x8b\\x8e\\x0cG\\x88\\x83\\x02\\xaaa\\xde\\xa7\\x15\\xc1\\x1d\\xf7\\x07-L\\x8e`\\x86\\xe2\\xc4\\xe5\\x11,\\x83\\xd4X\\x83\\xbb\\x8a\\x0fPz\\x83\\x8f\\x06\\xa6\\x8c\\xc2Y\\x07w\\xe1Q,\\x96NR\\xda\\x8b\\xb6~ \\x13Cd\\xce\\xb2\\x80D\\xc5\\xf7\\n*\\x17\\xed|B\\x13\\xa7\\xca\\x1bx\\xf6W\\xf13n.wt?\\x88\\xad\\x81\\xb2\\xef\\xe1\\xed\\x8dB|\\x80\\xae\\xaf\\x9d\\xab\\xbc\\x1d\\x08\\x81\\x02\\xab\\x85b\\x9f%g\\xe4\\x8b-\\x9a\\x96pO\\xaa\\xc0\\xf7\\x00NW\\x83\\xb5\\xdb\\x14\\xc2\\x0c\\x1b8\\xaf\\xbao\\xea!\\xac\\xdbPb*dt>\\xe5\\xd8CEso\\xf1So2\\x97q)\\xb8\\xd6\\xe3a\\x8d#\\x84\\xbb\\xb6,\\xb9q\\xc7\\x8b\\x8f\\x06\\xe6JQ\\xccsf3\\xa4\\xb2\\xe6\\x8d\\xee\\x19\\x99k\\x89A\\x94\\xce\\x8eZa\\x99\\xc2\\ryr\\x87\\x83SF\\rE\\x887qA\\xaf\\x07\\x85\\xe4\\x8b0s\\x81 \\xa5Y1+&\\xa5\\x8d-\\x8f\\xd9r\\xe6\\xb2\\x80\\xab9\\xa8\\xfe\\xd8C=\\xcb\\xd7v\\x93y\\xa6\\x06\\x1b\\x0b\\xf4?{\\x8eJ\\xe1\\r\\x14\\'\\xc5\\xb4\\xfefry\\xc4\\xd0\\xcb^\\xa8>\\x1a\\xe2:\\\\\\x0f`\\xb6\\xf9Qo\\xda\\x92\\x8a\\xda\\x80\\xf1\\x8c\\x7f\\xdd\\xcb\\x84\\xd8V\\xd1V\\x1f/0\\xe7`\\x0eU\\xe4\\xf2\\xc1\\xd1\\x1e \\xacE\\x85]\\x86\\xff\\x00\\x98^\\xeb \\x08j\\xcc^\\xa2\\x034\\x990\\xc6\\xa4v#.\\xf3#\\x0ee*\\xa3\\x87\\xa8\\xdeRn0R\\xf3\\x1af\\xe7!\\xfb\\xb3\\xd9\\xb9\\x97S\\x0b\\xb6\\x14R\\xed\\xf5\\x1b\\xa9YK\\xa8\\xa8.\\r\\xcd\\xa6\\x8c\\x1b\\x8b\\x10j\\xff\\x00Ab\\r_\\x8d\\x185\\x0c\\xf85\\xe7I\\xca\\x0e \\xc0\\xd77\\x0cD\\x00\\xd8\\xc2\\xf3 \\xc5\\xfc\\xa3\\x16\\xac\\xd3\\xd8h\\xdf\\xd4\\x1a1\\x13:7\\xb1\\xeb\\xfd#l\\xc6a{w\\xf5T\\xfebn\\xa5\\x9eXQ\\xf1[\\x89\\xf7(0K\\xbb}3\\x89Ew\\xc9d\\xf5\\xfeF@\\xc8\\x17\\xda\\x7f\\xc60\\x17\\xc7\\xf3\\x02*\\xe4\\xbb\\r\\xfcG\\xa0&\\xd5\\xd2i\\x9b\\xff\\x00\\x0b\\xee\\xac\\xfe\\x12q\\\\\\xbe\\xc9YW\\x15\\x93\\x98\\xe0\\xc7\\x173\\x06\\xe3\\xb7\\x87(m\\x98\\xfb\\xceq\\xf6\\x8e,B\\'>\\xa3\\x86\\xe6\\xc8\\x9bG\\x17\\x92,\\\\\\xc0\\x1c>\\xbe&\\xeb\\xe2^\\xb3\\x07\\xa9\\xc2\\rx\\rNP\\xf00{\\x83\\xdc\"\\xbb\\x83\\x88=x\\xd2Q\\xb8x=\\xc2\\xa1\\\\@%\\xb0j\\xa5\\\\n\\xb0\\xb2\\xf6\\xbaEd\\xbcs\\x18\\x91f:\\xc8\\xd1\\xf7\\x1f\\x12\\x98\\xed\\xf1\\x12\\x92\\x8c\\xadN\\x1a\\xe7\\xbe\\xf1\\xf6\\xd6C\\x0c\\x95C\\x83V\\xb7\\xff\\x00\\x11\\x0eZ\\xd1\\xb5z\\'\\xee\\xfe7(\\x897\\xc8\\xed\\xc7\\x15R\\xc00o\\x80_\\xee1YK\\xf0a\\x817\\x17\\xac\\x9b\\x84\\xca\\x89\\x99m\\xd5K\\xf8\\x1e\\xb1\\x00\\x11\\xa3\\x9b\\x88\\xcf\\x8fm1@\\xf7.=\\xc7\\x16P\\\\g\\x94\\xc4c\\x87s\"0\\xef\\x1c\\xa5,\\xc1\\x1c\\x19a\\x99\\xd6\\xdb\\t.V1\\xaa\\xdd\\xfdNQT\\x1b\\xf0\\r\\xc1\\xb9\\xa4\\xe5\\x0cA\\xb87\\x06\\rBh\\xcf\\x84\\xab\\x1b\\x0c2\\xfa1\\x00hG\\x9aX\\xfd\\xa1\\xbcS\\xfeu-\\xc8\\x1b\\xf5\\x84\\xb7y\\xac\\xd3\\xfa\\x8f\\x1a=?\\xf8\\x85\\x8d0\\xaf\\xda\\x0cR\\xb7\\x1b\\xc00\\xd5j\\xa0 l\\xc0\\xcbC\\x95\\xe8\\x16\\xc2\\x90d\\n\\xfa\\x86\\x98;\\x05\\xd4\\xb9\\xc1\\x19k)\\x84c(o\\xacD\\x0f\\\\\\xe2\\x19\\x1c\\x97\\xdb\\t\\xc5K  \\x08!7H\\xbaw\\xbf\\xe6]\\xc0\\x00%\\x8f}\\x1e\\x89b=\\xb4m\\xd3g\\xee\\x7f0\\x97\\xb9\\r\\x89\\xd3N!\\x02\\xfeR6\\x1c<\\x03\\xb8\\xa5*wG\\xbd\\x98\\xad\\x90\\x9b7U\\xf3\\xc2<\\x93\\x1b\\x1e#o\\xf9\\xf7-\\x82:D\\x9ci\\xd0\\x8fc\\x855\\xc2\\xe2\"\\xbf\\xa6{\\xa5\\x14}2\\xd0,:IZ\\x94\\xe2\\xf2\\x88Y\\x81\\x9c\\n\\x10\\x19*\\xf0\\xd8z\\x8b\\xe0\\xe1\\xcb\\xad\\x18\\xf4\"l{\\x9f9O3\\n\\\\\\xd2ad\\xb4pk\\xc73\\xa8\\xee\\xdc^[\\x94\\x0fQ\\x00\\xb30\\x97\\x8ex\\x8d\\xdd\\xc5\\xb9\\xc3\\xc8z\\x98A\\x83\\xd4\\x18\\xa8\\x98M\\x9e\\xa7)\\xb4\\x10\\xb2\\xe74V\\x14\\xfa,{\\xea`\\xda\\x16\\xb1\\xf9\\t\\xc0\\x01\\x8d\\x83[\\xfb\\x17*\\xeb\\x9crMMYEg\\xef)A1`\\x0f\\x8an\\n\\x8b\\xf2K\\xa0\\xf8\\xb9d\\xbd\\xab\\x0f\\xf7\\x12}\\xe0^\\x7fx\\x94h\\xee\\x91\\xfd\\xd8$\\xf0\"\\xb7o\\xdb\\x97\\xe8\\x8cMp\\x1f\\x11\\xf4\\xa5|\\xb1\\xb8\\x01y6\\xfb\\x7f\\xed\\xca\\xc6B\\xdd\\x02\\xcb1N\\xf4\\xd5\\x90\\x1e:\\x9c\\x02\\xac\\x17\\x81)\\xae-\"\\xee2V\\x8f\\xa9_d`\"_\\xb7\\xa0\\x00\\x8f]\\x03I\"u\\xc6\\x05\\xe3\\xf73\\x1a\"\\n((\\xfd\\xa2\\x9c\\xdc\\xce\\x81A\\xf1\\xa1\\ri25O\\xad\\xc2\\xa9\\x97/l\\x992\\x05\\x0b\\xcde\\x00\\x96\\x94\\xe4rl\\x17\\x90i3\\xb9~\\x9c\\xd8*\\x079\\xc2v\\x9e%Mb\\xb03\\xf5q\\x89\\x885L`\\x9d\\x13\\xa0\\x81&\\xaer\\x19\\x95\\xb6*\\xedj\\xe3\\x02\\xadB\\xe9;\\x1c\\x8c<\\x1bm\\xe5|\\x8f\\xfd\\x9f\\x0c\\x90C\\x0c\\xcc\\xbee\\xe6W\\xb9~\\xff\\x001\\xb9Q\\xa9\\xfee\\x86\\\\A\\xa4\\x8fL\\xba\\xe57Qv\\xe4\\x9c\\xa2\\x83w\\x14\\xd1\\x83p`\\xd4\\x187\\x06\\xe0\\xc1\\xa88\\xb8\\xaaH\\xa5W\\x89\\xcd\\xbd\\x97\\xff\\x00\\x11\\xf6\\x0e\\xff\\x00\\xe1\\x01\\xca\\x7fz\\x85\\xc4\\xa1\\xf4K\\xad*\\xff\\x00\\xba\\x94\\x06\\x97\\xc5\\xdf\\xf5\\x10\\\\\\xcer\\x82Y\\xfb\\x88\\xd2\\x9f8UDLu\\xbc\\xc7\\xfd+\\xdc<\\xa0\"\\xc0A\\xee5\\x81\\xb5 \\\\\\x18\\xf8:2\\xd5\\x81\\xd3_\\x98\\xfd\\x9bc\\xf6\\x0e\\xc5\\x15\\xa2\\x9c\\x16\\xa1Rs\\x85G\\xa6\\x10\\xc00\\x81yF\\x99\\xda\\xc4x@0\\x15\\xfd\\xc2uIHc\\xae%\\xae\\xd7\\x18\\xd8\\xafI}d\\xde+\\xf8\\xfaK\\xa4\\xac\\x0e\\xcf\\x1bjK\\xcb\\xaa\\xc6\\x1akm\\x83\\xff\\x00\\xb2\\xc2(+kwE\\x99\\xff\\x00`v\\xe9X7\\x92\\xa6\\xe8\\x92\\x82-+\\xba\\x85h+\\x94\\xcd\\xc4\\x1el\\xa0\\x82@\\xf8\\x01\\x9e%\\xdc63\\xe33 \\xd9\\x95\\x87\\x16-+\\xc5\\x1f\\xbd+\\x9aC`\\xe3K\\x08\\xb4\\x08ro\\\\\\x96\\xaf5R\\xf2i\\xb1\\xb7\\xf5,\\n\\x9da!ellTc\\xf1\\x1dl\\xd6L\\xff\\x002\\xdbKy.#\\xce\\xc2\\xa3\\x83\\xff\\x00Q0\\x87\\xa7Q\\x87\\x19\\xbc\\xd9\\xccNc\\nL2\\xdb\\x18\\xd0b\\xeefg\\xe2>[\\xc4\\xb0q\\x1c\\xdeg)\\xa4\\x1b\\x9b*i\\x06\\xe2\\xc4\\xe5\\x07\\xce\\x91a\\x00r\\xb5\\x17\\x1d\\xddC\\x7f}D/\\xe9J\\x82\\xfd\\xa6\\x1b\\xe4\\xf4\\x8e\\xe0V\\x05\\x9e\\xe3F\\x8c\\xed\\x81R\\xb7\\xa8\\x11e\\x9dn\\x05M?\\x99\\x8308Y\\x8c\\xeaw\\x98e-\\xd0\\xb2\\x04p\\x88\\xa2{\\x84\\xf4n\\x10kV\\x90h\\x85\\xe7\\x96=\\xb7^\\x10iO%\\xbe\\x8a\\x8f\\xd0]\\x91\\xbcNr\\x05\\x9c\\xcb!:\\xe8\\xd3*\\xff\\x00\\xbd\\xb2\\xa5\\xcb\\xbfl\\x15V\\xaf\\xb9\\\\\\x85T#\\xf2L\"\\xfdh\\xba\\xfd\\xf2@R\\xf9\\xb6\\xb1\\xfb\\\\\\xd9\\x17\\x9cR\\xdf\\x82*H\\xad\\x7f\\xa4:\\x97\\x06\\xad3S<\\x0b\\xf9\\xc1\\xad\\xafm\\xf2!\\x05h[T[\\x9at\\xd1\\xad\\xd1\\x15\\xaf\\x8a\\x9c\\xab0\\x82X\\xfc\\xce\\xf8fg\\xe2U\\xa2\\x05\\x02\\x11\\xb8\\x03L\\x99\\xfc\\xcb\\xb8\\xb1\\xff\\x00<\\xc7\\x16\\x91\\xaf\\xe8\\x96\\xc5?6@\\x01Ku\\xfe\\xb1}\\x81\\xef\\x1b\\x1e\\xaf\\xad\\x19\\x16\\x96\\xa4\\x85\\xd5\\xa0\\xd8\\\\}\\xe6\\xbb\\x8f\\xb8\\x81Q\\xf7\\x89=\\xc75\\x96;\\x85u(\\xbf\\xf6m\\xcd\\xca\\x06\\xd8%\\xa4\\x08\\xbd\\xc5\\xee\\x0fQA\\xea\\x0fQA\\xea\\x0c\\xb6\\x0fpe\\xf5m9Mf\\x12\\xbbD\\x05\\xe3\\xa8\\x05\\xfb\\xc1\\x98&\\x8e\\x0b\\x83.X7m\\xc4V\\xd5\\x14_Q\\x03y6\\xc2Jv\\xac;%\\xb0\\x8b\\xc2\\x1a\\xdc\\x18\\x12\\xe8\\x16\\xa8)(\\x1d7\\x7f\\xb4\\x1a\\x13V\\xc0\\x9f\\xc7\\xed\\x1e%u\\x99\\x14\\x8f\\xf1\\xaa\\xa9fy\\xda\\x12\\xa5\\x13\\x92\\xde\\x8a\\xfdc\\xf3\\xf3,\\xe0\\x94\\xa1\\xae\\x0c\\xdf\\x1f\\xb4\\xb4%\\xa5\\xa2\\x11\\xf1\\x88\\xd80\\xb5Y\\x06\\xf8\\xc5\\xc0\\x89fB\\x86\\xf3\\xc63\\xcf\\xe2_\\x98y\\xba?\\xaf\\xda9Y\\x97\\xa0\\xc3\\xea\\n\\x98Z\\xe0\\x97\\xd9*\\xad \\xb2\\xe8\\xcf\\xaa\\xee[\\t\\x86D\\xd7u\\x87\\xd4F_+B\\xbe\\xcbX%PD\\xba\\x08\\xf5\\xa6\\xa6\\x84rS\\xb6m\\xad\\xc0\\xad\\xa0)BW\\xb3~\\xa2\\x84PmQo\\x91\\xfb\\x80t+Hr\\xf5\\x852K\\xa0P\\xd5\\xddS\\xf1\\xb8\\xdf*\\xca\\x12\\xfb\\xef\\x1f\\xf3\\x1a\\xc0\\x042.\\xb8\\x8bEppM\\x1f\\xf7\\xfb\\x0c\\xf4\\xa8\\x07o\\xcd\\x7f\\xd7\\x05\\x9d\\x90\\xb7\\x83\\xe9#\\xc2\\x83 \\x15\\x8b\\xb7\\xfc\\x81PH(\\r\\xdb4gO\\xc4\\xf9G\\x9d\\xc6q\\xf7\\x1az#\\x93-\\xc7xnb[\\x9bnSu3;\\x94\\xec\\x86\\xe73\\x94\\xdah\\xceP\\x9c\\xa6\\xdet\\x9b\\x90B\\x1d\\xf1\\xa3\\x1f1\\x9a\\xb1mD\\xe0\\xa4q\\x98\\xe6Ut\\xe2 mQB\\xd8\\xb4\\x13Mg1\\xc6\\x12\\x80\\xb8\\xebPU7C\\xbei\\x95\\\\\\x14\\x1a\\x13\\xdc\\xc78\\rqk\\xd9,\\xb7\\x81\\xae#l\\xdd\\x1b\\x8cv\\x0cW\\x10SiF\\x07\\xc5\\x7f\\xb1G\\x86\\x81\\xa336\\xa5\\xabQ\\xd5Q\\xb0\\xa8w\\x16\\xa3`\\xb5\\xf3\\xfeJ,\\x86\\x80~#\\xd4\\x000\\xb0Z\\xbe\\xfdD \\xa1`\\x13GH\\xe1\\xb1i\\xac\\xd1\\xfb\\xc4S\\x03!\\xfc\\xff\\x00\\x92\\xc1\\x86\\xca\\xcf\\x11\\xd1\\x80C\\xaf\\x7f\\xe4w\\xb4J\\xabV\\xfee\\x00\\x0c\\x16\\xdd\\xe6!l]\\xc6\\xb7\\xfbD\\xd8\\xd8\\x8bV\\xd6\\x0f\\x98\\xc0\\x86\\xe8rU\\x97\\xc4QHV\\xc1\\xe0o>\\xe6\\x04\\x00\\x15y\\xa0\\xdf\\xfeE\\x03@SO6\\xed\\xf7\\x08\\xb4\\xd2\\xe7;){\\xf7\\x12!`\\xb9\\xd5@\\x93\\x80\\x07\\x01N>#\\xc7Wmz\\x8d\\x1c\\xc1\\r\\xca\\x171\\xa9\\xcc\\xcc\\xcc\\xeeG6e\\x83\\x98\\xac\\xe2#\\x99\\xdc\\x8a\\xd9z\\x96.\\x7f\\xff\\xd9'}"
            ]
          },
          "metadata": {},
          "execution_count": 40
        }
      ]
    },
    {
      "cell_type": "code",
      "metadata": {
        "colab": {
          "base_uri": "https://localhost:8080/"
        },
        "id": "9GR4K54R3NYk",
        "outputId": "16f1cd7e-784a-4f77-856d-37505625dc73"
      },
      "source": [
        "# desde colab\n",
        "# perro.jpg\n",
        "\n",
        "from google.colab import drive\n",
        "drive.mount(\"/content/drive\")\n",
        "\n",
        "\n"
      ],
      "execution_count": null,
      "outputs": [
        {
          "output_type": "stream",
          "name": "stdout",
          "text": [
            "Mounted at /content/drive\n"
          ]
        }
      ]
    },
    {
      "cell_type": "code",
      "metadata": {
        "colab": {
          "base_uri": "https://localhost:8080/",
          "height": 307
        },
        "id": "dzobGMJbw3-r",
        "outputId": "c96b4914-e4fe-4cd5-b748-afa3b455172b"
      },
      "source": [
        "# load and display an image with Matplotlib\n",
        "\n",
        "from matplotlib import image\n",
        "from matplotlib import pyplot\n",
        "\n",
        "# load image as pixel array\n",
        "#img = image.imread('perro.jpg')\n",
        "img = image.imread('/content/drive/My Drive/CIA_marcos/deep_learning/clase_5/perro.jpg')\n",
        "# summarize shape of the pixel array\n",
        "print('La variable img es del tipo: ', type(img))\n",
        "print('Los números son del tipo: ', img.dtype)\n",
        "print('Sus dimensiones son: ', img.shape)\n",
        "\n",
        "# display the array of pixels as an image\n",
        "pyplot.imshow(img)\n",
        "pyplot.show()"
      ],
      "execution_count": null,
      "outputs": [
        {
          "output_type": "stream",
          "name": "stdout",
          "text": [
            "La variable img es del tipo:  <class 'numpy.ndarray'>\n",
            "Los números son del tipo:  uint8\n",
            "Sus dimensiones son:  (300, 500, 3)\n"
          ]
        },
        {
          "output_type": "display_data",
          "data": {
            "image/png": "[encoded data removed]",
            "text/plain": [
              "<Figure size 432x288 with 1 Axes>"
            ]
          },
          "metadata": {
            "needs_background": "light"
          }
        }
      ]
    },
    {
      "cell_type": "markdown",
      "metadata": {
        "id": "r4HpctTi2mW5"
      },
      "source": [
        "### adaptación del formato requerido para pytorch\n",
        "\n",
        "\n",
        "\n",
        "documentacion de pytorch\n",
        "torch.nn.functional\n",
        "```\n",
        "torch.nn.functional.conv2d(input, weight, bias=None, stride=1, padding=0, dilation=1, groups=1) → Tensor\n",
        "```\n",
        "**input** – input tensor of shape (batch, in_channels, iH, iW)\n",
        "\n",
        "**weight** – filters of shape (out_channels, in_channels, kH, kW)\n",
        "\n",
        "**bias** – optional bias tensor of shape (out_channels). Default: None\n",
        "\n",
        "**stride** – the stride of the convolving kernel. Can be a single number or a tuple (sH, sW). Default: 1\n",
        "\n",
        "**padding** –\n",
        "implicit paddings on both sides of the input. \n",
        "Can be a string {‘valid’, ‘same’}, single number or a tuple (padH, padW). Default: 0 \n",
        "padding='valid' is the same as no padding. \n",
        "padding='same' pads the input so the output has the shape as the input. \n",
        "However, this mode doesn’t support any stride values other than 1.\n",
        "\n",
        "\n",
        "\n",
        "---\n",
        "**output** - es un tensor de dimensiones (batch_size, out_channels, Hout, Wout)\n",
        "\n",
        "size:\n",
        "```\n",
        "input.shape = [batch_size, n_channels_in, H_in, W_in]\n",
        "\n",
        "output.shape = [batch_size, n_channels_out, H_out, W_out]\n",
        "```\n",
        "con:\n",
        "\n",
        "$$ H\\_out = \\lfloor\\frac{H\\_in-kernel\\_size+2*padding}{stride} +1 \\rfloor$$\n",
        "\n",
        "$$ W\\_out = \\lfloor\\frac{W\\_in-kernel\\_size+2*padding}{stride} +1 \\rfloor$$\n",
        "\n",
        "\n",
        "\n"
      ]
    },
    {
      "cell_type": "code",
      "metadata": {
        "colab": {
          "base_uri": "https://localhost:8080/",
          "height": 436
        },
        "id": "Jqy5UKpJ2d3O",
        "outputId": "93974c32-443b-47c1-e49e-c877c81825ee"
      },
      "source": [
        "# convertir la imágen en tensor con dimensiones (N, C_in, H, W) (batch_size, n_chanels, height, width)\n",
        "# creamos tensor\n",
        "img_tensor = torch.from_numpy(img/255.).float()  # <- no hace copia\n",
        "#img_tensor = torch.tensor(img)     # <- hace copia\n",
        "print('shape tensor from numpy')\n",
        "print(img_tensor.shape)\n",
        "\n",
        "# veamos de tener al perrito aún con nosotros\n",
        "pyplot.imshow(img_tensor)\n",
        "pyplot.show()\n",
        "\n",
        "\n",
        "# se agrega dimension del batch size\n",
        "img_tensor = img_tensor.unsqueeze(0)                                             # IMPORTANTE\n",
        "print('se agrega la dimension del batch size')\n",
        "print(img_tensor.shape)\n",
        "\n",
        "# vemos tipo de data type\n",
        "print('vemos dtype')\n",
        "print(img_tensor.dtype)\n",
        "\n",
        "# reordenamos y convertimos a float\n",
        "print('reordenamos el tensor y convertimos a float')\n",
        "img_tensor = img_tensor.permute(0, 3, 1, 2).float()                              # IMPORTANTE\n",
        "\n",
        "# vemos como queda todo\n",
        "print('nuevas dimensiones de tensor DESPUES agregar dim de batch, ordenar y formato de datos')\n",
        "print('tamaño_batch, nro_canales, vert_pixeles, hor_pixeles')\n",
        "img_tensor.shape, img_tensor.dtype\n"
      ],
      "execution_count": null,
      "outputs": [
        {
          "output_type": "stream",
          "name": "stdout",
          "text": [
            "shape tensor from numpy\n",
            "torch.Size([300, 500, 3])\n"
          ]
        },
        {
          "output_type": "display_data",
          "data": {
            "image/png": "[encoded data removed]",
            "text/plain": [
              "<Figure size 432x288 with 1 Axes>"
            ]
          },
          "metadata": {
            "needs_background": "light"
          }
        },
        {
          "output_type": "stream",
          "name": "stdout",
          "text": [
            "se agrega la dimension del batch size\n",
            "torch.Size([1, 300, 500, 3])\n",
            "vemos dtype\n",
            "torch.float32\n",
            "reordenamos el tensor y convertimos a float\n",
            "nuevas dimensiones de tensor DESPUES agregar dim de batch, ordenar y formato de datos\n",
            "tamaño_batch, nro_canales, vert_pixeles, hor_pixeles\n"
          ]
        },
        {
          "output_type": "execute_result",
          "data": {
            "text/plain": [
              "(torch.Size([1, 3, 300, 500]), torch.float32)"
            ]
          },
          "metadata": {},
          "execution_count": 5
        }
      ]
    },
    {
      "cell_type": "code",
      "metadata": {
        "colab": {
          "base_uri": "https://localhost:8080/"
        },
        "id": "gwu7rauT4MCj",
        "outputId": "4c02f850-2efa-4c35-86c5-3f63cadcd9a6"
      },
      "source": [
        "# generamos un kernel de dimension 3x3 y valores  de 1 (es un filtro \"pasa todo\"... no queremos detectar nada...)\n",
        "# se agrega una escala para que el resultado siga estando acotado entre 0 y 1\n",
        "# y así poder graficar la salida.\n",
        "\n",
        "ks = 3 # kernel size\n",
        "ch_out = 3\n",
        "k1= torch.ones(ch_out,3,ks,ks)*torch.tensor(1/((ks*ks)*ch_out))\n",
        "#k1= torch.rand(ch_out,3,ks,ks)*torch.tensor(1/((ks*ks)*ch_out))\n",
        "print(k1, k1.dtype)"
      ],
      "execution_count": null,
      "outputs": [
        {
          "output_type": "stream",
          "name": "stdout",
          "text": [
            "tensor([[[[0.0370, 0.0370, 0.0370],\n",
            "          [0.0370, 0.0370, 0.0370],\n",
            "          [0.0370, 0.0370, 0.0370]],\n",
            "\n",
            "         [[0.0370, 0.0370, 0.0370],\n",
            "          [0.0370, 0.0370, 0.0370],\n",
            "          [0.0370, 0.0370, 0.0370]],\n",
            "\n",
            "         [[0.0370, 0.0370, 0.0370],\n",
            "          [0.0370, 0.0370, 0.0370],\n",
            "          [0.0370, 0.0370, 0.0370]]],\n",
            "\n",
            "\n",
            "        [[[0.0370, 0.0370, 0.0370],\n",
            "          [0.0370, 0.0370, 0.0370],\n",
            "          [0.0370, 0.0370, 0.0370]],\n",
            "\n",
            "         [[0.0370, 0.0370, 0.0370],\n",
            "          [0.0370, 0.0370, 0.0370],\n",
            "          [0.0370, 0.0370, 0.0370]],\n",
            "\n",
            "         [[0.0370, 0.0370, 0.0370],\n",
            "          [0.0370, 0.0370, 0.0370],\n",
            "          [0.0370, 0.0370, 0.0370]]],\n",
            "\n",
            "\n",
            "        [[[0.0370, 0.0370, 0.0370],\n",
            "          [0.0370, 0.0370, 0.0370],\n",
            "          [0.0370, 0.0370, 0.0370]],\n",
            "\n",
            "         [[0.0370, 0.0370, 0.0370],\n",
            "          [0.0370, 0.0370, 0.0370],\n",
            "          [0.0370, 0.0370, 0.0370]],\n",
            "\n",
            "         [[0.0370, 0.0370, 0.0370],\n",
            "          [0.0370, 0.0370, 0.0370],\n",
            "          [0.0370, 0.0370, 0.0370]]]]) torch.float32\n"
          ]
        }
      ]
    },
    {
      "cell_type": "markdown",
      "metadata": {
        "id": "ZcLdy1SLKjFh"
      },
      "source": [
        "### Calculamos ahora la convolución"
      ]
    },
    {
      "cell_type": "code",
      "metadata": {
        "colab": {
          "base_uri": "https://localhost:8080/"
        },
        "id": "IQKQ4j_z5XxR",
        "outputId": "8064a8fd-5170-4b44-dac4-fe1963efaff6"
      },
      "source": [
        "salida = torch.nn.functional.conv2d(img_tensor, k1,stride=1, padding=0)\n",
        "print('Tamaño de salida: ', salida.shape)\n",
        "# elimino batch_size\n",
        "salida = salida.squeeze()\n",
        "print('Tamaño de salida squeeze: ', salida.shape)\n",
        "dimension = salida.squeeze().dim()\n",
        "if dimension >2:\n",
        "  salida = salida.permute(1, 2, 0)\n",
        "  print('Tamaño de salida re-ordenada: ', salida.shape)\n",
        "  #salida = salida/torch.max(salida)\n"
      ],
      "execution_count": null,
      "outputs": [
        {
          "output_type": "stream",
          "name": "stdout",
          "text": [
            "Tamaño de salida:  torch.Size([1, 3, 298, 498])\n",
            "Tamaño de salida squeeze:  torch.Size([3, 298, 498])\n",
            "Tamaño de salida re-ordenada:  torch.Size([298, 498, 3])\n"
          ]
        }
      ]
    },
    {
      "cell_type": "code",
      "metadata": {
        "colab": {
          "base_uri": "https://localhost:8080/",
          "height": 252
        },
        "id": "WixLXRFB6ezr",
        "outputId": "400116a4-9ea3-43a7-a4bf-3924f4df6880"
      },
      "source": [
        "# display the array of pixels as an image\n",
        "pyplot.imshow(salida)\n",
        "pyplot.show()\n"
      ],
      "execution_count": null,
      "outputs": [
        {
          "output_type": "display_data",
          "data": {
            "image/png": "[encoded data removed]",
            "text/plain": [
              "<Figure size 432x288 with 1 Axes>"
            ]
          },
          "metadata": {
            "needs_background": "light"
          }
        }
      ]
    },
    {
      "cell_type": "markdown",
      "metadata": {
        "id": "gLIuuP2I4arS"
      },
      "source": [
        "## Ejemplo capa convolución\n",
        "\n",
        "Documentación de pytorch\n",
        "torch.nn.Conv2d\n",
        "\n",
        "```\n",
        "class\n",
        "torch.nn.Conv2d(in_channels, out_channels, kernel_size, stride=1, padding=0, dilation=1, groups=1, bias=True, padding_mode='zeros', device=None, dtype=None)\n",
        "```\n",
        "\n",
        "\n",
        "\n",
        "**in_channels (int)** – Number of channels in the input image\n",
        "\n",
        "**out_channels (int)** – Number of channels produced by the convolution\n",
        "\n",
        "**kernel_size (int or tuple)** – Size of the convolving kernel\n",
        "\n",
        "**stride (int or tuple, optional)** – Stride of the convolution. Default: 1\n",
        "\n",
        "**padding (int, tuple or str, optional)** – Padding added to all four sides of the input. Default: 0\n",
        "\n",
        "**padding_mode (string, optional)** – 'zeros', 'reflect', 'replicate' or 'circular'. Default: 'zeros'\n",
        "\n",
        "**bias (bool, optional)** – If True, adds a learnable bias to the output. Default: True\n",
        "\n",
        "### **OJO!**\n",
        "\n",
        "size:\n",
        "```\n",
        "input.shape = [batch_size, n_channels_in, H_in, W_in]\n",
        "\n",
        "output.shape = [batch_size, n_channels_out, H_out, W_out]\n",
        "```\n",
        "con:\n",
        "\n",
        "$$ H\\_out = \\lfloor\\frac{H\\_in-kernel\\_size+2*padding}{stride} +1 \\rfloor$$\n",
        "\n",
        "$$ W\\_out = \\lfloor\\frac{W\\_in-kernel\\_size+2*padding}{stride} +1 \\rfloor$$\n",
        "\n",
        "\n",
        "---\n",
        "**output** es un objeto , ya que ```torch.nn.Conv2d``` es una clase.\n",
        "\n"
      ]
    },
    {
      "cell_type": "code",
      "metadata": {
        "colab": {
          "base_uri": "https://localhost:8080/"
        },
        "id": "5h6PUSgrqk5m",
        "outputId": "5f3f86d6-6916-48d5-f220-577d60920532"
      },
      "source": [
        "# creamos 1 filtro (out_channels = 1) de tamaño 3x3\n",
        "conv = torch.nn.Conv2d(in_channels = 3, out_channels = 1, kernel_size = 3)\n",
        "\n",
        "# con eso se creó el objeto.. ahora hay que pasarle el tensor a convolucionar...\n",
        "output = conv(img_tensor)\n",
        "\n",
        "# dimensiones: (N, #filtros, H_out, W_out)\n",
        "output.shape"
      ],
      "execution_count": null,
      "outputs": [
        {
          "output_type": "execute_result",
          "data": {
            "text/plain": [
              "torch.Size([1, 1, 298, 498])"
            ]
          },
          "metadata": {},
          "execution_count": 11
        }
      ]
    },
    {
      "cell_type": "code",
      "metadata": {
        "colab": {
          "base_uri": "https://localhost:8080/"
        },
        "id": "f_274sSlqk2w",
        "outputId": "e39d7645-5193-4303-cd25-acf104e40c1e"
      },
      "source": [
        "conv = torch.nn.Conv2d(in_channels = 3, out_channels = 1, kernel_size = 3, padding = 'same', stride = 1)\n",
        "\n",
        "output = conv(img_tensor)\n",
        "\n",
        "# dimensiones: (N, #filtros, H_out, W_out)\n",
        "output.shape"
      ],
      "execution_count": null,
      "outputs": [
        {
          "output_type": "execute_result",
          "data": {
            "text/plain": [
              "torch.Size([1, 1, 300, 500])"
            ]
          },
          "metadata": {},
          "execution_count": 12
        }
      ]
    },
    {
      "cell_type": "code",
      "metadata": {
        "colab": {
          "base_uri": "https://localhost:8080/"
        },
        "id": "LZ8-W_ycRgYZ",
        "outputId": "b2d41669-6ce1-4dd0-8695-e501523aeae4"
      },
      "source": [
        "conv = torch.nn.Conv2d(in_channels = 3, out_channels = 1, kernel_size = 85, padding = 1, stride = 1)\n",
        "\n",
        "output = conv(img_tensor)\n",
        "\n",
        "# dimensiones: (N, #filtros, H_out, W_out)\n",
        "output.shape"
      ],
      "execution_count": null,
      "outputs": [
        {
          "output_type": "execute_result",
          "data": {
            "text/plain": [
              "torch.Size([1, 1, 218, 418])"
            ]
          },
          "metadata": {},
          "execution_count": 14
        }
      ]
    },
    {
      "cell_type": "markdown",
      "metadata": {
        "id": "JhX8SvIs4hHJ"
      },
      "source": [
        "### Convolución padding y stride\n",
        "`padding` controls the amount of padding applied to the input. It can be either a string **{‘valid’, ‘same’}** or **a tuple of ints** giving the amount of implicit padding applied on both sides.\n",
        "\n",
        "`stride`  controls the stride for the cross-correlation, a **single number or a tuple**.\n",
        "\n",
        "\n"
      ]
    },
    {
      "cell_type": "code",
      "metadata": {
        "colab": {
          "base_uri": "https://localhost:8080/"
        },
        "id": "lUeKXJeO8cxa",
        "outputId": "813fe818-0e5c-4d95-b170-d9578b9cc89a"
      },
      "source": [
        "conv = torch.nn.Conv2d(in_channels = 3, out_channels = 3, kernel_size = 3, padding = 1)\n",
        "output = conv(img_tensor)\n",
        "# dimensiones: (N, #filtros, H_out, W_out)\n",
        "output.shape"
      ],
      "execution_count": null,
      "outputs": [
        {
          "output_type": "execute_result",
          "data": {
            "text/plain": [
              "torch.Size([1, 3, 300, 500])"
            ]
          },
          "metadata": {},
          "execution_count": 32
        }
      ]
    },
    {
      "cell_type": "code",
      "metadata": {
        "colab": {
          "base_uri": "https://localhost:8080/"
        },
        "id": "yfkpx0S4qkz1",
        "outputId": "8e88426f-35e7-4da4-de1c-131ae2c2b371"
      },
      "source": [
        "conv = torch.nn.Conv2d(in_channels = 3, out_channels = 3, kernel_size = 3, padding = 1, stride = 2)\n",
        "\n",
        "output = conv(img_tensor)\n",
        "\n",
        "# dimensiones: (N, #filtros, H_out, W_out)\n",
        "output.shape"
      ],
      "execution_count": null,
      "outputs": [
        {
          "output_type": "execute_result",
          "data": {
            "text/plain": [
              "torch.Size([1, 3, 150, 250])"
            ]
          },
          "metadata": {},
          "execution_count": 15
        }
      ]
    },
    {
      "cell_type": "markdown",
      "metadata": {
        "id": "IkhJUtbK9Jsn"
      },
      "source": [
        "# Pooling\n",
        "\n",
        "Tambien está definida una funcion `torch.nn.functional.max_pool2d` o una clase `torch.nn.MaxPoll2d` (y otras pooling functions). Vamos ver la clase directamente.\n",
        "\n",
        "De la documentación tenemos\n",
        "\n",
        "\n",
        "```\n",
        "class\n",
        "torch.nn.MaxPool2d(kernel_size, stride=None, padding=0, dilation=1, return_indices=False, ceil_mode=False)\n",
        "```\n",
        "Parámetros\n",
        "\n",
        "\n",
        "**kernel_size** – the size of the window to take a max over\n",
        "\n",
        "**stride** – the stride of the window. **Default value is kernel_size**\n",
        "\n",
        "**padding** – implicit zero padding to be added on both sides\n",
        "\n",
        "**dilation** – a parameter that controls the stride of elements in the window\n",
        "\n",
        "**return_indices** – if True, will return the max indices along with the outputs. Useful for torch.nn.MaxUnpool2d later\n",
        "\n",
        "**ceil_mode** – when True, will use ceil instead of floor to compute the output shape\n",
        "\n",
        "\n",
        "---\n",
        "\n",
        "\n",
        "\n",
        "**output** es un objeto , ya que ```torch.nn.MaxPool2d``` es una clase.\n"
      ]
    },
    {
      "cell_type": "code",
      "metadata": {
        "colab": {
          "base_uri": "https://localhost:8080/"
        },
        "id": "EalTFuHot0X2",
        "outputId": "982c1c44-6efa-4c12-9c15-ce90ca94f71d"
      },
      "source": [
        "# creo el objeto (capa) de pooling\n",
        "pool = torch.nn.MaxPool2d(10, padding=0)                             # ver: stride, otras pooling functions\n",
        "pool = torch.nn.MaxPool2d(10, padding=0, stride=10)\n",
        "pool = torch.nn.MaxPool2d(10, padding=0, stride=5)\n",
        "pool = torch.nn.AvgPool2d(5, padding=0, stride=5)\n",
        "\n",
        "# le paso una imagen (el perrito!)\n",
        "output = pool(img_tensor)\n",
        "output.shape"
      ],
      "execution_count": null,
      "outputs": [
        {
          "output_type": "execute_result",
          "data": {
            "text/plain": [
              "torch.Size([1, 3, 60, 100])"
            ]
          },
          "metadata": {},
          "execution_count": 18
        }
      ]
    },
    {
      "cell_type": "code",
      "metadata": {
        "colab": {
          "base_uri": "https://localhost:8080/",
          "height": 251
        },
        "id": "j_jjiGDut0Ur",
        "outputId": "ac46fc8d-a5ac-45c0-c4ce-c7a24e86487c"
      },
      "source": [
        "plt.imshow(output.squeeze(0).permute(1,2,0))\n",
        "plt.show()"
      ],
      "execution_count": null,
      "outputs": [
        {
          "output_type": "display_data",
          "data": {
            "image/png": "[encoded data removed]",
            "text/plain": [
              "<Figure size 432x288 with 1 Axes>"
            ]
          },
          "metadata": {
            "needs_background": "light"
          }
        }
      ]
    },
    {
      "cell_type": "markdown",
      "metadata": {
        "id": "3_tH9u082jpZ"
      },
      "source": [
        "\n",
        "#**MNIST data base**\n",
        "# ejemplo de red neuronal de convolución (CNN)\n",
        "\n",
        "Vamos a usar la base de datos de MNIST ([ver fuente](http://yann.lecun.com/exdb/mnist/)) para entrenar una CNN que identifique números escritos a mano.\n",
        "\n",
        "Para esto necesitamos:\n",
        "\n",
        "\n",
        "1.   Cargar la base de datos\n",
        "2.   Ver que la base de datos esté ok\n",
        "3.   Construir nuestra CNN\n",
        "4. Ver que las dimensiones de la red sean consistentes\n",
        "4.   Definir funciones necesarias (de entrenamiento, de costo, etc.)\n",
        "5. Entrenar la red\n",
        "6. Ver que funcione\n",
        "7. ... sorpresa nro 1\n",
        "8. ... sorpresa nro 2 \n",
        "\n"
      ]
    },
    {
      "cell_type": "markdown",
      "metadata": {
        "id": "1nQ-MLk6Do8e"
      },
      "source": [
        "1. Cargar base de datos"
      ]
    },
    {
      "cell_type": "code",
      "metadata": {
        "colab": {
          "base_uri": "https://localhost:8080/",
          "height": 439,
          "referenced_widgets": [
            "02c443e477734ab6acf6e8427c56ef46",
            "82fc18f864ed4c9a8d5abc0c7e72d092",
            "5740725aa44143c4aa5a401da855940f",
            "0e7ceb96fe2b42d7bee821e39baea2f8",
            "a86ea38cc39e47c88d862739719231b9",
            "b929507ebc484adcb5a3a0055d4bc85f",
            "1eccd5560d1a460887af41d15fb3df51",
            "f569f7326f9b4d1aa392056eed8dbc99",
            "dda343024a20453d89cca7cd94cb6884",
            "2eb8c93be63a4d87b1f4d63ec60534ca",
            "f1a05aa69c374d529bee4f690051d864",
            "dc62166c0eb94dbeae92c56d267b597d",
            "6a2875a0819943d093cedf1c2f3af6d9",
            "2cc87501570547b99980938ea2018467",
            "f1f152b4414042b2b4e9e7450ea09ee1",
            "aabfde1a957d4eaab5c2793aa6711151",
            "711a69589adc481d9dc3500b889a595d",
            "a8b1e54e2175427ebe0845c8ae1ff12c",
            "c40ac1089f08465ab4ad881693809f91",
            "d3aee0e39c03492d910ccbe0cda71f6f",
            "59fb3a17b3bc442e9df9502254588418",
            "02ca1cd417254ed7889b00de042238e1",
            "24bb4c8218d2466884b904372030b043",
            "0432fecb7139467990164889cb36b9d4",
            "5296764d5b1e485eb83ce4fc461e90df",
            "f168cbef6b904d8fb4bdb736565cffd2",
            "2d0da74546a24eaaaed1c2dfad839afc",
            "0313965f212e42ec9f20eb7ba361916d",
            "1b59b5cf89b6422dae801e3cf49bc297",
            "b61aba105a7f42abae1cf1f767df64ff",
            "c1c0903a1b1841bdad578d35f9090b29",
            "e0a7f81410154da09c0ab274eab294b0",
            "3183c9a8b0cd43c7adde5af757931a7e",
            "234bdff4067d4670ba8e86c21f2a114e",
            "8e1c86e30aa64786bc0d123062597fb0",
            "d8833eb22b1b42c28982e99e012ad3c8",
            "14069e09119540328277b15eac3307c2",
            "92dec5c2793f40cf96de4b42266809e2",
            "af3c7320109748528aefa08a0e17c631",
            "c97d1f95e88b465a8435494a9e944703",
            "af490e4e9cdb400196cbd0ee83c3f4e4",
            "cc100bb5986a421095cc31642df0df3e",
            "d82773142a8c4398a8cfb193645c3e95",
            "e70486e9506b47ba96dbdb84af9ae868"
          ]
        },
        "id": "8JvzatGF4e0W",
        "outputId": "65931208-3155-41eb-c9e4-1ea89661e542"
      },
      "source": [
        "# primero el dataset\n",
        "train_dataset = torchvision.datasets.MNIST('../data', train=True, download=True,\n",
        "                       transform=torchvision.transforms.Compose([\n",
        "                            torchvision.transforms.ToTensor(),#<------------------- esto es GLORIOSO!!\n",
        "                            torchvision.transforms.Normalize((0.1307,), (0.3081,))\n",
        "                            ])\n",
        "                      )\n",
        "\n",
        "test_dataset = torchvision.datasets.MNIST('../data', train=False,\n",
        "                   transform=torchvision.transforms.Compose([\n",
        "                        torchvision.transforms.ToTensor(), #<------------------- esto es GLORIOSO!!\n",
        "                        torchvision.transforms.Normalize((0.1307,), (0.3081,))\n",
        "                        ])\n",
        "                     )\n",
        "\n",
        "# ahora el dataloader\n",
        "dataloader = {\n",
        "    'train': torch.utils.data.DataLoader(train_dataset, batch_size=64, shuffle=True, pin_memory=True),\n",
        "    'test': torch.utils.data.DataLoader(test_dataset, batch_size=64, shuffle=False, pin_memory=True)\n",
        "}"
      ],
      "execution_count": 3,
      "outputs": [
        {
          "output_type": "stream",
          "name": "stdout",
          "text": [
            "Downloading http://yann.lecun.com/exdb/mnist/train-images-idx3-ubyte.gz\n",
            "Downloading http://yann.lecun.com/exdb/mnist/train-images-idx3-ubyte.gz to ../data/MNIST/raw/train-images-idx3-ubyte.gz\n"
          ]
        },
        {
          "output_type": "display_data",
          "data": {
            "application/vnd.jupyter.widget-view+json": {
              "model_id": "02c443e477734ab6acf6e8427c56ef46",
              "version_minor": 0,
              "version_major": 2
            },
            "text/plain": [
              "  0%|          | 0/9912422 [00:00<?, ?it/s]"
            ]
          },
          "metadata": {}
        },
        {
          "output_type": "stream",
          "name": "stdout",
          "text": [
            "Extracting ../data/MNIST/raw/train-images-idx3-ubyte.gz to ../data/MNIST/raw\n",
            "\n",
            "Downloading http://yann.lecun.com/exdb/mnist/train-labels-idx1-ubyte.gz\n",
            "Downloading http://yann.lecun.com/exdb/mnist/train-labels-idx1-ubyte.gz to ../data/MNIST/raw/train-labels-idx1-ubyte.gz\n"
          ]
        },
        {
          "output_type": "display_data",
          "data": {
            "application/vnd.jupyter.widget-view+json": {
              "model_id": "dc62166c0eb94dbeae92c56d267b597d",
              "version_minor": 0,
              "version_major": 2
            },
            "text/plain": [
              "  0%|          | 0/28881 [00:00<?, ?it/s]"
            ]
          },
          "metadata": {}
        },
        {
          "output_type": "stream",
          "name": "stdout",
          "text": [
            "Extracting ../data/MNIST/raw/train-labels-idx1-ubyte.gz to ../data/MNIST/raw\n",
            "\n",
            "Downloading http://yann.lecun.com/exdb/mnist/t10k-images-idx3-ubyte.gz\n",
            "Downloading http://yann.lecun.com/exdb/mnist/t10k-images-idx3-ubyte.gz to ../data/MNIST/raw/t10k-images-idx3-ubyte.gz\n"
          ]
        },
        {
          "output_type": "display_data",
          "data": {
            "application/vnd.jupyter.widget-view+json": {
              "model_id": "24bb4c8218d2466884b904372030b043",
              "version_minor": 0,
              "version_major": 2
            },
            "text/plain": [
              "  0%|          | 0/1648877 [00:00<?, ?it/s]"
            ]
          },
          "metadata": {}
        },
        {
          "output_type": "stream",
          "name": "stdout",
          "text": [
            "Extracting ../data/MNIST/raw/t10k-images-idx3-ubyte.gz to ../data/MNIST/raw\n",
            "\n",
            "Downloading http://yann.lecun.com/exdb/mnist/t10k-labels-idx1-ubyte.gz\n",
            "Downloading http://yann.lecun.com/exdb/mnist/t10k-labels-idx1-ubyte.gz to ../data/MNIST/raw/t10k-labels-idx1-ubyte.gz\n"
          ]
        },
        {
          "output_type": "display_data",
          "data": {
            "application/vnd.jupyter.widget-view+json": {
              "model_id": "234bdff4067d4670ba8e86c21f2a114e",
              "version_minor": 0,
              "version_major": 2
            },
            "text/plain": [
              "  0%|          | 0/4542 [00:00<?, ?it/s]"
            ]
          },
          "metadata": {}
        },
        {
          "output_type": "stream",
          "name": "stdout",
          "text": [
            "Extracting ../data/MNIST/raw/t10k-labels-idx1-ubyte.gz to ../data/MNIST/raw\n",
            "\n"
          ]
        }
      ]
    },
    {
      "cell_type": "markdown",
      "metadata": {
        "id": "oikthAE4Dteb"
      },
      "source": [
        "2. Ver que la base de datos esté OK"
      ]
    },
    {
      "cell_type": "code",
      "metadata": {
        "colab": {
          "base_uri": "https://localhost:8080/"
        },
        "id": "cyq2UFIl-Qjy",
        "outputId": "d991f923-9945-4806-9865-3d3e3188082d"
      },
      "source": [
        "print(type(dataloader))\n",
        "print(type(dataloader['train']))"
      ],
      "execution_count": null,
      "outputs": [
        {
          "output_type": "stream",
          "name": "stdout",
          "text": [
            "<class 'dict'>\n",
            "<class 'torch.utils.data.dataloader.DataLoader'>\n"
          ]
        }
      ]
    },
    {
      "cell_type": "code",
      "metadata": {
        "colab": {
          "base_uri": "https://localhost:8080/",
          "height": 357
        },
        "id": "p2fs6Qdivs1H",
        "outputId": "dd02ed03-6b94-4f6a-9c77-c9805d72dac9"
      },
      "source": [
        "# Display image and label from dataloader (un herramienta para hacre batches de datasets)\n",
        "train_features, train_labels = next(iter(dataloader['train']))\n",
        "\n",
        "print(f\"Feature batch shape: {train_features.size()}\")\n",
        "print(f\"Labels batch shape: {train_labels.size()}\")\n",
        "\n",
        "img = train_features[0]\n",
        "print('tamaño de 1 imagen: ', img.shape)\n",
        "# le QUITO 1 dimension (la del tamaño del batch) para poder graficar\n",
        "img = train_features[0].squeeze()\n",
        "print('tamaño 1 imagen DESPUES de squeeze: ', img.shape)\n",
        "label = train_labels[0]\n",
        "plt.imshow(img, cmap=\"gray\")\n",
        "plt.show()\n",
        "print(f\"Label: {label}\")"
      ],
      "execution_count": null,
      "outputs": [
        {
          "output_type": "stream",
          "name": "stdout",
          "text": [
            "Feature batch shape: torch.Size([64, 1, 28, 28])\n",
            "Labels batch shape: torch.Size([64])\n",
            "tamaño de 1 imagen:  torch.Size([1, 28, 28])\n",
            "tamaño 1 imagen DESPUES de squeeze:  torch.Size([28, 28])\n"
          ]
        },
        {
          "output_type": "display_data",
          "data": {
            "image/png": "[encoded data removed]",
            "text/plain": [
              "<Figure size 432x288 with 1 Axes>"
            ]
          },
          "metadata": {
            "needs_background": "light"
          }
        },
        {
          "output_type": "stream",
          "name": "stdout",
          "text": [
            "Label: 5\n"
          ]
        }
      ]
    },
    {
      "cell_type": "markdown",
      "metadata": {
        "id": "EY0TN4erDxRd"
      },
      "source": [
        "3. Construyo mi CNN"
      ]
    },
    {
      "cell_type": "code",
      "metadata": {
        "id": "JrO5gfEL3KRC"
      },
      "source": [
        "# defino primero un \"bloque\" de una capa CNN\n",
        "def block(c_in, c_out, k=3, p=1, s=1, pk=2, ps=2):\n",
        "    return torch.nn.Sequential(\n",
        "        torch.nn.Conv2d(c_in, c_out, k, padding=p, stride=s), # conv\n",
        "        torch.nn.ReLU(),                                      # activation\n",
        "        torch.nn.MaxPool2d(pk, stride=ps)                     # pooling\n",
        "    )\n",
        "\n",
        "\n",
        "# ahora SI construyo mi red..\n",
        "class CNN(torch.nn.Module):\n",
        "  def __init__(self, n_channels=1, n_outputs=10):\n",
        "    super().__init__()\n",
        "    self.conv1 = block(n_channels, 64)\n",
        "    self.conv2 = block(64, 128)\n",
        "    self.fc = torch.nn.Linear(128*7*7, n_outputs) # el 7 sale del stride 2 que tienen las 2 capas pooling\n",
        "    #self.sm = torch.nn.Softmax(dim=1)\n",
        "    print('Red creada')\n",
        "    print('arquitectura:')\n",
        "    print(self)\n",
        "    # también me fijo en el número de parámetros entrenables\n",
        "    pytorch_total_params = sum(p.numel() for p in self.parameters() if p.requires_grad)\n",
        "    print('Número total de parámetros a entrenar: ', pytorch_total_params)\n",
        "\n",
        "  def forward(self, x):\n",
        "    print(\"Validar dimensiones:\")\n",
        "    print(\"Entrada: \", x.shape)\n",
        "    x = self.conv1(x)\n",
        "    print(\"conv1: \", x.shape)\n",
        "    x = self.conv2(x)\n",
        "    print(\"conv2: \", x.shape)\n",
        "    x = x.view(x.shape[0], -1)\n",
        "    print(\"imagen vectorizada: \", x.shape)\n",
        "    x = self.fc(x)\n",
        "    print(\"fc: \", x.shape)\n",
        "   # x = self.sm(x)\n",
        "    #print(\"Salida: \", x.shape)\n",
        "    return x"
      ],
      "execution_count": 8,
      "outputs": []
    },
    {
      "cell_type": "code",
      "metadata": {
        "colab": {
          "base_uri": "https://localhost:8080/"
        },
        "id": "cb6DoGaP31md",
        "outputId": "595f6a98-9a12-4586-f7f5-b8c0af7fd36d"
      },
      "source": [
        "model = CNN()\n"
      ],
      "execution_count": null,
      "outputs": [
        {
          "output_type": "stream",
          "name": "stdout",
          "text": [
            "Red creada\n",
            "arquitectura:\n",
            "CNN(\n",
            "  (conv1): Sequential(\n",
            "    (0): Conv2d(1, 64, kernel_size=(3, 3), stride=(1, 1), padding=(1, 1))\n",
            "    (1): ReLU()\n",
            "    (2): MaxPool2d(kernel_size=2, stride=2, padding=0, dilation=1, ceil_mode=False)\n",
            "  )\n",
            "  (conv2): Sequential(\n",
            "    (0): Conv2d(64, 128, kernel_size=(3, 3), stride=(1, 1), padding=(1, 1))\n",
            "    (1): ReLU()\n",
            "    (2): MaxPool2d(kernel_size=2, stride=2, padding=0, dilation=1, ceil_mode=False)\n",
            "  )\n",
            "  (fc): Linear(in_features=6272, out_features=10, bias=True)\n",
            ")\n",
            "Número total de parámetros a entrenar:  137226\n"
          ]
        }
      ]
    },
    {
      "cell_type": "markdown",
      "metadata": {
        "id": "Z4tEn-XqHVZ7"
      },
      "source": [
        "4. Veamos que las dimensiones sean consistentes."
      ]
    },
    {
      "cell_type": "code",
      "metadata": {
        "colab": {
          "base_uri": "https://localhost:8080/"
        },
        "id": "Eaf4SNNBA1Cx",
        "outputId": "d5143074-1e65-4ab7-dbd8-a16076806995"
      },
      "source": [
        "output = model(torch.randn(1, 1, 28, 28))\n"
      ],
      "execution_count": null,
      "outputs": [
        {
          "output_type": "stream",
          "name": "stdout",
          "text": [
            "Validar dimensiones:\n",
            "Entrada:  torch.Size([1, 1, 28, 28])\n",
            "conv1:  torch.Size([1, 64, 14, 14])\n",
            "conv2:  torch.Size([1, 128, 7, 7])\n",
            "imagen vectorizada:  torch.Size([1, 6272])\n",
            "fc:  torch.Size([1, 10])\n"
          ]
        }
      ]
    },
    {
      "cell_type": "markdown",
      "metadata": {
        "id": "PvcRxDjWFKCo"
      },
      "source": [
        "Vuelvo a definir mi red para que en cada `forward` no me imprima los tamaños de la salida"
      ]
    },
    {
      "cell_type": "code",
      "metadata": {
        "id": "v5q_5tdF71Vx"
      },
      "source": [
        "class CNN(torch.nn.Module):\n",
        "  def __init__(self, n_channels=1, n_outputs=10):\n",
        "    super().__init__()\n",
        "    self.conv1 = block(n_channels, 36)\n",
        "    self.conv2 = block(36, 128)\n",
        "    self.conv3 = block(128, 256)\n",
        "    self.fc = torch.nn.Linear(256*3*3, n_outputs) # el 7 sale del stride 2 que tienen las 2 capas pooling\n",
        "    self.sm = torch.nn.Softmax(dim=1)\n",
        "\n",
        "\n",
        "  def forward(self, x):\n",
        "    x = self.conv1(x)\n",
        "    x = self.conv2(x)\n",
        "    x = self.conv3(x)\n",
        "    x = x.view(x.shape[0], -1)\n",
        "    x = self.fc(x)\n",
        "    x = self.sm(x)\n",
        "    return x"
      ],
      "execution_count": 55,
      "outputs": []
    },
    {
      "cell_type": "markdown",
      "metadata": {
        "id": "eoB3GvDtGUgY"
      },
      "source": [
        "5. Armo las funciones necesarias"
      ]
    },
    {
      "cell_type": "code",
      "metadata": {
        "id": "7fM09lfI74jQ"
      },
      "source": [
        "from tqdm import tqdm # <- para graficar la barra de avance\n",
        "\n",
        "\n",
        "def fit(model, dataloader, epochs=5):\n",
        "    model.to(device)\n",
        "    optimizer = torch.optim.Adam(model.parameters(), lr=1e-3)\n",
        "    criterion = torch.nn.CrossEntropyLoss()\n",
        "    for epoch in range(1, epochs+1):\n",
        "        model.train()\n",
        "        train_loss, train_acc = [], []\n",
        "        bar = tqdm(dataloader['train'])\n",
        "        for batch in bar:\n",
        "            X, y = batch\n",
        "            X, y = X.to(device), y.to(device)\n",
        "            optimizer.zero_grad()\n",
        "            y_hat = model(X)\n",
        "            loss = criterion(y_hat, y)\n",
        "            loss.backward()\n",
        "            optimizer.step()\n",
        "            train_loss.append(loss.item())\n",
        "            ####\n",
        "            acc = (y == torch.argmax(y_hat, axis=1)).sum().item() / len(y)\n",
        "            train_acc.append(acc)\n",
        "            bar.set_description(f\"loss {np.mean(train_loss):.5f} acc {np.mean(train_acc):.5f}\")\n",
        "        bar = tqdm(dataloader['test'])\n",
        "        val_loss, val_acc = [], []\n",
        "        model.eval()\n",
        "        with torch.no_grad():\n",
        "            for batch in bar:\n",
        "                X, y = batch\n",
        "                X, y = X.to(device), y.to(device)\n",
        "                y_hat = model(X)\n",
        "                loss = criterion(y_hat, y)\n",
        "                val_loss.append(loss.item())\n",
        "                acc = (y == torch.argmax(y_hat, axis=1)).sum().item() / len(y)\n",
        "                val_acc.append(acc)\n",
        "                bar.set_description(f\"val_loss {np.mean(val_loss):.5f} val_acc {np.mean(val_acc):.5f}\")\n",
        "        print(f\"Epoch {epoch}/{epochs} loss {np.mean(train_loss):.5f} val_loss {np.mean(val_loss):.5f} acc {np.mean(train_acc):.5f} val_acc {np.mean(val_acc):.5f}\")\n",
        "        "
      ],
      "execution_count": 28,
      "outputs": []
    },
    {
      "cell_type": "code",
      "metadata": {
        "id": "NlyqRmGIDGS8"
      },
      "source": [
        "model = CNN()"
      ],
      "execution_count": 56,
      "outputs": []
    },
    {
      "cell_type": "markdown",
      "metadata": {
        "id": "zagkkBhIG9Kc"
      },
      "source": [
        "5. Entreno la red"
      ]
    },
    {
      "cell_type": "code",
      "metadata": {
        "colab": {
          "base_uri": "https://localhost:8080/"
        },
        "id": "CYHKN7XH7-Kk",
        "outputId": "62498f8d-ae0d-4357-cc89-9cf7eeb0b489"
      },
      "source": [
        "fit(model, dataloader)"
      ],
      "execution_count": 57,
      "outputs": [
        {
          "output_type": "stream",
          "name": "stderr",
          "text": [
            "loss 1.59863 acc 0.86326: 100%|██████████| 938/938 [00:37<00:00, 24.91it/s]\n",
            "val_loss 1.57799 val_acc 0.88227: 100%|██████████| 157/157 [00:04<00:00, 35.87it/s]\n"
          ]
        },
        {
          "output_type": "stream",
          "name": "stdout",
          "text": [
            "Epoch 1/5 loss 1.59863 val_loss 1.57799 acc 0.86326 val_acc 0.88227\n"
          ]
        },
        {
          "output_type": "stream",
          "name": "stderr",
          "text": [
            "loss 1.57267 acc 0.88763: 100%|██████████| 938/938 [00:37<00:00, 25.09it/s]\n",
            "val_loss 1.56877 val_acc 0.89142: 100%|██████████| 157/157 [00:04<00:00, 36.02it/s]\n"
          ]
        },
        {
          "output_type": "stream",
          "name": "stdout",
          "text": [
            "Epoch 2/5 loss 1.57267 val_loss 1.56877 acc 0.88763 val_acc 0.89142\n"
          ]
        },
        {
          "output_type": "stream",
          "name": "stderr",
          "text": [
            "loss 1.56986 acc 0.89043: 100%|██████████| 938/938 [00:37<00:00, 25.05it/s]\n",
            "val_loss 1.56860 val_acc 0.89232: 100%|██████████| 157/157 [00:04<00:00, 35.99it/s]\n"
          ]
        },
        {
          "output_type": "stream",
          "name": "stdout",
          "text": [
            "Epoch 3/5 loss 1.56986 val_loss 1.56860 acc 0.89043 val_acc 0.89232\n"
          ]
        },
        {
          "output_type": "stream",
          "name": "stderr",
          "text": [
            "loss 1.48648 acc 0.97468: 100%|██████████| 938/938 [00:37<00:00, 24.85it/s]\n",
            "val_loss 1.48115 val_acc 0.98000: 100%|██████████| 157/157 [00:04<00:00, 35.61it/s]\n"
          ]
        },
        {
          "output_type": "stream",
          "name": "stdout",
          "text": [
            "Epoch 4/5 loss 1.48648 val_loss 1.48115 acc 0.97468 val_acc 0.98000\n"
          ]
        },
        {
          "output_type": "stream",
          "name": "stderr",
          "text": [
            "loss 1.47724 acc 0.98376: 100%|██████████| 938/938 [00:37<00:00, 24.99it/s]\n",
            "val_loss 1.47494 val_acc 0.98637: 100%|██████████| 157/157 [00:04<00:00, 36.33it/s]"
          ]
        },
        {
          "output_type": "stream",
          "name": "stdout",
          "text": [
            "Epoch 5/5 loss 1.47724 val_loss 1.47494 acc 0.98376 val_acc 0.98637\n"
          ]
        },
        {
          "output_type": "stream",
          "name": "stderr",
          "text": [
            "\n"
          ]
        }
      ]
    },
    {
      "cell_type": "markdown",
      "metadata": {
        "id": "dHcr6aDtHNfc"
      },
      "source": [
        "6. Vemos que funcione."
      ]
    },
    {
      "cell_type": "code",
      "metadata": {
        "colab": {
          "base_uri": "https://localhost:8080/",
          "height": 412
        },
        "id": "k_jFvJ603PC-",
        "outputId": "4e433ef6-b876-44e2-8ff1-101acb2615bf"
      },
      "source": [
        "# corremos 1 dato, a ver como lo clasifica...\n",
        "test_features, test_labels = next(iter(dataloader['test']))\n",
        "\n",
        "k = 11\n",
        "\n",
        "algo = test_features[k]\n",
        "print(algo.shape)\n",
        "plt.imshow(algo.squeeze(), cmap='gray')\n",
        "plt.show()\n",
        "\n",
        "algo = algo.unsqueeze(0) # agrego la batch dim\n",
        "print(algo.shape)\n",
        "algo = algo.to(device)\n",
        "\n",
        "y_hat = model(algo)\n",
        "print(y_hat)\n",
        "print(torch.nn.functional.softmax(y_hat, dim=1))\n",
        "print(f'El numero es un: ', torch.argmax(y_hat, axis=1).item())\n"
      ],
      "execution_count": 59,
      "outputs": [
        {
          "output_type": "stream",
          "name": "stdout",
          "text": [
            "torch.Size([1, 28, 28])\n"
          ]
        },
        {
          "output_type": "display_data",
          "data": {
            "image/png": "[encoded data removed]",
            "text/plain": [
              "<Figure size 432x288 with 1 Axes>"
            ]
          },
          "metadata": {
            "needs_background": "light"
          }
        },
        {
          "output_type": "stream",
          "name": "stdout",
          "text": [
            "torch.Size([1, 1, 28, 28])\n",
            "tensor([[2.2480e-36, 0.0000e+00, 0.0000e+00, 0.0000e+00, 0.0000e+00, 9.1084e-44,\n",
            "         1.0000e+00, 0.0000e+00, 6.7859e-31, 0.0000e+00]], device='cuda:0',\n",
            "       grad_fn=<SoftmaxBackward0>)\n",
            "tensor([[0.0853, 0.0853, 0.0853, 0.0853, 0.0853, 0.0853, 0.2320, 0.0853, 0.0853,\n",
            "         0.0853]], device='cuda:0', grad_fn=<SoftmaxBackward0>)\n",
            "El numero es un:  6\n"
          ]
        }
      ]
    },
    {
      "cell_type": "markdown",
      "metadata": {
        "id": "6ZM8DWqENNDh"
      },
      "source": [
        "## 7. SORPRESA NRO 1\n",
        "\n",
        "## Probemos con un número nuestro!\n",
        "Primero lo dibujamos en el paint con un tamaño próximo a 28x28 pixeles\n",
        "(el tamaño del papel puede ser aproximado)...\n",
        "Después haremos un `resize`.\n",
        "Tratar de usar un marcador grueso!!!!"
      ]
    },
    {
      "cell_type": "markdown",
      "metadata": {
        "id": "vAQboG3CIILq"
      },
      "source": [
        "Cargamos el archivo hecho a mano"
      ]
    },
    {
      "cell_type": "code",
      "metadata": {
        "id": "o9rcWqjP3gy1",
        "colab": {
          "resources": {
            "http://localhost:8080/nbextensions/google.colab/files.js": {
              "data": "Ly8gQ29weXJpZ2h0IDIwMTcgR29vZ2xlIExMQwovLwovLyBMaWNlbnNlZCB1bmRlciB0aGUgQXBhY2hlIExpY2Vuc2UsIFZlcnNpb24gMi4wICh0aGUgIkxpY2Vuc2UiKTsKLy8geW91IG1heSBub3QgdXNlIHRoaXMgZmlsZSBleGNlcHQgaW4gY29tcGxpYW5jZSB3aXRoIHRoZSBMaWNlbnNlLgovLyBZb3UgbWF5IG9idGFpbiBhIGNvcHkgb2YgdGhlIExpY2Vuc2UgYXQKLy8KLy8gICAgICBodHRwOi8vd3d3LmFwYWNoZS5vcmcvbGljZW5zZXMvTElDRU5TRS0yLjAKLy8KLy8gVW5sZXNzIHJlcXVpcmVkIGJ5IGFwcGxpY2FibGUgbGF3IG9yIGFncmVlZCB0byBpbiB3cml0aW5nLCBzb2Z0d2FyZQovLyBkaXN0cmlidXRlZCB1bmRlciB0aGUgTGljZW5zZSBpcyBkaXN0cmlidXRlZCBvbiBhbiAiQVMgSVMiIEJBU0lTLAovLyBXSVRIT1VUIFdBUlJBTlRJRVMgT1IgQ09ORElUSU9OUyBPRiBBTlkgS0lORCwgZWl0aGVyIGV4cHJlc3Mgb3IgaW1wbGllZC4KLy8gU2VlIHRoZSBMaWNlbnNlIGZvciB0aGUgc3BlY2lmaWMgbGFuZ3VhZ2UgZ292ZXJuaW5nIHBlcm1pc3Npb25zIGFuZAovLyBsaW1pdGF0aW9ucyB1bmRlciB0aGUgTGljZW5zZS4KCi8qKgogKiBAZmlsZW92ZXJ2aWV3IEhlbHBlcnMgZm9yIGdvb2dsZS5jb2xhYiBQeXRob24gbW9kdWxlLgogKi8KKGZ1bmN0aW9uKHNjb3BlKSB7CmZ1bmN0aW9uIHNwYW4odGV4dCwgc3R5bGVBdHRyaWJ1dGVzID0ge30pIHsKICBjb25zdCBlbGVtZW50ID0gZG9jdW1lbnQuY3JlYXRlRWxlbWVudCgnc3BhbicpOwogIGVsZW1lbnQudGV4dENvbnRlbnQgPSB0ZXh0OwogIGZvciAoY29uc3Qga2V5IG9mIE9iamVjdC5rZXlzKHN0eWxlQXR0cmlidXRlcykpIHsKICAgIGVsZW1lbnQuc3R5bGVba2V5XSA9IHN0eWxlQXR0cmlidXRlc1trZXldOwogIH0KICByZXR1cm4gZWxlbWVudDsKfQoKLy8gTWF4IG51bWJlciBvZiBieXRlcyB3aGljaCB3aWxsIGJlIHVwbG9hZGVkIGF0IGEgdGltZS4KY29uc3QgTUFYX1BBWUxPQURfU0laRSA9IDEwMCAqIDEwMjQ7CgpmdW5jdGlvbiBfdXBsb2FkRmlsZXMoaW5wdXRJZCwgb3V0cHV0SWQpIHsKICBjb25zdCBzdGVwcyA9IHVwbG9hZEZpbGVzU3RlcChpbnB1dElkLCBvdXRwdXRJZCk7CiAgY29uc3Qgb3V0cHV0RWxlbWVudCA9IGRvY3VtZW50LmdldEVsZW1lbnRCeUlkKG91dHB1dElkKTsKICAvLyBDYWNoZSBzdGVwcyBvbiB0aGUgb3V0cHV0RWxlbWVudCB0byBtYWtlIGl0IGF2YWlsYWJsZSBmb3IgdGhlIG5leHQgY2FsbAogIC8vIHRvIHVwbG9hZEZpbGVzQ29udGludWUgZnJvbSBQeXRob24uCiAgb3V0cHV0RWxlbWVudC5zdGVwcyA9IHN0ZXBzOwoKICByZXR1cm4gX3VwbG9hZEZpbGVzQ29udGludWUob3V0cHV0SWQpOwp9CgovLyBUaGlzIGlzIHJvdWdobHkgYW4gYXN5bmMgZ2VuZXJhdG9yIChub3Qgc3VwcG9ydGVkIGluIHRoZSBicm93c2VyIHlldCksCi8vIHdoZXJlIHRoZXJlIGFyZSBtdWx0aXBsZSBhc3luY2hyb25vdXMgc3RlcHMgYW5kIHRoZSBQeXRob24gc2lkZSBpcyBnb2luZwovLyB0byBwb2xsIGZvciBjb21wbGV0aW9uIG9mIGVhY2ggc3RlcC4KLy8gVGhpcyB1c2VzIGEgUHJvbWlzZSB0byBibG9jayB0aGUgcHl0aG9uIHNpZGUgb24gY29tcGxldGlvbiBvZiBlYWNoIHN0ZXAsCi8vIHRoZW4gcGFzc2VzIHRoZSByZXN1bHQgb2YgdGhlIHByZXZpb3VzIHN0ZXAgYXMgdGhlIGlucHV0IHRvIHRoZSBuZXh0IHN0ZXAuCmZ1bmN0aW9uIF91cGxvYWRGaWxlc0NvbnRpbnVlKG91dHB1dElkKSB7CiAgY29uc3Qgb3V0cHV0RWxlbWVudCA9IGRvY3VtZW50LmdldEVsZW1lbnRCeUlkKG91dHB1dElkKTsKICBjb25zdCBzdGVwcyA9IG91dHB1dEVsZW1lbnQuc3RlcHM7CgogIGNvbnN0IG5leHQgPSBzdGVwcy5uZXh0KG91dHB1dEVsZW1lbnQubGFzdFByb21pc2VWYWx1ZSk7CiAgcmV0dXJuIFByb21pc2UucmVzb2x2ZShuZXh0LnZhbHVlLnByb21pc2UpLnRoZW4oKHZhbHVlKSA9PiB7CiAgICAvLyBDYWNoZSB0aGUgbGFzdCBwcm9taXNlIHZhbHVlIHRvIG1ha2UgaXQgYXZhaWxhYmxlIHRvIHRoZSBuZXh0CiAgICAvLyBzdGVwIG9mIHRoZSBnZW5lcmF0b3IuCiAgICBvdXRwdXRFbGVtZW50Lmxhc3RQcm9taXNlVmFsdWUgPSB2YWx1ZTsKICAgIHJldHVybiBuZXh0LnZhbHVlLnJlc3BvbnNlOwogIH0pOwp9CgovKioKICogR2VuZXJhdG9yIGZ1bmN0aW9uIHdoaWNoIGlzIGNhbGxlZCBiZXR3ZWVuIGVhY2ggYXN5bmMgc3RlcCBvZiB0aGUgdXBsb2FkCiAqIHByb2Nlc3MuCiAqIEBwYXJhbSB7c3RyaW5nfSBpbnB1dElkIEVsZW1lbnQgSUQgb2YgdGhlIGlucHV0IGZpbGUgcGlja2VyIGVsZW1lbnQuCiAqIEBwYXJhbSB7c3RyaW5nfSBvdXRwdXRJZCBFbGVtZW50IElEIG9mIHRoZSBvdXRwdXQgZGlzcGxheS4KICogQHJldHVybiB7IUl0ZXJhYmxlPCFPYmplY3Q+fSBJdGVyYWJsZSBvZiBuZXh0IHN0ZXBzLgogKi8KZnVuY3Rpb24qIHVwbG9hZEZpbGVzU3RlcChpbnB1dElkLCBvdXRwdXRJZCkgewogIGNvbnN0IGlucHV0RWxlbWVudCA9IGRvY3VtZW50LmdldEVsZW1lbnRCeUlkKGlucHV0SWQpOwogIGlucHV0RWxlbWVudC5kaXNhYmxlZCA9IGZhbHNlOwoKICBjb25zdCBvdXRwdXRFbGVtZW50ID0gZG9jdW1lbnQuZ2V0RWxlbWVudEJ5SWQob3V0cHV0SWQpOwogIG91dHB1dEVsZW1lbnQuaW5uZXJIVE1MID0gJyc7CgogIGNvbnN0IHBpY2tlZFByb21pc2UgPSBuZXcgUHJvbWlzZSgocmVzb2x2ZSkgPT4gewogICAgaW5wdXRFbGVtZW50LmFkZEV2ZW50TGlzdGVuZXIoJ2NoYW5nZScsIChlKSA9PiB7CiAgICAgIHJlc29sdmUoZS50YXJnZXQuZmlsZXMpOwogICAgfSk7CiAgfSk7CgogIGNvbnN0IGNhbmNlbCA9IGRvY3VtZW50LmNyZWF0ZUVsZW1lbnQoJ2J1dHRvbicpOwogIGlucHV0RWxlbWVudC5wYXJlbnRFbGVtZW50LmFwcGVuZENoaWxkKGNhbmNlbCk7CiAgY2FuY2VsLnRleHRDb250ZW50ID0gJ0NhbmNlbCB1cGxvYWQnOwogIGNvbnN0IGNhbmNlbFByb21pc2UgPSBuZXcgUHJvbWlzZSgocmVzb2x2ZSkgPT4gewogICAgY2FuY2VsLm9uY2xpY2sgPSAoKSA9PiB7CiAgICAgIHJlc29sdmUobnVsbCk7CiAgICB9OwogIH0pOwoKICAvLyBXYWl0IGZvciB0aGUgdXNlciB0byBwaWNrIHRoZSBmaWxlcy4KICBjb25zdCBmaWxlcyA9IHlpZWxkIHsKICAgIHByb21pc2U6IFByb21pc2UucmFjZShbcGlja2VkUHJvbWlzZSwgY2FuY2VsUHJvbWlzZV0pLAogICAgcmVzcG9uc2U6IHsKICAgICAgYWN0aW9uOiAnc3RhcnRpbmcnLAogICAgfQogIH07CgogIGNhbmNlbC5yZW1vdmUoKTsKCiAgLy8gRGlzYWJsZSB0aGUgaW5wdXQgZWxlbWVudCBzaW5jZSBmdXJ0aGVyIHBpY2tzIGFyZSBub3QgYWxsb3dlZC4KICBpbnB1dEVsZW1lbnQuZGlzYWJsZWQgPSB0cnVlOwoKICBpZiAoIWZpbGVzKSB7CiAgICByZXR1cm4gewogICAgICByZXNwb25zZTogewogICAgICAgIGFjdGlvbjogJ2NvbXBsZXRlJywKICAgICAgfQogICAgfTsKICB9CgogIGZvciAoY29uc3QgZmlsZSBvZiBmaWxlcykgewogICAgY29uc3QgbGkgPSBkb2N1bWVudC5jcmVhdGVFbGVtZW50KCdsaScpOwogICAgbGkuYXBwZW5kKHNwYW4oZmlsZS5uYW1lLCB7Zm9udFdlaWdodDogJ2JvbGQnfSkpOwogICAgbGkuYXBwZW5kKHNwYW4oCiAgICAgICAgYCgke2ZpbGUudHlwZSB8fCAnbi9hJ30pIC0gJHtmaWxlLnNpemV9IGJ5dGVzLCBgICsKICAgICAgICBgbGFzdCBtb2RpZmllZDogJHsKICAgICAgICAgICAgZmlsZS5sYXN0TW9kaWZpZWREYXRlID8gZmlsZS5sYXN0TW9kaWZpZWREYXRlLnRvTG9jYWxlRGF0ZVN0cmluZygpIDoKICAgICAgICAgICAgICAgICAgICAgICAgICAgICAgICAgICAgJ24vYSd9IC0gYCkpOwogICAgY29uc3QgcGVyY2VudCA9IHNwYW4oJzAlIGRvbmUnKTsKICAgIGxpLmFwcGVuZENoaWxkKHBlcmNlbnQpOwoKICAgIG91dHB1dEVsZW1lbnQuYXBwZW5kQ2hpbGQobGkpOwoKICAgIGNvbnN0IGZpbGVEYXRhUHJvbWlzZSA9IG5ldyBQcm9taXNlKChyZXNvbHZlKSA9PiB7CiAgICAgIGNvbnN0IHJlYWRlciA9IG5ldyBGaWxlUmVhZGVyKCk7CiAgICAgIHJlYWRlci5vbmxvYWQgPSAoZSkgPT4gewogICAgICAgIHJlc29sdmUoZS50YXJnZXQucmVzdWx0KTsKICAgICAgfTsKICAgICAgcmVhZGVyLnJlYWRBc0FycmF5QnVmZmVyKGZpbGUpOwogICAgfSk7CiAgICAvLyBXYWl0IGZvciB0aGUgZGF0YSB0byBiZSByZWFkeS4KICAgIGxldCBmaWxlRGF0YSA9IHlpZWxkIHsKICAgICAgcHJvbWlzZTogZmlsZURhdGFQcm9taXNlLAogICAgICByZXNwb25zZTogewogICAgICAgIGFjdGlvbjogJ2NvbnRpbnVlJywKICAgICAgfQogICAgfTsKCiAgICAvLyBVc2UgYSBjaHVua2VkIHNlbmRpbmcgdG8gYXZvaWQgbWVzc2FnZSBzaXplIGxpbWl0cy4gU2VlIGIvNjIxMTU2NjAuCiAgICBsZXQgcG9zaXRpb24gPSAwOwogICAgZG8gewogICAgICBjb25zdCBsZW5ndGggPSBNYXRoLm1pbihmaWxlRGF0YS5ieXRlTGVuZ3RoIC0gcG9zaXRpb24sIE1BWF9QQVlMT0FEX1NJWkUpOwogICAgICBjb25zdCBjaHVuayA9IG5ldyBVaW50OEFycmF5KGZpbGVEYXRhLCBwb3NpdGlvbiwgbGVuZ3RoKTsKICAgICAgcG9zaXRpb24gKz0gbGVuZ3RoOwoKICAgICAgY29uc3QgYmFzZTY0ID0gYnRvYShTdHJpbmcuZnJvbUNoYXJDb2RlLmFwcGx5KG51bGwsIGNodW5rKSk7CiAgICAgIHlpZWxkIHsKICAgICAgICByZXNwb25zZTogewogICAgICAgICAgYWN0aW9uOiAnYXBwZW5kJywKICAgICAgICAgIGZpbGU6IGZpbGUubmFtZSwKICAgICAgICAgIGRhdGE6IGJhc2U2NCwKICAgICAgICB9LAogICAgICB9OwoKICAgICAgbGV0IHBlcmNlbnREb25lID0gZmlsZURhdGEuYnl0ZUxlbmd0aCA9PT0gMCA/CiAgICAgICAgICAxMDAgOgogICAgICAgICAgTWF0aC5yb3VuZCgocG9zaXRpb24gLyBmaWxlRGF0YS5ieXRlTGVuZ3RoKSAqIDEwMCk7CiAgICAgIHBlcmNlbnQudGV4dENvbnRlbnQgPSBgJHtwZXJjZW50RG9uZX0lIGRvbmVgOwoKICAgIH0gd2hpbGUgKHBvc2l0aW9uIDwgZmlsZURhdGEuYnl0ZUxlbmd0aCk7CiAgfQoKICAvLyBBbGwgZG9uZS4KICB5aWVsZCB7CiAgICByZXNwb25zZTogewogICAgICBhY3Rpb246ICdjb21wbGV0ZScsCiAgICB9CiAgfTsKfQoKc2NvcGUuZ29vZ2xlID0gc2NvcGUuZ29vZ2xlIHx8IHt9OwpzY29wZS5nb29nbGUuY29sYWIgPSBzY29wZS5nb29nbGUuY29sYWIgfHwge307CnNjb3BlLmdvb2dsZS5jb2xhYi5fZmlsZXMgPSB7CiAgX3VwbG9hZEZpbGVzLAogIF91cGxvYWRGaWxlc0NvbnRpbnVlLAp9Owp9KShzZWxmKTsK",
              "ok": true,
              "headers": [
                [
                  "content-type",
                  "application/javascript"
                ]
              ],
              "status": 200,
              "status_text": "OK"
            }
          },
          "base_uri": "https://localhost:8080/",
          "height": 113
        },
        "outputId": "3ea6858f-fa41-4086-eb45-4426fceecb60"
      },
      "source": [
        "from google.colab import files\n",
        "files.upload()"
      ],
      "execution_count": 62,
      "outputs": [
        {
          "output_type": "display_data",
          "data": {
            "text/html": [
              "\n",
              "     <input type=\"file\" id=\"files-3fa1ebee-65b6-4ed4-b153-0746306392c0\" name=\"files[]\" multiple disabled\n",
              "        style=\"border:none\" />\n",
              "     <output id=\"result-3fa1ebee-65b6-4ed4-b153-0746306392c0\">\n",
              "      Upload widget is only available when the cell has been executed in the\n",
              "      current browser session. Please rerun this cell to enable.\n",
              "      </output>\n",
              "      <script src=\"/nbextensions/google.colab/files.js\"></script> "
            ],
            "text/plain": [
              "<IPython.core.display.HTML object>"
            ]
          },
          "metadata": {}
        },
        {
          "output_type": "stream",
          "name": "stdout",
          "text": [
            "Saving tres.png to tres.png\n"
          ]
        },
        {
          "output_type": "execute_result",
          "data": {
            "text/plain": [
              "{'tres.png': b\"\\x89PNG\\r\\n\\x1a\\n\\x00\\x00\\x00\\rIHDR\\x00\\x00\\x00>\\x00\\x00\\x00A\\x08\\x02\\x00\\x00\\x00\\x06\\xd7\\x80\\x07\\x00\\x00\\x00\\x01sRGB\\x00\\xae\\xce\\x1c\\xe9\\x00\\x00\\x00\\x04gAMA\\x00\\x00\\xb1\\x8f\\x0b\\xfca\\x05\\x00\\x00\\x00\\tpHYs\\x00\\x00\\x0e\\xc3\\x00\\x00\\x0e\\xc3\\x01\\xc7o\\xa8d\\x00\\x00\\x01\\xcaIDAThC\\xed\\x98A\\xae\\x84 \\x0c\\x86\\x8d\\x0b\\xe3\\xd2\\xa5\\xcb\\x17O\\xe7M<\\x86\\xc7\\xf0x\\xf3\\x98\\xc7\\x1bB\\x00\\x19\\xda\\xbf`H\\xearB\\x87\\xaf\\x1f\\x15\\x8a\\xc3\\xab\\xdbg\\xe8\\x96\\xfc\\xa5\\xe8O\\xac\\x9dZW\\xeb$\\x03Z0$]B\\x83\\xd5\\xba\\x90H\\xd2\\xdfHZ\\xbf\\xae\\xeb\\xe7\\xef9\\xcf\\x93\\x04\\xc1\\x1b\\x8c\\xa2[\\xdc\\xe1\\xe6\\xa9\\x9a\\x06\\x1f=\\x0f\\xed\\xe72MS\\x8du`\\xa2\\x1b\\xeeeY\\xeed'\\x7f\\x17_\\x01\\x0ez\\xcc\\xbd\\xef{\\\\\\xaf\\xc7q\\x049\\xcc\\xf3,\\xa8\\x9f\\x8c\\x1ep'\\xa1\\xfd4\\x82\\x04\\x04\\xe9\\xc9\\xe8\\xeb\\xba:\\x97_\\xb9]\\x0e~\\x02\\x86\\x9e\\xb7\\xa5\\x04Qdt3\\xb1E/\\xe7\\xb6S\\xfa\\xf4\\xcf\\xa0[\\x02*\\xb7eu\\xcb\\xf5\\x0c:{V\\xf3\\x92\\xf4\\x87\\x1e\\x9f\\x00\\xec\\xfc\\xfd@r\\xad\\x93fM\\x1e[\\xbcb\\x8b\\xe7\\xad\\x85~w\\xd6Jq\\xbf\\xdf\\x1c\\x92\\xc5\\x92\\xc1\\r\\xa0\\xff_\\xfa\\x12\\x9a\\x921\\x99\\x96F\\xd0\\xb4d\\xad\\xe7\\x9b\\xb0J\\xd02\\xd6\\xfd\\xc35\\xee\\xba\\xc4[.I\\xeb\\xeep\\xcdw\\x915r@_\\xd3\\xb8=\\xbc\\xcba\\x1cG\\xc1\\xb6\\xb1\\xca\\x0e\\x93l\\xb9\\\\>\\x82\\xfaQ\\xeb%\\x9bO\\xa5\\xbe\\xb7\\x05z\\xd06\\x9a\\x15\\x10\\xe9{\\x1b\\xa1\\xc7}/^\\xf7M\\xd1M\\x02nG\\xc2\\xc5\\xb7F\\x17\\xbcp\\xb4F\\x17\\xbcp(z\\xc9\\x1e\\xf9\\x19#uWR\\xeb]X\\x07?\\xe7n\\xdb\\xf6X\\xc1\\xc4\\xdfuK\\xda\\x92d[OY\\xaa\\xc4Xr\\xad\\x97\\xb7\\x8a\\xf96\\x18\\xbf\\x85\\x90\\xd1\\xe3\\x86\\x84\\xf4\\xbd\\x97\\xf7\\xe5,\\xb9>\\x1ct\\xff\\x8fH\\x8b\\x80\\x9b\\x96\\xbc%\\x81\\xf5\\x8a\\x84\\xa3\\xd6\\x91\\xb9\\xc1XE\\x07\\x05\\xb2\\xc2\\xd5:K\\x1b\\x18\\xa4\\xd6A\\x81\\xacp\\xb5\\xce\\xd2\\x06\\x06\\xa9uP +\\\\\\xad\\xb3\\xb4\\x81Aj\\x1d\\x14\\xc8\\nW\\xeb,m`P\\xc7\\xd6\\x7f\\x01F\\x99\\x7f}a\\xc9\\xc3\\xc3\\x00\\x00\\x00\\x00IEND\\xaeB`\\x82\"}"
            ]
          },
          "metadata": {},
          "execution_count": 62
        }
      ]
    },
    {
      "cell_type": "code",
      "metadata": {
        "colab": {
          "base_uri": "https://localhost:8080/"
        },
        "id": "PxgcwtBRRCtd",
        "outputId": "5e2eb436-e2bf-4b1a-e544-ba5380a5ded3"
      },
      "source": [
        "# desde colab\n",
        "\n",
        "from google.colab import drive\n",
        "drive.mount(\"/content/drive\")\n",
        "\n"
      ],
      "execution_count": 70,
      "outputs": [
        {
          "output_type": "stream",
          "name": "stdout",
          "text": [
            "Mounted at /content/drive\n"
          ]
        }
      ]
    },
    {
      "cell_type": "code",
      "metadata": {
        "id": "ju1kgUR0GUE_"
      },
      "source": [
        "#foto = torchvision.io.read_image('tres.png')\n",
        "foto= torchvision.io.read_image('/content/drive/My Drive/CIA_marcos/deep_learning/clase_5/tres.png')"
      ],
      "execution_count": 71,
      "outputs": []
    },
    {
      "cell_type": "markdown",
      "metadata": {
        "id": "_qi4mD6qIKon"
      },
      "source": [
        "Veamos el tamaño, datatype, etc."
      ]
    },
    {
      "cell_type": "code",
      "metadata": {
        "colab": {
          "base_uri": "https://localhost:8080/"
        },
        "id": "dNQ4v03sGWVx",
        "outputId": "429881ed-1151-4269-98d0-a3abd07dbae4"
      },
      "source": [
        "print(foto.shape)\n",
        "print(foto.dtype)"
      ],
      "execution_count": 40,
      "outputs": [
        {
          "output_type": "stream",
          "name": "stdout",
          "text": [
            "torch.Size([3, 65, 62])\n",
            "torch.uint8\n"
          ]
        }
      ]
    },
    {
      "cell_type": "code",
      "metadata": {
        "colab": {
          "base_uri": "https://localhost:8080/"
        },
        "id": "Pd1AYWuaLtyb",
        "outputId": "d1399221-f9a0-4862-ae86-a87fbe53a8f3"
      },
      "source": [
        "foto = foto.float()\n",
        "print(foto.dtype)"
      ],
      "execution_count": 72,
      "outputs": [
        {
          "output_type": "stream",
          "name": "stdout",
          "text": [
            "torch.float32\n"
          ]
        }
      ]
    },
    {
      "cell_type": "markdown",
      "metadata": {
        "id": "ILNXJwG4ISoT"
      },
      "source": [
        "Apliquemos algunas transformaciones para llevarlo al tamaño deseado"
      ]
    },
    {
      "cell_type": "code",
      "metadata": {
        "colab": {
          "base_uri": "https://localhost:8080/"
        },
        "id": "URBdZ4cmHHVY",
        "outputId": "3075ec19-5262-4d49-eff6-c79e5bf7e4a1"
      },
      "source": [
        "f2 = torchvision.transforms.Resize(size=(28,28))(foto)\n",
        "print(f2.shape)"
      ],
      "execution_count": null,
      "outputs": [
        {
          "output_type": "stream",
          "name": "stdout",
          "text": [
            "torch.Size([3, 28, 28])\n"
          ]
        }
      ]
    },
    {
      "cell_type": "code",
      "metadata": {
        "colab": {
          "base_uri": "https://localhost:8080/"
        },
        "id": "2DeOH073I78S",
        "outputId": "21c611ab-afbf-4259-cea5-95b85fdb9094"
      },
      "source": [
        "f3 = torchvision.transforms.Grayscale(num_output_channels=1)(f2)\n",
        "print(f3.shape)\n"
      ],
      "execution_count": null,
      "outputs": [
        {
          "output_type": "stream",
          "name": "stdout",
          "text": [
            "torch.Size([1, 28, 28])\n"
          ]
        }
      ]
    },
    {
      "cell_type": "markdown",
      "metadata": {
        "id": "RjEbxOyxIZ10"
      },
      "source": [
        "Podemos colocar todas las transformaciones juntas con `.transforms.Compose`"
      ]
    },
    {
      "cell_type": "code",
      "metadata": {
        "id": "TyWn2dmyJVLn"
      },
      "source": [
        "adaptacion = torchvision.transforms.Compose([\n",
        "                                             torchvision.transforms.Resize(size=(28,28)),\n",
        "                                             torchvision.transforms.Grayscale(num_output_channels=1),\n",
        "                                             torchvision.transforms.Normalize((0.1307,), (0.3081,)), #<---------- IMPORTANTE!\n",
        "                                                             ])"
      ],
      "execution_count": 73,
      "outputs": []
    },
    {
      "cell_type": "code",
      "metadata": {
        "colab": {
          "base_uri": "https://localhost:8080/"
        },
        "id": "e5yVpzjgKSD-",
        "outputId": "7e3760bb-5081-4aa2-e770-fed73bf5933f"
      },
      "source": [
        "f4 = adaptacion(foto)\n",
        "print(f4.shape)\n",
        "f4 = torchvision.transforms.functional.invert(f4)"
      ],
      "execution_count": 74,
      "outputs": [
        {
          "output_type": "stream",
          "name": "stdout",
          "text": [
            "torch.Size([1, 28, 28])\n"
          ]
        }
      ]
    },
    {
      "cell_type": "markdown",
      "metadata": {
        "id": "QOaOA8JYIioV"
      },
      "source": [
        "Veamos como quedó"
      ]
    },
    {
      "cell_type": "code",
      "metadata": {
        "colab": {
          "base_uri": "https://localhost:8080/",
          "height": 265
        },
        "id": "B2h5r-FqKz6D",
        "outputId": "32db418a-1c1f-424a-fdd8-3400bf843ceb"
      },
      "source": [
        "plt.imshow(f4.squeeze(), cmap='gray')\n",
        "plt.show()"
      ],
      "execution_count": 75,
      "outputs": [
        {
          "output_type": "display_data",
          "data": {
            "image/png": "[encoded data removed]",
            "text/plain": [
              "<Figure size 432x288 with 1 Axes>"
            ]
          },
          "metadata": {
            "needs_background": "light"
          }
        }
      ]
    },
    {
      "cell_type": "markdown",
      "metadata": {
        "id": "WaiEjwycIlh9"
      },
      "source": [
        "Lo pasamos por la red...\n",
        "RECORDAR ENVIARLO A `DEVICE`"
      ]
    },
    {
      "cell_type": "code",
      "metadata": {
        "colab": {
          "base_uri": "https://localhost:8080/"
        },
        "id": "XFVUKwe0MxiE",
        "outputId": "b62a1938-a652-4a19-b19f-6f57f780bb2c"
      },
      "source": [
        "y_hat = model(f4.unsqueeze(0).to(device))\n",
        "print(y_hat)\n",
        "print(torch.nn.functional.softmax(y_hat, dim=1))\n",
        "print(f'El numero es un: ', torch.argmax(y_hat, axis=1).item())"
      ],
      "execution_count": 76,
      "outputs": [
        {
          "output_type": "stream",
          "name": "stdout",
          "text": [
            "tensor([[0., 0., 0., 1., 0., 0., 0., 0., 0., 0.]], device='cuda:0',\n",
            "       grad_fn=<SoftmaxBackward0>)\n",
            "tensor([[0.0853, 0.0853, 0.0853, 0.2320, 0.0853, 0.0853, 0.0853, 0.0853, 0.0853,\n",
            "         0.0853]], device='cuda:0', grad_fn=<SoftmaxBackward0>)\n",
            "El numero es un:  3\n"
          ]
        }
      ]
    },
    {
      "cell_type": "markdown",
      "metadata": {
        "id": "N9_1a5iymIvC"
      },
      "source": [
        "## 8. SORPRESA NÚMERO 2\n",
        "\n",
        "Vamos a armar una competición en el curso.\n",
        "El objetivo es armar una arquitectura de CNN que identifique el dataset MNIST.\n",
        "Se van a usar capas de convolución, de activación y de pooling a elección. Cada alumno eligirá si modelo, lo entrenará y presentará los siguientes resultados:\n",
        "\n",
        "*   test_acc\n",
        "*   n_parameter\n",
        "*   n_layers (conv + activacion + pooling = 1 capa)\n",
        "*   n_epochs\n",
        "\n",
        "\n",
        "El modelo se deberá ajustar a los siguientes parámetros:\n",
        "\n",
        "*   train: 80%, validation: 10%, test: 10% (los datos serán dados, no los tienen que bajar, así todos usan el mismo set para cada grupo).\n",
        "*   capa final de salida será una softmax de 10 elementos.\n",
        "*   coss_function será `CrossEntropyLoss`.\n",
        "\n",
        "El ganador de la competencia será aquel que consiga el mayor `score` empleando la siguietne fórmula:\n",
        "\n",
        "$$ score = \\frac{1}{log_{10}(n\\_parameter)} * \\frac{10}{n\\_epochs}*test\\_acc*n\\_layers$$\n",
        "\n",
        "\n",
        "\n",
        "\n",
        "\n",
        "\n",
        "\n"
      ]
    }
  ]
}