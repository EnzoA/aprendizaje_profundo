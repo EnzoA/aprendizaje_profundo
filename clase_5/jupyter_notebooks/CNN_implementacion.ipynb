{
  "nbformat": 4,
  "nbformat_minor": 0,
  "metadata": {
    "colab": {
      "provenance": []
    },
    "kernelspec": {
      "name": "python3",
      "display_name": "Python 3"
    },
    "language_info": {
      "name": "python"
    },
    "widgets": {
      "application/vnd.jupyter.widget-state+json": {
        "f552be85ee8a48a0a67c3d99c2f07972": {
          "model_module": "@jupyter-widgets/controls",
          "model_name": "HBoxModel",
          "model_module_version": "1.5.0",
          "state": {
            "_dom_classes": [],
            "_model_module": "@jupyter-widgets/controls",
            "_model_module_version": "1.5.0",
            "_model_name": "HBoxModel",
            "_view_count": null,
            "_view_module": "@jupyter-widgets/controls",
            "_view_module_version": "1.5.0",
            "_view_name": "HBoxView",
            "box_style": "",
            "children": [
              "IPY_MODEL_4597cc267de448c984f1f8a0532ed576",
              "IPY_MODEL_251fbb1409cf4de99e8de5ee4c2a5159",
              "IPY_MODEL_faa4758f14174c1a9420869757506d4e"
            ],
            "layout": "IPY_MODEL_90f0aa27c5e84d3bb0117a6e4aecc65c"
          }
        },
        "4597cc267de448c984f1f8a0532ed576": {
          "model_module": "@jupyter-widgets/controls",
          "model_name": "HTMLModel",
          "model_module_version": "1.5.0",
          "state": {
            "_dom_classes": [],
            "_model_module": "@jupyter-widgets/controls",
            "_model_module_version": "1.5.0",
            "_model_name": "HTMLModel",
            "_view_count": null,
            "_view_module": "@jupyter-widgets/controls",
            "_view_module_version": "1.5.0",
            "_view_name": "HTMLView",
            "description": "",
            "description_tooltip": null,
            "layout": "IPY_MODEL_fb3395308a374dc7b5c67f948b7a0519",
            "placeholder": "​",
            "style": "IPY_MODEL_c67068eef7b14c068c407f0a45423864",
            "value": "100%"
          }
        },
        "251fbb1409cf4de99e8de5ee4c2a5159": {
          "model_module": "@jupyter-widgets/controls",
          "model_name": "FloatProgressModel",
          "model_module_version": "1.5.0",
          "state": {
            "_dom_classes": [],
            "_model_module": "@jupyter-widgets/controls",
            "_model_module_version": "1.5.0",
            "_model_name": "FloatProgressModel",
            "_view_count": null,
            "_view_module": "@jupyter-widgets/controls",
            "_view_module_version": "1.5.0",
            "_view_name": "ProgressView",
            "bar_style": "success",
            "description": "",
            "description_tooltip": null,
            "layout": "IPY_MODEL_fc937f75b53042c38cd0202815ac723c",
            "max": 9912422,
            "min": 0,
            "orientation": "horizontal",
            "style": "IPY_MODEL_2612f930571d41ca9574e9daf93ffb86",
            "value": 9912422
          }
        },
        "faa4758f14174c1a9420869757506d4e": {
          "model_module": "@jupyter-widgets/controls",
          "model_name": "HTMLModel",
          "model_module_version": "1.5.0",
          "state": {
            "_dom_classes": [],
            "_model_module": "@jupyter-widgets/controls",
            "_model_module_version": "1.5.0",
            "_model_name": "HTMLModel",
            "_view_count": null,
            "_view_module": "@jupyter-widgets/controls",
            "_view_module_version": "1.5.0",
            "_view_name": "HTMLView",
            "description": "",
            "description_tooltip": null,
            "layout": "IPY_MODEL_a39dca9d679242b09eaa8e08961b4d2c",
            "placeholder": "​",
            "style": "IPY_MODEL_df873d931c554282a841341aed63e130",
            "value": " 9912422/9912422 [00:00&lt;00:00, 67998627.44it/s]"
          }
        },
        "90f0aa27c5e84d3bb0117a6e4aecc65c": {
          "model_module": "@jupyter-widgets/base",
          "model_name": "LayoutModel",
          "model_module_version": "1.2.0",
          "state": {
            "_model_module": "@jupyter-widgets/base",
            "_model_module_version": "1.2.0",
            "_model_name": "LayoutModel",
            "_view_count": null,
            "_view_module": "@jupyter-widgets/base",
            "_view_module_version": "1.2.0",
            "_view_name": "LayoutView",
            "align_content": null,
            "align_items": null,
            "align_self": null,
            "border": null,
            "bottom": null,
            "display": null,
            "flex": null,
            "flex_flow": null,
            "grid_area": null,
            "grid_auto_columns": null,
            "grid_auto_flow": null,
            "grid_auto_rows": null,
            "grid_column": null,
            "grid_gap": null,
            "grid_row": null,
            "grid_template_areas": null,
            "grid_template_columns": null,
            "grid_template_rows": null,
            "height": null,
            "justify_content": null,
            "justify_items": null,
            "left": null,
            "margin": null,
            "max_height": null,
            "max_width": null,
            "min_height": null,
            "min_width": null,
            "object_fit": null,
            "object_position": null,
            "order": null,
            "overflow": null,
            "overflow_x": null,
            "overflow_y": null,
            "padding": null,
            "right": null,
            "top": null,
            "visibility": null,
            "width": null
          }
        },
        "fb3395308a374dc7b5c67f948b7a0519": {
          "model_module": "@jupyter-widgets/base",
          "model_name": "LayoutModel",
          "model_module_version": "1.2.0",
          "state": {
            "_model_module": "@jupyter-widgets/base",
            "_model_module_version": "1.2.0",
            "_model_name": "LayoutModel",
            "_view_count": null,
            "_view_module": "@jupyter-widgets/base",
            "_view_module_version": "1.2.0",
            "_view_name": "LayoutView",
            "align_content": null,
            "align_items": null,
            "align_self": null,
            "border": null,
            "bottom": null,
            "display": null,
            "flex": null,
            "flex_flow": null,
            "grid_area": null,
            "grid_auto_columns": null,
            "grid_auto_flow": null,
            "grid_auto_rows": null,
            "grid_column": null,
            "grid_gap": null,
            "grid_row": null,
            "grid_template_areas": null,
            "grid_template_columns": null,
            "grid_template_rows": null,
            "height": null,
            "justify_content": null,
            "justify_items": null,
            "left": null,
            "margin": null,
            "max_height": null,
            "max_width": null,
            "min_height": null,
            "min_width": null,
            "object_fit": null,
            "object_position": null,
            "order": null,
            "overflow": null,
            "overflow_x": null,
            "overflow_y": null,
            "padding": null,
            "right": null,
            "top": null,
            "visibility": null,
            "width": null
          }
        },
        "c67068eef7b14c068c407f0a45423864": {
          "model_module": "@jupyter-widgets/controls",
          "model_name": "DescriptionStyleModel",
          "model_module_version": "1.5.0",
          "state": {
            "_model_module": "@jupyter-widgets/controls",
            "_model_module_version": "1.5.0",
            "_model_name": "DescriptionStyleModel",
            "_view_count": null,
            "_view_module": "@jupyter-widgets/base",
            "_view_module_version": "1.2.0",
            "_view_name": "StyleView",
            "description_width": ""
          }
        },
        "fc937f75b53042c38cd0202815ac723c": {
          "model_module": "@jupyter-widgets/base",
          "model_name": "LayoutModel",
          "model_module_version": "1.2.0",
          "state": {
            "_model_module": "@jupyter-widgets/base",
            "_model_module_version": "1.2.0",
            "_model_name": "LayoutModel",
            "_view_count": null,
            "_view_module": "@jupyter-widgets/base",
            "_view_module_version": "1.2.0",
            "_view_name": "LayoutView",
            "align_content": null,
            "align_items": null,
            "align_self": null,
            "border": null,
            "bottom": null,
            "display": null,
            "flex": null,
            "flex_flow": null,
            "grid_area": null,
            "grid_auto_columns": null,
            "grid_auto_flow": null,
            "grid_auto_rows": null,
            "grid_column": null,
            "grid_gap": null,
            "grid_row": null,
            "grid_template_areas": null,
            "grid_template_columns": null,
            "grid_template_rows": null,
            "height": null,
            "justify_content": null,
            "justify_items": null,
            "left": null,
            "margin": null,
            "max_height": null,
            "max_width": null,
            "min_height": null,
            "min_width": null,
            "object_fit": null,
            "object_position": null,
            "order": null,
            "overflow": null,
            "overflow_x": null,
            "overflow_y": null,
            "padding": null,
            "right": null,
            "top": null,
            "visibility": null,
            "width": null
          }
        },
        "2612f930571d41ca9574e9daf93ffb86": {
          "model_module": "@jupyter-widgets/controls",
          "model_name": "ProgressStyleModel",
          "model_module_version": "1.5.0",
          "state": {
            "_model_module": "@jupyter-widgets/controls",
            "_model_module_version": "1.5.0",
            "_model_name": "ProgressStyleModel",
            "_view_count": null,
            "_view_module": "@jupyter-widgets/base",
            "_view_module_version": "1.2.0",
            "_view_name": "StyleView",
            "bar_color": null,
            "description_width": ""
          }
        },
        "a39dca9d679242b09eaa8e08961b4d2c": {
          "model_module": "@jupyter-widgets/base",
          "model_name": "LayoutModel",
          "model_module_version": "1.2.0",
          "state": {
            "_model_module": "@jupyter-widgets/base",
            "_model_module_version": "1.2.0",
            "_model_name": "LayoutModel",
            "_view_count": null,
            "_view_module": "@jupyter-widgets/base",
            "_view_module_version": "1.2.0",
            "_view_name": "LayoutView",
            "align_content": null,
            "align_items": null,
            "align_self": null,
            "border": null,
            "bottom": null,
            "display": null,
            "flex": null,
            "flex_flow": null,
            "grid_area": null,
            "grid_auto_columns": null,
            "grid_auto_flow": null,
            "grid_auto_rows": null,
            "grid_column": null,
            "grid_gap": null,
            "grid_row": null,
            "grid_template_areas": null,
            "grid_template_columns": null,
            "grid_template_rows": null,
            "height": null,
            "justify_content": null,
            "justify_items": null,
            "left": null,
            "margin": null,
            "max_height": null,
            "max_width": null,
            "min_height": null,
            "min_width": null,
            "object_fit": null,
            "object_position": null,
            "order": null,
            "overflow": null,
            "overflow_x": null,
            "overflow_y": null,
            "padding": null,
            "right": null,
            "top": null,
            "visibility": null,
            "width": null
          }
        },
        "df873d931c554282a841341aed63e130": {
          "model_module": "@jupyter-widgets/controls",
          "model_name": "DescriptionStyleModel",
          "model_module_version": "1.5.0",
          "state": {
            "_model_module": "@jupyter-widgets/controls",
            "_model_module_version": "1.5.0",
            "_model_name": "DescriptionStyleModel",
            "_view_count": null,
            "_view_module": "@jupyter-widgets/base",
            "_view_module_version": "1.2.0",
            "_view_name": "StyleView",
            "description_width": ""
          }
        },
        "7ae4fa7dbe7f44d69cb9f34ad973bd5b": {
          "model_module": "@jupyter-widgets/controls",
          "model_name": "HBoxModel",
          "model_module_version": "1.5.0",
          "state": {
            "_dom_classes": [],
            "_model_module": "@jupyter-widgets/controls",
            "_model_module_version": "1.5.0",
            "_model_name": "HBoxModel",
            "_view_count": null,
            "_view_module": "@jupyter-widgets/controls",
            "_view_module_version": "1.5.0",
            "_view_name": "HBoxView",
            "box_style": "",
            "children": [
              "IPY_MODEL_1afb3af70f8b4d3db26e8c2924840d3b",
              "IPY_MODEL_bd417168acfd4baead73a474b7b7c3b4",
              "IPY_MODEL_1297e5f04d6a4477845aeb9614d2879e"
            ],
            "layout": "IPY_MODEL_2bcf1f8a01604af29c7c99865601c2c7"
          }
        },
        "1afb3af70f8b4d3db26e8c2924840d3b": {
          "model_module": "@jupyter-widgets/controls",
          "model_name": "HTMLModel",
          "model_module_version": "1.5.0",
          "state": {
            "_dom_classes": [],
            "_model_module": "@jupyter-widgets/controls",
            "_model_module_version": "1.5.0",
            "_model_name": "HTMLModel",
            "_view_count": null,
            "_view_module": "@jupyter-widgets/controls",
            "_view_module_version": "1.5.0",
            "_view_name": "HTMLView",
            "description": "",
            "description_tooltip": null,
            "layout": "IPY_MODEL_3eec2e07a76744e682b1b9e322974533",
            "placeholder": "​",
            "style": "IPY_MODEL_14d1fec39a5b4dd198847ebd31e1c7e4",
            "value": "100%"
          }
        },
        "bd417168acfd4baead73a474b7b7c3b4": {
          "model_module": "@jupyter-widgets/controls",
          "model_name": "FloatProgressModel",
          "model_module_version": "1.5.0",
          "state": {
            "_dom_classes": [],
            "_model_module": "@jupyter-widgets/controls",
            "_model_module_version": "1.5.0",
            "_model_name": "FloatProgressModel",
            "_view_count": null,
            "_view_module": "@jupyter-widgets/controls",
            "_view_module_version": "1.5.0",
            "_view_name": "ProgressView",
            "bar_style": "success",
            "description": "",
            "description_tooltip": null,
            "layout": "IPY_MODEL_ee01d71a2c48487e9eedd8d4f370a86b",
            "max": 28881,
            "min": 0,
            "orientation": "horizontal",
            "style": "IPY_MODEL_e89a5b908e36473caf0d192cb488ae1f",
            "value": 28881
          }
        },
        "1297e5f04d6a4477845aeb9614d2879e": {
          "model_module": "@jupyter-widgets/controls",
          "model_name": "HTMLModel",
          "model_module_version": "1.5.0",
          "state": {
            "_dom_classes": [],
            "_model_module": "@jupyter-widgets/controls",
            "_model_module_version": "1.5.0",
            "_model_name": "HTMLModel",
            "_view_count": null,
            "_view_module": "@jupyter-widgets/controls",
            "_view_module_version": "1.5.0",
            "_view_name": "HTMLView",
            "description": "",
            "description_tooltip": null,
            "layout": "IPY_MODEL_67dca091563640b29ed1574c2f1b9b46",
            "placeholder": "​",
            "style": "IPY_MODEL_5462c9f2b68049a282bb746008466a80",
            "value": " 28881/28881 [00:00&lt;00:00, 535775.80it/s]"
          }
        },
        "2bcf1f8a01604af29c7c99865601c2c7": {
          "model_module": "@jupyter-widgets/base",
          "model_name": "LayoutModel",
          "model_module_version": "1.2.0",
          "state": {
            "_model_module": "@jupyter-widgets/base",
            "_model_module_version": "1.2.0",
            "_model_name": "LayoutModel",
            "_view_count": null,
            "_view_module": "@jupyter-widgets/base",
            "_view_module_version": "1.2.0",
            "_view_name": "LayoutView",
            "align_content": null,
            "align_items": null,
            "align_self": null,
            "border": null,
            "bottom": null,
            "display": null,
            "flex": null,
            "flex_flow": null,
            "grid_area": null,
            "grid_auto_columns": null,
            "grid_auto_flow": null,
            "grid_auto_rows": null,
            "grid_column": null,
            "grid_gap": null,
            "grid_row": null,
            "grid_template_areas": null,
            "grid_template_columns": null,
            "grid_template_rows": null,
            "height": null,
            "justify_content": null,
            "justify_items": null,
            "left": null,
            "margin": null,
            "max_height": null,
            "max_width": null,
            "min_height": null,
            "min_width": null,
            "object_fit": null,
            "object_position": null,
            "order": null,
            "overflow": null,
            "overflow_x": null,
            "overflow_y": null,
            "padding": null,
            "right": null,
            "top": null,
            "visibility": null,
            "width": null
          }
        },
        "3eec2e07a76744e682b1b9e322974533": {
          "model_module": "@jupyter-widgets/base",
          "model_name": "LayoutModel",
          "model_module_version": "1.2.0",
          "state": {
            "_model_module": "@jupyter-widgets/base",
            "_model_module_version": "1.2.0",
            "_model_name": "LayoutModel",
            "_view_count": null,
            "_view_module": "@jupyter-widgets/base",
            "_view_module_version": "1.2.0",
            "_view_name": "LayoutView",
            "align_content": null,
            "align_items": null,
            "align_self": null,
            "border": null,
            "bottom": null,
            "display": null,
            "flex": null,
            "flex_flow": null,
            "grid_area": null,
            "grid_auto_columns": null,
            "grid_auto_flow": null,
            "grid_auto_rows": null,
            "grid_column": null,
            "grid_gap": null,
            "grid_row": null,
            "grid_template_areas": null,
            "grid_template_columns": null,
            "grid_template_rows": null,
            "height": null,
            "justify_content": null,
            "justify_items": null,
            "left": null,
            "margin": null,
            "max_height": null,
            "max_width": null,
            "min_height": null,
            "min_width": null,
            "object_fit": null,
            "object_position": null,
            "order": null,
            "overflow": null,
            "overflow_x": null,
            "overflow_y": null,
            "padding": null,
            "right": null,
            "top": null,
            "visibility": null,
            "width": null
          }
        },
        "14d1fec39a5b4dd198847ebd31e1c7e4": {
          "model_module": "@jupyter-widgets/controls",
          "model_name": "DescriptionStyleModel",
          "model_module_version": "1.5.0",
          "state": {
            "_model_module": "@jupyter-widgets/controls",
            "_model_module_version": "1.5.0",
            "_model_name": "DescriptionStyleModel",
            "_view_count": null,
            "_view_module": "@jupyter-widgets/base",
            "_view_module_version": "1.2.0",
            "_view_name": "StyleView",
            "description_width": ""
          }
        },
        "ee01d71a2c48487e9eedd8d4f370a86b": {
          "model_module": "@jupyter-widgets/base",
          "model_name": "LayoutModel",
          "model_module_version": "1.2.0",
          "state": {
            "_model_module": "@jupyter-widgets/base",
            "_model_module_version": "1.2.0",
            "_model_name": "LayoutModel",
            "_view_count": null,
            "_view_module": "@jupyter-widgets/base",
            "_view_module_version": "1.2.0",
            "_view_name": "LayoutView",
            "align_content": null,
            "align_items": null,
            "align_self": null,
            "border": null,
            "bottom": null,
            "display": null,
            "flex": null,
            "flex_flow": null,
            "grid_area": null,
            "grid_auto_columns": null,
            "grid_auto_flow": null,
            "grid_auto_rows": null,
            "grid_column": null,
            "grid_gap": null,
            "grid_row": null,
            "grid_template_areas": null,
            "grid_template_columns": null,
            "grid_template_rows": null,
            "height": null,
            "justify_content": null,
            "justify_items": null,
            "left": null,
            "margin": null,
            "max_height": null,
            "max_width": null,
            "min_height": null,
            "min_width": null,
            "object_fit": null,
            "object_position": null,
            "order": null,
            "overflow": null,
            "overflow_x": null,
            "overflow_y": null,
            "padding": null,
            "right": null,
            "top": null,
            "visibility": null,
            "width": null
          }
        },
        "e89a5b908e36473caf0d192cb488ae1f": {
          "model_module": "@jupyter-widgets/controls",
          "model_name": "ProgressStyleModel",
          "model_module_version": "1.5.0",
          "state": {
            "_model_module": "@jupyter-widgets/controls",
            "_model_module_version": "1.5.0",
            "_model_name": "ProgressStyleModel",
            "_view_count": null,
            "_view_module": "@jupyter-widgets/base",
            "_view_module_version": "1.2.0",
            "_view_name": "StyleView",
            "bar_color": null,
            "description_width": ""
          }
        },
        "67dca091563640b29ed1574c2f1b9b46": {
          "model_module": "@jupyter-widgets/base",
          "model_name": "LayoutModel",
          "model_module_version": "1.2.0",
          "state": {
            "_model_module": "@jupyter-widgets/base",
            "_model_module_version": "1.2.0",
            "_model_name": "LayoutModel",
            "_view_count": null,
            "_view_module": "@jupyter-widgets/base",
            "_view_module_version": "1.2.0",
            "_view_name": "LayoutView",
            "align_content": null,
            "align_items": null,
            "align_self": null,
            "border": null,
            "bottom": null,
            "display": null,
            "flex": null,
            "flex_flow": null,
            "grid_area": null,
            "grid_auto_columns": null,
            "grid_auto_flow": null,
            "grid_auto_rows": null,
            "grid_column": null,
            "grid_gap": null,
            "grid_row": null,
            "grid_template_areas": null,
            "grid_template_columns": null,
            "grid_template_rows": null,
            "height": null,
            "justify_content": null,
            "justify_items": null,
            "left": null,
            "margin": null,
            "max_height": null,
            "max_width": null,
            "min_height": null,
            "min_width": null,
            "object_fit": null,
            "object_position": null,
            "order": null,
            "overflow": null,
            "overflow_x": null,
            "overflow_y": null,
            "padding": null,
            "right": null,
            "top": null,
            "visibility": null,
            "width": null
          }
        },
        "5462c9f2b68049a282bb746008466a80": {
          "model_module": "@jupyter-widgets/controls",
          "model_name": "DescriptionStyleModel",
          "model_module_version": "1.5.0",
          "state": {
            "_model_module": "@jupyter-widgets/controls",
            "_model_module_version": "1.5.0",
            "_model_name": "DescriptionStyleModel",
            "_view_count": null,
            "_view_module": "@jupyter-widgets/base",
            "_view_module_version": "1.2.0",
            "_view_name": "StyleView",
            "description_width": ""
          }
        },
        "2e7f94eea7a0418aafc3d0f7453d54dc": {
          "model_module": "@jupyter-widgets/controls",
          "model_name": "HBoxModel",
          "model_module_version": "1.5.0",
          "state": {
            "_dom_classes": [],
            "_model_module": "@jupyter-widgets/controls",
            "_model_module_version": "1.5.0",
            "_model_name": "HBoxModel",
            "_view_count": null,
            "_view_module": "@jupyter-widgets/controls",
            "_view_module_version": "1.5.0",
            "_view_name": "HBoxView",
            "box_style": "",
            "children": [
              "IPY_MODEL_b4e8732b18304b0ab6f12bd4f1790690",
              "IPY_MODEL_b50d68d7784c4ea4af50599dcd0c4880",
              "IPY_MODEL_2a05e8b1ec544577bd58c30a4ce6f12c"
            ],
            "layout": "IPY_MODEL_55561201495f4c82a70cc8b2978bcf9e"
          }
        },
        "b4e8732b18304b0ab6f12bd4f1790690": {
          "model_module": "@jupyter-widgets/controls",
          "model_name": "HTMLModel",
          "model_module_version": "1.5.0",
          "state": {
            "_dom_classes": [],
            "_model_module": "@jupyter-widgets/controls",
            "_model_module_version": "1.5.0",
            "_model_name": "HTMLModel",
            "_view_count": null,
            "_view_module": "@jupyter-widgets/controls",
            "_view_module_version": "1.5.0",
            "_view_name": "HTMLView",
            "description": "",
            "description_tooltip": null,
            "layout": "IPY_MODEL_6b69f6e03dbc4df489b9a4d72ed3c377",
            "placeholder": "​",
            "style": "IPY_MODEL_66e5e1445c774f47929dd166a73e548a",
            "value": "100%"
          }
        },
        "b50d68d7784c4ea4af50599dcd0c4880": {
          "model_module": "@jupyter-widgets/controls",
          "model_name": "FloatProgressModel",
          "model_module_version": "1.5.0",
          "state": {
            "_dom_classes": [],
            "_model_module": "@jupyter-widgets/controls",
            "_model_module_version": "1.5.0",
            "_model_name": "FloatProgressModel",
            "_view_count": null,
            "_view_module": "@jupyter-widgets/controls",
            "_view_module_version": "1.5.0",
            "_view_name": "ProgressView",
            "bar_style": "success",
            "description": "",
            "description_tooltip": null,
            "layout": "IPY_MODEL_9b1113b6fe6e47a2a4d21464e1c6e01b",
            "max": 1648877,
            "min": 0,
            "orientation": "horizontal",
            "style": "IPY_MODEL_064f2861ba7b4920b325e45cc4632ee8",
            "value": 1648877
          }
        },
        "2a05e8b1ec544577bd58c30a4ce6f12c": {
          "model_module": "@jupyter-widgets/controls",
          "model_name": "HTMLModel",
          "model_module_version": "1.5.0",
          "state": {
            "_dom_classes": [],
            "_model_module": "@jupyter-widgets/controls",
            "_model_module_version": "1.5.0",
            "_model_name": "HTMLModel",
            "_view_count": null,
            "_view_module": "@jupyter-widgets/controls",
            "_view_module_version": "1.5.0",
            "_view_name": "HTMLView",
            "description": "",
            "description_tooltip": null,
            "layout": "IPY_MODEL_0dd60a52ad81436c9ea720139c6711e1",
            "placeholder": "​",
            "style": "IPY_MODEL_5bc3c3b78d3a461baae9e63ca877be61",
            "value": " 1648877/1648877 [00:00&lt;00:00, 23189713.33it/s]"
          }
        },
        "55561201495f4c82a70cc8b2978bcf9e": {
          "model_module": "@jupyter-widgets/base",
          "model_name": "LayoutModel",
          "model_module_version": "1.2.0",
          "state": {
            "_model_module": "@jupyter-widgets/base",
            "_model_module_version": "1.2.0",
            "_model_name": "LayoutModel",
            "_view_count": null,
            "_view_module": "@jupyter-widgets/base",
            "_view_module_version": "1.2.0",
            "_view_name": "LayoutView",
            "align_content": null,
            "align_items": null,
            "align_self": null,
            "border": null,
            "bottom": null,
            "display": null,
            "flex": null,
            "flex_flow": null,
            "grid_area": null,
            "grid_auto_columns": null,
            "grid_auto_flow": null,
            "grid_auto_rows": null,
            "grid_column": null,
            "grid_gap": null,
            "grid_row": null,
            "grid_template_areas": null,
            "grid_template_columns": null,
            "grid_template_rows": null,
            "height": null,
            "justify_content": null,
            "justify_items": null,
            "left": null,
            "margin": null,
            "max_height": null,
            "max_width": null,
            "min_height": null,
            "min_width": null,
            "object_fit": null,
            "object_position": null,
            "order": null,
            "overflow": null,
            "overflow_x": null,
            "overflow_y": null,
            "padding": null,
            "right": null,
            "top": null,
            "visibility": null,
            "width": null
          }
        },
        "6b69f6e03dbc4df489b9a4d72ed3c377": {
          "model_module": "@jupyter-widgets/base",
          "model_name": "LayoutModel",
          "model_module_version": "1.2.0",
          "state": {
            "_model_module": "@jupyter-widgets/base",
            "_model_module_version": "1.2.0",
            "_model_name": "LayoutModel",
            "_view_count": null,
            "_view_module": "@jupyter-widgets/base",
            "_view_module_version": "1.2.0",
            "_view_name": "LayoutView",
            "align_content": null,
            "align_items": null,
            "align_self": null,
            "border": null,
            "bottom": null,
            "display": null,
            "flex": null,
            "flex_flow": null,
            "grid_area": null,
            "grid_auto_columns": null,
            "grid_auto_flow": null,
            "grid_auto_rows": null,
            "grid_column": null,
            "grid_gap": null,
            "grid_row": null,
            "grid_template_areas": null,
            "grid_template_columns": null,
            "grid_template_rows": null,
            "height": null,
            "justify_content": null,
            "justify_items": null,
            "left": null,
            "margin": null,
            "max_height": null,
            "max_width": null,
            "min_height": null,
            "min_width": null,
            "object_fit": null,
            "object_position": null,
            "order": null,
            "overflow": null,
            "overflow_x": null,
            "overflow_y": null,
            "padding": null,
            "right": null,
            "top": null,
            "visibility": null,
            "width": null
          }
        },
        "66e5e1445c774f47929dd166a73e548a": {
          "model_module": "@jupyter-widgets/controls",
          "model_name": "DescriptionStyleModel",
          "model_module_version": "1.5.0",
          "state": {
            "_model_module": "@jupyter-widgets/controls",
            "_model_module_version": "1.5.0",
            "_model_name": "DescriptionStyleModel",
            "_view_count": null,
            "_view_module": "@jupyter-widgets/base",
            "_view_module_version": "1.2.0",
            "_view_name": "StyleView",
            "description_width": ""
          }
        },
        "9b1113b6fe6e47a2a4d21464e1c6e01b": {
          "model_module": "@jupyter-widgets/base",
          "model_name": "LayoutModel",
          "model_module_version": "1.2.0",
          "state": {
            "_model_module": "@jupyter-widgets/base",
            "_model_module_version": "1.2.0",
            "_model_name": "LayoutModel",
            "_view_count": null,
            "_view_module": "@jupyter-widgets/base",
            "_view_module_version": "1.2.0",
            "_view_name": "LayoutView",
            "align_content": null,
            "align_items": null,
            "align_self": null,
            "border": null,
            "bottom": null,
            "display": null,
            "flex": null,
            "flex_flow": null,
            "grid_area": null,
            "grid_auto_columns": null,
            "grid_auto_flow": null,
            "grid_auto_rows": null,
            "grid_column": null,
            "grid_gap": null,
            "grid_row": null,
            "grid_template_areas": null,
            "grid_template_columns": null,
            "grid_template_rows": null,
            "height": null,
            "justify_content": null,
            "justify_items": null,
            "left": null,
            "margin": null,
            "max_height": null,
            "max_width": null,
            "min_height": null,
            "min_width": null,
            "object_fit": null,
            "object_position": null,
            "order": null,
            "overflow": null,
            "overflow_x": null,
            "overflow_y": null,
            "padding": null,
            "right": null,
            "top": null,
            "visibility": null,
            "width": null
          }
        },
        "064f2861ba7b4920b325e45cc4632ee8": {
          "model_module": "@jupyter-widgets/controls",
          "model_name": "ProgressStyleModel",
          "model_module_version": "1.5.0",
          "state": {
            "_model_module": "@jupyter-widgets/controls",
            "_model_module_version": "1.5.0",
            "_model_name": "ProgressStyleModel",
            "_view_count": null,
            "_view_module": "@jupyter-widgets/base",
            "_view_module_version": "1.2.0",
            "_view_name": "StyleView",
            "bar_color": null,
            "description_width": ""
          }
        },
        "0dd60a52ad81436c9ea720139c6711e1": {
          "model_module": "@jupyter-widgets/base",
          "model_name": "LayoutModel",
          "model_module_version": "1.2.0",
          "state": {
            "_model_module": "@jupyter-widgets/base",
            "_model_module_version": "1.2.0",
            "_model_name": "LayoutModel",
            "_view_count": null,
            "_view_module": "@jupyter-widgets/base",
            "_view_module_version": "1.2.0",
            "_view_name": "LayoutView",
            "align_content": null,
            "align_items": null,
            "align_self": null,
            "border": null,
            "bottom": null,
            "display": null,
            "flex": null,
            "flex_flow": null,
            "grid_area": null,
            "grid_auto_columns": null,
            "grid_auto_flow": null,
            "grid_auto_rows": null,
            "grid_column": null,
            "grid_gap": null,
            "grid_row": null,
            "grid_template_areas": null,
            "grid_template_columns": null,
            "grid_template_rows": null,
            "height": null,
            "justify_content": null,
            "justify_items": null,
            "left": null,
            "margin": null,
            "max_height": null,
            "max_width": null,
            "min_height": null,
            "min_width": null,
            "object_fit": null,
            "object_position": null,
            "order": null,
            "overflow": null,
            "overflow_x": null,
            "overflow_y": null,
            "padding": null,
            "right": null,
            "top": null,
            "visibility": null,
            "width": null
          }
        },
        "5bc3c3b78d3a461baae9e63ca877be61": {
          "model_module": "@jupyter-widgets/controls",
          "model_name": "DescriptionStyleModel",
          "model_module_version": "1.5.0",
          "state": {
            "_model_module": "@jupyter-widgets/controls",
            "_model_module_version": "1.5.0",
            "_model_name": "DescriptionStyleModel",
            "_view_count": null,
            "_view_module": "@jupyter-widgets/base",
            "_view_module_version": "1.2.0",
            "_view_name": "StyleView",
            "description_width": ""
          }
        },
        "216658b97ca64fc5bbcf3ebd1fc0ad0e": {
          "model_module": "@jupyter-widgets/controls",
          "model_name": "HBoxModel",
          "model_module_version": "1.5.0",
          "state": {
            "_dom_classes": [],
            "_model_module": "@jupyter-widgets/controls",
            "_model_module_version": "1.5.0",
            "_model_name": "HBoxModel",
            "_view_count": null,
            "_view_module": "@jupyter-widgets/controls",
            "_view_module_version": "1.5.0",
            "_view_name": "HBoxView",
            "box_style": "",
            "children": [
              "IPY_MODEL_885e715dcc25401f85e23b2c6c6a2495",
              "IPY_MODEL_b131886d359242339a8367e32e90ea97",
              "IPY_MODEL_9cf0f6ec3f764a09828350af4992a47d"
            ],
            "layout": "IPY_MODEL_860568f826de414ebec7ba7d5654c842"
          }
        },
        "885e715dcc25401f85e23b2c6c6a2495": {
          "model_module": "@jupyter-widgets/controls",
          "model_name": "HTMLModel",
          "model_module_version": "1.5.0",
          "state": {
            "_dom_classes": [],
            "_model_module": "@jupyter-widgets/controls",
            "_model_module_version": "1.5.0",
            "_model_name": "HTMLModel",
            "_view_count": null,
            "_view_module": "@jupyter-widgets/controls",
            "_view_module_version": "1.5.0",
            "_view_name": "HTMLView",
            "description": "",
            "description_tooltip": null,
            "layout": "IPY_MODEL_e87f07e2bd9248ed8e222ff273916a28",
            "placeholder": "​",
            "style": "IPY_MODEL_a45e9006829944439229203449b5b60f",
            "value": "100%"
          }
        },
        "b131886d359242339a8367e32e90ea97": {
          "model_module": "@jupyter-widgets/controls",
          "model_name": "FloatProgressModel",
          "model_module_version": "1.5.0",
          "state": {
            "_dom_classes": [],
            "_model_module": "@jupyter-widgets/controls",
            "_model_module_version": "1.5.0",
            "_model_name": "FloatProgressModel",
            "_view_count": null,
            "_view_module": "@jupyter-widgets/controls",
            "_view_module_version": "1.5.0",
            "_view_name": "ProgressView",
            "bar_style": "success",
            "description": "",
            "description_tooltip": null,
            "layout": "IPY_MODEL_5c71bc0a220f46f7a4f44757d45d3bca",
            "max": 4542,
            "min": 0,
            "orientation": "horizontal",
            "style": "IPY_MODEL_a89cac25d96d4009b6a9291ce85830bd",
            "value": 4542
          }
        },
        "9cf0f6ec3f764a09828350af4992a47d": {
          "model_module": "@jupyter-widgets/controls",
          "model_name": "HTMLModel",
          "model_module_version": "1.5.0",
          "state": {
            "_dom_classes": [],
            "_model_module": "@jupyter-widgets/controls",
            "_model_module_version": "1.5.0",
            "_model_name": "HTMLModel",
            "_view_count": null,
            "_view_module": "@jupyter-widgets/controls",
            "_view_module_version": "1.5.0",
            "_view_name": "HTMLView",
            "description": "",
            "description_tooltip": null,
            "layout": "IPY_MODEL_209a37cb7e8c45a98ac3d0f4fa50a73d",
            "placeholder": "​",
            "style": "IPY_MODEL_9b1fbaf789ff406899bbf7dbcf706895",
            "value": " 4542/4542 [00:00&lt;00:00, 75540.08it/s]"
          }
        },
        "860568f826de414ebec7ba7d5654c842": {
          "model_module": "@jupyter-widgets/base",
          "model_name": "LayoutModel",
          "model_module_version": "1.2.0",
          "state": {
            "_model_module": "@jupyter-widgets/base",
            "_model_module_version": "1.2.0",
            "_model_name": "LayoutModel",
            "_view_count": null,
            "_view_module": "@jupyter-widgets/base",
            "_view_module_version": "1.2.0",
            "_view_name": "LayoutView",
            "align_content": null,
            "align_items": null,
            "align_self": null,
            "border": null,
            "bottom": null,
            "display": null,
            "flex": null,
            "flex_flow": null,
            "grid_area": null,
            "grid_auto_columns": null,
            "grid_auto_flow": null,
            "grid_auto_rows": null,
            "grid_column": null,
            "grid_gap": null,
            "grid_row": null,
            "grid_template_areas": null,
            "grid_template_columns": null,
            "grid_template_rows": null,
            "height": null,
            "justify_content": null,
            "justify_items": null,
            "left": null,
            "margin": null,
            "max_height": null,
            "max_width": null,
            "min_height": null,
            "min_width": null,
            "object_fit": null,
            "object_position": null,
            "order": null,
            "overflow": null,
            "overflow_x": null,
            "overflow_y": null,
            "padding": null,
            "right": null,
            "top": null,
            "visibility": null,
            "width": null
          }
        },
        "e87f07e2bd9248ed8e222ff273916a28": {
          "model_module": "@jupyter-widgets/base",
          "model_name": "LayoutModel",
          "model_module_version": "1.2.0",
          "state": {
            "_model_module": "@jupyter-widgets/base",
            "_model_module_version": "1.2.0",
            "_model_name": "LayoutModel",
            "_view_count": null,
            "_view_module": "@jupyter-widgets/base",
            "_view_module_version": "1.2.0",
            "_view_name": "LayoutView",
            "align_content": null,
            "align_items": null,
            "align_self": null,
            "border": null,
            "bottom": null,
            "display": null,
            "flex": null,
            "flex_flow": null,
            "grid_area": null,
            "grid_auto_columns": null,
            "grid_auto_flow": null,
            "grid_auto_rows": null,
            "grid_column": null,
            "grid_gap": null,
            "grid_row": null,
            "grid_template_areas": null,
            "grid_template_columns": null,
            "grid_template_rows": null,
            "height": null,
            "justify_content": null,
            "justify_items": null,
            "left": null,
            "margin": null,
            "max_height": null,
            "max_width": null,
            "min_height": null,
            "min_width": null,
            "object_fit": null,
            "object_position": null,
            "order": null,
            "overflow": null,
            "overflow_x": null,
            "overflow_y": null,
            "padding": null,
            "right": null,
            "top": null,
            "visibility": null,
            "width": null
          }
        },
        "a45e9006829944439229203449b5b60f": {
          "model_module": "@jupyter-widgets/controls",
          "model_name": "DescriptionStyleModel",
          "model_module_version": "1.5.0",
          "state": {
            "_model_module": "@jupyter-widgets/controls",
            "_model_module_version": "1.5.0",
            "_model_name": "DescriptionStyleModel",
            "_view_count": null,
            "_view_module": "@jupyter-widgets/base",
            "_view_module_version": "1.2.0",
            "_view_name": "StyleView",
            "description_width": ""
          }
        },
        "5c71bc0a220f46f7a4f44757d45d3bca": {
          "model_module": "@jupyter-widgets/base",
          "model_name": "LayoutModel",
          "model_module_version": "1.2.0",
          "state": {
            "_model_module": "@jupyter-widgets/base",
            "_model_module_version": "1.2.0",
            "_model_name": "LayoutModel",
            "_view_count": null,
            "_view_module": "@jupyter-widgets/base",
            "_view_module_version": "1.2.0",
            "_view_name": "LayoutView",
            "align_content": null,
            "align_items": null,
            "align_self": null,
            "border": null,
            "bottom": null,
            "display": null,
            "flex": null,
            "flex_flow": null,
            "grid_area": null,
            "grid_auto_columns": null,
            "grid_auto_flow": null,
            "grid_auto_rows": null,
            "grid_column": null,
            "grid_gap": null,
            "grid_row": null,
            "grid_template_areas": null,
            "grid_template_columns": null,
            "grid_template_rows": null,
            "height": null,
            "justify_content": null,
            "justify_items": null,
            "left": null,
            "margin": null,
            "max_height": null,
            "max_width": null,
            "min_height": null,
            "min_width": null,
            "object_fit": null,
            "object_position": null,
            "order": null,
            "overflow": null,
            "overflow_x": null,
            "overflow_y": null,
            "padding": null,
            "right": null,
            "top": null,
            "visibility": null,
            "width": null
          }
        },
        "a89cac25d96d4009b6a9291ce85830bd": {
          "model_module": "@jupyter-widgets/controls",
          "model_name": "ProgressStyleModel",
          "model_module_version": "1.5.0",
          "state": {
            "_model_module": "@jupyter-widgets/controls",
            "_model_module_version": "1.5.0",
            "_model_name": "ProgressStyleModel",
            "_view_count": null,
            "_view_module": "@jupyter-widgets/base",
            "_view_module_version": "1.2.0",
            "_view_name": "StyleView",
            "bar_color": null,
            "description_width": ""
          }
        },
        "209a37cb7e8c45a98ac3d0f4fa50a73d": {
          "model_module": "@jupyter-widgets/base",
          "model_name": "LayoutModel",
          "model_module_version": "1.2.0",
          "state": {
            "_model_module": "@jupyter-widgets/base",
            "_model_module_version": "1.2.0",
            "_model_name": "LayoutModel",
            "_view_count": null,
            "_view_module": "@jupyter-widgets/base",
            "_view_module_version": "1.2.0",
            "_view_name": "LayoutView",
            "align_content": null,
            "align_items": null,
            "align_self": null,
            "border": null,
            "bottom": null,
            "display": null,
            "flex": null,
            "flex_flow": null,
            "grid_area": null,
            "grid_auto_columns": null,
            "grid_auto_flow": null,
            "grid_auto_rows": null,
            "grid_column": null,
            "grid_gap": null,
            "grid_row": null,
            "grid_template_areas": null,
            "grid_template_columns": null,
            "grid_template_rows": null,
            "height": null,
            "justify_content": null,
            "justify_items": null,
            "left": null,
            "margin": null,
            "max_height": null,
            "max_width": null,
            "min_height": null,
            "min_width": null,
            "object_fit": null,
            "object_position": null,
            "order": null,
            "overflow": null,
            "overflow_x": null,
            "overflow_y": null,
            "padding": null,
            "right": null,
            "top": null,
            "visibility": null,
            "width": null
          }
        },
        "9b1fbaf789ff406899bbf7dbcf706895": {
          "model_module": "@jupyter-widgets/controls",
          "model_name": "DescriptionStyleModel",
          "model_module_version": "1.5.0",
          "state": {
            "_model_module": "@jupyter-widgets/controls",
            "_model_module_version": "1.5.0",
            "_model_name": "DescriptionStyleModel",
            "_view_count": null,
            "_view_module": "@jupyter-widgets/base",
            "_view_module_version": "1.2.0",
            "_view_name": "StyleView",
            "description_width": ""
          }
        }
      }
    },
    "accelerator": "GPU"
  },
  "cells": [
    {
      "cell_type": "markdown",
      "metadata": {
        "id": "_wIQ8hjDpdVi"
      },
      "source": [
        "# Importar lo necesario"
      ]
    },
    {
      "cell_type": "code",
      "metadata": {
        "id": "uHQUjDs12DLW"
      },
      "source": [
        "import torch\n",
        "import torchvision\n",
        "import numpy as np\n",
        "import random\n",
        "import matplotlib.pyplot as plt\n",
        "from torchsummary import summary"
      ],
      "execution_count": 1,
      "outputs": []
    },
    {
      "cell_type": "markdown",
      "metadata": {
        "id": "QeJy8fjPn4wi"
      },
      "source": [
        "#### configuramos el `device` acorde al device disponible\n",
        "\n",
        "\n"
      ]
    },
    {
      "cell_type": "code",
      "metadata": {
        "id": "lOV9xybtn4I3"
      },
      "source": [
        "device = \"cuda\" if torch.cuda.is_available() else \"cpu\""
      ],
      "execution_count": 2,
      "outputs": []
    },
    {
      "cell_type": "markdown",
      "metadata": {
        "id": "3_tH9u082jpZ"
      },
      "source": [
        "\n",
        "#**MNIST data base**\n",
        "# Ejemplo de red neuronal de convolución (CNN)\n",
        "\n",
        "Vamos a usar la base de datos de MNIST ([ver fuente](http://yann.lecun.com/exdb/mnist/)) para entrenar una CNN que identifique números escritos a mano.\n",
        "\n",
        "Para esto necesitamos:\n",
        "\n",
        "\n",
        "1.   Cargar la base de datos.\n",
        "2.   Ver que la base de datos esté ok.\n",
        "3.   Construir nuestra CNN.\n",
        "4. Ver que las dimensiones de la red sean consistentes.\n",
        "4.   Definir funciones necesarias (de entrenamiento, de costo, etc.).\n",
        "5. Entrenar la red.\n",
        "6. Ver que funcione.\n",
        "7. Visualizar el kernel.\n",
        "8. Visualizar las activaciones.\n",
        "\n",
        "\n",
        "\n"
      ]
    },
    {
      "cell_type": "markdown",
      "metadata": {
        "id": "1nQ-MLk6Do8e"
      },
      "source": [
        "## 1. Cargar base de datos\n",
        "\n",
        "De la documentación, ver:\n",
        "\n",
        "\n",
        "Transformación `torchvision.transforms.ToTensor()` \n",
        "\n",
        "```\n",
        "... Converts a PIL Image or numpy.ndarray (H x W x C) in the range [0, 255] to a torch.FloatTensor of shape (C x H x W) in the range [0.0, 1.0]... \n",
        "```\n",
        "\n",
        "Transformación `Normalize`\n",
        "\n",
        "```\n",
        "... Normalize a tensor image with mean and standard deviation. ... \n",
        "```"
      ]
    },
    {
      "cell_type": "code",
      "metadata": {
        "colab": {
          "base_uri": "https://localhost:8080/",
          "height": 431,
          "referenced_widgets": [
            "f552be85ee8a48a0a67c3d99c2f07972",
            "4597cc267de448c984f1f8a0532ed576",
            "251fbb1409cf4de99e8de5ee4c2a5159",
            "faa4758f14174c1a9420869757506d4e",
            "90f0aa27c5e84d3bb0117a6e4aecc65c",
            "fb3395308a374dc7b5c67f948b7a0519",
            "c67068eef7b14c068c407f0a45423864",
            "fc937f75b53042c38cd0202815ac723c",
            "2612f930571d41ca9574e9daf93ffb86",
            "a39dca9d679242b09eaa8e08961b4d2c",
            "df873d931c554282a841341aed63e130",
            "7ae4fa7dbe7f44d69cb9f34ad973bd5b",
            "1afb3af70f8b4d3db26e8c2924840d3b",
            "bd417168acfd4baead73a474b7b7c3b4",
            "1297e5f04d6a4477845aeb9614d2879e",
            "2bcf1f8a01604af29c7c99865601c2c7",
            "3eec2e07a76744e682b1b9e322974533",
            "14d1fec39a5b4dd198847ebd31e1c7e4",
            "ee01d71a2c48487e9eedd8d4f370a86b",
            "e89a5b908e36473caf0d192cb488ae1f",
            "67dca091563640b29ed1574c2f1b9b46",
            "5462c9f2b68049a282bb746008466a80",
            "2e7f94eea7a0418aafc3d0f7453d54dc",
            "b4e8732b18304b0ab6f12bd4f1790690",
            "b50d68d7784c4ea4af50599dcd0c4880",
            "2a05e8b1ec544577bd58c30a4ce6f12c",
            "55561201495f4c82a70cc8b2978bcf9e",
            "6b69f6e03dbc4df489b9a4d72ed3c377",
            "66e5e1445c774f47929dd166a73e548a",
            "9b1113b6fe6e47a2a4d21464e1c6e01b",
            "064f2861ba7b4920b325e45cc4632ee8",
            "0dd60a52ad81436c9ea720139c6711e1",
            "5bc3c3b78d3a461baae9e63ca877be61",
            "216658b97ca64fc5bbcf3ebd1fc0ad0e",
            "885e715dcc25401f85e23b2c6c6a2495",
            "b131886d359242339a8367e32e90ea97",
            "9cf0f6ec3f764a09828350af4992a47d",
            "860568f826de414ebec7ba7d5654c842",
            "e87f07e2bd9248ed8e222ff273916a28",
            "a45e9006829944439229203449b5b60f",
            "5c71bc0a220f46f7a4f44757d45d3bca",
            "a89cac25d96d4009b6a9291ce85830bd",
            "209a37cb7e8c45a98ac3d0f4fa50a73d",
            "9b1fbaf789ff406899bbf7dbcf706895"
          ]
        },
        "id": "8JvzatGF4e0W",
        "outputId": "7ba06dec-a896-46be-c252-23068f37f763"
      },
      "source": [
        "# primero creamos el dataset\n",
        "train_dataset = torchvision.datasets.MNIST('../data', train=True, download=True,\n",
        "                       transform=torchvision.transforms.Compose([\n",
        "                            torchvision.transforms.ToTensor()#,#<---------------- esto es GLORIOSO!!\n",
        "                            #torchvision.transforms.Normalize((0.1307,), (0.3081,))\n",
        "                            ])\n",
        "                      )\n",
        "\n",
        "test_dataset = torchvision.datasets.MNIST('../data', train=False,\n",
        "                   transform=torchvision.transforms.Compose([\n",
        "                        torchvision.transforms.ToTensor()#, #<------------------- esto es GLORIOSO!!\n",
        "                        #torchvision.transforms.Normalize((0.1307,), (0.3081,))\n",
        "                        ])\n",
        "                     )\n",
        "\n",
        "# ahora el dataloader\n",
        "dataloader = {\n",
        "    'train': torch.utils.data.DataLoader(train_dataset, batch_size=64, shuffle=True, pin_memory=True),\n",
        "    'test': torch.utils.data.DataLoader(test_dataset, batch_size=64, shuffle=False, pin_memory=True)\n",
        "}"
      ],
      "execution_count": 3,
      "outputs": [
        {
          "output_type": "stream",
          "name": "stdout",
          "text": [
            "Downloading http://yann.lecun.com/exdb/mnist/train-images-idx3-ubyte.gz\n",
            "Downloading http://yann.lecun.com/exdb/mnist/train-images-idx3-ubyte.gz to ../data/MNIST/raw/train-images-idx3-ubyte.gz\n"
          ]
        },
        {
          "output_type": "display_data",
          "data": {
            "text/plain": [
              "  0%|          | 0/9912422 [00:00<?, ?it/s]"
            ],
            "application/vnd.jupyter.widget-view+json": {
              "version_major": 2,
              "version_minor": 0,
              "model_id": "f552be85ee8a48a0a67c3d99c2f07972"
            }
          },
          "metadata": {}
        },
        {
          "output_type": "stream",
          "name": "stdout",
          "text": [
            "Extracting ../data/MNIST/raw/train-images-idx3-ubyte.gz to ../data/MNIST/raw\n",
            "\n",
            "Downloading http://yann.lecun.com/exdb/mnist/train-labels-idx1-ubyte.gz\n",
            "Downloading http://yann.lecun.com/exdb/mnist/train-labels-idx1-ubyte.gz to ../data/MNIST/raw/train-labels-idx1-ubyte.gz\n"
          ]
        },
        {
          "output_type": "display_data",
          "data": {
            "text/plain": [
              "  0%|          | 0/28881 [00:00<?, ?it/s]"
            ],
            "application/vnd.jupyter.widget-view+json": {
              "version_major": 2,
              "version_minor": 0,
              "model_id": "7ae4fa7dbe7f44d69cb9f34ad973bd5b"
            }
          },
          "metadata": {}
        },
        {
          "output_type": "stream",
          "name": "stdout",
          "text": [
            "Extracting ../data/MNIST/raw/train-labels-idx1-ubyte.gz to ../data/MNIST/raw\n",
            "\n",
            "Downloading http://yann.lecun.com/exdb/mnist/t10k-images-idx3-ubyte.gz\n",
            "Downloading http://yann.lecun.com/exdb/mnist/t10k-images-idx3-ubyte.gz to ../data/MNIST/raw/t10k-images-idx3-ubyte.gz\n"
          ]
        },
        {
          "output_type": "display_data",
          "data": {
            "text/plain": [
              "  0%|          | 0/1648877 [00:00<?, ?it/s]"
            ],
            "application/vnd.jupyter.widget-view+json": {
              "version_major": 2,
              "version_minor": 0,
              "model_id": "2e7f94eea7a0418aafc3d0f7453d54dc"
            }
          },
          "metadata": {}
        },
        {
          "output_type": "stream",
          "name": "stdout",
          "text": [
            "Extracting ../data/MNIST/raw/t10k-images-idx3-ubyte.gz to ../data/MNIST/raw\n",
            "\n",
            "Downloading http://yann.lecun.com/exdb/mnist/t10k-labels-idx1-ubyte.gz\n",
            "Downloading http://yann.lecun.com/exdb/mnist/t10k-labels-idx1-ubyte.gz to ../data/MNIST/raw/t10k-labels-idx1-ubyte.gz\n"
          ]
        },
        {
          "output_type": "display_data",
          "data": {
            "text/plain": [
              "  0%|          | 0/4542 [00:00<?, ?it/s]"
            ],
            "application/vnd.jupyter.widget-view+json": {
              "version_major": 2,
              "version_minor": 0,
              "model_id": "216658b97ca64fc5bbcf3ebd1fc0ad0e"
            }
          },
          "metadata": {}
        },
        {
          "output_type": "stream",
          "name": "stdout",
          "text": [
            "Extracting ../data/MNIST/raw/t10k-labels-idx1-ubyte.gz to ../data/MNIST/raw\n",
            "\n"
          ]
        }
      ]
    },
    {
      "cell_type": "markdown",
      "metadata": {
        "id": "oikthAE4Dteb"
      },
      "source": [
        "## 2. Ver que la base de datos esté OK"
      ]
    },
    {
      "cell_type": "code",
      "metadata": {
        "colab": {
          "base_uri": "https://localhost:8080/"
        },
        "id": "cyq2UFIl-Qjy",
        "outputId": "2b96c9f2-ebb7-4ced-a658-85905574fe42"
      },
      "source": [
        "print(type(dataloader))\n",
        "print(type(dataloader['train']))"
      ],
      "execution_count": 4,
      "outputs": [
        {
          "output_type": "stream",
          "name": "stdout",
          "text": [
            "<class 'dict'>\n",
            "<class 'torch.utils.data.dataloader.DataLoader'>\n"
          ]
        }
      ]
    },
    {
      "cell_type": "code",
      "source": [
        "# Ver imagen and label del dataloader (dataloader -> una herramienta para hacer batches de datasets)\n",
        "train_features, train_labels = next(iter(dataloader['train']))"
      ],
      "metadata": {
        "id": "3dVPXQRch4xV"
      },
      "execution_count": 5,
      "outputs": []
    },
    {
      "cell_type": "code",
      "metadata": {
        "colab": {
          "base_uri": "https://localhost:8080/",
          "height": 352
        },
        "id": "p2fs6Qdivs1H",
        "outputId": "f337c822-14d0-4456-9f2a-6963930d6d04"
      },
      "source": [
        "# verifico sus dimensiones\n",
        "print(f\"Tamaño del batch de feature (input / imagen): {train_features.size()}\")\n",
        "print(f\"Tamaño del batch del label (clase / etiqueta): {train_labels.size()}\")\n",
        "\n",
        "# tomo 1 imagen para poder visualizarla\n",
        "# y verifico sus dimensiones\n",
        "\n",
        "img = train_features[20]\n",
        "print('tamaño de 1 imagen: ', img.shape)\n",
        "# le QUITO 1 dimension (la del tamaño del batch) para poder graficar\n",
        "img = img.squeeze()\n",
        "print('tamaño de 1 imagen DESPUES de squeeze: ', img.shape)\n",
        "label = train_labels[20]\n",
        "\n",
        "# ploteo esa imagen\n",
        "plt.imshow(img, cmap=\"gray\")\n",
        "plt.show()\n",
        "print(f\"Label: {label}\")"
      ],
      "execution_count": 9,
      "outputs": [
        {
          "output_type": "stream",
          "name": "stdout",
          "text": [
            "Tamaño del batch de feature (input / imagen): torch.Size([64, 1, 28, 28])\n",
            "Tamaño del batch del label (clase / etiqueta): torch.Size([64])\n",
            "tamaño de 1 imagen:  torch.Size([1, 28, 28])\n",
            "tamaño de 1 imagen DESPUES de squeeze:  torch.Size([28, 28])\n"
          ]
        },
        {
          "output_type": "display_data",
          "data": {
            "text/plain": [
              "<Figure size 432x288 with 1 Axes>"
            ],
            "image/png": "[encoded data removed]"
          },
          "metadata": {
            "needs_background": "light"
          }
        },
        {
          "output_type": "stream",
          "name": "stdout",
          "text": [
            "Label: 3\n"
          ]
        }
      ]
    },
    {
      "cell_type": "code",
      "source": [
        "print('pixel [0,0]: ',img[0][0])\n",
        "print('pixel maximo: ', torch.max(img))\n",
        "print('pixel minimo: ', torch.min(img))"
      ],
      "metadata": {
        "colab": {
          "base_uri": "https://localhost:8080/"
        },
        "id": "vFnOkkTgYTHV",
        "outputId": "040ade9e-a716-4f72-ef97-04dda9a6ae3b"
      },
      "execution_count": 10,
      "outputs": [
        {
          "output_type": "stream",
          "name": "stdout",
          "text": [
            "pixel [0,0]:  tensor(0.)\n",
            "pixel maximo:  tensor(1.)\n",
            "pixel minimo:  tensor(0.)\n"
          ]
        }
      ]
    },
    {
      "cell_type": "markdown",
      "source": [
        "## 3. Construyo mi CNN"
      ],
      "metadata": {
        "id": "hLDYgFptiqPd"
      }
    },
    {
      "cell_type": "markdown",
      "metadata": {
        "id": "EY0TN4erDxRd"
      },
      "source": [
        "#### Bloque de convolución\n",
        "\n",
        "defino primero un \"bloque\" de una capa CNN\n",
        "construido con los bloques funcionales vistos en clase\n",
        "\n",
        "(hiper)parámetros a pasar a la función:\n",
        "\n",
        "  - `c_in`:   canales (kernels) de entrada\n",
        "  - `c_out`:  canales (kernels) de salida\n",
        "  - `k`:      tamaño del kernel kxk\n",
        "  - `p`:      tamaño del padding de la convolución\n",
        "  - `s`:      stride de la convolución\n",
        "  - `pk`:     tamaño del kernel del pooling\n",
        "  - `ps`:     stride de la pooling\n",
        "  - `pp`:     padding en la pooling\n",
        "\n",
        "la función pooling se elige directamente dentro del bloque!"
      ]
    },
    {
      "cell_type": "code",
      "source": [
        "# bloque de convolución para emplear en mi red\n",
        "\n",
        "def conv_block(c_in, c_out, k=8, p=2, s=1, pk=3, ps=2, pp=1):\n",
        "    return torch.nn.Sequential(\n",
        "        torch.nn.Conv2d(c_in, c_out, k, padding=p, stride=s), # conv\n",
        "        torch.nn.Tanh(),                                      # activation\n",
        "        torch.nn.MaxPool2d(pk, stride=ps, padding=pp)         # pooling\n",
        "    )\n"
      ],
      "metadata": {
        "id": "qMxa2DAsim9t"
      },
      "execution_count": 11,
      "outputs": []
    },
    {
      "cell_type": "markdown",
      "source": [
        "### Red convolucional (modelo)\n",
        "\n",
        "\n",
        "Ahora SI construyo mi red... usando la clase CNN de pytorch\n",
        "revisar muy bien las dimensiones a emplear en cada capa y\n",
        "tener presente la reducción de las dimensiones.\n",
        "\n",
        "En la útlima capa fully conected `fc`, hacer bien el cálculo final del\n",
        "tamaño del array que se obtiene siguiendo la formula vista en la teoria\n",
        "tanto para la capa conv como para la capa pooling."
      ],
      "metadata": {
        "id": "PgPfrY8VivH8"
      }
    },
    {
      "cell_type": "code",
      "metadata": {
        "id": "JrO5gfEL3KRC"
      },
      "source": [
        "class CNN(torch.nn.Module):\n",
        "  def __init__(self, n_channels=1, n_outputs=10):\n",
        "    super().__init__()\n",
        "    self.conv1 = conv_block(n_channels, 16)\n",
        "    self.conv1_out = None\n",
        "    self.conv2 = conv_block(16, 32)\n",
        "    self.conv2_out = None\n",
        "    self.conv3 = conv_block(32, 64)\n",
        "    self.conv3_out = None\n",
        "    # self.conv4 = conv_block(128, 128)\n",
        "    # self.conv4_out = None\n",
        "    self.fc = torch.nn.Linear(64*6*6, n_outputs) # verificar la dim de la salida para calcular el tamaño de la fully conected!!\n",
        "    #self.sm = torch.nn.Softmax(dim=1)\n",
        "    \n",
        "    \n",
        "    print('Red creada')\n",
        "    print('arquitectura:')\n",
        "    print(self)\n",
        "    \n",
        "    # Me fijo en el número de capas\n",
        "    i=0\n",
        "    for layer in self.children():\n",
        "        i=i+1\n",
        "    print('Número total de capas de CNN (conv+act+polling) + finales : ', i)\n",
        "    \n",
        "    # Me fijo en el número de parámetros entrenables\n",
        "    pytorch_total_params = sum(p.numel() for p in self.parameters() if p.requires_grad)\n",
        "    print('Número total de parámetros a entrenar: ', pytorch_total_params)\n",
        "\n",
        "  def validar_dim(self):\n",
        "    # es una funcion \"forward\" que imprime la dimension de cada paso\n",
        "    # la defino distinto de la forward standard para que cuando entrenemos\n",
        "    # no nos llene la pantalla de información inecesaria.\n",
        "\n",
        "    print(\"Validacion de dimensiones\")\n",
        "    tam = input(\"Ingrese tamaño de entrada: \")\n",
        "    x = torch.randn(1, 1, int(tam), int(tam))\n",
        "    print(\"Tamaño entrada: \", x.shape)\n",
        "    x = self.conv1(x)\n",
        "    print(\"Tamaño salida conv1: \", x.shape)\n",
        "    x = self.conv2(x)\n",
        "    print(\"Tamaño salida conv2: \", x.shape)\n",
        "\n",
        "    x = self.conv3(x)\n",
        "    print(\"Tamaño salida conv3: \", x.shape)\n",
        "\n",
        "    # x = self.conv4(x)\n",
        "    # print(\"Tamaño salida conv4: \", x.shape)\n",
        "\n",
        "    x = x.view(x.shape[0], -1)\n",
        "    print(\"Tamaño imagen vectorizada: \", x.shape)\n",
        "    x = self.fc(x)\n",
        "    print(\"Tamaño salida fc (nro clases): \", x.shape)\n",
        "\n",
        "  def forward(self, x):\n",
        "    self.conv1_out = self.conv1(x)\n",
        "    self.conv2_out = self.conv2(self.conv1_out)\n",
        "    self.conv3_out = self.conv3(self.conv2_out)\n",
        "    # self.conv4_out = self.conv4(self.conv3_out)\n",
        "    y = self.conv3_out.view(self.conv3_out.shape[0], -1)\n",
        "    y = self.fc(y)\n",
        "    # x = self.sm(x)\n",
        "    return y"
      ],
      "execution_count": 20,
      "outputs": []
    },
    {
      "cell_type": "code",
      "metadata": {
        "colab": {
          "base_uri": "https://localhost:8080/"
        },
        "id": "cb6DoGaP31md",
        "outputId": "d7e14487-9c44-4c92-ea20-00e7ac403cb4"
      },
      "source": [
        "model = CNN()\n"
      ],
      "execution_count": 23,
      "outputs": [
        {
          "output_type": "stream",
          "name": "stdout",
          "text": [
            "Red creada\n",
            "arquitectura:\n",
            "CNN(\n",
            "  (conv1): Sequential(\n",
            "    (0): Conv2d(1, 16, kernel_size=(3, 3), stride=(1, 1), padding=(2, 2))\n",
            "    (1): Tanh()\n",
            "    (2): MaxPool2d(kernel_size=3, stride=2, padding=1, dilation=1, ceil_mode=False)\n",
            "  )\n",
            "  (conv2): Sequential(\n",
            "    (0): Conv2d(16, 32, kernel_size=(3, 3), stride=(1, 1), padding=(2, 2))\n",
            "    (1): Tanh()\n",
            "    (2): MaxPool2d(kernel_size=3, stride=2, padding=1, dilation=1, ceil_mode=False)\n",
            "  )\n",
            "  (conv3): Sequential(\n",
            "    (0): Conv2d(32, 64, kernel_size=(3, 3), stride=(1, 1), padding=(2, 2))\n",
            "    (1): Tanh()\n",
            "    (2): MaxPool2d(kernel_size=3, stride=2, padding=1, dilation=1, ceil_mode=False)\n",
            "  )\n",
            "  (fc): Linear(in_features=2304, out_features=10, bias=True)\n",
            ")\n",
            "Número total de capas de CNN (conv+act+polling) + finales :  4\n",
            "Número total de parámetros a entrenar:  46346\n"
          ]
        }
      ]
    },
    {
      "cell_type": "code",
      "source": [
        "summary(model.cuda(),(1, 28, 28) )"
      ],
      "metadata": {
        "colab": {
          "base_uri": "https://localhost:8080/"
        },
        "id": "07PGqowxnEam",
        "outputId": "cfb50e3d-c7c1-47bd-ce29-808f0fc765f6"
      },
      "execution_count": 24,
      "outputs": [
        {
          "output_type": "stream",
          "name": "stdout",
          "text": [
            "----------------------------------------------------------------\n",
            "        Layer (type)               Output Shape         Param #\n",
            "================================================================\n",
            "            Conv2d-1           [-1, 16, 30, 30]             160\n",
            "              Tanh-2           [-1, 16, 30, 30]               0\n",
            "         MaxPool2d-3           [-1, 16, 15, 15]               0\n",
            "            Conv2d-4           [-1, 32, 17, 17]           4,640\n",
            "              Tanh-5           [-1, 32, 17, 17]               0\n",
            "         MaxPool2d-6             [-1, 32, 9, 9]               0\n",
            "            Conv2d-7           [-1, 64, 11, 11]          18,496\n",
            "              Tanh-8           [-1, 64, 11, 11]               0\n",
            "         MaxPool2d-9             [-1, 64, 6, 6]               0\n",
            "           Linear-10                   [-1, 10]          23,050\n",
            "================================================================\n",
            "Total params: 46,346\n",
            "Trainable params: 46,346\n",
            "Non-trainable params: 0\n",
            "----------------------------------------------------------------\n",
            "Input size (MB): 0.00\n",
            "Forward/backward pass size (MB): 0.54\n",
            "Params size (MB): 0.18\n",
            "Estimated Total Size (MB): 0.72\n",
            "----------------------------------------------------------------\n"
          ]
        }
      ]
    },
    {
      "cell_type": "markdown",
      "metadata": {
        "id": "Z4tEn-XqHVZ7"
      },
      "source": [
        "## 4. Veamos que las dimensiones sean consistentes."
      ]
    },
    {
      "cell_type": "code",
      "source": [
        "model.cpu()\n",
        "model.validar_dim()"
      ],
      "metadata": {
        "colab": {
          "base_uri": "https://localhost:8080/"
        },
        "id": "QKaOeug8DObE",
        "outputId": "16cf7eab-748b-4aae-8c63-573d05136113"
      },
      "execution_count": 25,
      "outputs": [
        {
          "output_type": "stream",
          "name": "stdout",
          "text": [
            "Validacion de dimensiones\n",
            "Ingrese tamaño de entrada: 28\n",
            "Tamaño entrada:  torch.Size([1, 1, 28, 28])\n",
            "Tamaño salida conv1:  torch.Size([1, 16, 15, 15])\n",
            "Tamaño salida conv2:  torch.Size([1, 32, 9, 9])\n",
            "Tamaño salida conv3:  torch.Size([1, 64, 6, 6])\n",
            "Tamaño imagen vectorizada:  torch.Size([1, 2304])\n",
            "Tamaño salida fc (nro clases):  torch.Size([1, 10])\n"
          ]
        }
      ]
    },
    {
      "cell_type": "markdown",
      "metadata": {
        "id": "eoB3GvDtGUgY"
      },
      "source": [
        "## 5. Armo las funciones necesarias"
      ]
    },
    {
      "cell_type": "code",
      "metadata": {
        "id": "7fM09lfI74jQ"
      },
      "source": [
        "from tqdm import tqdm # <- para graficar la barra de avance\n",
        "\n",
        "\n",
        "def fit(model, dataloader, epochs=15):\n",
        "    model.to(device)\n",
        "    optimizer = torch.optim.Adam(model.parameters(), lr=1e-4)\n",
        "    criterion = torch.nn.CrossEntropyLoss()\n",
        "    epoch_t_loss = []\n",
        "    epoch_v_loss = []\n",
        "    epoch_t_acc = []\n",
        "    epoch_v_acc = []\n",
        "    for epoch in range(1, epochs+1):\n",
        "        model.train()\n",
        "        train_loss, train_acc = [], []\n",
        "        bar = tqdm(dataloader['train'])\n",
        "        for batch in bar:\n",
        "            X, y = batch\n",
        "            X, y = X.to(device), y.to(device)\n",
        "            optimizer.zero_grad()\n",
        "            y_hat = model(X)\n",
        "            loss = criterion(y_hat, y)\n",
        "            loss.backward()\n",
        "            optimizer.step()\n",
        "            train_loss.append(loss.item())\n",
        "            ####\n",
        "            acc = (y == torch.argmax(y_hat, axis=1)).sum().item() / len(y)\n",
        "            train_acc.append(acc)\n",
        "            bar.set_description(f\"loss {np.mean(train_loss):.5f} acc {np.mean(train_acc):.5f}\")\n",
        "        \n",
        "        epoch_t_loss.append(np.mean(train_loss))\n",
        "        epoch_t_acc.append(np.mean(train_acc))\n",
        "\n",
        "        bar = tqdm(dataloader['test'])\n",
        "        val_loss, val_acc = [], []\n",
        "        model.eval()\n",
        "        with torch.no_grad():\n",
        "            for batch in bar:\n",
        "                X, y = batch\n",
        "                X, y = X.to(device), y.to(device)\n",
        "                y_hat = model(X)\n",
        "                loss = criterion(y_hat, y)\n",
        "                val_loss.append(loss.item())\n",
        "                acc = (y == torch.argmax(y_hat, axis=1)).sum().item() / len(y)\n",
        "                val_acc.append(acc)\n",
        "                bar.set_description(f\"val_loss {np.mean(val_loss):.5f} val_acc {np.mean(val_acc):.5f}\")\n",
        "        print(f\"Epoch {epoch}/{epochs} loss {np.mean(train_loss):.5f} val_loss {np.mean(val_loss):.5f} acc {np.mean(train_acc):.5f} val_acc {np.mean(val_acc):.5f}\")\n",
        "        \n",
        "        epoch_v_loss.append(np.mean(val_loss))\n",
        "        epoch_v_acc.append(np.mean(val_acc))\n",
        "        \n",
        "    plt.figure()\n",
        "    plt.plot(epoch_t_loss, 'r')\n",
        "    plt.plot(epoch_v_loss, 'g')\n",
        "    plt.title('loss')\n",
        "    plt.legend(['train loss', 'val loss'])\n",
        "    plt.grid()\n",
        "\n",
        "    plt.figure()\n",
        "    plt.plot(epoch_t_acc, 'r')\n",
        "    plt.plot(epoch_v_acc, 'g')\n",
        "    plt.title('acc')\n",
        "    plt.legend(['train acc', 'val acc'])\n",
        "    plt.grid()\n",
        "    plt.show()"
      ],
      "execution_count": 26,
      "outputs": []
    },
    {
      "cell_type": "markdown",
      "metadata": {
        "id": "zagkkBhIG9Kc"
      },
      "source": [
        "## 6. Entreno la red"
      ]
    },
    {
      "cell_type": "code",
      "metadata": {
        "colab": {
          "base_uri": "https://localhost:8080/",
          "height": 1000
        },
        "id": "CYHKN7XH7-Kk",
        "outputId": "343f9bde-663a-4998-a21c-b037ae0c304d"
      },
      "source": [
        "fit(model, dataloader, epochs=10)"
      ],
      "execution_count": 27,
      "outputs": [
        {
          "output_type": "stream",
          "name": "stderr",
          "text": [
            "loss 0.99837 acc 0.72128: 100%|██████████| 938/938 [00:12<00:00, 73.75it/s]\n",
            "val_loss 0.41523 val_acc 0.88445: 100%|██████████| 157/157 [00:01<00:00, 99.03it/s]\n"
          ]
        },
        {
          "output_type": "stream",
          "name": "stdout",
          "text": [
            "Epoch 1/10 loss 0.99837 val_loss 0.41523 acc 0.72128 val_acc 0.88445\n"
          ]
        },
        {
          "output_type": "stream",
          "name": "stderr",
          "text": [
            "loss 0.29062 acc 0.91921: 100%|██████████| 938/938 [00:12<00:00, 76.24it/s]\n",
            "val_loss 0.20009 val_acc 0.94337: 100%|██████████| 157/157 [00:01<00:00, 99.04it/s]\n"
          ]
        },
        {
          "output_type": "stream",
          "name": "stdout",
          "text": [
            "Epoch 2/10 loss 0.29062 val_loss 0.20009 acc 0.91921 val_acc 0.94337\n"
          ]
        },
        {
          "output_type": "stream",
          "name": "stderr",
          "text": [
            "loss 0.17517 acc 0.95003: 100%|██████████| 938/938 [00:12<00:00, 77.09it/s]\n",
            "val_loss 0.13619 val_acc 0.95890: 100%|██████████| 157/157 [00:01<00:00, 82.83it/s]\n"
          ]
        },
        {
          "output_type": "stream",
          "name": "stdout",
          "text": [
            "Epoch 3/10 loss 0.17517 val_loss 0.13619 acc 0.95003 val_acc 0.95890\n"
          ]
        },
        {
          "output_type": "stream",
          "name": "stderr",
          "text": [
            "loss 0.12968 acc 0.96220: 100%|██████████| 938/938 [00:12<00:00, 75.04it/s]\n",
            "val_loss 0.10537 val_acc 0.96785: 100%|██████████| 157/157 [00:01<00:00, 99.60it/s] \n"
          ]
        },
        {
          "output_type": "stream",
          "name": "stdout",
          "text": [
            "Epoch 4/10 loss 0.12968 val_loss 0.10537 acc 0.96220 val_acc 0.96785\n"
          ]
        },
        {
          "output_type": "stream",
          "name": "stderr",
          "text": [
            "loss 0.10392 acc 0.96963: 100%|██████████| 938/938 [00:12<00:00, 75.00it/s]\n",
            "val_loss 0.08603 val_acc 0.97263: 100%|██████████| 157/157 [00:01<00:00, 97.01it/s]\n"
          ]
        },
        {
          "output_type": "stream",
          "name": "stdout",
          "text": [
            "Epoch 5/10 loss 0.10392 val_loss 0.08603 acc 0.96963 val_acc 0.97263\n"
          ]
        },
        {
          "output_type": "stream",
          "name": "stderr",
          "text": [
            "loss 0.08793 acc 0.97461: 100%|██████████| 938/938 [00:13<00:00, 71.96it/s]\n",
            "val_loss 0.07615 val_acc 0.97602: 100%|██████████| 157/157 [00:01<00:00, 96.85it/s]\n"
          ]
        },
        {
          "output_type": "stream",
          "name": "stdout",
          "text": [
            "Epoch 6/10 loss 0.08793 val_loss 0.07615 acc 0.97461 val_acc 0.97602\n"
          ]
        },
        {
          "output_type": "stream",
          "name": "stderr",
          "text": [
            "loss 0.07681 acc 0.97746: 100%|██████████| 938/938 [00:12<00:00, 76.98it/s]\n",
            "val_loss 0.06330 val_acc 0.98020: 100%|██████████| 157/157 [00:01<00:00, 98.30it/s]\n"
          ]
        },
        {
          "output_type": "stream",
          "name": "stdout",
          "text": [
            "Epoch 7/10 loss 0.07681 val_loss 0.06330 acc 0.97746 val_acc 0.98020\n"
          ]
        },
        {
          "output_type": "stream",
          "name": "stderr",
          "text": [
            "loss 0.06852 acc 0.97976: 100%|██████████| 938/938 [00:13<00:00, 68.32it/s]\n",
            "val_loss 0.05753 val_acc 0.98079: 100%|██████████| 157/157 [00:01<00:00, 96.69it/s]\n"
          ]
        },
        {
          "output_type": "stream",
          "name": "stdout",
          "text": [
            "Epoch 8/10 loss 0.06852 val_loss 0.05753 acc 0.97976 val_acc 0.98079\n"
          ]
        },
        {
          "output_type": "stream",
          "name": "stderr",
          "text": [
            "loss 0.06187 acc 0.98163: 100%|██████████| 938/938 [00:12<00:00, 78.06it/s]\n",
            "val_loss 0.05752 val_acc 0.98169: 100%|██████████| 157/157 [00:01<00:00, 99.08it/s]\n"
          ]
        },
        {
          "output_type": "stream",
          "name": "stdout",
          "text": [
            "Epoch 9/10 loss 0.06187 val_loss 0.05752 acc 0.98163 val_acc 0.98169\n"
          ]
        },
        {
          "output_type": "stream",
          "name": "stderr",
          "text": [
            "loss 0.05675 acc 0.98316: 100%|██████████| 938/938 [00:11<00:00, 78.53it/s]\n",
            "val_loss 0.04868 val_acc 0.98408: 100%|██████████| 157/157 [00:01<00:00, 99.88it/s]\n"
          ]
        },
        {
          "output_type": "stream",
          "name": "stdout",
          "text": [
            "Epoch 10/10 loss 0.05675 val_loss 0.04868 acc 0.98316 val_acc 0.98408\n"
          ]
        },
        {
          "output_type": "display_data",
          "data": {
            "text/plain": [
              "<Figure size 432x288 with 1 Axes>"
            ],
            "image/png": "[encoded data removed]"
          },
          "metadata": {
            "needs_background": "light"
          }
        },
        {
          "output_type": "display_data",
          "data": {
            "text/plain": [
              "<Figure size 432x288 with 1 Axes>"
            ],
            "image/png": "[encoded data removed]"
          },
          "metadata": {
            "needs_background": "light"
          }
        }
      ]
    },
    {
      "cell_type": "markdown",
      "metadata": {
        "id": "dHcr6aDtHNfc"
      },
      "source": [
        "## 7. Vemos que funcione."
      ]
    },
    {
      "cell_type": "code",
      "metadata": {
        "colab": {
          "base_uri": "https://localhost:8080/",
          "height": 515
        },
        "id": "k_jFvJ603PC-",
        "outputId": "2f229bb0-3d00-4345-8bfb-c1e5485501b9"
      },
      "source": [
        "# corremos 1 dato, a ver como lo clasifica...\n",
        "# generamos un batch del dataloader\n",
        "test_features, test_labels = next(iter(dataloader['test']))\n",
        "\n",
        "# item a usar k\n",
        "k = 50\n",
        "\n",
        "# verifico las dimensiones y los valores que toma algun pixel.\n",
        "samp_img = test_features[k]\n",
        "print(samp_img.shape)\n",
        "print(samp_img[0][0][0])\n",
        "print(torch.max(samp_img))\n",
        "print(torch.min(samp_img))\n",
        "\n",
        "# ploteo la imagen\n",
        "plt.imshow(samp_img.squeeze(), cmap='gray')\n",
        "plt.show()\n",
        "\n",
        "# preparo para pasarla a la red (model) asi predice.\n",
        "samp_imp = samp_img.unsqueeze(0) # agrego la batch dim\n",
        "samp_img = samp_img.unsqueeze(0).to(device)\n",
        "print('Tamaño imagen de entrada a red: ', samp_img.shape)\n",
        "\n",
        "# la paso al modelo\n",
        "model.eval()\n",
        "y_hat = model(samp_img)\n",
        "print('Predición del modelo:')\n",
        "print(y_hat.detach())\n",
        "print()\n",
        "print('softmax de predicción:')\n",
        "print(torch.nn.functional.softmax(y_hat, dim=1).detach())\n",
        "print()\n",
        "print(f'El numero es un: ', torch.argmax(y_hat, axis=1).item())\n"
      ],
      "execution_count": 31,
      "outputs": [
        {
          "output_type": "stream",
          "name": "stdout",
          "text": [
            "torch.Size([1, 28, 28])\n",
            "tensor(0.)\n",
            "tensor(1.)\n",
            "tensor(0.)\n"
          ]
        },
        {
          "output_type": "display_data",
          "data": {
            "text/plain": [
              "<Figure size 432x288 with 1 Axes>"
            ],
            "image/png": "[encoded data removed]"
          },
          "metadata": {
            "needs_background": "light"
          }
        },
        {
          "output_type": "stream",
          "name": "stdout",
          "text": [
            "Tamaño imagen de entrada a red:  torch.Size([1, 1, 28, 28])\n",
            "Predición del modelo:\n",
            "tensor([[ 0.9960, -1.5649, -0.4835, -3.3568, -0.1729,  1.5798, 10.7315, -8.8948,\n",
            "          1.7043, -4.6671]], device='cuda:0')\n",
            "\n",
            "softmax de predicción:\n",
            "tensor([[5.9126e-05, 4.5668e-06, 1.3466e-05, 7.6100e-07, 1.8372e-05, 1.0601e-04,\n",
            "         9.9968e-01, 2.9940e-09, 1.2006e-04, 2.0527e-07]], device='cuda:0')\n",
            "\n",
            "El numero es un:  6\n"
          ]
        }
      ]
    },
    {
      "cell_type": "markdown",
      "source": [
        "## 8. Visualizar el kernel"
      ],
      "metadata": {
        "id": "biU7WFO_iHES"
      }
    },
    {
      "cell_type": "code",
      "source": [
        "model.conv1"
      ],
      "metadata": {
        "colab": {
          "base_uri": "https://localhost:8080/"
        },
        "id": "_E2hFNRD-FiI",
        "outputId": "c4238c93-a8b7-4f3f-fcb2-5ebf26923738"
      },
      "execution_count": 58,
      "outputs": [
        {
          "output_type": "execute_result",
          "data": {
            "text/plain": [
              "Sequential(\n",
              "  (0): Conv2d(1, 16, kernel_size=(3, 3), stride=(1, 1), padding=(2, 2))\n",
              "  (1): Tanh()\n",
              "  (2): MaxPool2d(kernel_size=3, stride=2, padding=1, dilation=1, ceil_mode=False)\n",
              ")"
            ]
          },
          "metadata": {},
          "execution_count": 58
        }
      ]
    },
    {
      "cell_type": "code",
      "source": [
        "model.conv1[0]"
      ],
      "metadata": {
        "colab": {
          "base_uri": "https://localhost:8080/"
        },
        "id": "Ch2p7MzbiPdd",
        "outputId": "27f17f95-3937-4ef4-d4b5-2a04e22804ec"
      },
      "execution_count": 59,
      "outputs": [
        {
          "output_type": "execute_result",
          "data": {
            "text/plain": [
              "Conv2d(1, 16, kernel_size=(3, 3), stride=(1, 1), padding=(2, 2))"
            ]
          },
          "metadata": {},
          "execution_count": 59
        }
      ]
    },
    {
      "cell_type": "code",
      "source": [
        "model.conv1[0].weight.shape"
      ],
      "metadata": {
        "colab": {
          "base_uri": "https://localhost:8080/"
        },
        "id": "-y0jsRTAiXWx",
        "outputId": "f5d71ec8-17b7-4f96-d7e9-dd59f9f98cc8"
      },
      "execution_count": 60,
      "outputs": [
        {
          "output_type": "execute_result",
          "data": {
            "text/plain": [
              "torch.Size([16, 1, 3, 3])"
            ]
          },
          "metadata": {},
          "execution_count": 60
        }
      ]
    },
    {
      "cell_type": "code",
      "source": [
        "# fuente: https://stackoverflow.com/questions/55594969/how-to-visualise-filters-in-a-cnn-with-pytorch\n",
        "\n",
        "from torchvision import utils\n",
        "\n",
        "def visTensor(tensor, ch=0, allkernels=False, nrow=8, padding=1): \n",
        "    n,c,w,h = tensor.shape\n",
        "    if allkernels: tensor = tensor.view(n*c, -1, w, h)\n",
        "    elif c != 3: tensor = tensor[:,ch,:,:].unsqueeze(dim=1)\n",
        "    rows = np.min((tensor.shape[0] // nrow + 1, 64))    \n",
        "    grid = utils.make_grid(tensor, nrow=nrow, normalize=True, padding=padding)\n",
        "    grid = grid.to(\"cpu\")\n",
        "    plt.figure( figsize=(nrow,rows) )\n",
        "    plt.imshow(grid.numpy().transpose((1, 2, 0)))"
      ],
      "metadata": {
        "id": "7NIVDDHkTlY4"
      },
      "execution_count": 50,
      "outputs": []
    },
    {
      "cell_type": "code",
      "source": [
        "filter = model.conv1[0].weight.data.clone()\n",
        "\n",
        "visTensor(filter, ch=0, allkernels=True)\n",
        "\n",
        "plt.axis('off')\n",
        "plt.ioff()\n",
        "plt.show()"
      ],
      "metadata": {
        "colab": {
          "base_uri": "https://localhost:8080/",
          "height": 153
        },
        "id": "NtbtJHYTTpEk",
        "outputId": "702a8bf9-6354-43f8-957e-8742d56d4380"
      },
      "execution_count": 57,
      "outputs": [
        {
          "output_type": "display_data",
          "data": {
            "text/plain": [
              "<Figure size 576x216 with 1 Axes>"
            ],
            "image/png": "[encoded data removed]"
          },
          "metadata": {
            "needs_background": "light"
          }
        }
      ]
    },
    {
      "cell_type": "code",
      "source": [
        "filter = model.conv2[0].weight.data.clone()\n",
        "filter.shape\n",
        "visTensor(filter, ch=10, allkernels=False, nrow=10)\n",
        "\n",
        "plt.axis('off')\n",
        "plt.ioff()\n",
        "plt.show()"
      ],
      "metadata": {
        "colab": {
          "base_uri": "https://localhost:8080/",
          "height": 248
        },
        "id": "bIMgp7yQU7LX",
        "outputId": "f1162402-518b-4334-ea99-1ed0e58ff139"
      },
      "execution_count": 64,
      "outputs": [
        {
          "output_type": "display_data",
          "data": {
            "text/plain": [
              "<Figure size 720x288 with 1 Axes>"
            ],
            "image/png": "[encoded data removed]"
          },
          "metadata": {
            "needs_background": "light"
          }
        }
      ]
    },
    {
      "cell_type": "markdown",
      "source": [
        "## 9. Visualizar las \"salidas\" o \"activaciones\""
      ],
      "metadata": {
        "id": "oKhxwEn9k91Z"
      }
    },
    {
      "cell_type": "code",
      "source": [
        "model.conv1_out.shape"
      ],
      "metadata": {
        "colab": {
          "base_uri": "https://localhost:8080/"
        },
        "id": "BGEB02ppmZRA",
        "outputId": "431dcd78-e318-4e06-bc97-145ec2004fcc"
      },
      "execution_count": 65,
      "outputs": [
        {
          "output_type": "execute_result",
          "data": {
            "text/plain": [
              "torch.Size([1, 16, 15, 15])"
            ]
          },
          "metadata": {},
          "execution_count": 65
        }
      ]
    },
    {
      "cell_type": "code",
      "source": [
        "a = model.conv1_out.squeeze().to(\"cpu\").detach()\n",
        "a.shape"
      ],
      "metadata": {
        "colab": {
          "base_uri": "https://localhost:8080/"
        },
        "id": "hw0sSdr7mxk5",
        "outputId": "e9ea21eb-0e3f-4c71-eb7b-f2311b93cc04"
      },
      "execution_count": 66,
      "outputs": [
        {
          "output_type": "execute_result",
          "data": {
            "text/plain": [
              "torch.Size([16, 15, 15])"
            ]
          },
          "metadata": {},
          "execution_count": 66
        }
      ]
    },
    {
      "cell_type": "code",
      "source": [
        "a[0].detach()"
      ],
      "metadata": {
        "colab": {
          "base_uri": "https://localhost:8080/"
        },
        "id": "hnzy0Ighm_UO",
        "outputId": "7b1f84d9-1e67-4c40-c21d-9585543f6ad5"
      },
      "execution_count": 67,
      "outputs": [
        {
          "output_type": "execute_result",
          "data": {
            "text/plain": [
              "tensor([[-0.1098, -0.1098, -0.1098, -0.1098, -0.1098, -0.1098, -0.1098, -0.1098,\n",
              "         -0.1098, -0.1098, -0.1098, -0.1098, -0.1098, -0.1098, -0.1098],\n",
              "        [-0.1098, -0.1098, -0.1098, -0.0998,  0.0743,  0.2545,  0.2545,  0.0815,\n",
              "         -0.0991, -0.1098, -0.1098, -0.1098, -0.1098, -0.1098, -0.1098],\n",
              "        [-0.1098, -0.1098, -0.1098,  0.3676,  0.7291,  0.8563,  0.8659,  0.7776,\n",
              "          0.2217, -0.1098, -0.1098, -0.1098, -0.1098, -0.1098, -0.1098],\n",
              "        [-0.1098, -0.1098, -0.1098,  0.5265,  0.7291,  0.8563,  0.8659,  0.8167,\n",
              "          0.3835, -0.1098, -0.1098, -0.1098, -0.1098, -0.1098, -0.1098],\n",
              "        [-0.1098, -0.1098, -0.1098,  0.6268,  0.7174,  0.6222,  0.7681,  0.7784,\n",
              "          0.5590, -0.1098, -0.1098, -0.1098, -0.1098, -0.1098, -0.1098],\n",
              "        [-0.1098, -0.1098, -0.1098,  0.6703,  0.8019,  0.5550,  0.6240,  0.7204,\n",
              "          0.5617, -0.1098, -0.1098, -0.1098, -0.1098, -0.1098, -0.1098],\n",
              "        [-0.1098, -0.1098, -0.1098,  0.6703,  0.8356,  0.8356,  0.7215,  0.7791,\n",
              "          0.5617, -0.1098, -0.1098, -0.1098, -0.1098, -0.1098, -0.1098],\n",
              "        [-0.1098, -0.1098, -0.1098,  0.3353,  0.8356,  0.8503,  0.8503,  0.8310,\n",
              "          0.6227, -0.1098, -0.1098, -0.1098, -0.1098, -0.1098, -0.1098],\n",
              "        [-0.1098, -0.1098, -0.1098, -0.1098,  0.4016,  0.7407,  0.8413,  0.8413,\n",
              "          0.6227, -0.1098, -0.1098, -0.1098, -0.1098, -0.1098, -0.1098],\n",
              "        [-0.1098, -0.1098, -0.1098, -0.1098, -0.1098,  0.5093,  0.7701,  0.7701,\n",
              "          0.3613, -0.1098, -0.1098, -0.1098, -0.1098, -0.1098, -0.1098],\n",
              "        [-0.1098, -0.1098, -0.1098, -0.1098, -0.1098,  0.5052,  0.6671,  0.6671,\n",
              "          0.0659, -0.1098, -0.1098, -0.1098, -0.1098, -0.1098, -0.1098],\n",
              "        [-0.1098, -0.1098, -0.1098, -0.1098, -0.1098,  0.5052,  0.8242,  0.8242,\n",
              "          0.3128, -0.1098, -0.1098, -0.1098, -0.1098, -0.1098, -0.1098],\n",
              "        [-0.1098, -0.1098, -0.1098, -0.1098, -0.1098,  0.3565,  0.8242,  0.8242,\n",
              "          0.3918, -0.1098, -0.1098, -0.1098, -0.1098, -0.1098, -0.1098],\n",
              "        [-0.1098, -0.1098, -0.1098, -0.1098, -0.1098, -0.1098,  0.5447,  0.5447,\n",
              "          0.2157, -0.1098, -0.1098, -0.1098, -0.1098, -0.1098, -0.1098],\n",
              "        [-0.1098, -0.1098, -0.1098, -0.1098, -0.1098, -0.1098, -0.1035, -0.0905,\n",
              "         -0.1001, -0.1098, -0.1098, -0.1098, -0.1098, -0.1098, -0.1098]])"
            ]
          },
          "metadata": {},
          "execution_count": 67
        }
      ]
    },
    {
      "cell_type": "code",
      "source": [
        "from matplotlib import cm\n",
        "plt.imshow(a[4].numpy()*255, cmap=cm.gray_r)\n",
        "plt.show()"
      ],
      "metadata": {
        "colab": {
          "base_uri": "https://localhost:8080/",
          "height": 265
        },
        "id": "4czMRlDInMSb",
        "outputId": "959162a6-739e-4cec-b37e-9a1c7e9c226a"
      },
      "execution_count": 68,
      "outputs": [
        {
          "output_type": "display_data",
          "data": {
            "text/plain": [
              "<Figure size 432x288 with 1 Axes>"
            ],
            "image/png": "[encoded data removed]"
          },
          "metadata": {
            "needs_background": "light"
          }
        }
      ]
    },
    {
      "cell_type": "markdown",
      "metadata": {
        "id": "6ZM8DWqENNDh"
      },
      "source": [
        "\n",
        "\n",
        "\n",
        "# EJERCICIO NRO 1\n",
        "\n",
        "## Probemos con un número nuestro!\n",
        "Primero lo dibujamos en el paint con un tamaño próximo a 28x28 pixeles\n",
        "(el tamaño del papel puede ser aproximado)...\n",
        "Después haremos un `resize`.\n",
        "Usar un marcador grueso que pinte varios pixeles!!!!"
      ]
    },
    {
      "cell_type": "markdown",
      "metadata": {
        "id": "vAQboG3CIILq"
      },
      "source": [
        "Cargamos el archivo hecho a mano"
      ]
    },
    {
      "cell_type": "code",
      "metadata": {
        "id": "ju1kgUR0GUE_"
      },
      "source": [
        "# lo leemos\n",
        "num_ex = torchvision.io.read_image('cero.png')\n",
        "#num_ex= torchvision.io.read_image('/content/drive/My Drive/CIA_marcos/deep_learning/clase_5/tres.png')"
      ],
      "execution_count": 39,
      "outputs": []
    },
    {
      "cell_type": "markdown",
      "metadata": {
        "id": "_qi4mD6qIKon"
      },
      "source": [
        "Veamos el tamaño, datatype y el valor de 1 pixel."
      ]
    },
    {
      "cell_type": "code",
      "metadata": {
        "colab": {
          "base_uri": "https://localhost:8080/"
        },
        "id": "dNQ4v03sGWVx",
        "outputId": "f8a517e9-df89-483d-d128-3e3f2f5b39d0"
      },
      "source": [
        "print('shape imagen: ', num_ex.shape)\n",
        "print('data type imagen: ', num_ex.dtype)\n",
        "# convertimos a float\n",
        "num_ex = num_ex.float()\n",
        "print('nuevo data type: ', num_ex.dtype)\n",
        "print('valor pixel superior izq: ', num_ex[0][0][0])"
      ],
      "execution_count": 40,
      "outputs": [
        {
          "output_type": "stream",
          "name": "stdout",
          "text": [
            "shape imagen:  torch.Size([3, 45, 43])\n",
            "data type imagen:  torch.uint8\n",
            "nuevo data type:  torch.float32\n",
            "valor pixel superior izq:  tensor(255.)\n"
          ]
        }
      ]
    },
    {
      "cell_type": "markdown",
      "metadata": {
        "id": "RjEbxOyxIZ10"
      },
      "source": [
        "Realizamos un conjunto de transformaciones para llevar la imagen al valor deseado:\n",
        "- resize a 28x28\n",
        "- convertir a escala de grises\n",
        "- escalar ente 0 y 1 (dividimos por 255)\n",
        "- normalizar"
      ]
    },
    {
      "cell_type": "code",
      "metadata": {
        "id": "TyWn2dmyJVLn"
      },
      "source": [
        "adaptacion = torchvision.transforms.Compose([\n",
        "                                             torchvision.transforms.Resize(size=(28,28)),\n",
        "                                             torchvision.transforms.Grayscale(num_output_channels=1), #<---------- IMPORTANTE!\n",
        "                                             torchvision.transforms.Normalize((0,), (255,))#,\n",
        "                                             #torchvision.transforms.Normalize((0.1307,), (0.3081,)), #<---------- IMPORTANTE!\n",
        "                                            ])"
      ],
      "execution_count": 41,
      "outputs": []
    },
    {
      "cell_type": "markdown",
      "source": [
        "Una ultima transformación (que no se pudo colocar dentro del compose) es la de invertir los colores, ya que MNIST tiene fondo negro con letra blanca."
      ],
      "metadata": {
        "id": "gh6EGzccktGH"
      }
    },
    {
      "cell_type": "code",
      "metadata": {
        "colab": {
          "base_uri": "https://localhost:8080/"
        },
        "id": "e5yVpzjgKSD-",
        "outputId": "9e941418-7d99-4505-8a03-156d83314a78"
      },
      "source": [
        "# aplicamos la transformación\n",
        "num_ex_adap = adaptacion(num_ex)\n",
        "\n",
        "# para invertir el color (blanco y negro)\n",
        "num_ex_adap = torchvision.transforms.functional.invert(num_ex_adap)\n",
        "\n",
        "print('nuevo tamaño de imagen: ', num_ex_adap.shape)\n",
        "print('pixel [0,0]: ',num_ex_adap[0][0][0])\n",
        "print('pixel máximo: ', torch.max(num_ex_adap))\n",
        "print('pixel mínimo: ', torch.min(num_ex_adap))"
      ],
      "execution_count": 42,
      "outputs": [
        {
          "output_type": "stream",
          "name": "stdout",
          "text": [
            "nuevo tamaño de imagen:  torch.Size([1, 28, 28])\n",
            "pixel [0,0]:  tensor(9.9957e-05)\n",
            "pixel máximo:  tensor(1.)\n",
            "pixel mínimo:  tensor(9.9957e-05)\n"
          ]
        }
      ]
    },
    {
      "cell_type": "markdown",
      "metadata": {
        "id": "QOaOA8JYIioV"
      },
      "source": [
        "Veamos como quedó"
      ]
    },
    {
      "cell_type": "code",
      "metadata": {
        "colab": {
          "base_uri": "https://localhost:8080/",
          "height": 265
        },
        "id": "B2h5r-FqKz6D",
        "outputId": "f3f291f9-2c6b-4e44-b750-eb547d434490"
      },
      "source": [
        "# ponemos el squeeze para eliminar el canal (1ra dimension)\n",
        "plt.imshow(num_ex_adap.squeeze(), cmap='gray')\n",
        "plt.show()"
      ],
      "execution_count": 43,
      "outputs": [
        {
          "output_type": "display_data",
          "data": {
            "text/plain": [
              "<Figure size 432x288 with 1 Axes>"
            ],
            "image/png": "[encoded data removed]"
          },
          "metadata": {
            "needs_background": "light"
          }
        }
      ]
    },
    {
      "cell_type": "markdown",
      "metadata": {
        "id": "WaiEjwycIlh9"
      },
      "source": [
        "Lo pasamos por la red...\n",
        "RECORDAR DE MANEJAR TODO EN EL MISMO `DEVICE`"
      ]
    },
    {
      "cell_type": "code",
      "metadata": {
        "colab": {
          "base_uri": "https://localhost:8080/"
        },
        "id": "XFVUKwe0MxiE",
        "outputId": "94a85946-e5f8-4568-a2d7-80fe62156cf7"
      },
      "source": [
        "# le agregamos el batch y lo mandamos a device\n",
        "num_ex_adap_batch = num_ex_adap.unsqueeze(0).cpu()\n",
        "print('Tamaño entrada:   ',num_ex_adap_batch.shape)\n",
        "\n",
        "# enviamos al modelo al device\n",
        "model.cpu()\n",
        "\n",
        "# pasamos la entrada al modelo\n",
        "y_hat = model(num_ex_adap_batch)\n",
        "print()\n",
        "print('Salida red:  ')\n",
        "print(y_hat.detach())\n",
        "print()\n",
        "print('Salida softmax(salida red):')\n",
        "print(torch.nn.functional.softmax(y_hat, dim=1).detach())\n",
        "print()\n",
        "print(f'El numero es un: ', torch.argmax(y_hat, axis=1).item())"
      ],
      "execution_count": 44,
      "outputs": [
        {
          "output_type": "stream",
          "name": "stdout",
          "text": [
            "Tamaño entrada:    torch.Size([1, 1, 28, 28])\n",
            "\n",
            "Salida red:  \n",
            "tensor([[ 4.8480, -2.7700,  4.0091, -2.9254, -4.4575, -0.3977,  1.2970, -1.9370,\n",
            "         -3.6104,  0.8713]])\n",
            "\n",
            "Salida softmax(salida red):\n",
            "tensor([[6.7239e-01, 3.3050e-04, 2.9059e-01, 2.8294e-04, 6.1133e-05, 3.5437e-03,\n",
            "         1.9295e-02, 7.6017e-04, 1.4262e-04, 1.2605e-02]])\n",
            "\n",
            "El numero es un:  0\n"
          ]
        }
      ]
    },
    {
      "cell_type": "markdown",
      "source": [
        "El mismo proceso en 1 sola celda."
      ],
      "metadata": {
        "id": "xBd1u15ArKqN"
      }
    },
    {
      "cell_type": "code",
      "source": [
        "# todo junto\n",
        "num_ex = torchvision.io.read_image('nueve.png').float()\n",
        "num_ex_adap = adaptacion(num_ex)\n",
        "num_ex_adap = torchvision.transforms.functional.invert(num_ex_adap)\n",
        "# le agregamos el batch y lo mandamos a device\n",
        "num_ex_adap_batch = num_ex_adap.unsqueeze(0).cpu()\n",
        "model.cpu()\n",
        "\n",
        "y_hat = model(num_ex_adap_batch)\n",
        "print(f'El numero es un: ', torch.argmax(y_hat, axis=1).item())"
      ],
      "metadata": {
        "id": "pqMeWUIymQ0s",
        "colab": {
          "base_uri": "https://localhost:8080/"
        },
        "outputId": "681866d4-2c6a-4ded-df29-617850caca3d"
      },
      "execution_count": 46,
      "outputs": [
        {
          "output_type": "stream",
          "name": "stdout",
          "text": [
            "El numero es un:  9\n"
          ]
        }
      ]
    },
    {
      "cell_type": "code",
      "source": [],
      "metadata": {
        "id": "LSTRStMDd5vu"
      },
      "execution_count": 208,
      "outputs": []
    }
  ]
}