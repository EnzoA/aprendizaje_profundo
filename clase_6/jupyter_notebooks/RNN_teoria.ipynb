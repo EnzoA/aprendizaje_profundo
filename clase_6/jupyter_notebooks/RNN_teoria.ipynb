{
  "nbformat": 4,
  "nbformat_minor": 0,
  "metadata": {
    "colab": {
      "provenance": []
    },
    "kernelspec": {
      "name": "python3",
      "display_name": "Python 3"
    },
    "language_info": {
      "name": "python"
    }
  },
  "cells": [
    {
      "cell_type": "markdown",
      "source": [
        "## Link a documentacion RNN de Pytorch, librerias y funciones a utilizar."
      ],
      "metadata": {
        "id": "x7qq56pInI3S"
      }
    },
    {
      "cell_type": "markdown",
      "source": [
        "https://pytorch.org/docs/stable/generated/torch.nn.RNN.html#torch.nn.RNN"
      ],
      "metadata": {
        "id": "LicepBoojbfX"
      }
    },
    {
      "cell_type": "markdown",
      "source": [
        "### Librerias y funciones comunes"
      ],
      "metadata": {
        "id": "Zx_SAl9Go6Iv"
      }
    },
    {
      "cell_type": "code",
      "execution_count": 1,
      "metadata": {
        "id": "ZA_Tw-UvUbl2"
      },
      "outputs": [],
      "source": [
        "# Librerias\n",
        "import numpy as np\n",
        "import torch\n"
      ]
    },
    {
      "cell_type": "code",
      "source": [
        "class SimpleRNN(torch.nn.Module):\n",
        "  def __init__(self, input_size=1, hidden_size=1, num_layers=1):\n",
        "    super().__init__()\n",
        "    self.rnn = torch.nn.RNN(input_size, hidden_size, num_layers, batch_first=True)\n",
        "\n",
        "  def forward(self, x):\n",
        "    x, h = self.rnn(x) \n",
        "    return x, h\n"
      ],
      "metadata": {
        "id": "usXhWlN9UjCY"
      },
      "execution_count": 2,
      "outputs": []
    },
    {
      "cell_type": "code",
      "source": [
        "def imp_param(model):\n",
        "  print('-'*84)\n",
        "  print('PARAMETROS DEL MODELO')\n",
        "  print('-'*84)\n",
        "  for name, param in model.named_parameters():\n",
        "    if param.requires_grad: \n",
        "      print('Nombre del parámetro: ')\n",
        "      print(name)\n",
        "      print('Tamaño del parámetro: ')\n",
        "      print(param.data.shape)\n",
        "      print()\n"
      ],
      "metadata": {
        "id": "PEWsdE8lcPoc"
      },
      "execution_count": 3,
      "outputs": []
    },
    {
      "cell_type": "code",
      "source": [
        "def teoria(model, largo_entrada = 3, batch_size=1):\n",
        "  print('-'*84)\n",
        "  print('MODELO')\n",
        "  print('-'*84)\n",
        "  print(model)\n",
        "  imp_param(model)\n",
        "\n",
        "  # Generamos una entrada aleatoria para ver como responde la red\n",
        "  # el tamaño de la entrada esa acorde a los tamaños que cargamos antes\n",
        "  entrada = torch.rand(batch_size, largo_entrada, input_size)\n",
        "  print('-'*84)\n",
        "  print('ENTRADA')\n",
        "  print('-'*84)\n",
        "  print('entrada shape: ', entrada.shape)\n",
        "  print(entrada)\n",
        "\n",
        "  # le agrego la dimension del batch:\n",
        "  #entrada = entrada[None, :]\n",
        "  print()\n",
        "  print('entrada con nuevas dimensiones [batch, Length, nr_features] ')\n",
        "  print(entrada.shape)\n",
        "\n",
        "  # Pasamos la entrada a la red\n",
        "  o, h = model(entrada)\n",
        "  print('-'*84)\n",
        "  print('SALIDA')\n",
        "  print('-'*84)\n",
        "  print('salida de la red (output) (largo igual al input): ', o.shape)\n",
        "  print(o)\n",
        "  print()\n",
        "  print('hidden red (solo ultimo hidden): ', h.shape)\n",
        "  print(h)\n",
        "\n",
        "\n"
      ],
      "metadata": {
        "id": "QWPRcKHCe4BG"
      },
      "execution_count": 4,
      "outputs": []
    },
    {
      "cell_type": "markdown",
      "source": [
        "### RNN simple"
      ],
      "metadata": {
        "id": "Hh7gbMkEfZgP"
      }
    },
    {
      "cell_type": "code",
      "source": [
        "input_size= 1\n",
        "hidden_size= 1\n",
        "num_layers= 1\n",
        "largo_entrada = 7\n",
        "\n",
        "model = SimpleRNN(input_size, hidden_size, num_layers)\n",
        "teoria(model, largo_entrada)"
      ],
      "metadata": {
        "id": "Sg-kGODFgeEO",
        "colab": {
          "base_uri": "https://localhost:8080/"
        },
        "outputId": "097e1881-dbb8-433e-c2e6-e6dadd21e527"
      },
      "execution_count": 5,
      "outputs": [
        {
          "output_type": "stream",
          "name": "stdout",
          "text": [
            "------------------------------------------------------------------------------------\n",
            "MODELO\n",
            "------------------------------------------------------------------------------------\n",
            "SimpleRNN(\n",
            "  (rnn): RNN(1, 1, batch_first=True)\n",
            ")\n",
            "------------------------------------------------------------------------------------\n",
            "PARAMETROS DEL MODELO\n",
            "------------------------------------------------------------------------------------\n",
            "Nombre del parámetro: \n",
            "rnn.weight_ih_l0\n",
            "Tamaño del parámetro: \n",
            "torch.Size([1, 1])\n",
            "\n",
            "Nombre del parámetro: \n",
            "rnn.weight_hh_l0\n",
            "Tamaño del parámetro: \n",
            "torch.Size([1, 1])\n",
            "\n",
            "Nombre del parámetro: \n",
            "rnn.bias_ih_l0\n",
            "Tamaño del parámetro: \n",
            "torch.Size([1])\n",
            "\n",
            "Nombre del parámetro: \n",
            "rnn.bias_hh_l0\n",
            "Tamaño del parámetro: \n",
            "torch.Size([1])\n",
            "\n",
            "------------------------------------------------------------------------------------\n",
            "ENTRADA\n",
            "------------------------------------------------------------------------------------\n",
            "entrada shape:  torch.Size([1, 7, 1])\n",
            "tensor([[[0.1326],\n",
            "         [0.5940],\n",
            "         [0.4936],\n",
            "         [0.6083],\n",
            "         [0.0571],\n",
            "         [0.0985],\n",
            "         [0.7529]]])\n",
            "\n",
            "entrada con nuevas dimensiones [batch, Length, nr_features] \n",
            "torch.Size([1, 7, 1])\n",
            "------------------------------------------------------------------------------------\n",
            "SALIDA\n",
            "------------------------------------------------------------------------------------\n",
            "salida de la red (output) (largo igual al input):  torch.Size([1, 7, 1])\n",
            "tensor([[[0.1979],\n",
            "         [0.0179],\n",
            "         [0.1126],\n",
            "         [0.0492],\n",
            "         [0.1948],\n",
            "         [0.1285],\n",
            "         [0.0107]]], grad_fn=<TransposeBackward1>)\n",
            "\n",
            "hidden red (solo ultimo hidden):  torch.Size([1, 1, 1])\n",
            "tensor([[[0.0107]]], grad_fn=<StackBackward0>)\n"
          ]
        }
      ]
    },
    {
      "cell_type": "markdown",
      "source": [
        "### RNN con hidden"
      ],
      "metadata": {
        "id": "bK740Reuchot"
      }
    },
    {
      "cell_type": "code",
      "source": [
        "input_size= 1\n",
        "hidden_size= 3\n",
        "num_layers= 1\n",
        "largo_entrada = 10\n",
        "\n",
        "model = SimpleRNN(input_size, hidden_size, num_layers)\n",
        "teoria(model, largo_entrada)"
      ],
      "metadata": {
        "id": "s631JZLAaYxt",
        "colab": {
          "base_uri": "https://localhost:8080/"
        },
        "outputId": "321cf273-dcfd-4856-f4ba-10b13047e13e"
      },
      "execution_count": 6,
      "outputs": [
        {
          "output_type": "stream",
          "name": "stdout",
          "text": [
            "------------------------------------------------------------------------------------\n",
            "MODELO\n",
            "------------------------------------------------------------------------------------\n",
            "SimpleRNN(\n",
            "  (rnn): RNN(1, 3, batch_first=True)\n",
            ")\n",
            "------------------------------------------------------------------------------------\n",
            "PARAMETROS DEL MODELO\n",
            "------------------------------------------------------------------------------------\n",
            "Nombre del parámetro: \n",
            "rnn.weight_ih_l0\n",
            "Tamaño del parámetro: \n",
            "torch.Size([3, 1])\n",
            "\n",
            "Nombre del parámetro: \n",
            "rnn.weight_hh_l0\n",
            "Tamaño del parámetro: \n",
            "torch.Size([3, 3])\n",
            "\n",
            "Nombre del parámetro: \n",
            "rnn.bias_ih_l0\n",
            "Tamaño del parámetro: \n",
            "torch.Size([3])\n",
            "\n",
            "Nombre del parámetro: \n",
            "rnn.bias_hh_l0\n",
            "Tamaño del parámetro: \n",
            "torch.Size([3])\n",
            "\n",
            "------------------------------------------------------------------------------------\n",
            "ENTRADA\n",
            "------------------------------------------------------------------------------------\n",
            "entrada shape:  torch.Size([1, 10, 1])\n",
            "tensor([[[0.1498],\n",
            "         [0.7185],\n",
            "         [0.1772],\n",
            "         [0.4454],\n",
            "         [0.5385],\n",
            "         [0.8987],\n",
            "         [0.9318],\n",
            "         [0.4593],\n",
            "         [0.9996],\n",
            "         [0.9957]]])\n",
            "\n",
            "entrada con nuevas dimensiones [batch, Length, nr_features] \n",
            "torch.Size([1, 10, 1])\n",
            "------------------------------------------------------------------------------------\n",
            "SALIDA\n",
            "------------------------------------------------------------------------------------\n",
            "salida de la red (output) (largo igual al input):  torch.Size([1, 10, 3])\n",
            "tensor([[[ 0.0748,  0.3274,  0.6233],\n",
            "         [-0.1803, -0.1955,  0.8360],\n",
            "         [-0.1755,  0.4223,  0.7778],\n",
            "         [-0.3911,  0.0082,  0.8640],\n",
            "         [-0.2204,  0.2620,  0.8463],\n",
            "         [-0.2225, -0.1256,  0.8783],\n",
            "         [-0.0172,  0.0481,  0.8440],\n",
            "         [-0.2055,  0.1024,  0.8206],\n",
            "         [-0.0962, -0.1037,  0.8644],\n",
            "         [ 0.0129, -0.0576,  0.8408]]], grad_fn=<TransposeBackward1>)\n",
            "\n",
            "hidden red (solo ultimo hidden):  torch.Size([1, 1, 3])\n",
            "tensor([[[ 0.0129, -0.0576,  0.8408]]], grad_fn=<StackBackward0>)\n"
          ]
        }
      ]
    },
    {
      "cell_type": "markdown",
      "source": [
        "### RNN con 2 layers"
      ],
      "metadata": {
        "id": "wZs3wrXFgmNj"
      }
    },
    {
      "cell_type": "code",
      "source": [
        "input_size= 1\n",
        "hidden_size= 1\n",
        "num_layers= 4\n",
        "largo_entrada = 7\n",
        "\n",
        "model = SimpleRNN(input_size, hidden_size, num_layers)\n",
        "teoria(model, largo_entrada)"
      ],
      "metadata": {
        "id": "3_gNjjocgmNo",
        "colab": {
          "base_uri": "https://localhost:8080/"
        },
        "outputId": "73ca0f95-da69-4784-bdbb-d80fb961298d"
      },
      "execution_count": 7,
      "outputs": [
        {
          "output_type": "stream",
          "name": "stdout",
          "text": [
            "------------------------------------------------------------------------------------\n",
            "MODELO\n",
            "------------------------------------------------------------------------------------\n",
            "SimpleRNN(\n",
            "  (rnn): RNN(1, 1, num_layers=4, batch_first=True)\n",
            ")\n",
            "------------------------------------------------------------------------------------\n",
            "PARAMETROS DEL MODELO\n",
            "------------------------------------------------------------------------------------\n",
            "Nombre del parámetro: \n",
            "rnn.weight_ih_l0\n",
            "Tamaño del parámetro: \n",
            "torch.Size([1, 1])\n",
            "\n",
            "Nombre del parámetro: \n",
            "rnn.weight_hh_l0\n",
            "Tamaño del parámetro: \n",
            "torch.Size([1, 1])\n",
            "\n",
            "Nombre del parámetro: \n",
            "rnn.bias_ih_l0\n",
            "Tamaño del parámetro: \n",
            "torch.Size([1])\n",
            "\n",
            "Nombre del parámetro: \n",
            "rnn.bias_hh_l0\n",
            "Tamaño del parámetro: \n",
            "torch.Size([1])\n",
            "\n",
            "Nombre del parámetro: \n",
            "rnn.weight_ih_l1\n",
            "Tamaño del parámetro: \n",
            "torch.Size([1, 1])\n",
            "\n",
            "Nombre del parámetro: \n",
            "rnn.weight_hh_l1\n",
            "Tamaño del parámetro: \n",
            "torch.Size([1, 1])\n",
            "\n",
            "Nombre del parámetro: \n",
            "rnn.bias_ih_l1\n",
            "Tamaño del parámetro: \n",
            "torch.Size([1])\n",
            "\n",
            "Nombre del parámetro: \n",
            "rnn.bias_hh_l1\n",
            "Tamaño del parámetro: \n",
            "torch.Size([1])\n",
            "\n",
            "Nombre del parámetro: \n",
            "rnn.weight_ih_l2\n",
            "Tamaño del parámetro: \n",
            "torch.Size([1, 1])\n",
            "\n",
            "Nombre del parámetro: \n",
            "rnn.weight_hh_l2\n",
            "Tamaño del parámetro: \n",
            "torch.Size([1, 1])\n",
            "\n",
            "Nombre del parámetro: \n",
            "rnn.bias_ih_l2\n",
            "Tamaño del parámetro: \n",
            "torch.Size([1])\n",
            "\n",
            "Nombre del parámetro: \n",
            "rnn.bias_hh_l2\n",
            "Tamaño del parámetro: \n",
            "torch.Size([1])\n",
            "\n",
            "Nombre del parámetro: \n",
            "rnn.weight_ih_l3\n",
            "Tamaño del parámetro: \n",
            "torch.Size([1, 1])\n",
            "\n",
            "Nombre del parámetro: \n",
            "rnn.weight_hh_l3\n",
            "Tamaño del parámetro: \n",
            "torch.Size([1, 1])\n",
            "\n",
            "Nombre del parámetro: \n",
            "rnn.bias_ih_l3\n",
            "Tamaño del parámetro: \n",
            "torch.Size([1])\n",
            "\n",
            "Nombre del parámetro: \n",
            "rnn.bias_hh_l3\n",
            "Tamaño del parámetro: \n",
            "torch.Size([1])\n",
            "\n",
            "------------------------------------------------------------------------------------\n",
            "ENTRADA\n",
            "------------------------------------------------------------------------------------\n",
            "entrada shape:  torch.Size([1, 7, 1])\n",
            "tensor([[[0.6647],\n",
            "         [0.6422],\n",
            "         [0.0813],\n",
            "         [0.2337],\n",
            "         [0.6695],\n",
            "         [0.0011],\n",
            "         [0.0432]]])\n",
            "\n",
            "entrada con nuevas dimensiones [batch, Length, nr_features] \n",
            "torch.Size([1, 7, 1])\n",
            "------------------------------------------------------------------------------------\n",
            "SALIDA\n",
            "------------------------------------------------------------------------------------\n",
            "salida de la red (output) (largo igual al input):  torch.Size([1, 7, 1])\n",
            "tensor([[[ 0.0005],\n",
            "         [-0.0320],\n",
            "         [-0.0051],\n",
            "         [-0.0191],\n",
            "         [-0.0060],\n",
            "         [-0.0326],\n",
            "         [ 0.0039]]], grad_fn=<TransposeBackward1>)\n",
            "\n",
            "hidden red (solo ultimo hidden):  torch.Size([4, 1, 1])\n",
            "tensor([[[0.1194]],\n",
            "\n",
            "        [[0.7507]],\n",
            "\n",
            "        [[0.4239]],\n",
            "\n",
            "        [[0.0039]]], grad_fn=<StackBackward0>)\n"
          ]
        }
      ]
    },
    {
      "cell_type": "markdown",
      "source": [
        "### RNN con input mutivariable"
      ],
      "metadata": {
        "id": "4Na94A7Qhoit"
      }
    },
    {
      "cell_type": "code",
      "source": [
        "input_size= 3\n",
        "hidden_size= 1\n",
        "num_layers= 1\n",
        "largo_entrada = 11\n",
        "\n",
        "model = SimpleRNN(input_size, hidden_size, num_layers)\n",
        "teoria(model, largo_entrada)"
      ],
      "metadata": {
        "id": "dvl8MJfKhoiz",
        "colab": {
          "base_uri": "https://localhost:8080/"
        },
        "outputId": "462ab426-f836-456e-f252-3035e6b691b0"
      },
      "execution_count": 8,
      "outputs": [
        {
          "output_type": "stream",
          "name": "stdout",
          "text": [
            "------------------------------------------------------------------------------------\n",
            "MODELO\n",
            "------------------------------------------------------------------------------------\n",
            "SimpleRNN(\n",
            "  (rnn): RNN(3, 1, batch_first=True)\n",
            ")\n",
            "------------------------------------------------------------------------------------\n",
            "PARAMETROS DEL MODELO\n",
            "------------------------------------------------------------------------------------\n",
            "Nombre del parámetro: \n",
            "rnn.weight_ih_l0\n",
            "Tamaño del parámetro: \n",
            "torch.Size([1, 3])\n",
            "\n",
            "Nombre del parámetro: \n",
            "rnn.weight_hh_l0\n",
            "Tamaño del parámetro: \n",
            "torch.Size([1, 1])\n",
            "\n",
            "Nombre del parámetro: \n",
            "rnn.bias_ih_l0\n",
            "Tamaño del parámetro: \n",
            "torch.Size([1])\n",
            "\n",
            "Nombre del parámetro: \n",
            "rnn.bias_hh_l0\n",
            "Tamaño del parámetro: \n",
            "torch.Size([1])\n",
            "\n",
            "------------------------------------------------------------------------------------\n",
            "ENTRADA\n",
            "------------------------------------------------------------------------------------\n",
            "entrada shape:  torch.Size([1, 11, 3])\n",
            "tensor([[[0.5764, 0.2597, 0.5790],\n",
            "         [0.6584, 0.8639, 0.8869],\n",
            "         [0.6613, 0.6895, 0.4947],\n",
            "         [0.2359, 0.9003, 0.8930],\n",
            "         [0.0495, 0.2997, 0.5448],\n",
            "         [0.0204, 0.7957, 0.8940],\n",
            "         [0.6796, 0.0101, 0.5344],\n",
            "         [0.4369, 0.5200, 0.9688],\n",
            "         [0.3188, 0.7340, 0.5574],\n",
            "         [0.4954, 0.2451, 0.4711],\n",
            "         [0.6041, 0.1204, 0.5313]]])\n",
            "\n",
            "entrada con nuevas dimensiones [batch, Length, nr_features] \n",
            "torch.Size([1, 11, 3])\n",
            "------------------------------------------------------------------------------------\n",
            "SALIDA\n",
            "------------------------------------------------------------------------------------\n",
            "salida de la red (output) (largo igual al input):  torch.Size([1, 11, 1])\n",
            "tensor([[[0.1879],\n",
            "         [0.6435],\n",
            "         [0.7138],\n",
            "         [0.8118],\n",
            "         [0.6407],\n",
            "         [0.7527],\n",
            "         [0.6173],\n",
            "         [0.7480],\n",
            "         [0.7421],\n",
            "         [0.6303],\n",
            "         [0.5691]]], grad_fn=<TransposeBackward1>)\n",
            "\n",
            "hidden red (solo ultimo hidden):  torch.Size([1, 1, 1])\n",
            "tensor([[[0.5691]]], grad_fn=<StackBackward0>)\n"
          ]
        }
      ]
    },
    {
      "cell_type": "markdown",
      "source": [
        "### RNN con varias cosas"
      ],
      "metadata": {
        "id": "mhIvgL2ch24Q"
      }
    },
    {
      "cell_type": "code",
      "source": [
        "input_size= 9\n",
        "hidden_size=7\n",
        "num_layers=2\n",
        "largo_entrada = 5\n",
        "batch_size=3\n",
        "\n",
        "model = SimpleRNN(input_size, hidden_size, num_layers)\n",
        "teoria(model, largo_entrada, batch_size)  "
      ],
      "metadata": {
        "id": "8IpqefqHh24X",
        "colab": {
          "base_uri": "https://localhost:8080/"
        },
        "outputId": "0b92ebc3-3676-4528-ee05-f61abffd9904"
      },
      "execution_count": 10,
      "outputs": [
        {
          "output_type": "stream",
          "name": "stdout",
          "text": [
            "------------------------------------------------------------------------------------\n",
            "MODELO\n",
            "------------------------------------------------------------------------------------\n",
            "SimpleRNN(\n",
            "  (rnn): RNN(9, 7, num_layers=2, batch_first=True)\n",
            ")\n",
            "------------------------------------------------------------------------------------\n",
            "PARAMETROS DEL MODELO\n",
            "------------------------------------------------------------------------------------\n",
            "Nombre del parámetro: \n",
            "rnn.weight_ih_l0\n",
            "Tamaño del parámetro: \n",
            "torch.Size([7, 9])\n",
            "\n",
            "Nombre del parámetro: \n",
            "rnn.weight_hh_l0\n",
            "Tamaño del parámetro: \n",
            "torch.Size([7, 7])\n",
            "\n",
            "Nombre del parámetro: \n",
            "rnn.bias_ih_l0\n",
            "Tamaño del parámetro: \n",
            "torch.Size([7])\n",
            "\n",
            "Nombre del parámetro: \n",
            "rnn.bias_hh_l0\n",
            "Tamaño del parámetro: \n",
            "torch.Size([7])\n",
            "\n",
            "Nombre del parámetro: \n",
            "rnn.weight_ih_l1\n",
            "Tamaño del parámetro: \n",
            "torch.Size([7, 7])\n",
            "\n",
            "Nombre del parámetro: \n",
            "rnn.weight_hh_l1\n",
            "Tamaño del parámetro: \n",
            "torch.Size([7, 7])\n",
            "\n",
            "Nombre del parámetro: \n",
            "rnn.bias_ih_l1\n",
            "Tamaño del parámetro: \n",
            "torch.Size([7])\n",
            "\n",
            "Nombre del parámetro: \n",
            "rnn.bias_hh_l1\n",
            "Tamaño del parámetro: \n",
            "torch.Size([7])\n",
            "\n",
            "------------------------------------------------------------------------------------\n",
            "ENTRADA\n",
            "------------------------------------------------------------------------------------\n",
            "entrada shape:  torch.Size([3, 5, 9])\n",
            "tensor([[[0.3773, 0.3828, 0.5436, 0.0977, 0.9930, 0.2977, 0.9159, 0.3621,\n",
            "          0.6632],\n",
            "         [0.1275, 0.8218, 0.3848, 0.9766, 0.5403, 0.1378, 0.9270, 0.0218,\n",
            "          0.9899],\n",
            "         [0.7412, 0.4117, 0.4151, 0.2388, 0.0065, 0.6861, 0.6097, 0.5167,\n",
            "          0.1796],\n",
            "         [0.5353, 0.4667, 0.3970, 0.9353, 0.1897, 0.1838, 0.0486, 0.9678,\n",
            "          0.7174],\n",
            "         [0.6582, 0.9652, 0.1955, 0.5664, 0.8950, 0.5438, 0.3128, 0.0625,\n",
            "          0.4878]],\n",
            "\n",
            "        [[0.6478, 0.1566, 0.5135, 0.0157, 0.9718, 0.3878, 0.6884, 0.4088,\n",
            "          0.4182],\n",
            "         [0.4734, 0.2591, 0.0177, 0.3058, 0.3987, 0.6083, 0.7931, 0.0672,\n",
            "          0.5557],\n",
            "         [0.2958, 0.9302, 0.3128, 0.4955, 0.2942, 0.5469, 0.1790, 0.3885,\n",
            "          0.0077],\n",
            "         [0.4151, 0.0078, 0.7751, 0.2688, 0.9142, 0.6307, 0.1217, 0.3898,\n",
            "          0.8191],\n",
            "         [0.2554, 0.8840, 0.9075, 0.9509, 0.7710, 0.2206, 0.9838, 0.2803,\n",
            "          0.5163]],\n",
            "\n",
            "        [[0.6921, 0.6562, 0.1923, 0.3605, 0.4669, 0.5064, 0.1675, 0.5220,\n",
            "          0.4172],\n",
            "         [0.3537, 0.2334, 0.3887, 0.3494, 0.4221, 0.1727, 0.4126, 0.5306,\n",
            "          0.8598],\n",
            "         [0.0419, 0.2663, 0.0341, 0.5382, 0.5054, 0.0825, 0.9851, 0.9002,\n",
            "          0.3020],\n",
            "         [0.0683, 0.9377, 0.9386, 0.8248, 0.6994, 0.8819, 0.6964, 0.7191,\n",
            "          0.0741],\n",
            "         [0.3597, 0.6497, 0.8011, 0.5485, 0.4460, 0.3498, 0.9882, 0.3381,\n",
            "          0.5139]]])\n",
            "\n",
            "entrada con nuevas dimensiones [batch, Length, nr_features] \n",
            "torch.Size([3, 5, 9])\n",
            "------------------------------------------------------------------------------------\n",
            "SALIDA\n",
            "------------------------------------------------------------------------------------\n",
            "salida de la red (output) (largo igual al input):  torch.Size([3, 5, 7])\n",
            "tensor([[[ 0.2506, -0.1577, -0.1701, -0.5278, -0.0370, -0.0862,  0.4454],\n",
            "         [ 0.1367,  0.1611, -0.5665, -0.3147, -0.0862,  0.0913,  0.5810],\n",
            "         [ 0.3981, -0.2755, -0.2350, -0.6684, -0.3293,  0.1763,  0.6128],\n",
            "         [ 0.1466,  0.0130, -0.4494, -0.2087, -0.1694,  0.1685,  0.6560],\n",
            "         [ 0.4362, -0.2101, -0.3839, -0.6508, -0.2121,  0.0520,  0.5133]],\n",
            "\n",
            "        [[ 0.2868, -0.2339, -0.0085, -0.5947, -0.1424, -0.0643,  0.4198],\n",
            "         [ 0.2126,  0.0208, -0.2994, -0.4139, -0.2326,  0.0094,  0.5537],\n",
            "         [ 0.2823, -0.1293, -0.2275, -0.5920, -0.3288,  0.0134,  0.4671],\n",
            "         [ 0.4666,  0.0315, -0.2290, -0.5314, -0.2739,  0.1746,  0.5299],\n",
            "         [ 0.2379,  0.0022, -0.5732, -0.3736, -0.0672,  0.0745,  0.6396]],\n",
            "\n",
            "        [[ 0.2746, -0.1573, -0.0291, -0.5881, -0.2014, -0.0715,  0.3550],\n",
            "         [ 0.1826,  0.0776, -0.2641, -0.3532, -0.2316,  0.1442,  0.5120],\n",
            "         [ 0.0940, -0.1344, -0.3435, -0.3931, -0.1552,  0.1443,  0.5423],\n",
            "         [ 0.3987, -0.1568, -0.3261, -0.6496, -0.2285, -0.0044,  0.5602],\n",
            "         [ 0.2682,  0.0811, -0.5111, -0.3229, -0.1360,  0.1426,  0.6999]]],\n",
            "       grad_fn=<TransposeBackward1>)\n",
            "\n",
            "hidden red (solo ultimo hidden):  torch.Size([2, 3, 7])\n",
            "tensor([[[ 0.2998, -0.1020,  0.3636,  0.0781,  0.1151,  0.1746,  0.1850],\n",
            "         [ 0.4087, -0.1034,  0.0589,  0.3101,  0.3260, -0.1734,  0.4743],\n",
            "         [ 0.4185,  0.0381,  0.1209,  0.1609,  0.2247, -0.0766, -0.0148]],\n",
            "\n",
            "        [[ 0.4362, -0.2101, -0.3839, -0.6508, -0.2121,  0.0520,  0.5133],\n",
            "         [ 0.2379,  0.0022, -0.5732, -0.3736, -0.0672,  0.0745,  0.6396],\n",
            "         [ 0.2682,  0.0811, -0.5111, -0.3229, -0.1360,  0.1426,  0.6999]]],\n",
            "       grad_fn=<StackBackward0>)\n"
          ]
        }
      ]
    },
    {
      "cell_type": "markdown",
      "source": [
        "## EJERCICIO 1 - Complete el cuadro del powerpoint paras los siguientes 3 ejemplos:\n",
        "```\n",
        "EJEMPLO A\n",
        "input_size = 2\n",
        "batch_size = 16\n",
        "hidden_size = 24\n",
        "num_layer = 3\n",
        "```\n",
        "\n",
        "```\n",
        "EJEMPLO B\n",
        "input_size = 6\n",
        "batch_size = 16\n",
        "hidden_size = 24\n",
        "num_layer = 1\n",
        "```\n",
        "```\n",
        "EJEMPLO C\n",
        "input_size = 10\n",
        "batch_size = 64\n",
        "hidden_size = 64\n",
        "num_laye = 4\n",
        "```"
      ],
      "metadata": {
        "id": "p4aJT7JTlpe8"
      }
    },
    {
      "cell_type": "markdown",
      "source": [
        "## EJERCICIO 2 - Implementar una RNN para clasificación de 5 clases:\n",
        "- `input size = 2`.\n",
        "- `hidden size= 40`.\n",
        "- `num_layers = 1`.\n",
        "- Agregar una `fully conected` al final con `n_out = nro clases`.\n",
        "- Tomar como `input` de la `fc` el estado final de la rnn.\n",
        "- Agregar por último una `softmax` para leer probabilidades.\n",
        "- Probar funcionamiento del modelo haciendo un forward con un número rand sin entrenar la red."
      ],
      "metadata": {
        "id": "vDlw7BlynWI6"
      }
    },
    {
      "cell_type": "markdown",
      "source": [
        "## RNN compuesta por 1 RNN  + 1 FC + 1 RNN\n",
        "usar clase SimpleRNN_2\n",
        "\n",
        "es una red propuesta por un alumno"
      ],
      "metadata": {
        "id": "yE3ZsAK4natK"
      }
    },
    {
      "cell_type": "code",
      "source": [
        "class SimpleRNN_2(torch.nn.Module):\n",
        "  def __init__(self, input_size=1, hidden_size=1, num_layers=1, out_fc=2, hidden_size2=3):\n",
        "    super().__init__()\n",
        "    self.rnn1 = torch.nn.RNN(input_size, hidden_size, num_layers, batch_first=True)\n",
        "    self.fc = torch.nn.Linear(hidden_size, out_fc )\n",
        "    self.rnn2 = torch.nn.RNN(out_fc, hidden_size2, num_layers, batch_first=True)\n",
        "  \n",
        "  def forward(self, x):\n",
        "    x, h = self.rnn1(x)\n",
        "    o_fc = self.fc(h) # le paso el hidden state final de la rrn1\n",
        "                      # esto será de largo igual al numero de hidden\n",
        "                      # tiene sentido pasar el hidden final por que tendrá\n",
        "                      # la información de la secuencia en entrada ya \"almacenada\"\n",
        "    x2, h2 = self.rnn2(o_fc)\n",
        "    return x2, h2\n"
      ],
      "metadata": {
        "id": "2B3MSdPY1Ujv"
      },
      "execution_count": null,
      "outputs": []
    },
    {
      "cell_type": "code",
      "source": [
        "input_size= 3 # 3 features\n",
        "hidden_size= 5 # 5 hidden de la 1ra RNN\n",
        "num_layers= 1 # num layer 1er RNN. OJO! si aumentan las layer, la salida h\n",
        "              # últumo hidden, devuelve el último hidden de cada capa!\n",
        "\n",
        "out_fc = 2 # número de salidas de la fc\n",
        "hidden_size2 = 3 # numero de hidden de la 2da RNN...\n",
        "                # el número de input (features) de la RNN2 es de 1 la salida\n",
        "                # de la fc es de prof y largo = out_fc\n",
        "\n",
        "largo_entrada = 7\n",
        "\n",
        "model = SimpleRNN_2(input_size, hidden_size, num_layers, out_fc, hidden_size2)\n",
        "teoria(model, largo_entrada)"
      ],
      "metadata": {
        "colab": {
          "base_uri": "https://localhost:8080/"
        },
        "id": "BRJwQWTinlAH",
        "outputId": "b0e671d5-9707-48c8-b057-22bf9708e164"
      },
      "execution_count": null,
      "outputs": [
        {
          "output_type": "stream",
          "name": "stdout",
          "text": [
            "------------------------------------------------------------------------------------\n",
            "MODELO\n",
            "------------------------------------------------------------------------------------\n",
            "SimpleRNN_2(\n",
            "  (rnn1): RNN(3, 5, batch_first=True)\n",
            "  (fc): Linear(in_features=5, out_features=2, bias=True)\n",
            "  (rnn2): RNN(2, 3, batch_first=True)\n",
            ")\n",
            "------------------------------------------------------------------------------------\n",
            "PARAMETROS DEL MODELO\n",
            "------------------------------------------------------------------------------------\n",
            "Nombre del parámetro: \n",
            "rnn1.weight_ih_l0\n",
            "Tamaño del parámetro: \n",
            "torch.Size([5, 3])\n",
            "\n",
            "Nombre del parámetro: \n",
            "rnn1.weight_hh_l0\n",
            "Tamaño del parámetro: \n",
            "torch.Size([5, 5])\n",
            "\n",
            "Nombre del parámetro: \n",
            "rnn1.bias_ih_l0\n",
            "Tamaño del parámetro: \n",
            "torch.Size([5])\n",
            "\n",
            "Nombre del parámetro: \n",
            "rnn1.bias_hh_l0\n",
            "Tamaño del parámetro: \n",
            "torch.Size([5])\n",
            "\n",
            "Nombre del parámetro: \n",
            "fc.weight\n",
            "Tamaño del parámetro: \n",
            "torch.Size([2, 5])\n",
            "\n",
            "Nombre del parámetro: \n",
            "fc.bias\n",
            "Tamaño del parámetro: \n",
            "torch.Size([2])\n",
            "\n",
            "Nombre del parámetro: \n",
            "rnn2.weight_ih_l0\n",
            "Tamaño del parámetro: \n",
            "torch.Size([3, 2])\n",
            "\n",
            "Nombre del parámetro: \n",
            "rnn2.weight_hh_l0\n",
            "Tamaño del parámetro: \n",
            "torch.Size([3, 3])\n",
            "\n",
            "Nombre del parámetro: \n",
            "rnn2.bias_ih_l0\n",
            "Tamaño del parámetro: \n",
            "torch.Size([3])\n",
            "\n",
            "Nombre del parámetro: \n",
            "rnn2.bias_hh_l0\n",
            "Tamaño del parámetro: \n",
            "torch.Size([3])\n",
            "\n",
            "------------------------------------------------------------------------------------\n",
            "ENTRADA\n",
            "------------------------------------------------------------------------------------\n",
            "entrada shape:  torch.Size([7, 3])\n",
            "tensor([[0.1313, 0.0794, 0.8637],\n",
            "        [0.8206, 0.6125, 0.8199],\n",
            "        [0.2690, 0.5637, 0.7727],\n",
            "        [0.5430, 0.4946, 0.1378],\n",
            "        [0.0139, 0.9654, 0.3462],\n",
            "        [0.2321, 0.2349, 0.9420],\n",
            "        [0.7318, 0.2812, 0.3973]])\n",
            "\n",
            "entrada con nuevas dimensiones [batch, Length, nr_features] \n",
            "torch.Size([1, 7, 3])\n",
            "------------------------------------------------------------------------------------\n",
            "SALIDA\n",
            "------------------------------------------------------------------------------------\n",
            "salida de la red (largo igual al input):  torch.Size([1, 1, 3])\n",
            "tensor([[[ 0.4296, -0.2339,  0.0297]]], grad_fn=<TransposeBackward1>)\n",
            "\n",
            "hidden red (solo ultimo hidden):  torch.Size([1, 1, 3])\n",
            "tensor([[[ 0.4296, -0.2339,  0.0297]]], grad_fn=<StackBackward0>)\n"
          ]
        }
      ]
    }
  ]
}