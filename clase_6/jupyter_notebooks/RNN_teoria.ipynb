{
  "nbformat": 4,
  "nbformat_minor": 0,
  "metadata": {
    "colab": {
      "name": "RNN_teoria.ipynb",
      "provenance": []
    },
    "kernelspec": {
      "name": "python3",
      "display_name": "Python 3"
    },
    "language_info": {
      "name": "python"
    }
  },
  "cells": [
    {
      "cell_type": "markdown",
      "source": [
        "## Link a documentacion RNN de Pytorch, librerias y funciones a utilizar."
      ],
      "metadata": {
        "id": "x7qq56pInI3S"
      }
    },
    {
      "cell_type": "markdown",
      "source": [
        "https://pytorch.org/docs/stable/generated/torch.nn.RNN.html#torch.nn.RNN"
      ],
      "metadata": {
        "id": "LicepBoojbfX"
      }
    },
    {
      "cell_type": "markdown",
      "source": [
        "### Librerias y funciones comunes"
      ],
      "metadata": {
        "id": "Zx_SAl9Go6Iv"
      }
    },
    {
      "cell_type": "code",
      "execution_count": null,
      "metadata": {
        "id": "ZA_Tw-UvUbl2"
      },
      "outputs": [],
      "source": [
        "# Librerias\n",
        "import numpy as np\n",
        "import torch\n"
      ]
    },
    {
      "cell_type": "code",
      "source": [
        "class SimpleRNN(torch.nn.Module):\n",
        "  def __init__(self, input_size=1, hidden_size=1, num_layers=1):\n",
        "    super().__init__()\n",
        "    self.rnn = torch.nn.RNN(input_size, hidden_size, num_layers, batch_first=True)\n",
        "\n",
        "  def forward(self, x):\n",
        "    x, h = self.rnn(x) \n",
        "    return x, h\n"
      ],
      "metadata": {
        "id": "usXhWlN9UjCY"
      },
      "execution_count": null,
      "outputs": []
    },
    {
      "cell_type": "code",
      "source": [
        "def imp_param(model):\n",
        "  print('-'*84)\n",
        "  print('PARAMETROS DEL MODELO')\n",
        "  print('-'*84)\n",
        "  for name, param in model.named_parameters():\n",
        "    if param.requires_grad: \n",
        "      print('Nombre del parámetro: ')\n",
        "      print(name)\n",
        "      print('Tamaño del parámetro: ')\n",
        "      print(param.data.shape)\n",
        "      print()\n"
      ],
      "metadata": {
        "id": "PEWsdE8lcPoc"
      },
      "execution_count": null,
      "outputs": []
    },
    {
      "cell_type": "code",
      "source": [
        "def teoria(model, largo_entrada = 3, batch_size=1):\n",
        "  print('-'*84)\n",
        "  print('MODELO')\n",
        "  print('-'*84)\n",
        "  print(model)\n",
        "  imp_param(model)\n",
        "\n",
        "  # Generamos una entrada aleatoria para ver como responde la red\n",
        "  # el tamaño de la entrada esa acorde a los tamaños que cargamos antes\n",
        "  entrada = torch.rand(batch_size, largo_entrada, input_size)\n",
        "  print('-'*84)\n",
        "  print('ENTRADA')\n",
        "  print('-'*84)\n",
        "  print('entrada shape: ', entrada.shape)\n",
        "  print(entrada)\n",
        "\n",
        "  # le agrego la dimension del batch:\n",
        "  #entrada = entrada[None, :]\n",
        "  print()\n",
        "  print('entrada con nuevas dimensiones [batch, Length, nr_features] ')\n",
        "  print(entrada.shape)\n",
        "\n",
        "  # Pasamos la entrada a la red\n",
        "  o, h = model(entrada)\n",
        "  print('-'*84)\n",
        "  print('SALIDA')\n",
        "  print('-'*84)\n",
        "  print('salida de la red (output) (largo igual al input): ', o.shape)\n",
        "  print(o)\n",
        "  print()\n",
        "  print('hidden red (solo ultimo hidden): ', h.shape)\n",
        "  print(h)\n",
        "\n",
        "\n"
      ],
      "metadata": {
        "id": "QWPRcKHCe4BG"
      },
      "execution_count": null,
      "outputs": []
    },
    {
      "cell_type": "markdown",
      "source": [
        "### RNN simple"
      ],
      "metadata": {
        "id": "Hh7gbMkEfZgP"
      }
    },
    {
      "cell_type": "code",
      "source": [
        "input_size= 1\n",
        "hidden_size= 1\n",
        "num_layers= 1\n",
        "largo_entrada = 7\n",
        "\n",
        "model = SimpleRNN(input_size, hidden_size, num_layers)\n",
        "teoria(model, largo_entrada)"
      ],
      "metadata": {
        "id": "Sg-kGODFgeEO",
        "colab": {
          "base_uri": "https://localhost:8080/"
        },
        "outputId": "b3b1afca-8fe1-446f-bb0c-dc20e679cc84"
      },
      "execution_count": null,
      "outputs": [
        {
          "output_type": "stream",
          "name": "stdout",
          "text": [
            "------------------------------------------------------------------------------------\n",
            "MODELO\n",
            "------------------------------------------------------------------------------------\n",
            "SimpleRNN(\n",
            "  (rnn): RNN(1, 1, batch_first=True)\n",
            ")\n",
            "------------------------------------------------------------------------------------\n",
            "PARAMETROS DEL MODELO\n",
            "------------------------------------------------------------------------------------\n",
            "Nombre del parámetro: \n",
            "rnn.weight_ih_l0\n",
            "Tamaño del parámetro: \n",
            "torch.Size([1, 1])\n",
            "\n",
            "Nombre del parámetro: \n",
            "rnn.weight_hh_l0\n",
            "Tamaño del parámetro: \n",
            "torch.Size([1, 1])\n",
            "\n",
            "Nombre del parámetro: \n",
            "rnn.bias_ih_l0\n",
            "Tamaño del parámetro: \n",
            "torch.Size([1])\n",
            "\n",
            "Nombre del parámetro: \n",
            "rnn.bias_hh_l0\n",
            "Tamaño del parámetro: \n",
            "torch.Size([1])\n",
            "\n",
            "------------------------------------------------------------------------------------\n",
            "ENTRADA\n",
            "------------------------------------------------------------------------------------\n",
            "entrada shape:  torch.Size([7, 1])\n",
            "tensor([[0.8036],\n",
            "        [0.7554],\n",
            "        [0.5168],\n",
            "        [0.6559],\n",
            "        [0.1127],\n",
            "        [0.3504],\n",
            "        [0.7762]])\n",
            "\n",
            "entrada con nuevas dimensiones [batch, Length, nr_features] \n",
            "torch.Size([1, 7, 1])\n",
            "------------------------------------------------------------------------------------\n",
            "SALIDA\n",
            "------------------------------------------------------------------------------------\n",
            "salida de la red (output) (largo igual al input):  torch.Size([1, 7, 1])\n",
            "tensor([[[-0.8315],\n",
            "         [-0.9367],\n",
            "         [-0.9499],\n",
            "         [-0.9474],\n",
            "         [-0.9591],\n",
            "         [-0.9549],\n",
            "         [-0.9447]]], grad_fn=<TransposeBackward1>)\n",
            "\n",
            "hidden red (solo ultimo hidden):  torch.Size([1, 1, 1])\n",
            "tensor([[[-0.9447]]], grad_fn=<StackBackward0>)\n"
          ]
        }
      ]
    },
    {
      "cell_type": "markdown",
      "source": [
        "### RNN con hidden"
      ],
      "metadata": {
        "id": "bK740Reuchot"
      }
    },
    {
      "cell_type": "code",
      "source": [
        "input_size= 1\n",
        "hidden_size= 3\n",
        "num_layers= 1\n",
        "largo_entrada = 10\n",
        "\n",
        "model = SimpleRNN(input_size, hidden_size, num_layers)\n",
        "teoria(model, largo_entrada)"
      ],
      "metadata": {
        "id": "s631JZLAaYxt",
        "colab": {
          "base_uri": "https://localhost:8080/"
        },
        "outputId": "9e3f5e8a-713c-474b-bddd-ab3e3f4987c7"
      },
      "execution_count": null,
      "outputs": [
        {
          "output_type": "stream",
          "name": "stdout",
          "text": [
            "------------------------------------------------------------------------------------\n",
            "MODELO\n",
            "------------------------------------------------------------------------------------\n",
            "SimpleRNN(\n",
            "  (rnn): RNN(1, 3, batch_first=True)\n",
            ")\n",
            "------------------------------------------------------------------------------------\n",
            "PARAMETROS DEL MODELO\n",
            "------------------------------------------------------------------------------------\n",
            "Nombre del parámetro: \n",
            "rnn.weight_ih_l0\n",
            "Tamaño del parámetro: \n",
            "torch.Size([3, 1])\n",
            "\n",
            "Nombre del parámetro: \n",
            "rnn.weight_hh_l0\n",
            "Tamaño del parámetro: \n",
            "torch.Size([3, 3])\n",
            "\n",
            "Nombre del parámetro: \n",
            "rnn.bias_ih_l0\n",
            "Tamaño del parámetro: \n",
            "torch.Size([3])\n",
            "\n",
            "Nombre del parámetro: \n",
            "rnn.bias_hh_l0\n",
            "Tamaño del parámetro: \n",
            "torch.Size([3])\n",
            "\n",
            "------------------------------------------------------------------------------------\n",
            "ENTRADA\n",
            "------------------------------------------------------------------------------------\n",
            "entrada shape:  torch.Size([10, 1])\n",
            "tensor([[0.5488],\n",
            "        [0.0090],\n",
            "        [0.4024],\n",
            "        [0.7153],\n",
            "        [0.5645],\n",
            "        [0.7175],\n",
            "        [0.5926],\n",
            "        [0.9795],\n",
            "        [0.3352],\n",
            "        [0.3956]])\n",
            "\n",
            "entrada con nuevas dimensiones [batch, Length, nr_features] \n",
            "torch.Size([1, 10, 1])\n",
            "------------------------------------------------------------------------------------\n",
            "SALIDA\n",
            "------------------------------------------------------------------------------------\n",
            "salida de la red (output) (largo igual al input):  torch.Size([1, 10, 3])\n",
            "tensor([[[-0.3583,  0.2576,  0.2513],\n",
            "         [ 0.1616,  0.2143,  0.3302],\n",
            "         [-0.2409,  0.1442,  0.3437],\n",
            "         [-0.2587,  0.1240,  0.0763],\n",
            "         [-0.2106,  0.2630,  0.1117],\n",
            "         [-0.2312,  0.2871, -0.0059],\n",
            "         [-0.1630,  0.3544,  0.0218],\n",
            "         [-0.3268,  0.3594, -0.1813],\n",
            "         [ 0.0184,  0.4592,  0.0611],\n",
            "         [-0.0840,  0.3663,  0.1539]]], grad_fn=<TransposeBackward1>)\n",
            "\n",
            "hidden red (solo ultimo hidden):  torch.Size([1, 1, 3])\n",
            "tensor([[[-0.0840,  0.3663,  0.1539]]], grad_fn=<StackBackward0>)\n"
          ]
        }
      ]
    },
    {
      "cell_type": "markdown",
      "source": [
        "### RNN con 2 layers"
      ],
      "metadata": {
        "id": "wZs3wrXFgmNj"
      }
    },
    {
      "cell_type": "code",
      "source": [
        "input_size= 1\n",
        "hidden_size= 1\n",
        "num_layers= 4\n",
        "largo_entrada = 7\n",
        "\n",
        "model = SimpleRNN(input_size, hidden_size, num_layers)\n",
        "teoria(model, largo_entrada)"
      ],
      "metadata": {
        "id": "3_gNjjocgmNo",
        "colab": {
          "base_uri": "https://localhost:8080/"
        },
        "outputId": "34e0cefd-43a2-4c43-d360-0ab2fe8813dc"
      },
      "execution_count": null,
      "outputs": [
        {
          "output_type": "stream",
          "name": "stdout",
          "text": [
            "------------------------------------------------------------------------------------\n",
            "MODELO\n",
            "------------------------------------------------------------------------------------\n",
            "SimpleRNN(\n",
            "  (rnn): RNN(1, 1, num_layers=4, batch_first=True)\n",
            ")\n",
            "------------------------------------------------------------------------------------\n",
            "PARAMETROS DEL MODELO\n",
            "------------------------------------------------------------------------------------\n",
            "Nombre del parámetro: \n",
            "rnn.weight_ih_l0\n",
            "Tamaño del parámetro: \n",
            "torch.Size([1, 1])\n",
            "\n",
            "Nombre del parámetro: \n",
            "rnn.weight_hh_l0\n",
            "Tamaño del parámetro: \n",
            "torch.Size([1, 1])\n",
            "\n",
            "Nombre del parámetro: \n",
            "rnn.bias_ih_l0\n",
            "Tamaño del parámetro: \n",
            "torch.Size([1])\n",
            "\n",
            "Nombre del parámetro: \n",
            "rnn.bias_hh_l0\n",
            "Tamaño del parámetro: \n",
            "torch.Size([1])\n",
            "\n",
            "Nombre del parámetro: \n",
            "rnn.weight_ih_l1\n",
            "Tamaño del parámetro: \n",
            "torch.Size([1, 1])\n",
            "\n",
            "Nombre del parámetro: \n",
            "rnn.weight_hh_l1\n",
            "Tamaño del parámetro: \n",
            "torch.Size([1, 1])\n",
            "\n",
            "Nombre del parámetro: \n",
            "rnn.bias_ih_l1\n",
            "Tamaño del parámetro: \n",
            "torch.Size([1])\n",
            "\n",
            "Nombre del parámetro: \n",
            "rnn.bias_hh_l1\n",
            "Tamaño del parámetro: \n",
            "torch.Size([1])\n",
            "\n",
            "Nombre del parámetro: \n",
            "rnn.weight_ih_l2\n",
            "Tamaño del parámetro: \n",
            "torch.Size([1, 1])\n",
            "\n",
            "Nombre del parámetro: \n",
            "rnn.weight_hh_l2\n",
            "Tamaño del parámetro: \n",
            "torch.Size([1, 1])\n",
            "\n",
            "Nombre del parámetro: \n",
            "rnn.bias_ih_l2\n",
            "Tamaño del parámetro: \n",
            "torch.Size([1])\n",
            "\n",
            "Nombre del parámetro: \n",
            "rnn.bias_hh_l2\n",
            "Tamaño del parámetro: \n",
            "torch.Size([1])\n",
            "\n",
            "Nombre del parámetro: \n",
            "rnn.weight_ih_l3\n",
            "Tamaño del parámetro: \n",
            "torch.Size([1, 1])\n",
            "\n",
            "Nombre del parámetro: \n",
            "rnn.weight_hh_l3\n",
            "Tamaño del parámetro: \n",
            "torch.Size([1, 1])\n",
            "\n",
            "Nombre del parámetro: \n",
            "rnn.bias_ih_l3\n",
            "Tamaño del parámetro: \n",
            "torch.Size([1])\n",
            "\n",
            "Nombre del parámetro: \n",
            "rnn.bias_hh_l3\n",
            "Tamaño del parámetro: \n",
            "torch.Size([1])\n",
            "\n",
            "------------------------------------------------------------------------------------\n",
            "ENTRADA\n",
            "------------------------------------------------------------------------------------\n",
            "entrada shape:  torch.Size([1, 7, 1])\n",
            "tensor([[[0.2747],\n",
            "         [0.2725],\n",
            "         [0.0661],\n",
            "         [0.1036],\n",
            "         [0.1314],\n",
            "         [0.8997],\n",
            "         [0.4771]]])\n",
            "\n",
            "entrada con nuevas dimensiones [batch, Length, nr_features] \n",
            "torch.Size([1, 7, 1])\n",
            "------------------------------------------------------------------------------------\n",
            "SALIDA\n",
            "------------------------------------------------------------------------------------\n",
            "salida de la red (output) (largo igual al input):  torch.Size([1, 7, 1])\n",
            "tensor([[[-0.1266],\n",
            "         [-0.1588],\n",
            "         [-0.1789],\n",
            "         [-0.1904],\n",
            "         [-0.1993],\n",
            "         [-0.2041],\n",
            "         [-0.2083]]], grad_fn=<TransposeBackward1>)\n",
            "\n",
            "hidden red (solo ultimo hidden):  torch.Size([4, 1, 1])\n",
            "tensor([[[-0.2661]],\n",
            "\n",
            "        [[-0.6883]],\n",
            "\n",
            "        [[-0.9407]],\n",
            "\n",
            "        [[-0.2083]]], grad_fn=<StackBackward0>)\n"
          ]
        }
      ]
    },
    {
      "cell_type": "markdown",
      "source": [
        "### RNN con input mutivariable"
      ],
      "metadata": {
        "id": "4Na94A7Qhoit"
      }
    },
    {
      "cell_type": "code",
      "source": [
        "input_size= 3\n",
        "hidden_size= 1\n",
        "num_layers= 1\n",
        "largo_entrada = 11\n",
        "\n",
        "model = SimpleRNN(input_size, hidden_size, num_layers)\n",
        "teoria(model, largo_entrada)"
      ],
      "metadata": {
        "id": "dvl8MJfKhoiz",
        "colab": {
          "base_uri": "https://localhost:8080/"
        },
        "outputId": "ceba16e5-7ccd-418b-f625-c24c0fa82caf"
      },
      "execution_count": null,
      "outputs": [
        {
          "output_type": "stream",
          "name": "stdout",
          "text": [
            "------------------------------------------------------------------------------------\n",
            "MODELO\n",
            "------------------------------------------------------------------------------------\n",
            "SimpleRNN(\n",
            "  (rnn): RNN(3, 1, batch_first=True)\n",
            ")\n",
            "------------------------------------------------------------------------------------\n",
            "PARAMETROS DEL MODELO\n",
            "------------------------------------------------------------------------------------\n",
            "Nombre del parámetro: \n",
            "rnn.weight_ih_l0\n",
            "Tamaño del parámetro: \n",
            "torch.Size([1, 3])\n",
            "\n",
            "Nombre del parámetro: \n",
            "rnn.weight_hh_l0\n",
            "Tamaño del parámetro: \n",
            "torch.Size([1, 1])\n",
            "\n",
            "Nombre del parámetro: \n",
            "rnn.bias_ih_l0\n",
            "Tamaño del parámetro: \n",
            "torch.Size([1])\n",
            "\n",
            "Nombre del parámetro: \n",
            "rnn.bias_hh_l0\n",
            "Tamaño del parámetro: \n",
            "torch.Size([1])\n",
            "\n",
            "------------------------------------------------------------------------------------\n",
            "ENTRADA\n",
            "------------------------------------------------------------------------------------\n",
            "entrada shape:  torch.Size([11, 3])\n",
            "tensor([[0.3307, 0.9874, 0.8942],\n",
            "        [0.3890, 0.7348, 0.2873],\n",
            "        [0.3983, 0.5176, 0.7014],\n",
            "        [0.4582, 0.1973, 0.0710],\n",
            "        [0.9646, 0.7738, 0.3763],\n",
            "        [0.7269, 0.1511, 0.1437],\n",
            "        [0.7662, 0.0834, 0.6336],\n",
            "        [0.2896, 0.9868, 0.3047],\n",
            "        [0.4380, 0.9131, 0.4948],\n",
            "        [0.3442, 0.2517, 0.9308],\n",
            "        [0.7001, 0.5478, 0.0154]])\n",
            "\n",
            "entrada con nuevas dimensiones [batch, Length, nr_features] \n",
            "torch.Size([1, 11, 3])\n",
            "------------------------------------------------------------------------------------\n",
            "SALIDA\n",
            "------------------------------------------------------------------------------------\n",
            "salida de la red (output) (largo igual al input):  torch.Size([1, 11, 1])\n",
            "tensor([[[-0.8473],\n",
            "         [-0.7630],\n",
            "         [-0.7085],\n",
            "         [-0.4994],\n",
            "         [-0.9211],\n",
            "         [-0.6558],\n",
            "         [-0.6834],\n",
            "         [-0.8112],\n",
            "         [-0.8464],\n",
            "         [-0.5616],\n",
            "         [-0.7936]]], grad_fn=<TransposeBackward1>)\n",
            "\n",
            "hidden red (solo ultimo hidden):  torch.Size([1, 1, 1])\n",
            "tensor([[[-0.7936]]], grad_fn=<StackBackward0>)\n"
          ]
        }
      ]
    },
    {
      "cell_type": "markdown",
      "source": [
        "### RNN con varias cosas"
      ],
      "metadata": {
        "id": "mhIvgL2ch24Q"
      }
    },
    {
      "cell_type": "code",
      "source": [
        "input_size= 9\n",
        "hidden_size=7\n",
        "num_layers=2\n",
        "largo_entrada = 5\n",
        "batch_size=3\n",
        "\n",
        "model = SimpleRNN(input_size, hidden_size, num_layers)\n",
        "teoria(model, largo_entrada, batch_size)  "
      ],
      "metadata": {
        "id": "8IpqefqHh24X",
        "colab": {
          "base_uri": "https://localhost:8080/"
        },
        "outputId": "dde54797-5ddc-482c-a8bc-8d46d31d08be"
      },
      "execution_count": null,
      "outputs": [
        {
          "output_type": "stream",
          "name": "stdout",
          "text": [
            "------------------------------------------------------------------------------------\n",
            "MODELO\n",
            "------------------------------------------------------------------------------------\n",
            "SimpleRNN(\n",
            "  (rnn): RNN(9, 7, num_layers=2, batch_first=True)\n",
            ")\n",
            "------------------------------------------------------------------------------------\n",
            "PARAMETROS DEL MODELO\n",
            "------------------------------------------------------------------------------------\n",
            "Nombre del parámetro: \n",
            "rnn.weight_ih_l0\n",
            "Tamaño del parámetro: \n",
            "torch.Size([7, 9])\n",
            "\n",
            "Nombre del parámetro: \n",
            "rnn.weight_hh_l0\n",
            "Tamaño del parámetro: \n",
            "torch.Size([7, 7])\n",
            "\n",
            "Nombre del parámetro: \n",
            "rnn.bias_ih_l0\n",
            "Tamaño del parámetro: \n",
            "torch.Size([7])\n",
            "\n",
            "Nombre del parámetro: \n",
            "rnn.bias_hh_l0\n",
            "Tamaño del parámetro: \n",
            "torch.Size([7])\n",
            "\n",
            "Nombre del parámetro: \n",
            "rnn.weight_ih_l1\n",
            "Tamaño del parámetro: \n",
            "torch.Size([7, 7])\n",
            "\n",
            "Nombre del parámetro: \n",
            "rnn.weight_hh_l1\n",
            "Tamaño del parámetro: \n",
            "torch.Size([7, 7])\n",
            "\n",
            "Nombre del parámetro: \n",
            "rnn.bias_ih_l1\n",
            "Tamaño del parámetro: \n",
            "torch.Size([7])\n",
            "\n",
            "Nombre del parámetro: \n",
            "rnn.bias_hh_l1\n",
            "Tamaño del parámetro: \n",
            "torch.Size([7])\n",
            "\n",
            "------------------------------------------------------------------------------------\n",
            "ENTRADA\n",
            "------------------------------------------------------------------------------------\n",
            "entrada shape:  torch.Size([3, 5, 9])\n",
            "tensor([[[0.8637, 0.5499, 0.7062, 0.1793, 0.6223, 0.3383, 0.5555, 0.6510,\n",
            "          0.9132],\n",
            "         [0.9614, 0.8859, 0.0323, 0.4984, 0.6714, 0.6404, 0.0845, 0.6988,\n",
            "          0.8727],\n",
            "         [0.9546, 0.5861, 0.6193, 0.9223, 0.3834, 0.3659, 0.0075, 0.4235,\n",
            "          0.5343],\n",
            "         [0.5673, 0.0986, 0.3933, 0.4336, 0.1315, 0.7447, 0.7109, 0.5395,\n",
            "          0.9179],\n",
            "         [0.8213, 0.2630, 0.9785, 0.7785, 0.1146, 0.0265, 0.7093, 0.8484,\n",
            "          0.1326]],\n",
            "\n",
            "        [[0.8612, 0.7762, 0.0043, 0.9622, 0.7557, 0.2049, 0.7557, 0.2743,\n",
            "          0.0046],\n",
            "         [0.3300, 0.3174, 0.9530, 0.2273, 0.4313, 0.7493, 0.6252, 0.9476,\n",
            "          0.9562],\n",
            "         [0.5779, 0.0363, 0.0109, 0.2365, 0.2604, 0.7375, 0.2639, 0.2670,\n",
            "          0.0806],\n",
            "         [0.3843, 0.5837, 0.9246, 0.8489, 0.5220, 0.2813, 0.9091, 0.5690,\n",
            "          0.8664],\n",
            "         [0.5492, 0.4323, 0.3792, 0.5345, 0.3315, 0.1370, 0.6245, 0.6692,\n",
            "          0.4951]],\n",
            "\n",
            "        [[0.1219, 0.2091, 0.3812, 0.3030, 0.8586, 0.2862, 0.0991, 0.2109,\n",
            "          0.3315],\n",
            "         [0.6941, 0.1288, 0.4207, 0.3177, 0.7056, 0.3903, 0.0029, 0.7701,\n",
            "          0.0587],\n",
            "         [0.7484, 0.9250, 0.8078, 0.1977, 0.5710, 0.7048, 0.5012, 0.0496,\n",
            "          0.9505],\n",
            "         [0.7270, 0.1561, 0.3943, 0.2828, 0.6242, 0.9303, 0.9569, 0.7322,\n",
            "          0.2158],\n",
            "         [0.7169, 0.4458, 0.7912, 0.4144, 0.9617, 0.4551, 0.1497, 0.4298,\n",
            "          0.6060]]])\n",
            "\n",
            "entrada con nuevas dimensiones [batch, Length, nr_features] \n",
            "torch.Size([3, 5, 9])\n",
            "------------------------------------------------------------------------------------\n",
            "SALIDA\n",
            "------------------------------------------------------------------------------------\n",
            "salida de la red (output) (largo igual al input):  torch.Size([3, 5, 7])\n",
            "tensor([[[-0.1298,  0.3018, -0.1067, -0.1601,  0.2848,  0.3215,  0.4881],\n",
            "         [-0.2472,  0.0930, -0.2106,  0.1169,  0.2440,  0.5477,  0.3346],\n",
            "         [-0.4072,  0.0654, -0.1238, -0.0088,  0.3091,  0.2418,  0.5405],\n",
            "         [-0.3498,  0.1819, -0.0097, -0.2073,  0.1574,  0.3354,  0.4299],\n",
            "         [-0.2307,  0.0786, -0.0825, -0.2124,  0.0600,  0.4947,  0.3962]],\n",
            "\n",
            "        [[-0.2065,  0.2206, -0.0339, -0.1979,  0.2441,  0.4043,  0.5538],\n",
            "         [-0.2027,  0.0591, -0.0608, -0.0932,  0.1593,  0.5941,  0.1504],\n",
            "         [-0.3618,  0.1674, -0.1011, -0.2238,  0.0387,  0.3662,  0.4663],\n",
            "         [-0.2922, -0.0585, -0.1443, -0.0438,  0.1960,  0.5688,  0.3934],\n",
            "         [-0.3255, -0.0466, -0.0470, -0.1073,  0.1822,  0.4483,  0.4314]],\n",
            "\n",
            "        [[-0.1269,  0.3455, -0.0813, -0.2040,  0.2428,  0.3756,  0.3634],\n",
            "         [-0.2312,  0.1933, -0.1811, -0.0557,  0.1058,  0.5178,  0.2690],\n",
            "         [-0.2875,  0.0385, -0.2216, -0.0604,  0.2544,  0.4277,  0.4757],\n",
            "         [-0.3838,  0.0136,  0.0752, -0.2205,  0.1281,  0.4852,  0.3643],\n",
            "         [-0.1785,  0.0299, -0.2286, -0.0869,  0.0988,  0.5528,  0.3735]]],\n",
            "       grad_fn=<TransposeBackward1>)\n",
            "\n",
            "hidden red (solo ultimo hidden):  torch.Size([2, 3, 7])\n",
            "tensor([[[ 0.4406, -0.2750, -0.7636, -0.8317,  0.6431,  0.6086,  0.0139],\n",
            "         [ 0.2439, -0.2772, -0.7429, -0.8483,  0.6762,  0.4516,  0.1513],\n",
            "         [ 0.1398, -0.0916, -0.6747, -0.8783,  0.7390,  0.2402,  0.1160]],\n",
            "\n",
            "        [[-0.2307,  0.0786, -0.0825, -0.2124,  0.0600,  0.4947,  0.3962],\n",
            "         [-0.3255, -0.0466, -0.0470, -0.1073,  0.1822,  0.4483,  0.4314],\n",
            "         [-0.1785,  0.0299, -0.2286, -0.0869,  0.0988,  0.5528,  0.3735]]],\n",
            "       grad_fn=<StackBackward0>)\n"
          ]
        }
      ]
    },
    {
      "cell_type": "markdown",
      "source": [
        "### EJERCICIO 1 - Realizar un ejemplo agregando un batch a la input"
      ],
      "metadata": {
        "id": "p4aJT7JTlpe8"
      }
    },
    {
      "cell_type": "markdown",
      "source": [
        "### EJERCICIO 2 - Implementar una RNN para clasificación de 5 clases:\n",
        "- `input size = 2`.\n",
        "- `hidden size= 40`.\n",
        "- Agregar una `fully conected` al final con `n_out = nro clases`.\n",
        "- Tomar como `input` de la `fc` el estado final de la rnn.\n",
        "- Agregar por último una `softmax` para leer probabilidades."
      ],
      "metadata": {
        "id": "vDlw7BlynWI6"
      }
    },
    {
      "cell_type": "markdown",
      "source": [
        "### RNN compuesta por 1 RNN  + 1 FC + 1 RNN\n",
        "usar clase SimpleRNN_2\n",
        "\n",
        "es una red propuesta por un alumno"
      ],
      "metadata": {
        "id": "yE3ZsAK4natK"
      }
    },
    {
      "cell_type": "code",
      "source": [
        "class SimpleRNN_2(torch.nn.Module):\n",
        "  def __init__(self, input_size=1, hidden_size=1, num_layers=1, out_fc=2, hidden_size2=3):\n",
        "    super().__init__()\n",
        "    self.rnn1 = torch.nn.RNN(input_size, hidden_size, num_layers, batch_first=True)\n",
        "    self.fc = torch.nn.Linear(hidden_size, out_fc )\n",
        "    self.rnn2 = torch.nn.RNN(out_fc, hidden_size2, num_layers, batch_first=True)\n",
        "  \n",
        "  def forward(self, x):\n",
        "    x, h = self.rnn1(x)\n",
        "    o_fc = self.fc(h) # le paso el hidden state final de la rrn1\n",
        "                      # esto será de largo igual al numero de hidden\n",
        "                      # tiene sentido pasar el hidden final por que tendrá\n",
        "                      # la información de la secuencia en entrada ya \"almacenada\"\n",
        "    x2, h2 = self.rnn2(o_fc)\n",
        "    return x2, h2\n"
      ],
      "metadata": {
        "id": "2B3MSdPY1Ujv"
      },
      "execution_count": null,
      "outputs": []
    },
    {
      "cell_type": "code",
      "source": [
        "input_size= 3 # 3 features\n",
        "hidden_size= 5 # 5 hidden de la 1ra RNN\n",
        "num_layers= 1 # num layer 1er RNN. OJO! si aumentan las layer, la salida h\n",
        "              # últumo hidden, devuelve el último hidden de cada capa!\n",
        "\n",
        "out_fc = 2 # número de salidas de la fc\n",
        "hidden_size2 = 3 # numero de hidden de la 2da RNN...\n",
        "                # el número de input (features) de la RNN2 es de 1 la salida\n",
        "                # de la fc es de prof y largo = out_fc\n",
        "\n",
        "largo_entrada = 7\n",
        "\n",
        "model = SimpleRNN_2(input_size, hidden_size, num_layers, out_fc, hidden_size2)\n",
        "teoria(model, largo_entrada)"
      ],
      "metadata": {
        "colab": {
          "base_uri": "https://localhost:8080/"
        },
        "id": "BRJwQWTinlAH",
        "outputId": "b0e671d5-9707-48c8-b057-22bf9708e164"
      },
      "execution_count": null,
      "outputs": [
        {
          "output_type": "stream",
          "name": "stdout",
          "text": [
            "------------------------------------------------------------------------------------\n",
            "MODELO\n",
            "------------------------------------------------------------------------------------\n",
            "SimpleRNN_2(\n",
            "  (rnn1): RNN(3, 5, batch_first=True)\n",
            "  (fc): Linear(in_features=5, out_features=2, bias=True)\n",
            "  (rnn2): RNN(2, 3, batch_first=True)\n",
            ")\n",
            "------------------------------------------------------------------------------------\n",
            "PARAMETROS DEL MODELO\n",
            "------------------------------------------------------------------------------------\n",
            "Nombre del parámetro: \n",
            "rnn1.weight_ih_l0\n",
            "Tamaño del parámetro: \n",
            "torch.Size([5, 3])\n",
            "\n",
            "Nombre del parámetro: \n",
            "rnn1.weight_hh_l0\n",
            "Tamaño del parámetro: \n",
            "torch.Size([5, 5])\n",
            "\n",
            "Nombre del parámetro: \n",
            "rnn1.bias_ih_l0\n",
            "Tamaño del parámetro: \n",
            "torch.Size([5])\n",
            "\n",
            "Nombre del parámetro: \n",
            "rnn1.bias_hh_l0\n",
            "Tamaño del parámetro: \n",
            "torch.Size([5])\n",
            "\n",
            "Nombre del parámetro: \n",
            "fc.weight\n",
            "Tamaño del parámetro: \n",
            "torch.Size([2, 5])\n",
            "\n",
            "Nombre del parámetro: \n",
            "fc.bias\n",
            "Tamaño del parámetro: \n",
            "torch.Size([2])\n",
            "\n",
            "Nombre del parámetro: \n",
            "rnn2.weight_ih_l0\n",
            "Tamaño del parámetro: \n",
            "torch.Size([3, 2])\n",
            "\n",
            "Nombre del parámetro: \n",
            "rnn2.weight_hh_l0\n",
            "Tamaño del parámetro: \n",
            "torch.Size([3, 3])\n",
            "\n",
            "Nombre del parámetro: \n",
            "rnn2.bias_ih_l0\n",
            "Tamaño del parámetro: \n",
            "torch.Size([3])\n",
            "\n",
            "Nombre del parámetro: \n",
            "rnn2.bias_hh_l0\n",
            "Tamaño del parámetro: \n",
            "torch.Size([3])\n",
            "\n",
            "------------------------------------------------------------------------------------\n",
            "ENTRADA\n",
            "------------------------------------------------------------------------------------\n",
            "entrada shape:  torch.Size([7, 3])\n",
            "tensor([[0.1313, 0.0794, 0.8637],\n",
            "        [0.8206, 0.6125, 0.8199],\n",
            "        [0.2690, 0.5637, 0.7727],\n",
            "        [0.5430, 0.4946, 0.1378],\n",
            "        [0.0139, 0.9654, 0.3462],\n",
            "        [0.2321, 0.2349, 0.9420],\n",
            "        [0.7318, 0.2812, 0.3973]])\n",
            "\n",
            "entrada con nuevas dimensiones [batch, Length, nr_features] \n",
            "torch.Size([1, 7, 3])\n",
            "------------------------------------------------------------------------------------\n",
            "SALIDA\n",
            "------------------------------------------------------------------------------------\n",
            "salida de la red (largo igual al input):  torch.Size([1, 1, 3])\n",
            "tensor([[[ 0.4296, -0.2339,  0.0297]]], grad_fn=<TransposeBackward1>)\n",
            "\n",
            "hidden red (solo ultimo hidden):  torch.Size([1, 1, 3])\n",
            "tensor([[[ 0.4296, -0.2339,  0.0297]]], grad_fn=<StackBackward0>)\n"
          ]
        }
      ]
    }
  ]
}